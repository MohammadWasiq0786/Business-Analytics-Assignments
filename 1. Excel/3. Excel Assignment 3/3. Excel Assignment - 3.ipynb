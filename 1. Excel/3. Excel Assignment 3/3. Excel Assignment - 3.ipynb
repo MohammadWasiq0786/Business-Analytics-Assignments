{
 "cells": [
  {
   "cell_type": "markdown",
   "id": "95ce0597-8cf9-46a8-90c9-28311a2102ab",
   "metadata": {},
   "source": [
    "![image](https://user-images.githubusercontent.com/57321948/196933065-4b16c235-f3b9-4391-9cfe-4affcec87c35.png)\n",
    "\n",
    "# Name: Mohammad Wasiq\n",
    "\n",
    "## E-mail: `mohammadwasiq0786@gmail.com`\n",
    "\n",
    "### Excel Assignment - 3"
   ]
  },
  {
   "cell_type": "markdown",
   "id": "e3bedab2-04a1-4845-9573-c4f5ea0eaf9a",
   "metadata": {},
   "source": [
    "**Q1** What do you mean by “Relative Cell Referencing” in MS Excel and “Absolute cell referencing”? \n",
    "\n",
    "**Ans :** \n",
    "\n",
    "* **\"Relative cell references\"** are the most basic type of cell references. They adjust and change when copied, or when using AutoFill. By default, any reference is a relative reference in Excel. They change based on the position of rows and columns relative to the cell the formula was written in. \n",
    "* An **\"Absolute cell reference\"** does not change while copying or moving the formula to a different location in the worksheet. The cell references are fixed."
   ]
  },
  {
   "cell_type": "markdown",
   "id": "7fffd7ba-a09a-43a6-a142-0f3af0c27c64",
   "metadata": {},
   "source": [
    "**Q2 :** How to secure an excel workbook, demonstrate it with an example. \n",
    "\n",
    "**Ans :**\n",
    "\n",
    "1. Select Review \n",
    "2. Select the Protect Workbook box and choose Encrypt with Password. \n",
    "3. Enter a password in the Password box, and then select OK. \n",
    "4. Confirm the password in the Reenter Password box, and then select OK. \n",
    "\n",
    "Example of this question is in excel workbook (`Assignment3.xlsx`) which is attached with this file. "
   ]
  },
  {
   "cell_type": "markdown",
   "id": "42196640-a41d-43e9-ab8d-f4da870312d8",
   "metadata": {},
   "source": [
    "**Q3 :** Explain the pivot tables and their implementations. \n",
    "\n",
    "**Ans :** A Pivot Table is one of the basic data analysis tools. Pivot Tables can quickly answer many important business questions. One of the reasons we build Pivot \n",
    "Tables is to pass information. Although Pivot Tables are only tables and thus missing real visuals, they can still be considered as a mean of Visual Storytelling. \n",
    "\n",
    "A Pivot Table is used to summarize, sort, reorganize, group, count, total or average data stored in a table. It allows us to transform columns into rows and rows into \n",
    "columns. It allows grouping by any field (column), and using advanced calculations on them."
   ]
  },
  {
   "cell_type": "markdown",
   "id": "6435377a-560c-4e25-ab86-d7f6ee5b2bd9",
   "metadata": {},
   "source": [
    "**Q4 :** Explain lookup in excel with suitable examples. \n",
    "\n",
    "**Ans :** Lookup functions in Excel mean referencing a cell to match values in another row or column against the cell and thereby retrieving the corresponding results from the respective rows and columns.\n",
    "\n",
    "**Some uses of LOOKUP functions are :**\n",
    "\n",
    "* You can find the exact or appropriate match by using the lookup function. \n",
    "* Users can search for data both vertically (columns) and horizontally (rows). \n",
    "* It is simpler to use and does not require selecting the entire table. \n",
    "\n",
    "**Improved versions of the LOOKUP functions are :**\n",
    "\n",
    "* **VLOOKUP**\n",
    "* **HLOOKUP**\n",
    "\n",
    "Example of this question is in excel workbook (`Assignment3.xlsx`) which is attached with this file."
   ]
  },
  {
   "cell_type": "markdown",
   "id": "84cafa23-3a92-4a8c-bc38-69b7769d0408",
   "metadata": {},
   "source": [
    "**Q5 :** What is Data validation, and how to implement it in Excel? \n",
    "\n",
    "**Ans :** Data Validation is the process of ensuring data has undergone data cleansing to ensure they have data quality, that is, that they are both correct and useful. \n",
    "\n",
    "**To Validate Data in Excel :**\n",
    "\n",
    "1. Select the cell you want to validate. Go to the Data tab > Data tools, and click on the Data Validation button. ... \n",
    "2. On the settings tab, specify your validation criteria. \n",
    "3. You can enter the input message if you want. This step is optional. \n",
    "4. You can also set your custom error message. ... \n",
    "5. Click OK."
   ]
  }
 ],
 "metadata": {
  "kernelspec": {
   "display_name": "Python 3 (ipykernel)",
   "language": "python",
   "name": "python3"
  },
  "language_info": {
   "codemirror_mode": {
    "name": "ipython",
    "version": 3
   },
   "file_extension": ".py",
   "mimetype": "text/x-python",
   "name": "python",
   "nbconvert_exporter": "python",
   "pygments_lexer": "ipython3",
   "version": "3.10.6"
  }
 },
 "nbformat": 4,
 "nbformat_minor": 5
}
