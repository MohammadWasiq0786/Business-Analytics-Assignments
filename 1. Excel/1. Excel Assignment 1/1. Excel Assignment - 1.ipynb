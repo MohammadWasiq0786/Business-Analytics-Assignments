{
 "cells": [
  {
   "cell_type": "markdown",
   "id": "32ff7b22-4a4a-4c7e-a092-de6ef3d56c24",
   "metadata": {},
   "source": [
    "![image](https://user-images.githubusercontent.com/57321948/196933065-4b16c235-f3b9-4391-9cfe-4affcec87c35.png)\n",
    "\n",
    "# Name: Mohammad Wasiq\n",
    "\n",
    "## E-mail: `mohammadwasiq0786@gmail.com`\n",
    "\n",
    "### Excel Assignment - 1"
   ]
  },
  {
   "cell_type": "markdown",
   "id": "9d98a851-a95d-4858-85f1-f8494ced7b51",
   "metadata": {},
   "source": [
    "**Q1 :** **What is Excel? Why do we use Excel?**\n",
    "\n",
    "**Ans :** Excel is a spreadsheet program from Microsoft and a component of its Office product group for business applications. Microsoft Excel enables users to format, \n",
    "organize and calculate data in a spreadsheet."
   ]
  },
  {
   "cell_type": "markdown",
   "id": "f51462c7-3243-4e34-a224-9308a9def0e5",
   "metadata": {},
   "source": [
    "**Q2 :** List all the versions of Microsoft excel. Compare excel software provided from multiple vendors.\n",
    "\n",
    "**Ans :** \n",
    "\n",
    "* Google Sheets\n",
    "* Zoho Sheet\n",
    "* Microsoft Office Excel Online\n",
    "* Smartsheet\n",
    "* LibreOffic\n",
    "* WPS Spreadsheets\n",
    "* Quip\n",
    "* Apache OpenOffice Calc\n",
    "* Airtable\n",
    "* Numbers "
   ]
  },
  {
   "cell_type": "markdown",
   "id": "7fd7d019-d43c-4ec0-9bac-064ae44fb9a9",
   "metadata": {},
   "source": [
    "**Q3 :** How to create bar charts in excel, demonstrated with practical examples. \n",
    "\n",
    "**Ans :** To insert a bar chart in Microsoft Excel: \n",
    "\n",
    "1. Open your Excel workbook and select your data. \n",
    "2. Once your data is selected, click `Insert` > `Insert Column` or `Bar Chart`\n",
    "\n",
    "Example of this question is in excel workbook which is attached with this file. "
   ]
  },
  {
   "cell_type": "markdown",
   "id": "2713bbd8-2552-4304-94cf-12a4c98ce60b",
   "metadata": {},
   "source": [
    "**Q4 :** Create an analytics dashboard in python and present your findings. \n",
    "\n",
    "**Ans :** Yes, building dashboards in Python Dash is that simple. Install Pandas and dash with the following command, then start the timer. \n",
    "```python\n",
    "pip install dash pandas \n",
    "```\n",
    "In project directory, create a file called `app.py` with the below content. \n",
    "```python\n",
    "import dash \n",
    "import dash_core_components as dcc \n",
    "import dash_html_components as html \n",
    "import plotly.express as px \n",
    "import pandas as pd \n",
    "app = dash.Dash() \n",
    "df = pd.read_csv( \"https://raw.githubusercontent.com/ThuwarakeshM/geting-started-with\u0002plottly-dash/main/life_expectancy.csv\")\n",
    "\n",
    "fig = px.scatter( \n",
    "    data= df, \n",
    "    x= \"GDP\", \n",
    "    y= \"Life expectancy\", \n",
    "    size= \"Population\", \n",
    "    color= \"continent\", \n",
    "    hover_name= \"Country\", \n",
    "    log_x= True, \n",
    "    size_max= 60\n",
    ") \n",
    "\n",
    "app.layout= html.Div([dcc.Graph(id= \"life-exp-vs-gdp\", figure= fig)]) \n",
    "if __name__ == \"__main__\": \n",
    "    app.run_server(debug= True) \n",
    "```\n",
    "\n",
    "Now, run the dashboard with the following command: \n",
    "```python\n",
    "python app.py \n",
    "```\n",
    "We'll see it starting a server at port 8050. If we visit **http://127.0.0.1:8050** on our browser, we'd see the dashboard. "
   ]
  },
  {
   "cell_type": "markdown",
   "id": "172b7a85-f2e2-4d30-99b3-2dd0b63e4763",
   "metadata": {},
   "source": [
    "**Q5 :** How to connect Excel with the databases. \n",
    "\n",
    "**Ans :** To connect Excel to a database in SQL Database: \n",
    "\n",
    "1. Open Excel and then create a new workbook or open an existing Excel workbook. \n",
    "2. In the menu bar at the top of the page, select the Data tab, select Get Data, \n",
    "\n",
    "select From Azure, and then select From Azure SQL Database."
   ]
  }
 ],
 "metadata": {
  "kernelspec": {
   "display_name": "Python 3 (ipykernel)",
   "language": "python",
   "name": "python3"
  },
  "language_info": {
   "codemirror_mode": {
    "name": "ipython",
    "version": 3
   },
   "file_extension": ".py",
   "mimetype": "text/x-python",
   "name": "python",
   "nbconvert_exporter": "python",
   "pygments_lexer": "ipython3",
   "version": "3.10.6"
  }
 },
 "nbformat": 4,
 "nbformat_minor": 5
}
