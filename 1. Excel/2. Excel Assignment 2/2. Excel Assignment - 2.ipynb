{
 "cells": [
  {
   "cell_type": "markdown",
   "id": "26fb5436-abbd-4de0-a411-7d76ac618e8e",
   "metadata": {},
   "source": [
    "![image](https://user-images.githubusercontent.com/57321948/196933065-4b16c235-f3b9-4391-9cfe-4affcec87c35.png)\n",
    "\n",
    "# Name: Mohammad Wasiq\n",
    "\n",
    "## E-mail: `mohammadwasiq0786@gmail.com`\n",
    "\n",
    "### Excel Assignment - 2"
   ]
  },
  {
   "cell_type": "markdown",
   "id": "0f1246ea-4bce-47f4-b254-faf6cca633f0",
   "metadata": {},
   "source": [
    "**Q1 :** 1.\tWhat is macro? Create a macro to store product detail.\n",
    "\n",
    "**Ans :** A **macro** is a miniature program that allows you to perform complex tasks, such as calculating formulas or creating charts, within Excel. Macros can save significant amounts of time when applied to repetitive tasks, and thanks to Excel’s “Record Macro” feature, you don’t have to know anything about programming in order to create a macro1.\n",
    "\n",
    "**To create a macro in Excel, you can follow these steps :**\n",
    "\n",
    "1. Open the Developer tab and choose Record Macro.\n",
    "2. Add a name and shortcut for macro. In the drop-down, choose This Workbook > `OK`.\n",
    "3. Once created, perform formatting commands for the new macro, then choose `Stop Recording` > `File` > `Save As`. Save as an `product.xlsm` file.\n",
    "\n",
    "To store your Excel macros for future use, you can store them in any module and in any Sub procedure3. For example, we can create a module called MyFormulas and create the macros (procedures) MyAdvancedFormula1, MyAdvancedFormula2, MyFinancialFormula1, etc. Or we can create a module called MyCommonRoutines and write the macros: FormatMyReport, DeleteMyColumns, etc."
   ]
  },
  {
   "cell_type": "markdown",
   "id": "dbacaa0b-bf41-4d73-90a2-d71905c8809b",
   "metadata": {},
   "source": [
    "**Q2 :** 2.\tExplain Excel formatting.\n",
    "\n",
    "**Ans :** **Excel formatting** refers to the way data is displayed in an Excel spreadsheet. Formatting can make the data more visually appealing, easier to read, and emphasize important information. Excel offers a variety of formatting options including font style, font size, cell borders, cell shading, number formatting, and conditional formatting.\n",
    "\n",
    "* **Font style and size formatting** changes the appearance of the text in a cell. The font style refers to the type of font used, such as Times New Roman or Arial, while the font size refers to the size of the font in points.\n",
    "* **Cell borders formatting** adds lines around the edges of the cells to create a border. Borders can be customized to appear in different colors, line styles, and thicknesses.\n",
    "* **Cell shading formatting** adds a background color to the cells. Shading can be used to highlight important data or distinguish between different sections of the spreadsheet.\n",
    "* **Number formatting** controls how numbers are displayed in cells. This includes formatting for decimals, currency symbols, percentages, dates, and times.\n",
    "* **Conditional formatting** allows users to apply formatting rules based on the data in the cells. For example, a cell can be highlighted in red if it contains a negative value, or a cell can be shaded in green if it contains a value that meets a certain criteria."
   ]
  },
  {
   "cell_type": "markdown",
   "id": "87af31cf-8700-4955-b7e7-c43bf75c83cf",
   "metadata": {},
   "source": [
    "**Q3 :**\tPerform data analysis using Excel. List various functions available to perform data analysis in excel.\n",
    "\n",
    "**Ans :** Excel is a powerful tool for data analysis, and it offers a wide range of functions that can be used to analyze and manipulate data. Here are some of the functions available in Excel for data analysis:\n",
    "\n",
    "* **SUM :** Calculates the sum of a range of cells.\n",
    "* **AVERAGE :** Calculates the average of a range of cells.\n",
    "* **COUNT :** Counts the number of cells in a range that contain numerical data.\n",
    "* **MAX :** Returns the maximum value in a range of cells.\n",
    "* **MIN :** Returns the minimum value in a range of cells.\n",
    "* **IF :** Evaluates a condition and returns a value if the condition is true, and another value if the condition is false.\n",
    "* **VLOOKUP :** Searches for a value in the first column of a range of cells and returns a value in the same row from a specified column.\n",
    "* **HLOOKUP :** Searches for a value in the first row of a range of cells and returns a value in the same column from a specified row.\n",
    "* **SUMIF :** Calculates the sum of a range of cells that meet a specified condition.\n",
    "* **AVERAGEIF :** Calculates the average of a range of cells that meet a specified condition.\n",
    "* **COUNTIF :** Counts the number of cells in a range that meet a specified condition.\n",
    "* **PIVOT TABLES :** Summarizes large amounts of data in a table format and allows users to sort, filter, and analyze the data.\n",
    "* **CHARTS :** Visual representations of data that can help identify trends, patterns, and outliers.\n",
    "* **DATA VALIDATION :** Limits the type of data that can be entered into a cell, reducing errors and ensuring consistency.\n",
    "* **CONDITIONAL FORMATTING :** Formats cells based on their values, making it easier to identify important data or outliers.\n",
    "\n",
    "Example of this question is in excel workbook (`Assignment3.xlsx`) which is attached with this file."
   ]
  },
  {
   "cell_type": "markdown",
   "id": "9af6a98e-4c4d-459c-8c38-f237b2921ae6",
   "metadata": {},
   "source": [
    "**Q4 :** 4.\tList down excel functions and their examples.\n",
    "\n",
    "**Ans :** Here are some commonly used Excel functions with examples:\n",
    "\n",
    "1. **SUM :** Calculates the sum of a range of cells.\n",
    "<br> Example : `=SUM(A1:A5)` adds the values in cells A1 through A5.\n",
    "\n",
    "2. **AVERAGE :** Calculates the average of a range of cells.\n",
    "<br> Example: `=AVERAGE(A1:A5)` calculates the average of the values in cells A1 through A5.\n",
    "\n",
    "3. **COUNT :** Counts the number of cells in a range that contain numerical data.\n",
    "<br> Example: `=COUNT(A1:A5) counts the number of cells in the range A1 through A5 that contain numerical data.\n",
    "\n",
    "4. **MAX :** Returns the maximum value in a range of cells.\n",
    "<br> Example: `=MAX(A1:A5)` returns the highest value in the range A1 through A5.\n",
    "\n",
    "5. **MIN :** Returns the minimum value in a range of cells.\n",
    "<br> Example: `=MIN(A1:A5)` returns the lowest value in the range A1 through A5.\n",
    "\n",
    "6. **IF :** Evaluates a condition and returns a value if the condition is true, and another value if the condition is false.\n",
    "<br> Example: `=IF(A1>50, \"Pass\", \"Fail\")` checks if the value in cell A1 is greater than 50, and returns \"Pass\" if it is, or \"Fail\" if it is not.\n",
    "\n",
    "7. **VLOOKUP :** Searches for a value in the first column of a range of cells and returns a value in the same row from a specified column.\n",
    "<br> Example: `=VLOOKUP(A1, B1:C5, 2, FALSE)` searches for the value in cell A1 in the first column of the range B1 through C5, and returns the value from the second column of that range.\n",
    "\n",
    "8. **CONCATENATE :** Joins together two or more text strings.\n",
    "<br> Example: `=CONCATENATE(\"Hello\", \" \", \"World\")` joins together the text strings \"Hello\", \" \", and \"World\" to create the text string \"Hello World\".\n",
    "\n",
    "9. **LEFT :** Extracts a specified number of characters from the left side of a text string.\n",
    "<br> Example: `=LEFT(A1, 3)` extracts the first three characters from the text string in cell A1.\n",
    "\n",
    "10. **RIGHT :** Extracts a specified number of characters from the right side of a text string.\n",
    "<br> Example: `=RIGHT(A1, 3)` extracts the last three characters from the text string in cell A1."
   ]
  },
  {
   "cell_type": "markdown",
   "id": "a4d0c6d6-063f-45bc-8392-90af8116dc80",
   "metadata": {},
   "source": [
    "**Q5 :** 5.\tHow to add annotations to a cell in Excel.\n",
    "\n",
    "**Ans :** To add annotations to a cell in Excel, follow these steps:\n",
    "\n",
    "1. Select the cell where you want to add the annotation.\n",
    "2. Right-click on the cell and choose \"Insert Comment\" from the drop-down menu. Alternatively, you can click on the \"Review\" tab in the ribbon and select \"New Comment.\"\n",
    "3. A comment box will appear next to the cell. Type in your annotation or comment in the box.\n",
    "4. You can adjust the size of the comment box by clicking and dragging the edges of the box.\n",
    "5. You can also format the text in the comment box by selecting the text and using the formatting options in the ribbon.\n",
    "6. To close the comment box, click outside of the box or press the \"Esc\" key."
   ]
  }
 ],
 "metadata": {
  "kernelspec": {
   "display_name": "Python 3 (ipykernel)",
   "language": "python",
   "name": "python3"
  },
  "language_info": {
   "codemirror_mode": {
    "name": "ipython",
    "version": 3
   },
   "file_extension": ".py",
   "mimetype": "text/x-python",
   "name": "python",
   "nbconvert_exporter": "python",
   "pygments_lexer": "ipython3",
   "version": "3.10.6"
  }
 },
 "nbformat": 4,
 "nbformat_minor": 5
}
