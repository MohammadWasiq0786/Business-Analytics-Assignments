{
 "cells": [
  {
   "cell_type": "markdown",
   "id": "93cb9e62-7040-469f-83ee-955422fcc295",
   "metadata": {},
   "source": [
    "![image](https://user-images.githubusercontent.com/57321948/196933065-4b16c235-f3b9-4391-9cfe-4affcec87c35.png)\n",
    "\n",
    "# Name: Mohammad Wasiq\n",
    "\n",
    "## E-mail: `mohammadwasiq0786@gmail.com`\n",
    "\n",
    "### Excel Assignment - 5"
   ]
  },
  {
   "cell_type": "markdown",
   "id": "029641d6-1b4f-4013-b231-1c19a3587800",
   "metadata": {},
   "source": [
    "**Q1 :** What is a ribbon in Excel? \n",
    "\n",
    "**Ans :** The Excel ribbon refers to the tabs at the top of the Excel interface that helps users to navigate and locate the commands when using Excel. "
   ]
  },
  {
   "cell_type": "markdown",
   "id": "eb42e098-390b-4792-8139-33be45e78d27",
   "metadata": {},
   "source": [
    "**Q2 :** What is the order of operations used for evaluating formulas in Excel? \n",
    "\n",
    "**Ans :** When evaluating a formula, Excel follows a standard math protocol called **\"order of operations\"**. In general, Excel's order of operation follows the acronym PEMDAS (Parentheses, Exponents, Multiplication, Division, Addition, Subtraction) but with some customization to handle the formula syntax in a spreadsheet. "
   ]
  },
  {
   "cell_type": "markdown",
   "id": "6410b70f-af4e-438b-99b4-b29c28fde5a0",
   "metadata": {},
   "source": [
    "**Q3 :** Reverse the string in the excel column and check whether the string is palindrome or not in the next column for each value.\n",
    "\n",
    "| Word | Reverse Word | Is Palindrome |\n",
    "| -----| ------------ | ------------- |\n",
    "| EYE  | \tEYE\t      |   TRUE        |\n",
    "| EAR  | \tRAE\t      |  FALSE        |\n",
    " \n",
    "\n",
    "**Ans :** Example of this question is in excel workbook (`Assignment5.xls`) which is attached with this file.In "
   ]
  },
  {
   "cell_type": "markdown",
   "id": "19b6f929-ff3c-4da6-a8b5-66b63b9aafd3",
   "metadata": {},
   "source": [
    "**Q4 :** Is it possible to protect value from being copied from the cell? If yes, then how to implement it. \n",
    "\n",
    "**Ans :** Yes, it is possible. In order to protect your worksheet from getting copied, we need to go into `Menu bar` > `Review` > `Protect sheet` > `Password`. By entering password, we can secure your worksheet from getting copied by others."
   ]
  },
  {
   "cell_type": "markdown",
   "id": "de696ab0-0a3c-443c-bf01-c18e68d72244",
   "metadata": {},
   "source": [
    "**Q5 :** What is the use of Name Box in MS-Excel? \n",
    "\n",
    "**Ans :** In Excel, the Name Box refers to an input box directly to the left of the formula bar. The Name Box normally displays the address of the \"active cell\" on the \n",
    "worksheet. We can also use the name box to quickly create a named range. Another use for the Name Box is to navigate quickly to any range in a worksheet."
   ]
  }
 ],
 "metadata": {
  "kernelspec": {
   "display_name": "Python 3 (ipykernel)",
   "language": "python",
   "name": "python3"
  },
  "language_info": {
   "codemirror_mode": {
    "name": "ipython",
    "version": 3
   },
   "file_extension": ".py",
   "mimetype": "text/x-python",
   "name": "python",
   "nbconvert_exporter": "python",
   "pygments_lexer": "ipython3",
   "version": "3.10.6"
  }
 },
 "nbformat": 4,
 "nbformat_minor": 5
}
