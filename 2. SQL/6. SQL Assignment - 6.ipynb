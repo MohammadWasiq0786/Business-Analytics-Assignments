{
 "cells": [
  {
   "cell_type": "markdown",
   "id": "0de670f2-12ad-4e52-8ed0-3b46ceb5c6b1",
   "metadata": {},
   "source": [
    "![image](https://user-images.githubusercontent.com/57321948/196933065-4b16c235-f3b9-4391-9cfe-4affcec87c35.png)\n",
    "\n",
    "# Name: Mohammad Wasiq\n",
    "\n",
    "## E-mail: `mohammadwasiq0786@gmail.com`\n",
    "\n",
    "### SQL Assignment - 6"
   ]
  },
  {
   "cell_type": "markdown",
   "id": "6c3b132a-7e3c-4d98-81a3-66e2c271f64a",
   "metadata": {},
   "source": [
    "**Q1 :** Write an SQL query to print details of the Workers who have joined in Feb’2014.\n",
    "\n",
    "**Ans :**\n",
    "\n",
    "* **Method 1**\n",
    "```sql\n",
    "SELECT * FROM Worker WHERE YEAR(JOINING_DATE) = 2014 AND MONTH(JOINING_DATE) =02;\n",
    "```\n",
    "\n",
    "* **Method 2**\n",
    "```sql\n",
    "SELECT * FROM Worker WHERE JOINING_DATE LIKE \"%2014-02%\";\n",
    "```"
   ]
  },
  {
   "cell_type": "markdown",
   "id": "fd9deacc-debb-46f1-96c7-59b5c45b4824",
   "metadata": {},
   "source": [
    "**Q2 :** Write an SQL query to fetch duplicate records having matching data in some fields of a table.\n",
    "\n",
    "**Ans :**\n",
    "\n",
    "```sql\n",
    "SELECT column_name, COUNT(column_name) FROM Worker GROUP BY FEILD HAVING COUNT(column_name) > 1; \n",
    "```"
   ]
  },
  {
   "cell_type": "markdown",
   "id": "e02c4802-a00f-4a70-bb2f-0da7d0abdfc4",
   "metadata": {},
   "source": [
    "**Q3 :** How to remove duplicate rows from Employees table.\n",
    "\n",
    "**Ans :**\n",
    "\n",
    "```sql\n",
    "CREATE TABLE Employee (\n",
    "    ID INT PRIMARY KEY AUTO_INCREMENT NOT NULL,\n",
    "    FIRST_NAME VARCHAR(50),\n",
    "    LAST_NAME VARCHAR(50),\n",
    "    COUNTRY VARCHAR(50)\n",
    ");\n",
    "```\n",
    "\n",
    "```sql\n",
    "INSERT INTO Employee VALUES \n",
    "(1, 'Mohammad', 'Wasiq', 'INDIA'),\n",
    "(2, 'Altamash', 'Pasha', 'INDIA'),\n",
    "(3, 'Zainul', 'Abedeen', 'INDIA'),\n",
    "(4, 'STEVE', 'JOBS', 'USA'),\n",
    "(5, 'STEVE', 'JOBS', 'USA'),\n",
    "(6, 'STEVE', 'JOBS', 'USA');\n",
    "```\n",
    "\n",
    "```sql\n",
    "DELETE e1.* from employee e1 INNER JOIN employee e2 WHERE e1.id > e2.id AND\n",
    "e1.FIRST_NAME = e2.FIRST_NAME AND e1.LAST_NAME = e2.LAST_NAME AND e1.COUNTRY =\n",
    "e2.COUNT\n",
    "```"
   ]
  }
 ],
 "metadata": {
  "kernelspec": {
   "display_name": "Python 3 (ipykernel)",
   "language": "python",
   "name": "python3"
  },
  "language_info": {
   "codemirror_mode": {
    "name": "ipython",
    "version": 3
   },
   "file_extension": ".py",
   "mimetype": "text/x-python",
   "name": "python",
   "nbconvert_exporter": "python",
   "pygments_lexer": "ipython3",
   "version": "3.10.6"
  }
 },
 "nbformat": 4,
 "nbformat_minor": 5
}
