{
 "cells": [
  {
   "cell_type": "markdown",
   "id": "1173e4a5-8703-436b-9044-ba302816cdb4",
   "metadata": {},
   "source": [
    "![image](https://user-images.githubusercontent.com/57321948/196933065-4b16c235-f3b9-4391-9cfe-4affcec87c35.png)\n",
    "\n",
    "# Name: Mohammad Wasiq\n",
    "\n",
    "## E-mail: `mohammadwasiq0786@gmail.com`\n",
    "\n",
    "### SQL Assignment - 5"
   ]
  },
  {
   "cell_type": "markdown",
   "id": "d9fd3396-7670-425b-8921-b08e409f3ed3",
   "metadata": {},
   "source": [
    "**Q1 :** Write an SQL query to print details of workers excluding first names, “Vipul” and “Satish” from Worker table. \n",
    "\n",
    "**Ans :**\n",
    "\n",
    "```sql\n",
    "SELECT * FROM Worker WHERE FIRST_NAME NOT IN ('Vipul', 'Satish');\n",
    "```"
   ]
  },
  {
   "cell_type": "markdown",
   "id": "c29c94af-22b7-4e9b-8fb6-cf15d175559c",
   "metadata": {},
   "source": [
    "**Q2 :** Write an SQL query to print details of the Workers whose FIRST_NAME ends with ‘h’ and contains six alphabets.\n",
    "\n",
    "**Ans :**\n",
    "\n",
    "```sql\n",
    "SELECT * FROM Worker WHERE FIRST_NAME LIKE '______h';\n",
    "```"
   ]
  },
  {
   "cell_type": "markdown",
   "id": "5b777a13-d8de-4d96-a776-ede696ea6ab5",
   "metadata": {},
   "source": [
    "**Q3 :** Write a query to validate Email of Employee.\n",
    "\n",
    "**Ans :**\n",
    "\n",
    "```sql\n",
    "SELECT * FROM Worker WHERE email LIKE \"_%@_%._%\"\n",
    "```"
   ]
  }
 ],
 "metadata": {
  "kernelspec": {
   "display_name": "Python 3 (ipykernel)",
   "language": "python",
   "name": "python3"
  },
  "language_info": {
   "codemirror_mode": {
    "name": "ipython",
    "version": 3
   },
   "file_extension": ".py",
   "mimetype": "text/x-python",
   "name": "python",
   "nbconvert_exporter": "python",
   "pygments_lexer": "ipython3",
   "version": "3.10.6"
  }
 },
 "nbformat": 4,
 "nbformat_minor": 5
}
