{
 "cells": [
  {
   "cell_type": "markdown",
   "id": "2218c2fe-db79-4259-a546-f2e8dca64af0",
   "metadata": {},
   "source": [
    "![image](https://user-images.githubusercontent.com/57321948/196933065-4b16c235-f3b9-4391-9cfe-4affcec87c35.png)\n",
    "\n",
    "# Name: Mohammad Wasiq\n",
    "\n",
    "## E-mail: `mohammadwasiq0786@gmail.com`\n",
    "\n",
    "### SQL Assignment - 3"
   ]
  },
  {
   "cell_type": "markdown",
   "id": "150105b8-f19c-446a-a1ba-48437969c3e8",
   "metadata": {},
   "source": [
    "**Q1 :** Write an SQL query to print the FIRST_NAME from Worker table after removing white spaces from the right side. \n",
    "\n",
    "**Ans :**\n",
    "\n",
    "```sql\n",
    "SELECT RTRIM(FIRST_NAME) FROM Worker;\n",
    "```"
   ]
  },
  {
   "cell_type": "markdown",
   "id": "f751ccca-fc7f-4538-857c-147587e2669a",
   "metadata": {},
   "source": [
    "**Q2 :** Write an SQL query that fetches the unique values of DEPARTMENT from Worker table and prints its length.\n",
    "\n",
    "**Ans :**\n",
    "\n",
    "```sql\n",
    "SELECT DISTINCT(DEPARTMENT),LEN(DEPARTMENT) FROM Worker;\n",
    "```"
   ]
  },
  {
   "cell_type": "markdown",
   "id": "baf5b067-db02-4bd7-b10b-597d43f80a2c",
   "metadata": {},
   "source": [
    "**Q3 :** Write an SQL query to fetch nth max salaries from a table.\n",
    "\n",
    "**Ans :**\n",
    "\n",
    "```sql\n",
    "SELECT DISTINCT(Salary) FROM Worker ORDER BY Salary DESC LIMIT 1 OFFSET n;\n",
    "```"
   ]
  }
 ],
 "metadata": {
  "kernelspec": {
   "display_name": "Python 3 (ipykernel)",
   "language": "python",
   "name": "python3"
  },
  "language_info": {
   "codemirror_mode": {
    "name": "ipython",
    "version": 3
   },
   "file_extension": ".py",
   "mimetype": "text/x-python",
   "name": "python",
   "nbconvert_exporter": "python",
   "pygments_lexer": "ipython3",
   "version": "3.10.6"
  }
 },
 "nbformat": 4,
 "nbformat_minor": 5
}
