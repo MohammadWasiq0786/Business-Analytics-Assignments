{
 "cells": [
  {
   "cell_type": "markdown",
   "id": "e5504547-e2a5-4531-9de2-dea1c6160c74",
   "metadata": {},
   "source": [
    "![image](https://user-images.githubusercontent.com/57321948/196933065-4b16c235-f3b9-4391-9cfe-4affcec87c35.png)\n",
    "\n",
    "# Name: Mohammad Wasiq\n",
    "\n",
    "## E-mail: `mohammadwasiq0786@gmail.com`\n",
    "\n",
    "### SQL Assignment - 2"
   ]
  },
  {
   "cell_type": "markdown",
   "id": "2d8a562b-219f-4604-814e-a9daed5191f6",
   "metadata": {},
   "source": [
    "**Q1 :** Write an SQL query to print the first three characters of FIRST_NAME from Worker table.\n",
    "\n",
    "**Ans :**\n",
    "\n",
    "```sql\n",
    "SELECT SUBSTRING(FIRST_NAME, 1, 3) FROM Worker; \n",
    "```"
   ]
  },
  {
   "cell_type": "markdown",
   "id": "3e7ab51e-76b6-4ff0-ac6c-a99f0a02c11e",
   "metadata": {},
   "source": [
    "**Q2 :** Write an SQL query to find the position of the alphabet (‘a’) in the first name column ‘Amitabh’ \n",
    "from Worker table\n",
    "\n",
    "**Ans :**\n",
    "\n",
    "* **Method 1 :- **\n",
    "```sql\n",
    " SELECT LOCATE(‘a’, FIRST_NAME) FROM Worker WHERE FIRST_NAME = ‘Amitabh’; \n",
    "```\n",
    "* **Method 2 :-** \n",
    "```sql\n",
    "SELECT POSITION(‘a’ in FIRST_NAME) FROM Worker WHERE FIRST_NAME = ‘Amitabh’; \n",
    "```"
   ]
  },
  {
   "cell_type": "markdown",
   "id": "b8d5736a-6bc1-4fca-b4ee-7e49ccc85d9d",
   "metadata": {},
   "source": [
    "**Q3 :** Write an SQL query to print the name of employees having the highest salary in each department.\n",
    "\n",
    "**Ans :**\n",
    "\n",
    "```sql\n",
    "SELECT first_name, last_name, salary, department FROM Worker w WHERE salary = (SELECT MAX(salary) FROM Worker WHERE department = w.department);\n",
    "```"
   ]
  }
 ],
 "metadata": {
  "kernelspec": {
   "display_name": "Python 3 (ipykernel)",
   "language": "python",
   "name": "python3"
  },
  "language_info": {
   "codemirror_mode": {
    "name": "ipython",
    "version": 3
   },
   "file_extension": ".py",
   "mimetype": "text/x-python",
   "name": "python",
   "nbconvert_exporter": "python",
   "pygments_lexer": "ipython3",
   "version": "3.10.6"
  }
 },
 "nbformat": 4,
 "nbformat_minor": 5
}
