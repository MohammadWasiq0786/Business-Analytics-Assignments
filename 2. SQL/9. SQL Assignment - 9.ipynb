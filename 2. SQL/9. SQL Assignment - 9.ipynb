{
 "cells": [
  {
   "cell_type": "markdown",
   "id": "ffe51603-4ba4-41c1-b642-e1b95a2de16e",
   "metadata": {},
   "source": [
    "![image](https://user-images.githubusercontent.com/57321948/196933065-4b16c235-f3b9-4391-9cfe-4affcec87c35.png)\n",
    "\n",
    "# Name: Mohammad Wasiq\n",
    "\n",
    "## E-mail: `mohammadwasiq0786@gmail.com`\n",
    "\n",
    "### SQL Assignment - 9"
   ]
  },
  {
   "cell_type": "markdown",
   "id": "ec4c8627-d3d4-43c2-8957-2e7e2acc7549",
   "metadata": {},
   "source": [
    "**Q1 :** Write an SQL query to show the top n (say 10) records of a table. \n",
    "\n",
    "**Ans :** `SELECT TOP 10 * FROM Worker;` --Top Keyword is not supported by Many Popular Databases \n",
    "\n",
    "\n",
    "```sql\n",
    "SELECT * FROM Worker LIMIT 10; \n",
    "```"
   ]
  },
  {
   "cell_type": "markdown",
   "id": "9144bc48-f312-4527-b48e-84e1f8a79173",
   "metadata": {},
   "source": [
    "**Q2 :** Write an SQL query to determine the nth (say n=5) highest salary from a table. \n",
    "\n",
    "**Ans :**\n",
    "\n",
    "```sql\n",
    "SELECT DISTINCT(Salary) FROM Worker ORDER BY DESC LIMIT 1 OFFSET 5;\n",
    "```"
   ]
  }
 ],
 "metadata": {
  "kernelspec": {
   "display_name": "Python 3 (ipykernel)",
   "language": "python",
   "name": "python3"
  },
  "language_info": {
   "codemirror_mode": {
    "name": "ipython",
    "version": 3
   },
   "file_extension": ".py",
   "mimetype": "text/x-python",
   "name": "python",
   "nbconvert_exporter": "python",
   "pygments_lexer": "ipython3",
   "version": "3.10.6"
  }
 },
 "nbformat": 4,
 "nbformat_minor": 5
}
