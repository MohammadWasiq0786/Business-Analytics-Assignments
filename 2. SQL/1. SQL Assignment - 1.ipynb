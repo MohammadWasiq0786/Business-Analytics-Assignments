{
 "cells": [
  {
   "cell_type": "markdown",
   "id": "41eeeefc-a423-4d4f-be06-0bcca8f2fc56",
   "metadata": {},
   "source": [
    "![image](https://user-images.githubusercontent.com/57321948/196933065-4b16c235-f3b9-4391-9cfe-4affcec87c35.png)\n",
    "\n",
    "# Name: Mohammad Wasiq\n",
    "\n",
    "## E-mail: `mohammadwasiq0786@gmail.com`\n",
    "\n",
    "### SQL Assignment - 1"
   ]
  },
  {
   "cell_type": "markdown",
   "id": "2f03fced-4230-44f6-8c98-41028729ec8b",
   "metadata": {},
   "source": [
    "**Q1 :** Write an SQL query to fetch “FIRST_NAME” from Worker table using the alias name as `<Worker_Name>`\n",
    "\n",
    "**Ans :**\n",
    "\n",
    "```sql\n",
    "SELECT FIRST_NAME AS WORKER_NAME FROM Worker;\n",
    "```"
   ]
  },
  {
   "cell_type": "markdown",
   "id": "9a9812f9-9665-406f-bc52-5f6cd2ab063f",
   "metadata": {},
   "source": [
    "**Q2 :** Write an SQL query to fetch unique values of DEPARTMENT from Worker table.\n",
    "\n",
    "**Ans :**\n",
    "\n",
    "```sql\n",
    "SELECT DISTINCT DEPARTMENT FROM Worker; \n",
    "```"
   ]
  },
  {
   "cell_type": "markdown",
   "id": "1de5fc27-4e6c-4241-8730-3358562efa4a",
   "metadata": {},
   "source": [
    "**Q3 :** Write an SQL query to show the last 5 record from a table.\n",
    "\n",
    "**Ans :**\n",
    "\n",
    "```sql\n",
    "SELECT*FROM Worker ORDER by id DESC LIMIT 5;\n",
    "```"
   ]
  }
 ],
 "metadata": {
  "kernelspec": {
   "display_name": "Python 3 (ipykernel)",
   "language": "python",
   "name": "python3"
  },
  "language_info": {
   "codemirror_mode": {
    "name": "ipython",
    "version": 3
   },
   "file_extension": ".py",
   "mimetype": "text/x-python",
   "name": "python",
   "nbconvert_exporter": "python",
   "pygments_lexer": "ipython3",
   "version": "3.10.6"
  }
 },
 "nbformat": 4,
 "nbformat_minor": 5
}
