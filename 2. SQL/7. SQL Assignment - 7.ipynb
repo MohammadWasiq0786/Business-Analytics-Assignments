{
 "cells": [
  {
   "cell_type": "markdown",
   "id": "805e3d4e-eda3-4ba9-8885-61278b2626f9",
   "metadata": {},
   "source": [
    "![image](https://user-images.githubusercontent.com/57321948/196933065-4b16c235-f3b9-4391-9cfe-4affcec87c35.png)\n",
    "\n",
    "# Name: Mohammad Wasiq\n",
    "\n",
    "## E-mail: `mohammadwasiq0786@gmail.com`\n",
    "\n",
    "### SQL Assignment - 7"
   ]
  },
  {
   "cell_type": "markdown",
   "id": "24de7e53-64dd-47a6-97a9-ae6e8e7cb827",
   "metadata": {},
   "source": [
    "**Q1 :** Write an SQL query to show only odd rows from a table. \n",
    "\n",
    "**Ans :**\n",
    "\n",
    "```sql\n",
    "SELECT * FROM Worker Where MOD(worker_id, 2) = 1;\n",
    "```"
   ]
  },
  {
   "cell_type": "markdown",
   "id": "28dc8d84-e575-46d4-a1ac-0855be4981be",
   "metadata": {},
   "source": [
    "**Q2 :** Write an SQL query to clone a new table from another table. \n",
    "\n",
    "**Ans :** **Code to Create a New table**\n",
    "\n",
    "```sql\n",
    "CREATE TABLE CloneWorker ( \n",
    "    WORKER_ID INT NOT NULL AUTO INCREMENT PRIMARY KEY,\n",
    "    FIRST_NAME VARCHAR(50), \n",
    "    LAST_NAME VARCHAR(50), \n",
    "    SALARY INT, \n",
    "    DEPARTMENT VARCHAR(50), \n",
    "    JOINING_DATE DATETIME \n",
    "); \n",
    "```\n",
    "\n",
    "**Code to Clone content of a table to another table**\n",
    "```sql\n",
    "INSERT INTO CloneWorker SELECT * FROM Worker;\n",
    "```"
   ]
  }
 ],
 "metadata": {
  "kernelspec": {
   "display_name": "Python 3 (ipykernel)",
   "language": "python",
   "name": "python3"
  },
  "language_info": {
   "codemirror_mode": {
    "name": "ipython",
    "version": 3
   },
   "file_extension": ".py",
   "mimetype": "text/x-python",
   "name": "python",
   "nbconvert_exporter": "python",
   "pygments_lexer": "ipython3",
   "version": "3.10.6"
  }
 },
 "nbformat": 4,
 "nbformat_minor": 5
}
