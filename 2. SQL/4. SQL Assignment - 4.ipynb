{
 "cells": [
  {
   "cell_type": "markdown",
   "id": "7d30da80-0fc1-41b8-a8be-cb0bb4013d37",
   "metadata": {},
   "source": [
    "![image](https://user-images.githubusercontent.com/57321948/196933065-4b16c235-f3b9-4391-9cfe-4affcec87c35.png)\n",
    "\n",
    "# Name: Mohammad Wasiq\n",
    "\n",
    "## E-mail: `mohammadwasiq0786@gmail.com`\n",
    "\n",
    "### SQL Assignment - 4"
   ]
  },
  {
   "cell_type": "markdown",
   "id": "13293737-6f34-46c4-bbdf-71257fd547d1",
   "metadata": {},
   "source": [
    "**Q1 :** Write an SQL query to print the FIRST_NAME from Worker table after replacing ‘a’ with ‘A’.\n",
    "\n",
    "**Ans :**\n",
    "\n",
    "```sql\n",
    "SELECT REPLACE(FIRST_NAME, 'a', 'A') FROM Wokrer; \n",
    "```"
   ]
  },
  {
   "cell_type": "markdown",
   "id": "2ef8a6bb-8202-4f23-a188-bf60a991bda9",
   "metadata": {},
   "source": [
    "**Q2 :** Write an SQL query to print all Worker details from the Worker table order by FIRST_NAME Ascending and DEPARTMENT Descending.\n",
    "\n",
    "**Ans :**\n",
    "\n",
    "```sql\n",
    "SELECT * FROM Worker ORDER BY FIRST_NAME ASC, LAST_NAME DESC;\n",
    "```"
   ]
  },
  {
   "cell_type": "markdown",
   "id": "439d2683-6d3f-4a76-867c-4af7a2b9722d",
   "metadata": {},
   "source": [
    "**Q3 :** Write an SQL query to fetch the names of workers who earn the highest salary.\n",
    "\n",
    "**Ans :**\n",
    "\n",
    "```sql\n",
    "SELECT FIRST_NAME, LAST_NAME FROM Worker WHERE SALARY =(SELECT MAX(SALARY) FROM Worker);\n",
    "```"
   ]
  }
 ],
 "metadata": {
  "kernelspec": {
   "display_name": "Python 3 (ipykernel)",
   "language": "python",
   "name": "python3"
  },
  "language_info": {
   "codemirror_mode": {
    "name": "ipython",
    "version": 3
   },
   "file_extension": ".py",
   "mimetype": "text/x-python",
   "name": "python",
   "nbconvert_exporter": "python",
   "pygments_lexer": "ipython3",
   "version": "3.10.6"
  }
 },
 "nbformat": 4,
 "nbformat_minor": 5
}
