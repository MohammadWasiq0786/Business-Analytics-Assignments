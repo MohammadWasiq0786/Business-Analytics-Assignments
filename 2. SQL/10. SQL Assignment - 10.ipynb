{
 "cells": [
  {
   "cell_type": "markdown",
   "id": "a4ed3b15-466f-4f40-ae1d-0d022e216adb",
   "metadata": {},
   "source": [
    "![image](https://user-images.githubusercontent.com/57321948/196933065-4b16c235-f3b9-4391-9cfe-4affcec87c35.png)\n",
    "\n",
    "# Name: Mohammad Wasiq\n",
    "\n",
    "## E-mail: `mohammadwasiq0786@gmail.com`\n",
    "\n",
    "### SQL Assignment - 10"
   ]
  },
  {
   "cell_type": "markdown",
   "id": "57e2e3c1-638e-433e-9084-6849c57f9afd",
   "metadata": {},
   "source": [
    "**Q1 :** Write an SQL query to determine the 5th highest salary without using TOP or limit method.\n",
    "\n",
    "**Ans :**\n",
    "\n",
    "```sql\n",
    "SELECT * FROM (SELECT ROW_NUMBER() OVER (ORDER BY salary DESC) AS R_NUM, first_name, salary FROM employee) as HEllO WHERE R_NUM=5; \n",
    "```"
   ]
  },
  {
   "cell_type": "markdown",
   "id": "aa6ab982-7ad6-40ca-aa1e-9f16e0de41ed",
   "metadata": {},
   "source": [
    "**Q2 :** Write an SQL query to fetch the list of employees with the same salary. \n",
    "\n",
    "**Ans :**\n",
    "\n",
    "```sql\n",
    "CREATE TABLE employee (\n",
    " emp_id INT PRIMARY KEY AUTO_INCREMENT NOT NULL,\n",
    " first_name VARCHAR(50),\n",
    " last_name VARCHAR(50),\n",
    " salary INT\n",
    ");\n",
    "```\n",
    "\n",
    "```sql\n",
    "INSERT INTO employee VALUES\n",
    "(1, 'Mohammad', 'Wasiq', 100),\n",
    "(2, 'Altamash', 'Pasha', 200),\n",
    "(3, 'Zainul', 'Abedeen', 50),\n",
    "(4, 'Arbaz', 'Pasha', 150),\n",
    "(5, 'Mukarram', 'Husain', 100),\n",
    "(6, 'Hammad', 'Khan', 150);\n",
    "SELECT * FROM employee ORDER BY salary ASC\n",
    "```"
   ]
  }
 ],
 "metadata": {
  "kernelspec": {
   "display_name": "Python 3 (ipykernel)",
   "language": "python",
   "name": "python3"
  },
  "language_info": {
   "codemirror_mode": {
    "name": "ipython",
    "version": 3
   },
   "file_extension": ".py",
   "mimetype": "text/x-python",
   "name": "python",
   "nbconvert_exporter": "python",
   "pygments_lexer": "ipython3",
   "version": "3.10.6"
  }
 },
 "nbformat": 4,
 "nbformat_minor": 5
}
