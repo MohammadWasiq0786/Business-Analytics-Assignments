{
 "cells": [
  {
   "cell_type": "markdown",
   "id": "34eca94a-bd29-4d88-8811-299409eea3ac",
   "metadata": {},
   "source": [
    "![image](https://user-images.githubusercontent.com/57321948/196933065-4b16c235-f3b9-4391-9cfe-4affcec87c35.png)\n",
    "\n",
    "# Name: Mohammad Wasiq\n",
    "\n",
    "## E-mail: `mohammadwasiq0786@gmail.com`\n",
    "\n",
    "### SQL Assignment - 8"
   ]
  },
  {
   "cell_type": "markdown",
   "id": "3df1f951-d5d3-4ab8-b491-b1f5b585f650",
   "metadata": {},
   "source": [
    "**Q1 :** Write an SQL query to fetch intersecting records of two tables. \n",
    "\n",
    "**Ans :**\n",
    "\n",
    "```sql\n",
    "SELECT <Column_names> FROM table_1 INTERSECT SELECT <Column_names> FROM \n",
    "table_2;\n",
    "```"
   ]
  },
  {
   "cell_type": "markdown",
   "id": "a61a484f-0eb7-48ed-aff2-8c65064d4619",
   "metadata": {},
   "source": [
    "**Q2 :** Write an SQL query to show records from one table that another table does not have.\n",
    "\n",
    "**Ans :**\n",
    "\n",
    "```sql\n",
    "SELECT * FROM table_1 EXCEPT SELECT * FROM table_2;\n",
    "```"
   ]
  }
 ],
 "metadata": {
  "kernelspec": {
   "display_name": "Python 3 (ipykernel)",
   "language": "python",
   "name": "python3"
  },
  "language_info": {
   "codemirror_mode": {
    "name": "ipython",
    "version": 3
   },
   "file_extension": ".py",
   "mimetype": "text/x-python",
   "name": "python",
   "nbconvert_exporter": "python",
   "pygments_lexer": "ipython3",
   "version": "3.10.6"
  }
 },
 "nbformat": 4,
 "nbformat_minor": 5
}
