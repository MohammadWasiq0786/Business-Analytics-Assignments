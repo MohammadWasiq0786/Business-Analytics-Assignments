{
 "cells": [
  {
   "cell_type": "markdown",
   "metadata": {
    "deletable": true,
    "editable": true
   },
   "source": [
    "## Data fields\n",
    "\n",
    "Here's a brief version of what you'll find in the data description file.\n",
    "\n",
    "* SalePrice - the property's sale price in dollars. This is the target variable that you're trying to predict.\n",
    "* MSSubClass: The building class\n",
    "* MSZoning: The general zoning classification\n",
    "* LotFrontage: Linear feet of street connected to property\n",
    "* LotArea: Lot size in square feet\n",
    "* Street: Type of road access\n",
    "* Alley: Type of alley access\n",
    "* LotShape: General shape of property\n",
    "* LandContour: Flatness of the property\n",
    "* Utilities: Type of utilities available\n",
    "* LotConfig: Lot configuration\n",
    "* LandSlope: Slope of property\n",
    "* Neighborhood: Physical locations within Ames city limits\n",
    "* Condition1: Proximity to main road or railroad\n",
    "* Condition2: Proximity to main road or railroad (if a second is present)\n",
    "* BldgType: Type of dwelling\n",
    "* HouseStyle: Style of dwelling\n",
    "* OverallQual: Overall material and finish quality\n",
    "* OverallCond: Overall condition rating\n",
    "* YearBuilt: Original construction date\n",
    "* YearRemodAdd: Remodel date\n",
    "* RoofStyle: Type of roof\n",
    "* RoofMatl: Roof material\n",
    "* Exterior1st: Exterior covering on house\n",
    "* Exterior2nd: Exterior covering on house (if more than one material)\n",
    "* MasVnrType: Masonry veneer type\n",
    "* MasVnrArea: Masonry veneer area in square feet\n",
    "* ExterQual: Exterior material quality\n",
    "* ExterCond: Present condition of the material on the exterior\n",
    "* Foundation: Type of foundation\n",
    "* BsmtQual: Height of the basement\n",
    "* BsmtCond: General condition of the basement\n",
    "* BsmtExposure: Walkout or garden level basement walls\n",
    "* BsmtFinType1: Quality of basement finished area\n",
    "* BsmtFinSF1: Type 1 finished square feet\n",
    "* BsmtFinType2: Quality of second finished area (if present)\n",
    "* BsmtFinSF2: Type 2 finished square feet\n",
    "* BsmtUnfSF: Unfinished square feet of basement area\n",
    "* TotalBsmtSF: Total square feet of basement area\n",
    "* Heating: Type of heating\n",
    "* HeatingQC: Heating quality and condition\n",
    "* CentralAir: Central air conditioning\n",
    "* Electrical: Electrical system\n",
    "* 1stFlrSF: First Floor square feet\n",
    "* 2ndFlrSF: Second floor square feet\n",
    "* LowQualFinSF: Low quality finished square feet (all floors)\n",
    "* GrLivArea: Above grade (ground) living area square feet\n",
    "* BsmtFullBath: Basement full bathrooms\n",
    "* BsmtHalfBath: Basement half bathrooms\n",
    "* FullBath: Full bathrooms above grade\n",
    "* HalfBath: Half baths above grade\n",
    "* Bedroom: Number of bedrooms above basement level\n",
    "* Kitchen: Number of kitchens\n",
    "* KitchenQual: Kitchen quality\n",
    "* TotRmsAbvGrd: Total rooms above grade (does not include bathrooms)\n",
    "* Functional: Home functionality rating\n",
    "* Fireplaces: Number of fireplaces\n",
    "* FireplaceQu: Fireplace quality\n",
    "* GarageType: Garage location\n",
    "* GarageYrBlt: Year garage was built\n",
    "* GarageFinish: Interior finish of the garage\n",
    "* GarageCars: Size of garage in car capacity\n",
    "* GarageArea: Size of garage in square feet\n",
    "* GarageQual: Garage quality\n",
    "* GarageCond: Garage condition\n",
    "* PavedDrive: Paved driveway\n",
    "* WoodDeckSF: Wood deck area in square feet\n",
    "* OpenPorchSF: Open porch area in square feet\n",
    "* EnclosedPorch: Enclosed porch area in square feet\n",
    "* 3SsnPorch: Three season porch area in square feet\n",
    "* ScreenPorch: Screen porch area in square feet\n",
    "* PoolArea: Pool area in square feet\n",
    "* PoolQC: Pool quality\n",
    "* Fence: Fence quality\n",
    "* MiscFeature: Miscellaneous feature not covered in other categories\n",
    "* MiscVal: $Value of miscellaneous feature\n",
    "* MoSold: Month Sold\n",
    "* YrSold: Year Sold\n",
    "* SaleType: Type of sale\n",
    "* SaleCondition: Condition of sale"
   ]
  },
  {
   "cell_type": "code",
   "execution_count": 9,
   "metadata": {
    "collapsed": false,
    "deletable": true,
    "editable": true
   },
   "outputs": [],
   "source": [
    "import pandas as pd\n",
    "import numpy as np\n",
    "import seaborn as sns\n",
    "from sklearn.linear_model import Ridge, RidgeCV, ElasticNet, LassoCV, LassoLarsCV\n",
    "from sklearn.model_selection import cross_val_score\n",
    "import matplotlib\n",
    "import matplotlib.pyplot as plt\n",
    "from scipy.stats import skew\n",
    "from scipy.stats.stats import pearsonr\n",
    "from scipy import stats\n",
    "import xgboost as xgb\n",
    "from scipy.stats import norm\n",
    "#from pyglmnet import GLM # Marco: need to understand how to install this \n",
    "from sklearn.preprocessing import StandardScaler\n",
    "\n",
    "from IPython import get_ipython\n",
    "get_ipython().run_line_magic('matplotlib', 'inline')\n",
    "\n",
    "\n",
    "from pandas import ExcelWriter  #Marco: this is useful to write in excel"
   ]
  },
  {
   "cell_type": "code",
   "execution_count": 19,
   "metadata": {
    "collapsed": false,
    "deletable": true,
    "editable": true
   },
   "outputs": [],
   "source": [
    "train = pd.read_csv(\"../data/train.csv\")\n",
    "test = pd.read_csv(\"../data/test.csv\")\n",
    "\n",
    "#target = train.SalePrice\n",
    "#train.ix[:3].columns.values"
   ]
  },
  {
   "cell_type": "code",
   "execution_count": 20,
   "metadata": {
    "collapsed": true,
    "deletable": true,
    "editable": true
   },
   "outputs": [],
   "source": [
    "#Marco: useful function to write in xls file\n",
    "\n",
    "#writer = ExcelWriter('all_data_temp.xlsx')\n",
    "#all_data.to_excel(writer,'AllData_GetDummies')\n",
    "#writer.save()"
   ]
  },
  {
   "cell_type": "code",
   "execution_count": 21,
   "metadata": {
    "collapsed": true,
    "deletable": true,
    "editable": true
   },
   "outputs": [],
   "source": [
    "\n",
    "def rmse_cv(model):\n",
    "    rmse= np.sqrt(-cross_val_score(model, X_train, y, scoring=\"neg_mean_squared_error\", cv = 5))\n",
    "    return(rmse)"
   ]
  },
  {
   "cell_type": "code",
   "execution_count": 22,
   "metadata": {
    "collapsed": true,
    "deletable": true,
    "editable": true
   },
   "outputs": [],
   "source": [
    "#Distribution and skewness\n",
    "def distskew(dataset,feature):\n",
    "    fig = plt.figure()\n",
    "    sns.distplot(dataset[feature], fit=norm);\n",
    "    return(\"Skewness = \",skew(dataset[feature].dropna()))"
   ]
  },
  {
   "cell_type": "code",
   "execution_count": 23,
   "metadata": {
    "collapsed": true,
    "deletable": true,
    "editable": true
   },
   "outputs": [],
   "source": [
    "# Scatter plot\n",
    "def scatplot(a,b):\n",
    "    scatplotdata = pd.DataFrame({\"x\":a, \"y\":b})\n",
    "    scatplotdata.plot(x = \"x\", y = \"y\", kind = \"scatter\")\n",
    "    return()"
   ]
  },
  {
   "cell_type": "code",
   "execution_count": 24,
   "metadata": {
    "collapsed": false,
    "deletable": true,
    "editable": true
   },
   "outputs": [],
   "source": [
    "#Marco: uncomment to view this plot\n",
    "#scatplot(train[\"GrLivArea\"],train[\"SalePrice\"])\n",
    "#distskew(train,\"ScreenPorch\")"
   ]
  },
  {
   "cell_type": "code",
   "execution_count": 25,
   "metadata": {
    "collapsed": false,
    "deletable": true,
    "editable": true
   },
   "outputs": [
    {
     "name": "stdout",
     "output_type": "stream",
     "text": [
      "Int64Index([523, 691, 1182, 1298], dtype='int64')\n"
     ]
    }
   ],
   "source": [
    "#Remove outliers from the training set only\n",
    "#in this way we will not alter the number of the test example !!\n",
    "\n",
    "\n",
    "\n",
    "#print(train.sort_values(by = 'GrLivArea', ascending = False)[:2])\n",
    "print(train[train['GrLivArea'] > 4000].index)\n",
    "#train = train.drop(train[train['Id'] == 1299].index)\n",
    "#train = train.drop(train[train['Id'] == 524].index)\n",
    "\n",
    "#train = train.drop(train[train['GrLivArea'] > 4000].index)\n",
    "#train = train.drop(train[train['TotalBsmtSF']> 6000].index)\n",
    "\n",
    "#train = train.reset_index()\n",
    "\n",
    "#print(train['GrLivArea'])"
   ]
  },
  {
   "cell_type": "code",
   "execution_count": 26,
   "metadata": {
    "collapsed": true,
    "deletable": true,
    "editable": true
   },
   "outputs": [],
   "source": [
    "# remove outlier for LotFrontage and mean imputation\n",
    "train = train.drop(train[train['LotFrontage']>150].index)\n",
    "train['LotFrontage']=train['LotFrontage'].fillna(train['LotFrontage'].mean())"
   ]
  },
  {
   "cell_type": "code",
   "execution_count": 27,
   "metadata": {
    "collapsed": true,
    "deletable": true,
    "editable": true
   },
   "outputs": [],
   "source": [
    "# Removing outlier for LotArea and transforming\n",
    "train = train.drop(train[train['LotArea']>50001].index)"
   ]
  },
  {
   "cell_type": "code",
   "execution_count": 28,
   "metadata": {
    "collapsed": false,
    "deletable": true,
    "editable": true
   },
   "outputs": [
    {
     "name": "stdout",
     "output_type": "stream",
     "text": [
      "('\\n train', (1441, 81))\n",
      "('\\n test', (1459, 80))\n",
      "('\\nall_data', (2900, 80))\n"
     ]
    }
   ],
   "source": [
    "all_data = pd.concat((train.loc[:,'Id':'SaleCondition'],\n",
    "                      test.loc[:,'Id':'SaleCondition']))\n",
    "print(\"\\n train\",train.shape)\n",
    "print(\"\\n test\",test.shape)\n",
    "print(\"\\nall_data\",all_data.shape)\n",
    "\n",
    "#get the index of the numerical features\n",
    "numeric_feats = all_data.dtypes[all_data.dtypes != \"object\"].index\n",
    "\n",
    "#Get Categorical data in a fast way:\n",
    "categorical_features = pd.DataFrame(all_data.describe(include = ['O'])).columns\n",
    "\n",
    "prices = pd.DataFrame({\"price\":train[\"SalePrice\"], \"log(price + 1)\":np.log1p(train[\"SalePrice\"])})\n",
    "#prices.hist()\n",
    "\n",
    "#log transform the target:\n",
    "train[\"SalePrice\"] = np.log1p(train[\"SalePrice\"])"
   ]
  },
  {
   "cell_type": "markdown",
   "metadata": {
    "deletable": true,
    "editable": true
   },
   "source": [
    "# Data Cleaning\n",
    "Add here all the operation useful to remove data with comment that justify your actions (e.g. removing outliers)"
   ]
  },
  {
   "cell_type": "code",
   "execution_count": 29,
   "metadata": {
    "collapsed": false,
    "deletable": true,
    "editable": true
   },
   "outputs": [
    {
     "name": "stdout",
     "output_type": "stream",
     "text": [
      "              Total   Percent\n",
      "PoolQC         2893  0.997586\n",
      "MiscFeature    2797  0.964483\n",
      "Alley          2703  0.932069\n",
      "Fence          2331  0.803793\n",
      "FireplaceQu    1418  0.488966\n",
      "LotFrontage     227  0.078276\n",
      "GarageCond      158  0.054483\n",
      "GarageQual      158  0.054483\n",
      "GarageYrBlt     158  0.054483\n",
      "GarageFinish    158  0.054483\n",
      "('\\n We are going to remove the below features : \\n',              Total   Percent\n",
      "PoolQC        2893  0.997586\n",
      "MiscFeature   2797  0.964483\n",
      "Alley         2703  0.932069\n",
      "Fence         2331  0.803793)\n",
      "('\\n After removed data the new dim of all_data are\\n', (2900, 76))\n"
     ]
    }
   ],
   "source": [
    "#missing data\n",
    "REMOVING_THRESH = 0.8\n",
    "\n",
    "total = all_data.isnull().sum().sort_values(ascending=False)\n",
    "percent = (all_data.isnull().sum()/all_data.isnull().count()).sort_values(ascending=False)\n",
    "missing_data = pd.concat([total, percent], axis=1, keys=['Total', 'Percent'])\n",
    "print(missing_data.head(10))\n",
    "#MDV: remove the feature that has more than 10% of missing values\n",
    "print(\"\\n We are going to remove the below features : \\n\",missing_data[missing_data['Percent'] > REMOVING_THRESH])\n",
    "\n",
    "all_data = all_data.drop((missing_data[missing_data['Percent'] > REMOVING_THRESH]).index,1)\n",
    "\n",
    "print(\"\\n After removed data the new dim of all_data are\\n\",all_data.shape)\n"
   ]
  },
  {
   "cell_type": "markdown",
   "metadata": {
    "collapsed": true,
    "deletable": true,
    "editable": true
   },
   "source": [
    "# Some Feature Engineering\n",
    "Put here all the data manipulation "
   ]
  },
  {
   "cell_type": "code",
   "execution_count": 30,
   "metadata": {
    "collapsed": false,
    "deletable": true,
    "editable": true
   },
   "outputs": [],
   "source": [
    "#scatplot(np.log1p(train[\"TotalBsmtSF\"]),train[\"SalePrice\"])"
   ]
  },
  {
   "cell_type": "code",
   "execution_count": 31,
   "metadata": {
    "collapsed": false,
    "deletable": true,
    "editable": true
   },
   "outputs": [
    {
     "name": "stderr",
     "output_type": "stream",
     "text": [
      "/Users/robert/anaconda/lib/python2.7/site-packages/pandas/core/indexing.py:141: SettingWithCopyWarning: \n",
      "A value is trying to be set on a copy of a slice from a DataFrame\n",
      "\n",
      "See the caveats in the documentation: http://pandas.pydata.org/pandas-docs/stable/indexing.html#indexing-view-versus-copy\n",
      "  self._setitem_with_indexer(indexer, value)\n"
     ]
    },
    {
     "data": {
      "text/plain": [
       "('Skewness = ', 1.0534768314329686)"
      ]
     },
     "execution_count": 31,
     "metadata": {},
     "output_type": "execute_result"
    },
    {
     "data": {
      "image/png": "[encoded data removed]",
      "text/plain": [
       "<matplotlib.figure.Figure at 0x10f186710>"
      ]
     },
     "metadata": {},
     "output_type": "display_data"
    },
    {
     "data": {
      "image/png": "[encoded data removed]",
      "text/plain": [
       "<matplotlib.figure.Figure at 0x10ec3a050>"
      ]
     },
     "metadata": {},
     "output_type": "display_data"
    }
   ],
   "source": [
    "#Marco: replace the TotalBsmtSF = 0 with the relative GrLivArea value of that house.\n",
    "#improvment from skewness of -5.1 to 2.1\n",
    "\n",
    "no_basement_houses_index = train[train['TotalBsmtSF']== 0].index\n",
    "train['TotalBsmtSF'].loc[no_basement_houses_index] = train['GrLivArea'].loc[no_basement_houses_index]\n",
    "#print(train['TotalBsmtSF'].loc[no_basement_houses_index])\n",
    "\n",
    "\n",
    "#all_no_basement_houses_index= all_data[all_data['TotalBsmtSF']== 0].index\n",
    "#all_data['TotalBsmtSF'].loc[all_no_basement_houses_index] = all_data['GrLivArea'].loc[all_no_basement_houses_index]\n",
    "\n",
    "\n",
    "scatplot(np.log1p(train[\"TotalBsmtSF\"]),train[\"SalePrice\"])\n",
    "\n",
    "distskew(train,\"TotalBsmtSF\")\n",
    "\n",
    "#print(no_basement_houses_index)"
   ]
  },
  {
   "cell_type": "code",
   "execution_count": 32,
   "metadata": {
    "collapsed": false,
    "deletable": true,
    "editable": true
   },
   "outputs": [],
   "source": [
    "# Feature Engineering -Log transformation \n",
    "all_data['LotArea']=np.log1p(all_data['LotArea'])"
   ]
  },
  {
   "cell_type": "code",
   "execution_count": 33,
   "metadata": {
    "collapsed": false,
    "deletable": true,
    "editable": true
   },
   "outputs": [
    {
     "name": "stdout",
     "output_type": "stream",
     "text": [
      "('all_data dim:', (2900, 72))\n"
     ]
    }
   ],
   "source": [
    "\n",
    "all_data[\"TotBsmtFin\"] = all_data[\"BsmtFinSF1\"] + all_data[\"BsmtFinSF2\"]\n",
    "train[\"TotBsmtFin\"] = train[\"BsmtFinSF1\"] + train[\"BsmtFinSF2\"]\n",
    "                 \n",
    "all_data = all_data.drop(\"BsmtFinSF1\",1)\n",
    "all_data = all_data.drop(\"BsmtFinSF2\",1)\n",
    "\n",
    "all_data[\"TotBath\"] = all_data[\"FullBath\"] + 0.5*all_data[\"HalfBath\"] + all_data[\"BsmtFullBath\"] + 0.5*all_data[\"BsmtHalfBath\"]\n",
    "train[\"TotBath\"] = train[\"FullBath\"] + 0.5*train[\"HalfBath\"] + train[\"BsmtFullBath\"] + 0.5*train[\"BsmtHalfBath\"]\n",
    "\n",
    "all_data = all_data.drop(\"FullBath\",1)\n",
    "all_data = all_data.drop(\"HalfBath\",1)\n",
    "all_data = all_data.drop(\"BsmtFullBath\",1)\n",
    "all_data = all_data.drop(\"BsmtHalfBath\",1)\n",
    "\n",
    "\n",
    "print(\"all_data dim:\",all_data.shape)"
   ]
  },
  {
   "cell_type": "code",
   "execution_count": 34,
   "metadata": {
    "collapsed": false,
    "deletable": true,
    "editable": true
   },
   "outputs": [
    {
     "name": "stdout",
     "output_type": "stream",
     "text": [
      "('all_data dim: ', (2900, 73))\n"
     ]
    }
   ],
   "source": [
    "\n",
    "# Add the living areas and basement aread to create a new feature TotArea\n",
    "all_data[\"TotArea\"] = all_data[\"GrLivArea\"] + all_data[\"TotalBsmtSF\"]\n",
    "train[\"TotArea\"] = train[\"GrLivArea\"] + train[\"TotalBsmtSF\"]\n",
    "\n",
    "\n",
    "print(\"all_data dim: \",all_data.shape)\n",
    "#print(\"\\nX_test dim: \",X_test.shape)"
   ]
  },
  {
   "cell_type": "markdown",
   "metadata": {
    "deletable": true,
    "editable": true
   },
   "source": [
    "# Take log of the skewed features"
   ]
  },
  {
   "cell_type": "code",
   "execution_count": 35,
   "metadata": {
    "collapsed": false,
    "deletable": true,
    "editable": true
   },
   "outputs": [
    {
     "name": "stdout",
     "output_type": "stream",
     "text": [
      "('all_data dim: ', (2900, 73))\n"
     ]
    }
   ],
   "source": [
    "#Refresh the index of the numerical features\n",
    "numeric_feats = all_data.dtypes[all_data.dtypes != \"object\"].index\n",
    "\n",
    "#Uncomment to calculate the skewness\n",
    "\n",
    "#skewed_feats = train[numeric_feats].apply(lambda x: skew(x.dropna())) #compute skewness\n",
    "\n",
    "#Marco: here i've changed the train[numeric_feats] with all_data[numeric_feats]\n",
    "#because we are working on all_data and train is just a part of it.\n",
    "\n",
    "skewed_feats = all_data[numeric_feats].apply(lambda x: skew(x.dropna())) #compute skewness\n",
    "\n",
    "#exctract the features with skewness higher than 75%\n",
    "skewed_feats = skewed_feats[skewed_feats > 0.1]\n",
    "skewed_feats = skewed_feats.index\n",
    "\n",
    "#log transform skewed numeric features with skewness > 75%:\n",
    "all_data[skewed_feats] = np.log1p(all_data[skewed_feats])\n",
    "\n",
    "train[skewed_feats] = np.log1p(train[skewed_feats])\n",
    "\n",
    "\n",
    "print(\"all_data dim: \",all_data.shape)\n",
    "#print(\"\\nX_test dim: \",X_test.shape)"
   ]
  },
  {
   "cell_type": "markdown",
   "metadata": {
    "deletable": true,
    "editable": true
   },
   "source": [
    "# Drop some features that do not help"
   ]
  },
  {
   "cell_type": "code",
   "execution_count": 36,
   "metadata": {
    "collapsed": false,
    "deletable": true,
    "editable": true
   },
   "outputs": [
    {
     "name": "stdout",
     "output_type": "stream",
     "text": [
      "('all_data dim: ', (2900, 67))\n"
     ]
    }
   ],
   "source": [
    "all_data = all_data.drop(\"BsmtFinType1\",1)\n",
    "all_data = all_data.drop(\"2ndFlrSF\",1)\n",
    "all_data = all_data.drop(\"BedroomAbvGr\",1)\n",
    "\n",
    "all_data = all_data.drop(\"LowQualFinSF\",1)\n",
    "all_data = all_data.drop(\"3SsnPorch\",1)\n",
    "#all_data = all_data.drop(\"PoolArea\",1)\n",
    "\n",
    "#all_data = all_data.drop(\"GrLivArea\",1)\n",
    "#all_data = all_data.drop(\"TotalBsmtSF\",1)\n",
    "all_data = all_data.drop('Condition2',1)\n",
    "\n",
    "print(\"all_data dim: \",all_data.shape)\n",
    "#print(\"\\nX_test dim: \",X_test.shape)"
   ]
  },
  {
   "cell_type": "markdown",
   "metadata": {
    "deletable": true,
    "editable": true
   },
   "source": [
    "# Get dummies and dropna"
   ]
  },
  {
   "cell_type": "code",
   "execution_count": 37,
   "metadata": {
    "collapsed": true,
    "deletable": true,
    "editable": true
   },
   "outputs": [],
   "source": [
    "dummies = pd.get_dummies(all_data)\n",
    "all_data = pd.get_dummies(all_data)\n",
    "\n",
    "#filling NA's with the mean of the column:\n",
    "all_data = all_data.fillna(all_data.median())\n"
   ]
  },
  {
   "cell_type": "markdown",
   "metadata": {
    "deletable": true,
    "editable": true
   },
   "source": [
    "# Create the new X_train and X_test with all the selected features"
   ]
  },
  {
   "cell_type": "code",
   "execution_count": 39,
   "metadata": {
    "collapsed": false,
    "deletable": true,
    "editable": true
   },
   "outputs": [
    {
     "name": "stdout",
     "output_type": "stream",
     "text": [
      "('\\nShape check\\n train.shape: ', (1441, 84))\n",
      "(' X_Train dim: ', (1441, 255))\n",
      "('\\n X_test dim: ', (1459, 254))\n"
     ]
    },
    {
     "name": "stderr",
     "output_type": "stream",
     "text": [
      "/Users/robert/anaconda/lib/python2.7/site-packages/ipykernel/__main__.py:8: SettingWithCopyWarning: \n",
      "A value is trying to be set on a copy of a slice from a DataFrame.\n",
      "Try using .loc[row_indexer,col_indexer] = value instead\n",
      "\n",
      "See the caveats in the documentation: http://pandas.pydata.org/pandas-docs/stable/indexing.html#indexing-view-versus-copy\n"
     ]
    }
   ],
   "source": [
    "# Normalize the features (this does not seem to help: increases error)\n",
    "#all_data = all_data.apply(lambda x: x/np.sqrt(sum(x**2)))\n",
    "\n",
    "#creating matrices for sklearn:\n",
    "X_train = all_data[:train.shape[0]]\n",
    "X_test = all_data[train.shape[0]:]\n",
    "y = train.SalePrice\n",
    "X_train['SalePrice'] = train.SalePrice\n",
    "\n",
    "# save \n",
    "X_train.to_csv(\"../data/X_train_v1.csv\")\n",
    "X_test.to_csv(\"../data/X_test_v1.csv\")\n",
    "\n",
    "print(\"\\nShape check\\n train.shape: \",train.shape)\n",
    "print(\" X_Train dim: \",X_train.shape)\n",
    "print(\"\\n X_test dim: \",X_test.shape)\n"
   ]
  },
  {
   "cell_type": "code",
   "execution_count": 22,
   "metadata": {
    "collapsed": false,
    "deletable": true,
    "editable": true
   },
   "outputs": [
    {
     "ename": "AttributeError",
     "evalue": "'DataFrame' object has no attribute 'Id'",
     "output_type": "error",
     "traceback": [
      "\u001b[0;31m---------------------------------------------------------------------------\u001b[0m",
      "\u001b[0;31mAttributeError\u001b[0m                            Traceback (most recent call last)",
      "\u001b[0;32m<ipython-input-22-90564bef72ef>\u001b[0m in \u001b[0;36m<module>\u001b[0;34m()\u001b[0m\n\u001b[0;32m----> 1\u001b[0;31m \u001b[0mprint\u001b[0m\u001b[1;33m(\u001b[0m\u001b[0mX_train\u001b[0m\u001b[1;33m.\u001b[0m\u001b[0mId\u001b[0m\u001b[1;33m)\u001b[0m\u001b[1;33m\u001b[0m\u001b[0m\n\u001b[0m",
      "\u001b[0;32mC:\\Anaconda_64bit\\lib\\site-packages\\pandas\\core\\generic.py\u001b[0m in \u001b[0;36m__getattr__\u001b[0;34m(self, name)\u001b[0m\n\u001b[1;32m   2742\u001b[0m             \u001b[1;32mif\u001b[0m \u001b[0mname\u001b[0m \u001b[1;32min\u001b[0m \u001b[0mself\u001b[0m\u001b[1;33m.\u001b[0m\u001b[0m_info_axis\u001b[0m\u001b[1;33m:\u001b[0m\u001b[1;33m\u001b[0m\u001b[0m\n\u001b[1;32m   2743\u001b[0m                 \u001b[1;32mreturn\u001b[0m \u001b[0mself\u001b[0m\u001b[1;33m[\u001b[0m\u001b[0mname\u001b[0m\u001b[1;33m]\u001b[0m\u001b[1;33m\u001b[0m\u001b[0m\n\u001b[0;32m-> 2744\u001b[0;31m             \u001b[1;32mreturn\u001b[0m \u001b[0mobject\u001b[0m\u001b[1;33m.\u001b[0m\u001b[0m__getattribute__\u001b[0m\u001b[1;33m(\u001b[0m\u001b[0mself\u001b[0m\u001b[1;33m,\u001b[0m \u001b[0mname\u001b[0m\u001b[1;33m)\u001b[0m\u001b[1;33m\u001b[0m\u001b[0m\n\u001b[0m\u001b[1;32m   2745\u001b[0m \u001b[1;33m\u001b[0m\u001b[0m\n\u001b[1;32m   2746\u001b[0m     \u001b[1;32mdef\u001b[0m \u001b[0m__setattr__\u001b[0m\u001b[1;33m(\u001b[0m\u001b[0mself\u001b[0m\u001b[1;33m,\u001b[0m \u001b[0mname\u001b[0m\u001b[1;33m,\u001b[0m \u001b[0mvalue\u001b[0m\u001b[1;33m)\u001b[0m\u001b[1;33m:\u001b[0m\u001b[1;33m\u001b[0m\u001b[0m\n",
      "\u001b[0;31mAttributeError\u001b[0m: 'DataFrame' object has no attribute 'Id'"
     ]
    }
   ],
   "source": [
    "print(X_train.Id)"
   ]
  },
  {
   "cell_type": "markdown",
   "metadata": {
    "collapsed": false,
    "deletable": true,
    "editable": true
   },
   "source": [
    "# Poste feature analysis\n"
   ]
  },
  {
   "cell_type": "code",
   "execution_count": null,
   "metadata": {
    "collapsed": false,
    "deletable": true,
    "editable": true
   },
   "outputs": [],
   "source": [
    "#Marco: [ON GOING]the analysis of the correlation between the new feature (from get_dummies) and the sale price \n",
    "X_check=X_train.assign(SalePrice=train.SalePrice, index=X_train.index)\n",
    "corrmat = X_check.corr()\n",
    "#Correlation matrix with Log of Sale Price\n",
    "k = 10 #number of variables for heatmap\n",
    "#cols = corrmat.nlargest(k, 'SalePrice')['SalePrice'].index\n",
    "cols = corrmat.nsmallest(k, 'SalePrice')['SalePrice'].index\n",
    "\n",
    "cm = np.corrcoef(X_check[cols].values.T)\n",
    "sns.set(font_scale=1.25)\n",
    "hm = sns.heatmap(cm, cbar=True, annot=True, square=True, fmt='.2f', annot_kws={'size': 10}, yticklabels=cols.values, xticklabels=cols.values)\n",
    "#plt.show()"
   ]
  },
  {
   "cell_type": "code",
   "execution_count": null,
   "metadata": {
    "collapsed": false,
    "deletable": true,
    "editable": true
   },
   "outputs": [],
   "source": [
    "#Marco: 27042017:\n",
    "#Removing the smallest correlated variables give no big advantages in terms of LB score"
   ]
  },
  {
   "cell_type": "markdown",
   "metadata": {
    "deletable": true,
    "editable": true
   },
   "source": [
    "# Fit Model: Ridge (L2 Norm)"
   ]
  },
  {
   "cell_type": "code",
   "execution_count": null,
   "metadata": {
    "collapsed": false,
    "deletable": true,
    "editable": true
   },
   "outputs": [],
   "source": [
    "\n",
    "#first evaluation of the regular linear regression method:\n",
    "#Ridge:\n",
    "model_ridge = Ridge()\n",
    "alphas = [0.05, 0.1, 0.3, 1, 3, 5, 10, 15, 30, 50, 75]\n",
    "cv_ridge = [rmse_cv(Ridge(alpha = alpha)).mean() \n",
    "           for alpha in alphas]\n",
    "    \n",
    "cv_ridge = pd.Series(cv_ridge, index = alphas)\n",
    "cv_ridge.plot(title = \"Validation - Just Do It\")\n",
    "plt.xlabel(\"alpha\")\n",
    "plt.ylabel(\"rmse\")\n",
    "#Marco: added log scale to have a better view of the minimum\n",
    "plt.xscale(\"log\")\n",
    "plt.show()\n",
    "print(\"The min value of Ridge is \",cv_ridge.min())"
   ]
  },
  {
   "cell_type": "code",
   "execution_count": null,
   "metadata": {
    "collapsed": true,
    "deletable": true,
    "editable": true
   },
   "outputs": [],
   "source": [
    "#Choose the best alpha by taking the alpha that give the lowest rmse\n",
    "best_alpha = 8\n",
    "# Now fit Ridge model\n",
    "model_ridge = Ridge(alpha = best_alpha).fit(X_train, y)\n"
   ]
  },
  {
   "cell_type": "markdown",
   "metadata": {
    "deletable": true,
    "editable": true
   },
   "source": [
    "# # Fit Model: Lasso (L1 Norm)"
   ]
  },
  {
   "cell_type": "code",
   "execution_count": null,
   "metadata": {
    "collapsed": true,
    "deletable": true,
    "editable": true
   },
   "outputs": [],
   "source": [
    "#distskew(X_train,\"GrLivArea\")\n",
    "#distskew(X_train,\"TotalBsmtSF\")\n",
    "#distskew(X_train,\"TotArea\")"
   ]
  },
  {
   "cell_type": "code",
   "execution_count": null,
   "metadata": {
    "collapsed": false,
    "deletable": true,
    "editable": true
   },
   "outputs": [],
   "source": [
    "#Lasso:\n",
    "model_lasso = LassoCV(alphas = [1, 0.1, 0.001, 0.0005]).fit(X_train, y)\n",
    "print(\"The min value of Lasso is \",rmse_cv(model_lasso).mean())\n",
    "\n",
    "\n",
    "#Lasso choose performs also feature selection \n",
    "\n",
    "coef = pd.Series(model_lasso.coef_, index = X_train.columns)\n",
    "print(\"Lasso picked \" + str(sum(coef != 0)) + \" variables and eliminated the other \" +  str(sum(coef == 0)) + \" variables\")\n",
    "\n",
    "#Let's look to the most important coefficients:\n",
    "imp_coef = pd.concat([coef.sort_values().head(10),\n",
    "                     coef.sort_values().tail(10)])\n",
    "\n",
    "matplotlib.rcParams['figure.figsize'] = (8.0, 10.0)\n",
    "imp_coef.plot(kind = \"barh\")\n",
    "plt.title(\"Coefficients in the Lasso Model\")  \n",
    "plt.show()  \n",
    "\n",
    "#Also note that unlike the feature importance you'd get from a random forest \n",
    "#these are actual coefficients in your model - so you can say precisely \n",
    "#why the predicted price is what it is. \n",
    "#The only issue here is that we log_transformed both the target \n",
    "#and the numeric features \n",
    "#so the actual magnitudes are a bit hard to interpret.\n",
    "\n",
    "\n",
    "#let's look at the residuals as well:\n",
    "matplotlib.rcParams['figure.figsize'] = (6.0, 6.0)\n",
    "\n",
    "preds_log = pd.DataFrame({\"preds\":model_lasso.predict(X_train), \"true\":y})\n",
    "#let's return to \"original\" value from the log:\n",
    "preds_val = np.expm1(preds_log)\n",
    "\n",
    "#solution = pd.DataFrame({\"id\":test.Id, \"SalePrice\":preds_val})\n",
    "#solution.to_csv(\"MDV_Lasso_v1.csv\", index = False)\n",
    "\n",
    "\n",
    "preds_log[\"residuals\"] = preds_log[\"true\"] - preds_log[\"preds\"]\n",
    "\n",
    "\n",
    "\n",
    "#preds_log.plot(x = \"preds\", y = \"true\",kind = \"scatter\")\n",
    "#plt.title('Log Value ')\n",
    "#plt.show()\n",
    "\n",
    "#\n",
    "#preds_val[\"residuals\"] = preds_val[\"true\"] - preds_val[\"preds\"]\n",
    "#preds_val.plot(x = \"preds\", y = \"residuals\",kind = \"scatter\")\n",
    "#plt.title('Original Value in $')\n",
    "#plt.show()"
   ]
  },
  {
   "cell_type": "markdown",
   "metadata": {
    "deletable": true,
    "editable": true
   },
   "source": [
    "# Fit model: XGBoost"
   ]
  },
  {
   "cell_type": "code",
   "execution_count": null,
   "metadata": {
    "collapsed": false,
    "deletable": true,
    "editable": true
   },
   "outputs": [],
   "source": [
    "#Let's add an xgboost model to our linear model to see \n",
    "#if we can improve our score:\n",
    "\n",
    "#y = preds_log[\"residuals\"]\n",
    "    \n",
    "dtrain = xgb.DMatrix(X_train, label = y)\n",
    "dtest = xgb.DMatrix(X_test)\n",
    "\n",
    "params = {\"max_depth\":2, \"eta\":0.1}\n",
    "model = xgb.cv(params, dtrain,  num_boost_round=500, early_stopping_rounds=100)\n",
    "\n",
    "model.loc[30:,[\"test-rmse-mean\", \"train-rmse-mean\"]].plot()\n",
    "plt.show()\n",
    "\n",
    "#the params were tuned using xgb.cv\n",
    "model_xgb = xgb.XGBRegressor(n_estimators=300, max_depth=2, learning_rate=0.1) \n",
    "model_xgb.fit(X_train, y)"
   ]
  },
  {
   "cell_type": "markdown",
   "metadata": {
    "deletable": true,
    "editable": true
   },
   "source": [
    "# Now fit GLM net model"
   ]
  },
  {
   "cell_type": "code",
   "execution_count": null,
   "metadata": {
    "collapsed": true,
    "deletable": true,
    "editable": true
   },
   "outputs": [],
   "source": [
    "#model_glm = GLM(distr='gaussian')\n",
    "#scaler1 = StandardScaler().fit(X_train)\n",
    "#scaler2 = StandardScaler().fit(X_test)\n",
    "#model_glm.fit(scaler1.transform(X_train), y)"
   ]
  },
  {
   "cell_type": "markdown",
   "metadata": {
    "deletable": true,
    "editable": true
   },
   "source": [
    "# Now combine the models for final prediction"
   ]
  },
  {
   "cell_type": "code",
   "execution_count": null,
   "metadata": {
    "collapsed": false,
    "deletable": true,
    "editable": true
   },
   "outputs": [],
   "source": [
    "from matplotlib import gridspec\n",
    "\n",
    "xgb_preds = np.expm1(model_xgb.predict(X_test))\n",
    "ridge_preds = np.expm1(model_ridge.predict(X_test))\n",
    "lasso_preds = np.expm1(model_lasso.predict(X_test))\n",
    "\n",
    "#Marco: I still don't have the glm available on my Jupyter env\n",
    "#glm_preds = np.expm1(model_glm.predict(scaler2.transform(X_test)))\n",
    "predictions_lasso = pd.DataFrame({\"xgb\":xgb_preds, \"lasso\":lasso_preds})\n",
    "#predictions.plot(x = \"xgb\", y = \"lasso\", kind = \"scatter\")\n",
    "#plt.show()\n",
    "\n",
    "predictions_ridge = pd.DataFrame({\"xgb\":xgb_preds, \"ridge\":ridge_preds})\n",
    "\n",
    "lasso_vs_ridge = pd.DataFrame({\"lasso\":lasso_preds, \"ridge\":ridge_preds})\n",
    "\n",
    "fig = plt.figure()\n",
    "\n",
    "\n",
    "fig.suptitle(\"Prediction check\", fontsize=16)\n",
    "ax = plt.subplot(\"131\")\n",
    "ax.set_title(\"XGB VS Lasso\")\n",
    "ax.scatter(xgb_preds,lasso_preds)\n",
    "\n",
    "#axes = plt.gca()\n",
    "#ax.set_xlim([xmin,xmax])\n",
    "#axes.set_ylim([ymin,ymax])\n",
    "\n",
    "ax = plt.subplot(\"132\")\n",
    "ax.set_title(\"XGB VS Ridge\")\n",
    "ax.scatter(xgb_preds,ridge_preds)\n",
    "ax.autoscale(tight=True)\n",
    "\n",
    "ax = plt.subplot(\"133\")\n",
    "ax.set_title(\"Lasso VS Ridge\")\n",
    "ax.scatter(lasso_preds,ridge_preds,alpha=.1)\n",
    "\n",
    "plt.show()\n",
    "\n",
    "\n",
    "\n",
    "#predictions_ridge = pd.DataFrame({\"xgb\":xgb_preds, \"ridge\":ridge_preds})\n",
    "#predictions.plot(x = \"xgb\", y = \"ridge\", kind = \"scatter\")\n",
    "#plt.show()\n",
    "\n",
    "\n",
    "\n",
    "#Many times it makes sense to take a weighted average of uncorrelated results - this usually imporoves \n",
    "#the score although in this case it doesn't help that much.\n"
   ]
  },
  {
   "cell_type": "code",
   "execution_count": null,
   "metadata": {
    "collapsed": false,
    "deletable": true,
    "editable": true
   },
   "outputs": [],
   "source": [
    "\n",
    "#Marco 1704207: this last step should be performed after the evaluation of the results of Robert's models.\n",
    "#for now it is up to you how to proceed for your feature engineering evaluation. I will use lasso/ridge.\n",
    "\n",
    "\n",
    "#preds = 0.30*lasso_preds + 0.30*ridge_preds + 0.40*xgb_preds\n",
    "preds = 0.60*lasso_preds + 0.40*xgb_preds\n",
    "#preds = lasso_preds\n",
    "#preds = ridge_preds\n",
    "#preds= xgb_preds\n",
    "\n",
    "solution = pd.DataFrame({\"SalePrice\":preds,\"id\":test.Id})\n",
    "\n",
    "#N.B. USE YOUR RELATIVE PATH HERE FOR THE CORRECT OUTPUT:\n",
    "#Obaidur:\n",
    "#solution.to_csv(\"D:/acads/ds/kaggle/house-price/my_solution_eight.csv\", index = False)\n",
    "#Marco\n",
    "#solution.to_csv(\"C:\\\\Users\\Marco Di Vivo\\\\Documents\\\\Marco\\\\MachineLearning\\\\0_Kaggle\\\\1_HousePrediction\\\\Ridge_270417.csv\", index = False)\n",
    "#Ayush:\n",
    "#solution.to_csv(\"C:/Users/Aoos/Documents/Projects/HousePrice/Solution/solution1.csv\", index = False)"
   ]
  },
  {
   "cell_type": "markdown",
   "metadata": {
    "deletable": true,
    "editable": true
   },
   "source": [
    "Score Report\n"
   ]
  },
  {
   "cell_type": "code",
   "execution_count": null,
   "metadata": {
    "collapsed": true,
    "deletable": true,
    "editable": true
   },
   "outputs": [],
   "source": [
    "#Marco :\n",
    "#0.60*lasso_preds + 0.40*xgb_preds  we get 0.11997 score on the LB   17/04/2017\n",
    "#only lasso                         we get 0.12049 score on the LB   17/04/2017\n",
    "#only ridge                         we get 0.12365 score on the LB   17/04/2017\n",
    "#20/04/2017 after last update from Ayush:\n",
    "#0.60*lasso_preds + 0.40*xgb_preds  we get 0.11914"
   ]
  }
 ],
 "metadata": {
  "kernelspec": {
   "display_name": "Python 2",
   "language": "python",
   "name": "python2"
  },
  "language_info": {
   "codemirror_mode": {
    "name": "ipython",
    "version": 2
   },
   "file_extension": ".py",
   "mimetype": "text/x-python",
   "name": "python",
   "nbconvert_exporter": "python",
   "pygments_lexer": "ipython2",
   "version": "2.7.13"
  }
 },
 "nbformat": 4,
 "nbformat_minor": 2
}
