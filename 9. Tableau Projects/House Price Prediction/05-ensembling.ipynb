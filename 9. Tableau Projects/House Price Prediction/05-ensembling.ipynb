{
 "cells": [
  {
   "cell_type": "markdown",
   "metadata": {
    "deletable": true,
    "editable": true
   },
   "source": [
    "Ensembling of:\n",
    "- [ ] Linear Regression"
   ]
  },
  {
   "cell_type": "markdown",
   "metadata": {
    "collapsed": true,
    "deletable": true,
    "editable": true
   },
   "source": [
    "# Ensembling"
   ]
  },
  {
   "cell_type": "code",
   "execution_count": 15,
   "metadata": {
    "collapsed": true
   },
   "outputs": [],
   "source": [
    "import pandas as pd\n",
    "import numpy as np\n",
    "import pickle"
   ]
  },
  {
   "cell_type": "code",
   "execution_count": 16,
   "metadata": {
    "collapsed": true
   },
   "outputs": [],
   "source": [
    "train = pd.read_pickle(\"./data/train.pkl\")\n",
    "test = pd.read_pickle(\"./data/test.pkl\")\n",
    "\n",
    "# remove Id and target variable\n",
    "X_train = train[train.columns.values[1:-1]]\n",
    "y_train = train[train.columns.values[-1]]\n",
    "\n",
    "# remove Id\n",
    "X_test = test[test.columns.values[1:]]\n"
   ]
  },
  {
   "cell_type": "markdown",
   "metadata": {},
   "source": [
    "## import models from pickles"
   ]
  },
  {
   "cell_type": "code",
   "execution_count": 17,
   "metadata": {
    "collapsed": true
   },
   "outputs": [],
   "source": [
    "model_gbm = pickle.load(open('./models/model-gbm.pkl', 'rb'))\n",
    "model_rf = pickle.load(open('./models/model-rf.pkl', 'rb'))\n",
    "model_ridge = pickle.load(open('./models/model-ridge.pkl', 'rb'))\n",
    "model_lasso = pickle.load(open('./models/model-lasso.pkl', 'rb'))\n",
    "model_xgb = pickle.load(open('./models/model-xgb.pkl', 'rb'))"
   ]
  },
  {
   "cell_type": "code",
   "execution_count": 18,
   "metadata": {
    "collapsed": false
   },
   "outputs": [
    {
     "data": {
      "text/html": [
       "<div>\n",
       "<table border=\"1\" class=\"dataframe\">\n",
       "  <thead>\n",
       "    <tr style=\"text-align: right;\">\n",
       "      <th></th>\n",
       "      <th>lasso</th>\n",
       "      <th>rf</th>\n",
       "      <th>ridge</th>\n",
       "      <th>xgb</th>\n",
       "    </tr>\n",
       "  </thead>\n",
       "  <tbody>\n",
       "    <tr>\n",
       "      <th>0</th>\n",
       "      <td>119359.354694</td>\n",
       "      <td>126257.883148</td>\n",
       "      <td>118113.146107</td>\n",
       "      <td>120807.914062</td>\n",
       "    </tr>\n",
       "    <tr>\n",
       "      <th>1</th>\n",
       "      <td>152577.904688</td>\n",
       "      <td>155163.050785</td>\n",
       "      <td>152846.170517</td>\n",
       "      <td>156783.328125</td>\n",
       "    </tr>\n",
       "    <tr>\n",
       "      <th>2</th>\n",
       "      <td>180811.052798</td>\n",
       "      <td>178856.917731</td>\n",
       "      <td>181755.350754</td>\n",
       "      <td>184880.078125</td>\n",
       "    </tr>\n",
       "    <tr>\n",
       "      <th>3</th>\n",
       "      <td>197096.208156</td>\n",
       "      <td>179743.707828</td>\n",
       "      <td>197458.445245</td>\n",
       "      <td>190933.578125</td>\n",
       "    </tr>\n",
       "    <tr>\n",
       "      <th>4</th>\n",
       "      <td>201190.778838</td>\n",
       "      <td>196054.954072</td>\n",
       "      <td>198982.910886</td>\n",
       "      <td>187652.609375</td>\n",
       "    </tr>\n",
       "  </tbody>\n",
       "</table>\n",
       "</div>"
      ],
      "text/plain": [
       "           lasso             rf          ridge            xgb\n",
       "0  119359.354694  126257.883148  118113.146107  120807.914062\n",
       "1  152577.904688  155163.050785  152846.170517  156783.328125\n",
       "2  180811.052798  178856.917731  181755.350754  184880.078125\n",
       "3  197096.208156  179743.707828  197458.445245  190933.578125\n",
       "4  201190.778838  196054.954072  198982.910886  187652.609375"
      ]
     },
     "execution_count": 18,
     "metadata": {},
     "output_type": "execute_result"
    }
   ],
   "source": [
    "pred_rd = np.expm1(model_rf.predict(X_test))\n",
    "pred_lasso = np.expm1(model_lasso.predict(X_test))\n",
    "pred_ridge = np.expm1(model_ridge.predict(X_test))\n",
    "pred_xgb = np.expm1(model_xgb.predict(X_test))\n",
    "\n",
    "predictions = pd.DataFrame({\"rf\":pred_rd, \n",
    "                            \"lasso\":pred_lasso, \n",
    "                            \"ridge\":pred_ridge,\n",
    "                            \"xgb\": pred_xgb})\n",
    "# predictions.plot(x = \"rf\", y = \"ridge\", kind = \"scatter\")\n",
    "predictions.head()"
   ]
  },
  {
   "cell_type": "markdown",
   "metadata": {},
   "source": [
    "### random forest + lasso (LB: 2.06308)"
   ]
  },
  {
   "cell_type": "code",
   "execution_count": 19,
   "metadata": {
    "collapsed": false
   },
   "outputs": [
    {
     "data": {
      "text/html": [
       "<div>\n",
       "<table border=\"1\" class=\"dataframe\">\n",
       "  <thead>\n",
       "    <tr style=\"text-align: right;\">\n",
       "      <th></th>\n",
       "      <th>Id</th>\n",
       "      <th>SalePrice</th>\n",
       "    </tr>\n",
       "  </thead>\n",
       "  <tbody>\n",
       "    <tr>\n",
       "      <th>1460</th>\n",
       "      <td>1461</td>\n",
       "      <td>124188.324612</td>\n",
       "    </tr>\n",
       "    <tr>\n",
       "      <th>1461</th>\n",
       "      <td>1462</td>\n",
       "      <td>154387.506956</td>\n",
       "    </tr>\n",
       "    <tr>\n",
       "      <th>1462</th>\n",
       "      <td>1463</td>\n",
       "      <td>179443.158251</td>\n",
       "    </tr>\n",
       "    <tr>\n",
       "      <th>1463</th>\n",
       "      <td>1464</td>\n",
       "      <td>184949.457927</td>\n",
       "    </tr>\n",
       "    <tr>\n",
       "      <th>1464</th>\n",
       "      <td>1465</td>\n",
       "      <td>197595.701502</td>\n",
       "    </tr>\n",
       "  </tbody>\n",
       "</table>\n",
       "</div>"
      ],
      "text/plain": [
       "        Id      SalePrice\n",
       "1460  1461  124188.324612\n",
       "1461  1462  154387.506956\n",
       "1462  1463  179443.158251\n",
       "1463  1464  184949.457927\n",
       "1464  1465  197595.701502"
      ]
     },
     "execution_count": 19,
     "metadata": {},
     "output_type": "execute_result"
    }
   ],
   "source": [
    "pred_ensemble_rf_lasso = 0.7*pred_rd + 0.3*pred_lasso\n",
    "submission = pd.DataFrame({'Id':test['Id'], 'SalePrice':pred_ensemble_rf_lasso})\n",
    "submission.to_csv(\"./output/sub-ensemble_rf_lasso-30_03_2017.csv\", index=False)\n",
    "submission.head()"
   ]
  },
  {
   "cell_type": "markdown",
   "metadata": {},
   "source": [
    "### random forest + ridge (LB: 2.60388)"
   ]
  },
  {
   "cell_type": "code",
   "execution_count": 20,
   "metadata": {
    "collapsed": false
   },
   "outputs": [
    {
     "data": {
      "text/html": [
       "<div>\n",
       "<table border=\"1\" class=\"dataframe\">\n",
       "  <thead>\n",
       "    <tr style=\"text-align: right;\">\n",
       "      <th></th>\n",
       "      <th>Id</th>\n",
       "      <th>SalePrice</th>\n",
       "    </tr>\n",
       "  </thead>\n",
       "  <tbody>\n",
       "    <tr>\n",
       "      <th>1460</th>\n",
       "      <td>1461</td>\n",
       "      <td>123814.462036</td>\n",
       "    </tr>\n",
       "    <tr>\n",
       "      <th>1461</th>\n",
       "      <td>1462</td>\n",
       "      <td>154467.986705</td>\n",
       "    </tr>\n",
       "    <tr>\n",
       "      <th>1462</th>\n",
       "      <td>1463</td>\n",
       "      <td>179726.447638</td>\n",
       "    </tr>\n",
       "    <tr>\n",
       "      <th>1463</th>\n",
       "      <td>1464</td>\n",
       "      <td>185058.129053</td>\n",
       "    </tr>\n",
       "    <tr>\n",
       "      <th>1464</th>\n",
       "      <td>1465</td>\n",
       "      <td>196933.341116</td>\n",
       "    </tr>\n",
       "  </tbody>\n",
       "</table>\n",
       "</div>"
      ],
      "text/plain": [
       "        Id      SalePrice\n",
       "1460  1461  123814.462036\n",
       "1461  1462  154467.986705\n",
       "1462  1463  179726.447638\n",
       "1463  1464  185058.129053\n",
       "1464  1465  196933.341116"
      ]
     },
     "execution_count": 20,
     "metadata": {},
     "output_type": "execute_result"
    }
   ],
   "source": [
    "pred_ensemble_rf_ridge = 0.7*pred_rd + 0.3*pred_ridge\n",
    "submission = pd.DataFrame({'Id':test['Id'], 'SalePrice':pred_ensemble_rf_ridge})\n",
    "submission.to_csv(\"./output/sub-ensemble_rf_ridge-30_03_2017.csv\", index=False)\n",
    "submission.head()"
   ]
  },
  {
   "cell_type": "markdown",
   "metadata": {},
   "source": [
    "### random forest + xgb (LB: 0.13264)"
   ]
  },
  {
   "cell_type": "code",
   "execution_count": 21,
   "metadata": {
    "collapsed": false
   },
   "outputs": [
    {
     "data": {
      "text/html": [
       "<div>\n",
       "<table border=\"1\" class=\"dataframe\">\n",
       "  <thead>\n",
       "    <tr style=\"text-align: right;\">\n",
       "      <th></th>\n",
       "      <th>Id</th>\n",
       "      <th>SalePrice</th>\n",
       "    </tr>\n",
       "  </thead>\n",
       "  <tbody>\n",
       "    <tr>\n",
       "      <th>1460</th>\n",
       "      <td>1461</td>\n",
       "      <td>122987.903259</td>\n",
       "    </tr>\n",
       "    <tr>\n",
       "      <th>1461</th>\n",
       "      <td>1462</td>\n",
       "      <td>156135.220314</td>\n",
       "    </tr>\n",
       "    <tr>\n",
       "      <th>1462</th>\n",
       "      <td>1463</td>\n",
       "      <td>182470.821780</td>\n",
       "    </tr>\n",
       "    <tr>\n",
       "      <th>1463</th>\n",
       "      <td>1464</td>\n",
       "      <td>186457.631569</td>\n",
       "    </tr>\n",
       "    <tr>\n",
       "      <th>1464</th>\n",
       "      <td>1465</td>\n",
       "      <td>191013.551941</td>\n",
       "    </tr>\n",
       "  </tbody>\n",
       "</table>\n",
       "</div>"
      ],
      "text/plain": [
       "        Id      SalePrice\n",
       "1460  1461  122987.903259\n",
       "1461  1462  156135.220314\n",
       "1462  1463  182470.821780\n",
       "1463  1464  186457.631569\n",
       "1464  1465  191013.551941"
      ]
     },
     "execution_count": 21,
     "metadata": {},
     "output_type": "execute_result"
    }
   ],
   "source": [
    "pred_ensemble_rf_xgb = 0.4*pred_rd + 0.6*pred_xgb\n",
    "submission = pd.DataFrame({'Id':test['Id'], 'SalePrice':pred_ensemble_rf_xgb})\n",
    "submission.to_csv(\"./output/sub-ensemble_rf_xgb-30_03_2017.csv\", index=False)\n",
    "submission.head()\n"
   ]
  }
 ],
 "metadata": {
  "kernelspec": {
   "display_name": "Python 2",
   "language": "python",
   "name": "python2"
  },
  "language_info": {
   "codemirror_mode": {
    "name": "ipython",
    "version": 2
   },
   "file_extension": ".py",
   "mimetype": "text/x-python",
   "name": "python",
   "nbconvert_exporter": "python",
   "pygments_lexer": "ipython2",
   "version": "2.7.13"
  }
 },
 "nbformat": 4,
 "nbformat_minor": 2
}
