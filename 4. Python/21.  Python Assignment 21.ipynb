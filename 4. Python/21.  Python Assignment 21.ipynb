{
 "cells": [
  {
   "cell_type": "markdown",
   "id": "329088bf",
   "metadata": {},
   "source": [
    "![image](https://user-images.githubusercontent.com/57321948/196933065-4b16c235-f3b9-4391-9cfe-4affcec87c35.png)\n",
    "\n",
    "# Name: Mohammad Wasiq\n",
    "\n",
    "## E-mail: `mohammadwasiq0786@gmail.com`\n",
    "\n",
    "### Python Assignment - 21"
   ]
  },
  {
   "cell_type": "markdown",
   "id": "97fa685c",
   "metadata": {},
   "source": [
    "**Q1 :** Write a Python program to find those numbers which are divisible by 7 and multiple of 5, between 1500 and 2700 (both included)."
   ]
  },
  {
   "cell_type": "code",
   "execution_count": 1,
   "id": "102462bc",
   "metadata": {
    "ExecuteTime": {
     "end_time": "2023-04-03T15:30:26.367857Z",
     "start_time": "2023-04-03T15:30:26.348908Z"
    }
   },
   "outputs": [
    {
     "name": "stdout",
     "output_type": "stream",
     "text": [
      "[1505, 1540, 1575, 1610, 1645, 1680, 1715, 1750, 1785, 1820, 1855, 1890, 1925, 1960, 1995, 2030, 2065, 2100, 2135, 2170, 2205, 2240, 2275, 2310, 2345, 2380, 2415, 2450, 2485, 2520, 2555, 2590, 2625, 2660, 2695]\n"
     ]
    }
   ],
   "source": [
    "a= []\n",
    "for i in range(1500,2701):\n",
    "    if (i%7==0) and (i%5==0):\n",
    "        a.append(i)\n",
    "print(a)"
   ]
  },
  {
   "cell_type": "markdown",
   "id": "84a5e0ae",
   "metadata": {},
   "source": [
    "**Q2 :** Write a Python program that accepts a word from the user and reverse it."
   ]
  },
  {
   "cell_type": "code",
   "execution_count": 2,
   "id": "fb0e64e8",
   "metadata": {
    "ExecuteTime": {
     "end_time": "2023-04-03T15:32:34.317484Z",
     "start_time": "2023-04-03T15:32:31.872536Z"
    }
   },
   "outputs": [
    {
     "name": "stdout",
     "output_type": "stream",
     "text": [
      "Enter a word: Wasiq\n",
      "Reversed word:  qisaW\n"
     ]
    }
   ],
   "source": [
    "word = input(\"Enter a word: \")\n",
    "reversed_word = \"\"\n",
    "\n",
    "for i in range(len(word)-1, -1, -1):\n",
    "    reversed_word += word[i]\n",
    "\n",
    "print(\"Reversed word: \", reversed_word)"
   ]
  },
  {
   "cell_type": "markdown",
   "id": "0478437c",
   "metadata": {},
   "source": [
    "**Q3 :** Write a Python program to calculate a dog's age in dog's years.  Note: For the first two years, a dog year is equal to 10.5 human years. After that, each dog year equals 4 human years."
   ]
  },
  {
   "cell_type": "code",
   "execution_count": 3,
   "id": "d85dff3d",
   "metadata": {
    "ExecuteTime": {
     "end_time": "2023-04-03T15:34:03.411661Z",
     "start_time": "2023-04-03T15:34:00.939669Z"
    }
   },
   "outputs": [
    {
     "name": "stdout",
     "output_type": "stream",
     "text": [
      "Input a dog's age in human years: 5\n",
      "The dog's age in dog's years is 33\n"
     ]
    }
   ],
   "source": [
    "h_age = int(input(\"Input a dog's age in human years: \"))\n",
    "\n",
    "if h_age < 0:\n",
    "    print(\"Age must be positive number.\")\n",
    "    exit()\n",
    "elif h_age <= 2:\n",
    "    d_age = h_age * 10.5\n",
    "else:\n",
    "    d_age = 21 + (h_age - 2) * 4\n",
    "\n",
    "print(\"The dog's age in dog's years is\", d_age)"
   ]
  },
  {
   "cell_type": "markdown",
   "id": "5569f183",
   "metadata": {},
   "source": [
    "**Q4 :** Write a Python program to check a triangle is equilateral, isosceles or scalene"
   ]
  },
  {
   "cell_type": "code",
   "execution_count": 4,
   "id": "80156987",
   "metadata": {
    "ExecuteTime": {
     "end_time": "2023-04-03T15:35:12.005998Z",
     "start_time": "2023-04-03T15:35:06.577806Z"
    }
   },
   "outputs": [
    {
     "name": "stdout",
     "output_type": "stream",
     "text": [
      "Input lengths of the triangle sides: \n",
      "x: 5\n",
      "y: 4\n",
      "z: 5\n",
      "Isosceles triangle\n"
     ]
    }
   ],
   "source": [
    "print(\"Input lengths of the triangle sides: \")\n",
    "x = int(input(\"x: \"))\n",
    "y = int(input(\"y: \"))\n",
    "z = int(input(\"z: \"))\n",
    "\n",
    "if x == y == z:\n",
    "    print(\"Equilateral triangle\")\n",
    "elif x == y or y == z or z == x:\n",
    "    print(\"Isosceles triangle\")\n",
    "else:\n",
    "    print(\"Scalene triangle\")"
   ]
  },
  {
   "cell_type": "markdown",
   "id": "8bcbd98a",
   "metadata": {},
   "source": [
    "**Q5 :** Write a Python program to detect the number of local variables declared in a function. "
   ]
  },
  {
   "cell_type": "code",
   "execution_count": 5,
   "id": "332be81f",
   "metadata": {
    "ExecuteTime": {
     "end_time": "2023-04-03T15:36:37.584451Z",
     "start_time": "2023-04-03T15:36:37.562511Z"
    }
   },
   "outputs": [
    {
     "name": "stdout",
     "output_type": "stream",
     "text": [
      "Python Exercises\n",
      "3\n"
     ]
    }
   ],
   "source": [
    "def abc():\n",
    "    x = 1\n",
    "    y = 2\n",
    "    str1 = \"w3resource\"\n",
    "    print(\"Python Exercises\")\n",
    "    print(abc.__code__.co_nlocals)\n",
    "\n",
    "abc()"
   ]
  },
  {
   "cell_type": "markdown",
   "id": "8efd8f24",
   "metadata": {},
   "source": [
    "**Q6 :** Write a Python program to execute a string containing Python code."
   ]
  },
  {
   "cell_type": "code",
   "execution_count": 6,
   "id": "92950883",
   "metadata": {
    "ExecuteTime": {
     "end_time": "2023-04-03T15:38:07.310686Z",
     "start_time": "2023-04-03T15:38:07.293731Z"
    }
   },
   "outputs": [
    {
     "name": "stdout",
     "output_type": "stream",
     "text": [
      "Mohammad Wasiq\n"
     ]
    }
   ],
   "source": [
    "mycode = 'print(\"Mohammad Wasiq\")'\n",
    "exec(mycode)"
   ]
  },
  {
   "cell_type": "markdown",
   "id": "2a7d0eb5",
   "metadata": {},
   "source": [
    "**Q7 :** Write a Python program to convert a given list of tuples to a list of strings using map function."
   ]
  },
  {
   "cell_type": "code",
   "execution_count": 7,
   "id": "6c3348e4",
   "metadata": {
    "ExecuteTime": {
     "end_time": "2023-04-03T15:38:48.411816Z",
     "start_time": "2023-04-03T15:38:48.387879Z"
    }
   },
   "outputs": [
    {
     "name": "stdout",
     "output_type": "stream",
     "text": [
      "Original list of tuples:\n",
      "[('red', 'pink'), ('white', 'black'), ('orange', 'green')]\n",
      "\n",
      "Convert the said list of tuples to a list of strings:\n",
      "['red pink', 'white black', 'orange green']\n"
     ]
    }
   ],
   "source": [
    "def tuples_to_list_string(lst):\n",
    "    result = list(map(' '.join, lst))\n",
    "    return result\n",
    "\n",
    "colors = [('red', 'pink'), ('white', 'black'), ('orange', 'green')]\n",
    "print(\"Original list of tuples:\")\n",
    "print(colors)\n",
    "print(\"\\nConvert the said list of tuples to a list of strings:\")\n",
    "print(tuples_to_list_string(colors))"
   ]
  },
  {
   "cell_type": "markdown",
   "id": "c6ff1bb1",
   "metadata": {},
   "source": [
    "**Q8 :** Write a Python program to split a given dictionary of lists into list of dictionaries using map function."
   ]
  },
  {
   "cell_type": "code",
   "execution_count": 8,
   "id": "5be9628c",
   "metadata": {
    "ExecuteTime": {
     "end_time": "2023-04-03T15:39:32.149353Z",
     "start_time": "2023-04-03T15:39:32.126415Z"
    }
   },
   "outputs": [
    {
     "name": "stdout",
     "output_type": "stream",
     "text": [
      "Original dictionary of lists:\n",
      "{'a': [1, 2], 'b': [3, 4], 'c': [5, 6]}\n",
      "\n",
      "Split the said dictionary of lists to list of dictionaries:\n",
      "[{'a': 1, 'b': 3, 'c': 5}, {'a': 2, 'b': 4, 'c': 6}]\n"
     ]
    }
   ],
   "source": [
    "def split_dict_to_list_of_dicts(d):\n",
    "    keys = d.keys()\n",
    "    values = d.values()\n",
    "    result = list(map(lambda x: dict(zip(keys, x)), zip(*values)))\n",
    "    return result\n",
    "\n",
    "d = {'a': [1, 2], 'b': [3, 4], 'c': [5, 6]}\n",
    "print(\"Original dictionary of lists:\")\n",
    "print(d)\n",
    "print(\"\\nSplit the said dictionary of lists to list of dictionaries:\")\n",
    "print(split_dict_to_list_of_dicts(d))"
   ]
  },
  {
   "cell_type": "markdown",
   "id": "e090ba32",
   "metadata": {},
   "source": [
    "**Q9 :** Write a Python program to scan a specified directory and identify the sub directories and files."
   ]
  },
  {
   "cell_type": "code",
   "execution_count": 9,
   "id": "d1e7945c",
   "metadata": {
    "ExecuteTime": {
     "end_time": "2023-04-03T15:40:17.898027Z",
     "start_time": "2023-04-03T15:40:17.885059Z"
    }
   },
   "outputs": [],
   "source": [
    "import os\n",
    "\n",
    "def scan_directory(path):\n",
    "    for entry in os.scandir(path):\n",
    "        if entry.is_dir():\n",
    "            print('Directory:', entry.name)\n",
    "        elif entry.is_file():\n",
    "            print('File:', entry.name)\n",
    "\n",
    "path = '/path/to/directory'\n",
    "scan_directory(path)"
   ]
  },
  {
   "cell_type": "markdown",
   "id": "8618be73",
   "metadata": {},
   "source": [
    "**Q10 :** Write a Python program to parse a string representing time and returns the structure time. "
   ]
  },
  {
   "cell_type": "code",
   "execution_count": 10,
   "id": "7a04639f",
   "metadata": {
    "ExecuteTime": {
     "end_time": "2023-04-03T15:41:08.866755Z",
     "start_time": "2023-04-03T15:41:08.852793Z"
    }
   },
   "outputs": [
    {
     "name": "stdout",
     "output_type": "stream",
     "text": [
      "time.struct_time(tm_year=2023, tm_mon=7, tm_mday=14, tm_hour=0, tm_min=0, tm_sec=0, tm_wday=4, tm_yday=195, tm_isdst=-1)\n"
     ]
    }
   ],
   "source": [
    "import time\n",
    "\n",
    "def parse_time(time_string):\n",
    "    return time.strptime(time_string, '%d %B, %Y')\n",
    "\n",
    "time_string = '14 July, 2023'\n",
    "struct_time = parse_time(time_string)\n",
    "print(struct_time)"
   ]
  },
  {
   "cell_type": "markdown",
   "id": "3c13bbf1",
   "metadata": {},
   "source": [
    "**Q11 :** Write a Python code to send some sort of data in the URL's query string."
   ]
  },
  {
   "cell_type": "code",
   "execution_count": 11,
   "id": "dafc4354",
   "metadata": {
    "ExecuteTime": {
     "end_time": "2023-04-03T15:41:57.765466Z",
     "start_time": "2023-04-03T15:41:55.997262Z"
    }
   },
   "outputs": [
    {
     "name": "stdout",
     "output_type": "stream",
     "text": [
      "https://httpbin.org/get?key1=value1&key2=value2\n"
     ]
    }
   ],
   "source": [
    "import requests\n",
    "\n",
    "url = 'https://httpbin.org/get'\n",
    "params = {'key1': 'value1', 'key2': 'value2'}\n",
    "response = requests.get(url, params=params)\n",
    "\n",
    "print(response.url)"
   ]
  },
  {
   "cell_type": "markdown",
   "id": "a7af86a9",
   "metadata": {},
   "source": [
    "**Q12 :** Write a Python code to send a request to a web page, and print the information of headers. Also parse these values and print key-value pairs holding various information. "
   ]
  },
  {
   "cell_type": "code",
   "execution_count": 12,
   "id": "090875b9",
   "metadata": {
    "ExecuteTime": {
     "end_time": "2023-04-03T15:43:02.343439Z",
     "start_time": "2023-04-03T15:43:01.346615Z"
    }
   },
   "outputs": [
    {
     "name": "stdout",
     "output_type": "stream",
     "text": [
      "Headers:\n",
      "Date: Mon, 03 Apr 2023 15:43:01 GMT\n",
      "Expires: -1\n",
      "Cache-Control: private, max-age=0\n",
      "Content-Type: text/html; charset=ISO-8859-1\n",
      "Content-Security-Policy-Report-Only: object-src 'none';base-uri 'self';script-src 'nonce-ZOeUPJrvhsqpCchlf7AVug' 'strict-dynamic' 'report-sample' 'unsafe-eval' 'unsafe-inline' https: http:;report-uri https://csp.withgoogle.com/csp/gws/other-hp\n",
      "P3P: CP=\"This is not a P3P policy! See g.co/p3phelp for more info.\"\n",
      "Content-Encoding: gzip\n",
      "Server: gws\n",
      "X-XSS-Protection: 0\n",
      "X-Frame-Options: SAMEORIGIN\n",
      "Set-Cookie: 1P_JAR=2023-04-03-15; expires=Wed, 03-May-2023 15:43:01 GMT; path=/; domain=.google.com; Secure, AEC=AUEFqZdA6F0HrluRft3rTP5rlTkb0cYGcTzVvoceMUp3dU5-LESnfLAWFQ; expires=Sat, 30-Sep-2023 15:43:01 GMT; path=/; domain=.google.com; Secure; HttpOnly; SameSite=lax, NID=511=NoTkVLeMzLSBS7AMbPSC_b6ps67LWaRrdLmFCUZXwXvqV3U8-9tZlQ_1cMnLTEfUxtgS5eFZ8umwrjEkFNmuXBtlAmcVEV-o7E-Cme8uk5ucduU8oRq1p0YBJbc3mltRiEvVI5EQnJJgl-BIH9jV6eerjK4gkf_zbHF9qFjtbT0; expires=Tue, 03-Oct-2023 15:43:01 GMT; path=/; domain=.google.com; HttpOnly\n",
      "Alt-Svc: h3=\":443\"; ma=2592000,h3-29=\":443\"; ma=2592000\n",
      "Transfer-Encoding: chunked\n",
      "\n",
      "Parsed headers:\n",
      "1P_JAR: 2023-04-03-15\n",
      "AEC: AUEFqZdA6F0HrluRft3rTP5rlTkb0cYGcTzVvoceMUp3dU5-LESnfLAWFQ\n",
      "NID: 511=NoTkVLeMzLSBS7AMbPSC_b6ps67LWaRrdLmFCUZXwXvqV3U8-9tZlQ_1cMnLTEfUxtgS5eFZ8umwrjEkFNmuXBtlAmcVEV-o7E-Cme8uk5ucduU8oRq1p0YBJbc3mltRiEvVI5EQnJJgl-BIH9jV6eerjK4gkf_zbHF9qFjtbT0\n"
     ]
    }
   ],
   "source": [
    "import requests\n",
    "\n",
    "url = 'https://www.google.com'\n",
    "response = requests.get(url)\n",
    "\n",
    "print('Headers:')\n",
    "for key, value in response.headers.items():\n",
    "    print(f'{key}: {value}')\n",
    "\n",
    "print('\\nParsed headers:')\n",
    "parsed_headers = requests.utils.dict_from_cookiejar(response.cookies)\n",
    "for key, value in parsed_headers.items():\n",
    "    print(f'{key}: {value}')"
   ]
  },
  {
   "cell_type": "markdown",
   "id": "600cb6f3",
   "metadata": {},
   "source": [
    "**Q13 :** Write a Python program to write a Python dictionary to a csv file. After writing the CSV file read the CSV file and display the content."
   ]
  },
  {
   "cell_type": "code",
   "execution_count": null,
   "id": "b0c2b1dc",
   "metadata": {},
   "outputs": [],
   "source": [
    "import csv\n",
    "\n",
    "# Define dictionary\n",
    "my_dict = {'name': 'John', 'age': 25, 'city': 'New York'}\n",
    "\n",
    "# Write dictionary to CSV file\n",
    "with open('my_file.csv', mode='w') as file:\n",
    "    writer = csv.DictWriter(file, fieldnames=my_dict.keys())\n",
    "    writer.writeheader()\n",
    "    writer.writerow(my_dict)\n",
    "\n",
    "# Read CSV file and display contents\n",
    "with open('my_file.csv', mode='r') as file:\n",
    "    reader = csv.DictReader(file)\n",
    "    for row in reader:\n",
    "        print(row)"
   ]
  },
  {
   "cell_type": "markdown",
   "id": "c6626c94",
   "metadata": {},
   "source": [
    "**Q14 :** Write a Python program that reads each row of a given csv file and skip the header of the file. Also print the number of rows and the field names. "
   ]
  },
  {
   "cell_type": "code",
   "execution_count": null,
   "id": "21443859",
   "metadata": {},
   "outputs": [],
   "source": [
    "import csv\n",
    "\n",
    "# Open CSV file\n",
    "with open('my_file.csv', mode='r') as file:\n",
    "\n",
    "    # Create CSV reader object\n",
    "    reader = csv.reader(file)\n",
    "\n",
    "    # Skip header row\n",
    "    next(reader)\n",
    "\n",
    "    # Print number of rows\n",
    "    num_rows = sum(1 for row in reader)\n",
    "    print(f'Number of rows: {num_rows}')\n",
    "\n",
    "    # Print field names\n",
    "    field_names = next(csv.reader(open('my_file.csv')))\n",
    "    print(f'Field names: {\", \".join(field_names)}')\n",
    "\n",
    "    # Reset file pointer\n",
    "    file.seek(0)\n",
    "\n",
    "    # Read each row and print its contents\n",
    "    for row in reader:\n",
    "        print(row)"
   ]
  },
  {
   "cell_type": "markdown",
   "id": "c4a2af5e",
   "metadata": {},
   "source": [
    "**Q15 :** Write a Python program to check that a string contains only a certain set of characters (in this case a-z, A-Z and 0-9)"
   ]
  },
  {
   "cell_type": "code",
   "execution_count": 13,
   "id": "459b9b5b",
   "metadata": {
    "ExecuteTime": {
     "end_time": "2023-04-03T15:46:34.137879Z",
     "start_time": "2023-04-03T15:46:34.115935Z"
    }
   },
   "outputs": [
    {
     "name": "stdout",
     "output_type": "stream",
     "text": [
      "True\n",
      "True\n"
     ]
    }
   ],
   "source": [
    "import string\n",
    "\n",
    "def contains_only_alphanumeric_chars(s):\n",
    "    allowed_chars = set(string.ascii_letters + string.digits)\n",
    "    return all(c in allowed_chars for c in s)\n",
    "\n",
    "# Test the function\n",
    "print(contains_only_alphanumeric_chars('Wasiq123'))  # True\n",
    "print(contains_only_alphanumeric_chars('Wasiq'))    # False"
   ]
  }
 ],
 "metadata": {
  "kernelspec": {
   "display_name": "Python 3 (ipykernel)",
   "language": "python",
   "name": "python3"
  },
  "language_info": {
   "codemirror_mode": {
    "name": "ipython",
    "version": 3
   },
   "file_extension": ".py",
   "mimetype": "text/x-python",
   "name": "python",
   "nbconvert_exporter": "python",
   "pygments_lexer": "ipython3",
   "version": "3.9.12"
  },
  "latex_envs": {
   "LaTeX_envs_menu_present": true,
   "autoclose": false,
   "autocomplete": true,
   "bibliofile": "biblio.bib",
   "cite_by": "apalike",
   "current_citInitial": 1,
   "eqLabelWithNumbers": true,
   "eqNumInitial": 1,
   "hotkeys": {
    "equation": "Ctrl-E",
    "itemize": "Ctrl-I"
   },
   "labels_anchors": false,
   "latex_user_defs": false,
   "report_style_numbering": false,
   "user_envs_cfg": false
  },
  "nbTranslate": {
   "displayLangs": [
    "*"
   ],
   "hotkey": "alt-t",
   "langInMainMenu": true,
   "sourceLang": "en",
   "targetLang": "fr",
   "useGoogleTranslate": true
  },
  "toc": {
   "base_numbering": 1,
   "nav_menu": {},
   "number_sections": true,
   "sideBar": true,
   "skip_h1_title": false,
   "title_cell": "Table of Contents",
   "title_sidebar": "Contents",
   "toc_cell": false,
   "toc_position": {},
   "toc_section_display": true,
   "toc_window_display": false
  },
  "varInspector": {
   "cols": {
    "lenName": 16,
    "lenType": 16,
    "lenVar": 40
   },
   "kernels_config": {
    "python": {
     "delete_cmd_postfix": "",
     "delete_cmd_prefix": "del ",
     "library": "var_list.py",
     "varRefreshCmd": "print(var_dic_list())"
    },
    "r": {
     "delete_cmd_postfix": ") ",
     "delete_cmd_prefix": "rm(",
     "library": "var_list.r",
     "varRefreshCmd": "cat(var_dic_list()) "
    }
   },
   "types_to_exclude": [
    "module",
    "function",
    "builtin_function_or_method",
    "instance",
    "_Feature"
   ],
   "window_display": false
  }
 },
 "nbformat": 4,
 "nbformat_minor": 5
}
