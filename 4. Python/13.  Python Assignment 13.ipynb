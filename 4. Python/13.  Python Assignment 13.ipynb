{
 "cells": [
  {
   "cell_type": "markdown",
   "id": "8ea47d8f",
   "metadata": {},
   "source": [
    "![image](https://user-images.githubusercontent.com/57321948/196933065-4b16c235-f3b9-4391-9cfe-4affcec87c35.png)\n",
    "\n",
    "# Name: Mohammad Wasiq\n",
    "\n",
    "## E-mail: `mohammadwasiq0786@gmail.com`\n",
    "\n",
    "### Python Assignment - 13"
   ]
  },
  {
   "cell_type": "markdown",
   "id": "97490df3",
   "metadata": {},
   "source": [
    "**Q1 :** Python – Join Tuples if similar initial element"
   ]
  },
  {
   "cell_type": "code",
   "execution_count": 1,
   "id": "6a8e55a4",
   "metadata": {
    "ExecuteTime": {
     "end_time": "2023-04-03T10:29:57.031676Z",
     "start_time": "2023-04-03T10:29:57.014721Z"
    }
   },
   "outputs": [
    {
     "name": "stdout",
     "output_type": "stream",
     "text": [
      "[(4, 5), (5, 6), (8, 9)]\n"
     ]
    }
   ],
   "source": [
    "test_list = [(4, 5), (4, 6), (4, 7), (5, 6), (5, 7), (8, 9)]\n",
    "res = []\n",
    "temp = []\n",
    "for sub in test_list:\n",
    "    if sub[0] not in temp:\n",
    "        temp.append(sub[0])\n",
    "        res.append(sub)\n",
    "    else:\n",
    "        for ele in res:\n",
    "            if ele[0] == sub[0]:\n",
    "                ele += sub[1:]\n",
    "print(res)"
   ]
  },
  {
   "cell_type": "markdown",
   "id": "6a11a1cf",
   "metadata": {},
   "source": [
    "**Q2 :** Python – Extract digits from Tuple list"
   ]
  },
  {
   "cell_type": "code",
   "execution_count": 2,
   "id": "7c542bc5",
   "metadata": {
    "ExecuteTime": {
     "end_time": "2023-04-03T10:31:06.527942Z",
     "start_time": "2023-04-03T10:31:06.509990Z"
    }
   },
   "outputs": [
    {
     "name": "stdout",
     "output_type": "stream",
     "text": [
      "The list is : [(4, 62), (2, 65), (5, 9), (0, 1)]\n",
      "Unique digits of the set : {0, 1, 2, 4, 5, 6, 9}\n"
     ]
    }
   ],
   "source": [
    "import itertools\n",
    "test_list = [(4, 62), (2, 65), (5, 9), (0, 1)]\n",
    "\n",
    "print(\"The list is : \" + str(test_list))\n",
    "valMap = map(lambda ele: str(ele), itertools.chain.from_iterable(test_list))\n",
    "uniqueDigits = set()\n",
    "for values in valMap:\n",
    "    for digits in values:\n",
    "        uniqueDigits.add(int(digits))\n",
    "\n",
    "print(\"Unique digits of the set : \" + str(uniqueDigits))"
   ]
  },
  {
   "cell_type": "markdown",
   "id": "f1ce72a5",
   "metadata": {},
   "source": [
    "**Q3 :** Python – All pair combinations of 2 tuples"
   ]
  },
  {
   "cell_type": "code",
   "execution_count": 3,
   "id": "5f553182",
   "metadata": {
    "ExecuteTime": {
     "end_time": "2023-04-03T10:32:09.145309Z",
     "start_time": "2023-04-03T10:32:09.136332Z"
    }
   },
   "outputs": [
    {
     "name": "stdout",
     "output_type": "stream",
     "text": [
      "[(1, 'a'), (1, 'b'), (1, 'c'), (2, 'a'), (2, 'b'), (2, 'c'), (3, 'a'), (3, 'b'), (3, 'c')]\n"
     ]
    }
   ],
   "source": [
    "import itertools\n",
    "tuple1 = (1, 2, 3)\n",
    "tuple2 = ('a', 'b', 'c')\n",
    "pair_combinations = list(itertools.product(tuple1, tuple2))\n",
    "print(pair_combinations)"
   ]
  },
  {
   "cell_type": "markdown",
   "id": "f7314663",
   "metadata": {},
   "source": [
    "**Q4 :** Python – Remove Tuples of Length K"
   ]
  },
  {
   "cell_type": "code",
   "execution_count": 4,
   "id": "0a12f0bd",
   "metadata": {
    "ExecuteTime": {
     "end_time": "2023-04-03T10:33:13.067389Z",
     "start_time": "2023-04-03T10:33:13.050434Z"
    }
   },
   "outputs": [
    {
     "name": "stdout",
     "output_type": "stream",
     "text": [
      "[(4, 5), (7, 8, 9), (11, 12)]\n"
     ]
    }
   ],
   "source": [
    "test_list = [(4, 5), (6,), (7, 8, 9), (10,), (11, 12)]\n",
    "K = 1\n",
    "res = [ele for ele in test_list if len(ele) != K]\n",
    "print(res)"
   ]
  },
  {
   "cell_type": "markdown",
   "id": "c1be2867",
   "metadata": {},
   "source": [
    "**Q5 :** Sort a list of tuples by second Item"
   ]
  },
  {
   "cell_type": "code",
   "execution_count": 5,
   "id": "e10dbc5b",
   "metadata": {
    "ExecuteTime": {
     "end_time": "2023-04-03T10:34:25.183762Z",
     "start_time": "2023-04-03T10:34:25.171792Z"
    }
   },
   "outputs": [
    {
     "name": "stdout",
     "output_type": "stream",
     "text": [
      "[('BTechGeeks', 100), ('is', 200), ('Hello', 400), ('this', 500)]\n"
     ]
    }
   ],
   "source": [
    "giventuple = [('Hello', 400), ('this', 500), ('is', 200), ('BTechGeeks', 100)]\n",
    "giventuple.sort(key=lambda elem: elem[1])\n",
    "print(giventuple)"
   ]
  },
  {
   "cell_type": "markdown",
   "id": "97824619",
   "metadata": {},
   "source": [
    "**Q6 :** Python program to Order Tuples using external List"
   ]
  },
  {
   "cell_type": "code",
   "execution_count": 6,
   "id": "8a391e30",
   "metadata": {
    "ExecuteTime": {
     "end_time": "2023-04-03T10:35:04.824500Z",
     "start_time": "2023-04-03T10:35:04.816523Z"
    }
   },
   "outputs": [
    {
     "name": "stdout",
     "output_type": "stream",
     "text": [
      "[('l', 5), ('a', 1), ('k', 2), ('e', 6)]\n"
     ]
    }
   ],
   "source": [
    "tupList = [('l', 5), ('k', 2), ('a', 1), ('e', 6)]\n",
    "sortList = ['l', 'a', 'k', 'e']\n",
    "res = [tup for x in sortList for tup in tupList if tup[0] == x]\n",
    "\n",
    "print(res)"
   ]
  },
  {
   "cell_type": "markdown",
   "id": "2102a12d",
   "metadata": {},
   "source": [
    "**Q7 :** Python – Flatten tuple of List to tuple"
   ]
  },
  {
   "cell_type": "code",
   "execution_count": 8,
   "id": "756916af",
   "metadata": {
    "ExecuteTime": {
     "end_time": "2023-04-03T10:36:53.495847Z",
     "start_time": "2023-04-03T10:36:53.488867Z"
    }
   },
   "outputs": [
    {
     "name": "stdout",
     "output_type": "stream",
     "text": [
      "(1, 2, 3, 4, 5, 6, 7, 8, 9, 10)\n"
     ]
    }
   ],
   "source": [
    "# Sample tuple of lists\n",
    "t = ([1, 2, 3], [4, 5], [6], [7, 8, 9, 10])\n",
    "\n",
    "# Flatten the tuple into a single tuple\n",
    "result = tuple(item for sublist in t for item in sublist)\n",
    "\n",
    "print(result)"
   ]
  },
  {
   "cell_type": "markdown",
   "id": "3756fd92",
   "metadata": {},
   "source": [
    "**Q8 :** Python – Convert Nested Tuple to Custom Key Dictionary"
   ]
  },
  {
   "cell_type": "code",
   "execution_count": 9,
   "id": "85677815",
   "metadata": {
    "ExecuteTime": {
     "end_time": "2023-04-03T10:37:08.223663Z",
     "start_time": "2023-04-03T10:37:08.214688Z"
    }
   },
   "outputs": [
    {
     "name": "stdout",
     "output_type": "stream",
     "text": [
      "{'key1': ['value1'], 'key2': ['value2'], 'key3': ['value3']}\n"
     ]
    }
   ],
   "source": [
    "def convertTuple(tup, di):\n",
    "    for a, b in tup:\n",
    "        di.setdefault(a, []).append(b)\n",
    "    return di\n",
    "\n",
    "tup = (('key1', 'value1'), ('key2', 'value2'), ('key3', 'value3'))\n",
    "dictionary = {}\n",
    "print(convertTuple(tup, dictionary))"
   ]
  },
  {
   "cell_type": "markdown",
   "id": "3dc1232d",
   "metadata": {},
   "source": [
    "**Q9 :** Python Program for Binary Search (Recursive and Iterative)"
   ]
  },
  {
   "cell_type": "code",
   "execution_count": 10,
   "id": "2528f45d",
   "metadata": {
    "ExecuteTime": {
     "end_time": "2023-04-03T10:38:19.099856Z",
     "start_time": "2023-04-03T10:38:19.083900Z"
    }
   },
   "outputs": [
    {
     "name": "stdout",
     "output_type": "stream",
     "text": [
      "Element is present at index 3\n"
     ]
    }
   ],
   "source": [
    "def binary_search(arr, x):\n",
    "    low = 0\n",
    "    high = len(arr) - 1\n",
    "    mid = 0\n",
    "\n",
    "    while low <= high:\n",
    "        mid = (high + low) // 2\n",
    "\n",
    "        if arr[mid] < x:\n",
    "            low = mid + 1\n",
    "\n",
    "        elif arr[mid] > x:\n",
    "            high = mid - 1\n",
    "\n",
    "        else:\n",
    "            return mid\n",
    "\n",
    "    return -1\n",
    "\n",
    "arr = [2, 3, 4, 10, 40]\n",
    "x = 10\n",
    "\n",
    "result = binary_search(arr, x)\n",
    "\n",
    "if result != -1:\n",
    "    print(\"Element is present at index\", str(result))\n",
    "else:\n",
    "    print(\"Element is not present in array\")"
   ]
  },
  {
   "cell_type": "markdown",
   "id": "142cbe9b",
   "metadata": {},
   "source": [
    "**Q10 :** Python Program for Linear Search"
   ]
  },
  {
   "cell_type": "code",
   "execution_count": 11,
   "id": "1e308615",
   "metadata": {
    "ExecuteTime": {
     "end_time": "2023-04-03T10:39:15.199208Z",
     "start_time": "2023-04-03T10:39:15.184246Z"
    }
   },
   "outputs": [
    {
     "name": "stdout",
     "output_type": "stream",
     "text": [
      "Element is present at index 3\n"
     ]
    }
   ],
   "source": [
    "def linear_search(arr, x):\n",
    "    for i in range(len(arr)):\n",
    "        if arr[i] == x:\n",
    "            return i\n",
    "    return -1\n",
    "\n",
    "arr = [2, 3, 4, 10, 40]\n",
    "x = 10\n",
    "\n",
    "result = linear_search(arr, x)\n",
    "\n",
    "if result == -1:\n",
    "    print(\"Element is not present in array\")\n",
    "else:\n",
    "    print(\"Element is present at index\", str(result))"
   ]
  },
  {
   "cell_type": "markdown",
   "id": "48d89ad7",
   "metadata": {},
   "source": [
    "**Q11 :** Python Program for Insertion Sort"
   ]
  },
  {
   "cell_type": "code",
   "execution_count": 12,
   "id": "c1dcf159",
   "metadata": {
    "ExecuteTime": {
     "end_time": "2023-04-03T10:40:10.102994Z",
     "start_time": "2023-04-03T10:40:10.090026Z"
    }
   },
   "outputs": [
    {
     "name": "stdout",
     "output_type": "stream",
     "text": [
      "Sorted array is: [5, 6, 11, 12, 13]\n"
     ]
    }
   ],
   "source": [
    "def insertion_sort(array):\n",
    "    for i in range(1, len(array)):\n",
    "        j = i\n",
    "        while j > 0 and array[j-1] > array[j]:\n",
    "            array[j], array[j-1] = array[j-1], array[j]\n",
    "            j -= 1\n",
    "\n",
    "array = [12, 11, 13, 5, 6]\n",
    "insertion_sort(array)\n",
    "\n",
    "print(\"Sorted array is:\", array)"
   ]
  }
 ],
 "metadata": {
  "kernelspec": {
   "display_name": "Python 3 (ipykernel)",
   "language": "python",
   "name": "python3"
  },
  "language_info": {
   "codemirror_mode": {
    "name": "ipython",
    "version": 3
   },
   "file_extension": ".py",
   "mimetype": "text/x-python",
   "name": "python",
   "nbconvert_exporter": "python",
   "pygments_lexer": "ipython3",
   "version": "3.9.12"
  },
  "latex_envs": {
   "LaTeX_envs_menu_present": true,
   "autoclose": false,
   "autocomplete": true,
   "bibliofile": "biblio.bib",
   "cite_by": "apalike",
   "current_citInitial": 1,
   "eqLabelWithNumbers": true,
   "eqNumInitial": 1,
   "hotkeys": {
    "equation": "Ctrl-E",
    "itemize": "Ctrl-I"
   },
   "labels_anchors": false,
   "latex_user_defs": false,
   "report_style_numbering": false,
   "user_envs_cfg": false
  },
  "nbTranslate": {
   "displayLangs": [
    "*"
   ],
   "hotkey": "alt-t",
   "langInMainMenu": true,
   "sourceLang": "en",
   "targetLang": "fr",
   "useGoogleTranslate": true
  },
  "toc": {
   "base_numbering": 1,
   "nav_menu": {},
   "number_sections": true,
   "sideBar": true,
   "skip_h1_title": false,
   "title_cell": "Table of Contents",
   "title_sidebar": "Contents",
   "toc_cell": false,
   "toc_position": {},
   "toc_section_display": true,
   "toc_window_display": false
  },
  "varInspector": {
   "cols": {
    "lenName": 16,
    "lenType": 16,
    "lenVar": 40
   },
   "kernels_config": {
    "python": {
     "delete_cmd_postfix": "",
     "delete_cmd_prefix": "del ",
     "library": "var_list.py",
     "varRefreshCmd": "print(var_dic_list())"
    },
    "r": {
     "delete_cmd_postfix": ") ",
     "delete_cmd_prefix": "rm(",
     "library": "var_list.r",
     "varRefreshCmd": "cat(var_dic_list()) "
    }
   },
   "types_to_exclude": [
    "module",
    "function",
    "builtin_function_or_method",
    "instance",
    "_Feature"
   ],
   "window_display": false
  }
 },
 "nbformat": 4,
 "nbformat_minor": 5
}
