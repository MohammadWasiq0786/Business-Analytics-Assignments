{
 "cells": [
  {
   "cell_type": "markdown",
   "id": "40e146f7",
   "metadata": {},
   "source": [
    "![image](https://user-images.githubusercontent.com/57321948/196933065-4b16c235-f3b9-4391-9cfe-4affcec87c35.png)\n",
    "\n",
    "# Name: Mohammad Wasiq\n",
    "\n",
    "## E-mail: `mohammadwasiq0786@gmail.com`\n",
    "\n",
    "### Python Assignment - 14"
   ]
  },
  {
   "cell_type": "markdown",
   "id": "c29efb66",
   "metadata": {},
   "source": [
    "**Q1 :** Python Program for Recursive Insertion Sort."
   ]
  },
  {
   "cell_type": "code",
   "execution_count": 4,
   "id": "534dc266",
   "metadata": {
    "ExecuteTime": {
     "end_time": "2023-04-03T10:43:52.591321Z",
     "start_time": "2023-04-03T10:43:52.572372Z"
    }
   },
   "outputs": [
    {
     "name": "stdout",
     "output_type": "stream",
     "text": [
      "Sorted array is:\n",
      "5\n",
      "6\n",
      "11\n",
      "12\n",
      "13\n"
     ]
    }
   ],
   "source": [
    "def insertionSortRecursive(arr,n):\n",
    "    # base case\n",
    "    if n<=1:\n",
    "        return\n",
    "      \n",
    "    # Sort first n-1 elements\n",
    "    insertionSortRecursive(arr,n-1)\n",
    "    '''Insert last element at its correct position\n",
    "        in sorted array.'''\n",
    "    last = arr[n-1]\n",
    "    j = n-2\n",
    "      \n",
    "      # Move elements of arr[0..i-1], that are greater than key, to one position ahead of their current position\n",
    "    while (j>=0 and arr[j]>last):\n",
    "        arr[j+1] = arr[j]\n",
    "        j = j-1\n",
    "  \n",
    "    arr[j+1]=last\n",
    "\n",
    "arr = [12,11,13,5,6]\n",
    "n = len(arr)\n",
    "insertionSortRecursive(arr, n)\n",
    "print (\"Sorted array is:\")\n",
    "for i in range(n):\n",
    "    print (\"%d\" %arr[i])"
   ]
  },
  {
   "cell_type": "markdown",
   "id": "4a1e023a",
   "metadata": {},
   "source": [
    "**Q2 :** Python Program for QuickSort"
   ]
  },
  {
   "cell_type": "code",
   "execution_count": 5,
   "id": "5b0c4f8f",
   "metadata": {
    "ExecuteTime": {
     "end_time": "2023-04-03T10:45:52.708187Z",
     "start_time": "2023-04-03T10:45:52.684253Z"
    }
   },
   "outputs": [
    {
     "name": "stdout",
     "output_type": "stream",
     "text": [
      "Sorted array is:\n",
      "1\n",
      "5\n",
      "7\n",
      "8\n",
      "9\n",
      "10\n"
     ]
    }
   ],
   "source": [
    "def partition(arr,low,high):\n",
    "    i = ( low-1 )         # index of smaller element\n",
    "    pivot = arr[high]     # pivot\n",
    "  \n",
    "    for j in range(low , high):\n",
    "  \n",
    "        # If current element is smaller than or equal to pivot\n",
    "        if   arr[j] <= pivot:\n",
    "          \n",
    "            # increment index of smaller element\n",
    "            i = i+1\n",
    "            arr[i],arr[j] = arr[j],arr[i]\n",
    "  \n",
    "    arr[i+1],arr[high] = arr[high],arr[i+1]\n",
    "    return ( i+1 )\n",
    "  \n",
    "# The main function that implements QuickSort\n",
    "# arr[] --> Array to be sorted,\n",
    "# low  --> Starting index,\n",
    "# high  --> Ending index\n",
    "  \n",
    "# Function to do Quick sort\n",
    "def quickSort(arr,low,high):\n",
    "    if low < high:\n",
    "  \n",
    "        # pi is partitioning index, arr[p] is now at right place\n",
    "        pi = partition(arr,low,high)\n",
    "  \n",
    "        # Separately sort elements before partition and after partition\n",
    "        quickSort(arr, low, pi-1)\n",
    "        quickSort(arr, pi+1, high)\n",
    "  \n",
    "# Driver code to test above\n",
    "arr = [10, 7, 8, 9, 1, 5]\n",
    "n = len(arr)\n",
    "quickSort(arr,0,n-1)\n",
    "print (\"Sorted array is:\")\n",
    "for i in range(n):\n",
    "    print (\"%d\" %arr[i])"
   ]
  },
  {
   "cell_type": "markdown",
   "id": "8478ed5e",
   "metadata": {},
   "source": [
    "**Q3 :** Python Program for Iterative Quick Sort"
   ]
  },
  {
   "cell_type": "code",
   "execution_count": 6,
   "id": "88ac4ea7",
   "metadata": {
    "ExecuteTime": {
     "end_time": "2023-04-03T10:47:31.825868Z",
     "start_time": "2023-04-03T10:47:31.805928Z"
    }
   },
   "outputs": [
    {
     "name": "stdout",
     "output_type": "stream",
     "text": [
      "Sorted array is:\n",
      "1\n",
      "2\n",
      "2\n",
      "3\n",
      "3\n",
      "3\n",
      "4\n",
      "5\n"
     ]
    }
   ],
   "source": [
    " # This function is same in both iterative and recursive\n",
    "def partition(arr,l,h):\n",
    "    i = ( l - 1 )\n",
    "    x = arr[h]\n",
    " \n",
    "    for j in range(l , h):\n",
    "        if   arr[j] <= x:\n",
    " \n",
    "            # increment index of smaller element\n",
    "            i = i+1\n",
    "            arr[i],arr[j] = arr[j],arr[i]\n",
    " \n",
    "    arr[i+1],arr[h] = arr[h],arr[i+1]\n",
    "    return (i+1)\n",
    " \n",
    "# Function to do Quick sort\n",
    "# arr[] --> Array to be sorted,\n",
    "# l  --> Starting index,\n",
    "# h  --> Ending index\n",
    "def quickSortIterative(arr,l,h):\n",
    " \n",
    "    # Create an auxiliary stack\n",
    "    size = h - l + 1\n",
    "    stack = [0] * (size)\n",
    " \n",
    "    # initialize top of stack\n",
    "    top = -1\n",
    " \n",
    "    # push initial values of l and h to stack\n",
    "    top = top + 1\n",
    "    stack[top] = l\n",
    "    top = top + 1\n",
    "    stack[top] = h\n",
    " \n",
    "    # Keep popping from stack while is not empty\n",
    "    while top >= 0:\n",
    " \n",
    "        # Pop h and l\n",
    "        h = stack[top]\n",
    "        top = top - 1\n",
    "        l = stack[top]\n",
    "        top = top - 1\n",
    " \n",
    "        # Set pivot element at its correct position in\n",
    "        # sorted array\n",
    "        p = partition( arr, l, h )\n",
    " \n",
    "        # If there are elements on left side of pivot,\n",
    "        # then push left side to stack\n",
    "        if p-1 > l:\n",
    "            top = top + 1\n",
    "            stack[top] = l\n",
    "            top = top + 1\n",
    "            stack[top] = p - 1\n",
    " \n",
    "        # If there are elements on right side of pivot,\n",
    "        # then push right side to stack\n",
    "        if p+1 < h:\n",
    "            top = top + 1\n",
    "            stack[top] = p + 1\n",
    "            top = top + 1\n",
    "            stack[top] = h\n",
    " \n",
    "# Driver code to test above\n",
    "arr = [4, 3, 5, 2, 1, 3, 2, 3]\n",
    "n = len(arr)\n",
    "quickSortIterative(arr,0,n-1)\n",
    "print (\"Sorted array is:\")\n",
    "for i in range(n):\n",
    "    print (\"%d\" %arr[i])"
   ]
  },
  {
   "cell_type": "markdown",
   "id": "c898dce2",
   "metadata": {},
   "source": [
    "**Q4 :** Python Program for Selection Sort"
   ]
  },
  {
   "cell_type": "code",
   "execution_count": 7,
   "id": "f9ee6d08",
   "metadata": {
    "ExecuteTime": {
     "end_time": "2023-04-03T10:48:31.843224Z",
     "start_time": "2023-04-03T10:48:31.829262Z"
    }
   },
   "outputs": [
    {
     "name": "stdout",
     "output_type": "stream",
     "text": [
      "Sorted array is:\n",
      "[11, 12, 22, 25, 64]\n"
     ]
    }
   ],
   "source": [
    "def selection_sort(arr):\n",
    "    n = len(arr)\n",
    "    for i in range(n):\n",
    "        min_idx = i\n",
    "        for j in range(i+1, n):\n",
    "            if arr[min_idx] > arr[j]:\n",
    "                min_idx = j\n",
    "        arr[i], arr[min_idx] = arr[min_idx], arr[i]\n",
    "    return arr\n",
    "\n",
    "arr = [64, 25, 12, 22, 11]\n",
    "\n",
    "print(\"Sorted array is:\")\n",
    "print(selection_sort(arr))"
   ]
  },
  {
   "cell_type": "markdown",
   "id": "167f4c7e",
   "metadata": {},
   "source": [
    "**Q5 :** Python Program for Bubble Sort"
   ]
  },
  {
   "cell_type": "code",
   "execution_count": 8,
   "id": "8e290121",
   "metadata": {
    "ExecuteTime": {
     "end_time": "2023-04-03T10:49:19.045224Z",
     "start_time": "2023-04-03T10:49:19.024282Z"
    }
   },
   "outputs": [
    {
     "name": "stdout",
     "output_type": "stream",
     "text": [
      "Sorted array is:\n",
      "[11, 12, 22, 25, 34, 64, 90]\n"
     ]
    }
   ],
   "source": [
    "def bubble_sort(arr):\n",
    "    n = len(arr)\n",
    "    for i in range(n):\n",
    "        for j in range(0, n-i-1):\n",
    "            if arr[j] > arr[j+1]:\n",
    "                arr[j], arr[j+1] = arr[j+1], arr[j]\n",
    "    return arr\n",
    "\n",
    "arr = [64, 34, 25, 12, 22, 11, 90]\n",
    "print(\"Sorted array is:\")\n",
    "print(bubble_sort(arr))"
   ]
  },
  {
   "cell_type": "markdown",
   "id": "660fc7d2",
   "metadata": {},
   "source": [
    "**Q6 :** Python Program for Merge Sort"
   ]
  },
  {
   "cell_type": "code",
   "execution_count": 9,
   "id": "dc418b64",
   "metadata": {
    "ExecuteTime": {
     "end_time": "2023-04-03T10:50:18.480883Z",
     "start_time": "2023-04-03T10:50:18.464927Z"
    }
   },
   "outputs": [
    {
     "name": "stdout",
     "output_type": "stream",
     "text": [
      "Sorted array is:\n",
      "[11, 12, 22, 25, 34, 64, 90]\n"
     ]
    }
   ],
   "source": [
    "def merge_sort(arr):\n",
    "    if len(arr) > 1:\n",
    "        mid = len(arr)//2\n",
    "        left_half = arr[:mid]\n",
    "        right_half = arr[mid:]\n",
    "\n",
    "        merge_sort(left_half)\n",
    "        merge_sort(right_half)\n",
    "\n",
    "        i = j = k = 0\n",
    "\n",
    "        while i < len(left_half) and j < len(right_half):\n",
    "            if left_half[i] < right_half[j]:\n",
    "                arr[k] = left_half[i]\n",
    "                i += 1\n",
    "            else:\n",
    "                arr[k] = right_half[j]\n",
    "                j += 1\n",
    "            k += 1\n",
    "\n",
    "        while i < len(left_half):\n",
    "            arr[k] = left_half[i]\n",
    "            i += 1\n",
    "            k += 1\n",
    "\n",
    "        while j < len(right_half):\n",
    "            arr[k] = right_half[j]\n",
    "            j += 1\n",
    "            k += 1\n",
    "\n",
    "    return arr\n",
    "\n",
    "arr = [64, 34, 25, 12, 22, 11, 90]\n",
    "print(\"Sorted array is:\")\n",
    "print(merge_sort(arr))"
   ]
  },
  {
   "cell_type": "markdown",
   "id": "14d075a8",
   "metadata": {},
   "source": [
    "**Q7 :** Python Program for Iterative Merge Sort"
   ]
  },
  {
   "cell_type": "code",
   "execution_count": 10,
   "id": "31a25f2c",
   "metadata": {
    "ExecuteTime": {
     "end_time": "2023-04-03T10:52:28.695342Z",
     "start_time": "2023-04-03T10:52:28.670411Z"
    }
   },
   "outputs": [
    {
     "name": "stdout",
     "output_type": "stream",
     "text": [
      "Sorted array is:\n",
      "[11, 12, 22, 25, 34, 64, 90]\n"
     ]
    }
   ],
   "source": [
    "def merge_sort(arr):\n",
    "    n = len(arr)\n",
    "    curr_size = 1\n",
    "\n",
    "    while curr_size < n - 1:\n",
    "        left = 0\n",
    "        while left < n - 1:\n",
    "            mid = min((left + curr_size - 1), (n - 1))\n",
    "            right = ((2 * curr_size + left - 1, n - 1)[2 * curr_size + left - 1 > n - 1])\n",
    "            merge(arr, left, mid, right)\n",
    "            left += curr_size * 2\n",
    "        curr_size *= 2\n",
    "\n",
    "def merge(arr, l, m, r):\n",
    "    n1 = m - l + 1\n",
    "    n2 = r - m\n",
    "\n",
    "    L = [0] * (n1)\n",
    "    R = [0] * (n2)\n",
    "\n",
    "    for i in range(0, n1):\n",
    "        L[i] = arr[l + i]\n",
    "\n",
    "    for j in range(0, n2):\n",
    "        R[j] = arr[m + 1 + j]\n",
    "\n",
    "    i = j = 0\n",
    "    k = l\n",
    "\n",
    "    while i < n1 and j < n2:\n",
    "        if L[i] > R[j]:\n",
    "            arr[k] = R[j]\n",
    "            j += 1\n",
    "        else:\n",
    "            arr[k] = L[i]\n",
    "            i += 1\n",
    "        k += 1\n",
    "\n",
    "    while i < n1:\n",
    "        arr[k] = L[i]\n",
    "        i += 1\n",
    "        k += 1\n",
    "\n",
    "    while j < n2:\n",
    "        arr[k] = R[j]\n",
    "        j += 1\n",
    "        k += 1\n",
    "\n",
    "arr = [64, 34, 25, 12, 22, 11, 90]\n",
    "print(\"Sorted array is:\")\n",
    "merge_sort(arr)\n",
    "print(arr)"
   ]
  },
  {
   "cell_type": "markdown",
   "id": "07a4c398",
   "metadata": {},
   "source": [
    "**Q8 :** Python Program for Heap Sort"
   ]
  },
  {
   "cell_type": "code",
   "execution_count": 11,
   "id": "166d2977",
   "metadata": {
    "ExecuteTime": {
     "end_time": "2023-04-03T10:53:41.733742Z",
     "start_time": "2023-04-03T10:53:41.715785Z"
    }
   },
   "outputs": [
    {
     "name": "stdout",
     "output_type": "stream",
     "text": [
      "Sorted array is:\n",
      "[11, 12, 22, 25, 34, 64, 90]\n"
     ]
    }
   ],
   "source": [
    "import heapq\n",
    "\n",
    "def heap_sort(arr):\n",
    "    heap = []\n",
    "    for element in arr:\n",
    "        heapq.heappush(heap, element)\n",
    "    ordered = []\n",
    "    while heap:\n",
    "        ordered.append(heapq.heappop(heap))\n",
    "    return ordered\n",
    "\n",
    "arr = [64, 34, 25, 12, 22, 11, 90]\n",
    "print(\"Sorted array is:\")\n",
    "print(heap_sort(arr))"
   ]
  },
  {
   "cell_type": "markdown",
   "id": "2d0862f9",
   "metadata": {},
   "source": [
    "**Q9 :** Python Program for Counting Sort"
   ]
  },
  {
   "cell_type": "code",
   "execution_count": 12,
   "id": "6475ce5a",
   "metadata": {
    "ExecuteTime": {
     "end_time": "2023-04-03T10:54:52.513499Z",
     "start_time": "2023-04-03T10:54:52.502528Z"
    }
   },
   "outputs": [
    {
     "name": "stdout",
     "output_type": "stream",
     "text": [
      "Sorted Array in Ascending Order:\n",
      "[1, 2, 2, 3, 3, 4, 8]\n"
     ]
    }
   ],
   "source": [
    "def counting_sort(array1, max_val):\n",
    "    m = max_val + 1\n",
    "    count = [0] * m\n",
    "    for a in array1:\n",
    "        count[a] += 1\n",
    "    i = 0\n",
    "    for a in range(m):\n",
    "        for c in range(count[a]):\n",
    "            array1[i] = a\n",
    "            i += 1\n",
    "    return array1\n",
    "\n",
    "data = [4, 2, 2, 8, 3, 3, 1]\n",
    "print(\"Sorted Array in Ascending Order:\")\n",
    "print(counting_sort(data,max(data)))"
   ]
  },
  {
   "cell_type": "markdown",
   "id": "901c3315",
   "metadata": {},
   "source": [
    "**Q10 :** Python Program for ShellSort"
   ]
  },
  {
   "cell_type": "code",
   "execution_count": 13,
   "id": "44af4a6a",
   "metadata": {
    "ExecuteTime": {
     "end_time": "2023-04-03T10:55:44.674414Z",
     "start_time": "2023-04-03T10:55:44.648484Z"
    }
   },
   "outputs": [
    {
     "name": "stdout",
     "output_type": "stream",
     "text": [
      "Array before sorting:\n",
      "12\n",
      "34\n",
      "54\n",
      "2\n",
      "3\n",
      "\n",
      "Array after sorting:\n",
      "2\n",
      "3\n",
      "12\n",
      "34\n",
      "54\n"
     ]
    }
   ],
   "source": [
    "def shellSort(arr):\n",
    "    n = len(arr)\n",
    "    gap = n//2\n",
    "    while gap > 0:\n",
    "        for i in range(gap,n):\n",
    "            temp = arr[i]\n",
    "            j = i\n",
    "            while j >= gap and arr[j-gap] >temp:\n",
    "                arr[j] = arr[j-gap]\n",
    "                j -= gap\n",
    "            arr[j] = temp\n",
    "        gap //= 2\n",
    "\n",
    "arr = [12, 34, 54, 2, 3]\n",
    "n = len(arr)\n",
    "print (\"Array before sorting:\")\n",
    "for i in range(n):\n",
    "    print(arr[i]),\n",
    "\n",
    "shellSort(arr)\n",
    "\n",
    "print (\"\\nArray after sorting:\")\n",
    "for i in range(n):\n",
    "    print(arr[i])"
   ]
  }
 ],
 "metadata": {
  "kernelspec": {
   "display_name": "Python 3 (ipykernel)",
   "language": "python",
   "name": "python3"
  },
  "language_info": {
   "codemirror_mode": {
    "name": "ipython",
    "version": 3
   },
   "file_extension": ".py",
   "mimetype": "text/x-python",
   "name": "python",
   "nbconvert_exporter": "python",
   "pygments_lexer": "ipython3",
   "version": "3.9.12"
  },
  "latex_envs": {
   "LaTeX_envs_menu_present": true,
   "autoclose": false,
   "autocomplete": true,
   "bibliofile": "biblio.bib",
   "cite_by": "apalike",
   "current_citInitial": 1,
   "eqLabelWithNumbers": true,
   "eqNumInitial": 1,
   "hotkeys": {
    "equation": "Ctrl-E",
    "itemize": "Ctrl-I"
   },
   "labels_anchors": false,
   "latex_user_defs": false,
   "report_style_numbering": false,
   "user_envs_cfg": false
  },
  "nbTranslate": {
   "displayLangs": [
    "*"
   ],
   "hotkey": "alt-t",
   "langInMainMenu": true,
   "sourceLang": "en",
   "targetLang": "fr",
   "useGoogleTranslate": true
  },
  "toc": {
   "base_numbering": 1,
   "nav_menu": {},
   "number_sections": true,
   "sideBar": true,
   "skip_h1_title": false,
   "title_cell": "Table of Contents",
   "title_sidebar": "Contents",
   "toc_cell": false,
   "toc_position": {},
   "toc_section_display": true,
   "toc_window_display": false
  },
  "varInspector": {
   "cols": {
    "lenName": 16,
    "lenType": 16,
    "lenVar": 40
   },
   "kernels_config": {
    "python": {
     "delete_cmd_postfix": "",
     "delete_cmd_prefix": "del ",
     "library": "var_list.py",
     "varRefreshCmd": "print(var_dic_list())"
    },
    "r": {
     "delete_cmd_postfix": ") ",
     "delete_cmd_prefix": "rm(",
     "library": "var_list.r",
     "varRefreshCmd": "cat(var_dic_list()) "
    }
   },
   "types_to_exclude": [
    "module",
    "function",
    "builtin_function_or_method",
    "instance",
    "_Feature"
   ],
   "window_display": false
  }
 },
 "nbformat": 4,
 "nbformat_minor": 5
}
