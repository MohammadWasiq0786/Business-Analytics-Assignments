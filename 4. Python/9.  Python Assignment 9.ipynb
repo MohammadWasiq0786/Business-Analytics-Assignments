{
 "cells": [
  {
   "cell_type": "markdown",
   "id": "5589ceb8",
   "metadata": {},
   "source": [
    "![image](https://user-images.githubusercontent.com/57321948/196933065-4b16c235-f3b9-4391-9cfe-4affcec87c35.png)\n",
    "\n",
    "# Name: Mohammad Wasiq\n",
    "\n",
    "## E-mail: `mohammadwasiq0786@gmail.com`\n",
    "\n",
    "### Python Assignment - 9"
   ]
  },
  {
   "cell_type": "markdown",
   "id": "9a630332",
   "metadata": {},
   "source": [
    "**Q1 :** Python – Replace multiple words with K"
   ]
  },
  {
   "cell_type": "code",
   "execution_count": 1,
   "id": "17f14fb6",
   "metadata": {
    "ExecuteTime": {
     "end_time": "2023-04-03T06:51:03.384261Z",
     "start_time": "2023-04-03T06:51:03.372290Z"
    }
   },
   "outputs": [
    {
     "name": "stdout",
     "output_type": "stream",
     "text": [
      "K K, I am learning K\n"
     ]
    }
   ],
   "source": [
    "string = \"Hello world, I am learning Python\"\n",
    "words_to_replace = [\"Hello\", \"world\", \"Python\"]\n",
    "new_word = \"K\"\n",
    "\n",
    "for word in words_to_replace:\n",
    "    string = string.replace(word, new_word)\n",
    "\n",
    "print(string)"
   ]
  },
  {
   "cell_type": "markdown",
   "id": "99d2978c",
   "metadata": {},
   "source": [
    "**Q2 :** Python | Permutation of a given string using inbuilt function"
   ]
  },
  {
   "cell_type": "code",
   "execution_count": 2,
   "id": "29592197",
   "metadata": {
    "ExecuteTime": {
     "end_time": "2023-04-03T06:53:01.559726Z",
     "start_time": "2023-04-03T06:53:01.550751Z"
    }
   },
   "outputs": [
    {
     "name": "stdout",
     "output_type": "stream",
     "text": [
      "ABC\n",
      "ACB\n",
      "BAC\n",
      "BCA\n",
      "CAB\n",
      "CBA\n"
     ]
    }
   ],
   "source": [
    "from itertools import permutations\n",
    "\n",
    "string = \"ABC\"\n",
    "\n",
    "for permutation in permutations(string):\n",
    "    print(\"\".join(permutation))"
   ]
  },
  {
   "cell_type": "markdown",
   "id": "d5f1d176",
   "metadata": {},
   "source": [
    "**Q3 :**  Python | Check for URL in a String."
   ]
  },
  {
   "cell_type": "code",
   "execution_count": 3,
   "id": "e5f0aa81",
   "metadata": {
    "ExecuteTime": {
     "end_time": "2023-04-03T06:54:33.687040Z",
     "start_time": "2023-04-03T06:54:33.501743Z"
    }
   },
   "outputs": [
    {
     "name": "stdout",
     "output_type": "stream",
     "text": [
      "Valid URL\n"
     ]
    }
   ],
   "source": [
    "import validators\n",
    "\n",
    "url = \"https://www.ineuron.ai\"\n",
    "\n",
    "if validators.url(url):\n",
    "    print(\"Valid URL\")\n",
    "else:\n",
    "    print(\"Invalid URL\")"
   ]
  },
  {
   "cell_type": "markdown",
   "id": "b6daf217",
   "metadata": {},
   "source": [
    "**Q4 :** Execute a String of Code in Python."
   ]
  },
  {
   "cell_type": "code",
   "execution_count": 4,
   "id": "6aa4719d",
   "metadata": {
    "ExecuteTime": {
     "end_time": "2023-04-03T06:56:13.390869Z",
     "start_time": "2023-04-03T06:56:13.370923Z"
    }
   },
   "outputs": [
    {
     "name": "stdout",
     "output_type": "stream",
     "text": [
      "Mohammad Wasiq\n"
     ]
    }
   ],
   "source": [
    "code = \"print('Mohammad Wasiq')\"\n",
    "exec(code)"
   ]
  },
  {
   "cell_type": "code",
   "execution_count": 5,
   "id": "1b866345",
   "metadata": {
    "ExecuteTime": {
     "end_time": "2023-04-03T06:56:32.395440Z",
     "start_time": "2023-04-03T06:56:32.375493Z"
    }
   },
   "outputs": [
    {
     "name": "stdout",
     "output_type": "stream",
     "text": [
      "11\n"
     ]
    }
   ],
   "source": [
    "code = \"6 + 5\"\n",
    "result = eval(code)\n",
    "print(result)"
   ]
  },
  {
   "cell_type": "markdown",
   "id": "abfb4189",
   "metadata": {},
   "source": [
    "**Q5 :** String slicing in Python to rotate a string."
   ]
  },
  {
   "cell_type": "code",
   "execution_count": 6,
   "id": "0419bd9e",
   "metadata": {
    "ExecuteTime": {
     "end_time": "2023-04-03T06:57:49.791836Z",
     "start_time": "2023-04-03T06:57:49.783864Z"
    }
   },
   "outputs": [
    {
     "name": "stdout",
     "output_type": "stream",
     "text": [
      "Neuroni\n",
      "niNeuro\n"
     ]
    }
   ],
   "source": [
    "string = \"iNeuron\"\n",
    "string_rotated_backwards = string[1:] + string[:1]\n",
    "string_rotated_forward = string[-1:] + string[:-1]\n",
    "\n",
    "print(string_rotated_backwards)\n",
    "print(string_rotated_forward)"
   ]
  },
  {
   "cell_type": "markdown",
   "id": "2716d2a1",
   "metadata": {},
   "source": [
    "**Q6 :** String slicing in Python to check if a string can become empty by recursive deletion"
   ]
  },
  {
   "cell_type": "code",
   "execution_count": 7,
   "id": "9807a338",
   "metadata": {
    "ExecuteTime": {
     "end_time": "2023-04-03T06:59:42.923950Z",
     "start_time": "2023-04-03T06:59:42.912977Z"
    }
   },
   "outputs": [
    {
     "name": "stdout",
     "output_type": "stream",
     "text": [
      "The string can become empty by recursive deletion.\n"
     ]
    }
   ],
   "source": [
    "string = \"wasiqwasiqzainulzainul\"\n",
    "sub_string = \"wasiqzainul\"\n",
    "\n",
    "while sub_string in string:\n",
    "    index = string.index(sub_string)\n",
    "    string = string[:index] + string[index + len(sub_string):]\n",
    "\n",
    "if len(string) == 0:\n",
    "    print(\"The string can become empty by recursive deletion.\")\n",
    "else:\n",
    "    print(\"The string cannot become empty by recursive deletion.\")"
   ]
  },
  {
   "cell_type": "markdown",
   "id": "048fc6e2",
   "metadata": {},
   "source": [
    "**Q7 :** Python Counter| Find all duplicate characters in string."
   ]
  },
  {
   "cell_type": "code",
   "execution_count": 8,
   "id": "90fc51bb",
   "metadata": {
    "ExecuteTime": {
     "end_time": "2023-04-03T07:01:06.864999Z",
     "start_time": "2023-04-03T07:01:06.847048Z"
    }
   },
   "outputs": [
    {
     "name": "stdout",
     "output_type": "stream",
     "text": [
      "m\n",
      "a\n"
     ]
    }
   ],
   "source": [
    "from collections import Counter\n",
    "\n",
    "string = \"mohammadwasiq\"\n",
    "count = Counter(string)\n",
    "\n",
    "for char, freq in count.items():\n",
    "    if freq > 1:\n",
    "        print(char)"
   ]
  },
  {
   "cell_type": "markdown",
   "id": "0dec16b9",
   "metadata": {},
   "source": [
    "**Q8 :** Python – Replace all occurrences of a substring in a string."
   ]
  },
  {
   "cell_type": "code",
   "execution_count": 9,
   "id": "2f30bf01",
   "metadata": {
    "ExecuteTime": {
     "end_time": "2023-04-03T07:02:38.597631Z",
     "start_time": "2023-04-03T07:02:38.578682Z"
    }
   },
   "outputs": [
    {
     "name": "stdout",
     "output_type": "stream",
     "text": [
      "abcdpasha\n"
     ]
    }
   ],
   "source": [
    "input_string = \"zainulpasha\"\n",
    "s1 = \"zainul\"\n",
    "s2 = \"abcd\"\n",
    "input_string = input_string.replace(s1, s2)\n",
    "print(input_string)"
   ]
  },
  {
   "cell_type": "markdown",
   "id": "8fc186d8",
   "metadata": {},
   "source": [
    "**Q9 :** Python – Extract Unique values dictionary values"
   ]
  },
  {
   "cell_type": "code",
   "execution_count": 10,
   "id": "f323df20",
   "metadata": {
    "ExecuteTime": {
     "end_time": "2023-04-03T07:04:04.306835Z",
     "start_time": "2023-04-03T07:04:04.290879Z"
    }
   },
   "outputs": [
    {
     "name": "stdout",
     "output_type": "stream",
     "text": [
      "The unique values list is : [1, 2, 5, 6, 7, 8, 10, 11, 12]\n"
     ]
    }
   ],
   "source": [
    "test_dict = {'gfg' : [5, 6, 7, 8],\n",
    "             'is' : [10, 11, 7, 5],\n",
    "             'best' : [6, 12, 10, 8],\n",
    "             'for' : [1, 2, 5]}\n",
    "  \n",
    "res = list(sorted({ele for val in test_dict.values() for ele in val}))\n",
    "  \n",
    "print(\"The unique values list is : \" + str(res))"
   ]
  },
  {
   "cell_type": "markdown",
   "id": "17ad3829",
   "metadata": {},
   "source": [
    "**Q10 :** Python program to find the sum of all items in a dictionary."
   ]
  },
  {
   "cell_type": "code",
   "execution_count": 11,
   "id": "a456ab7c",
   "metadata": {
    "ExecuteTime": {
     "end_time": "2023-04-03T07:05:06.881698Z",
     "start_time": "2023-04-03T07:05:06.863746Z"
    }
   },
   "outputs": [
    {
     "name": "stdout",
     "output_type": "stream",
     "text": [
      "The sum of all items in dictionary is: 600\n"
     ]
    }
   ],
   "source": [
    "my_dict = {'a': 100, 'b':200, 'c':300}\n",
    "print(\"The sum of all items in dictionary is:\", sum(my_dict.values()))"
   ]
  }
 ],
 "metadata": {
  "kernelspec": {
   "display_name": "Python 3 (ipykernel)",
   "language": "python",
   "name": "python3"
  },
  "language_info": {
   "codemirror_mode": {
    "name": "ipython",
    "version": 3
   },
   "file_extension": ".py",
   "mimetype": "text/x-python",
   "name": "python",
   "nbconvert_exporter": "python",
   "pygments_lexer": "ipython3",
   "version": "3.9.12"
  },
  "latex_envs": {
   "LaTeX_envs_menu_present": true,
   "autoclose": false,
   "autocomplete": true,
   "bibliofile": "biblio.bib",
   "cite_by": "apalike",
   "current_citInitial": 1,
   "eqLabelWithNumbers": true,
   "eqNumInitial": 1,
   "hotkeys": {
    "equation": "Ctrl-E",
    "itemize": "Ctrl-I"
   },
   "labels_anchors": false,
   "latex_user_defs": false,
   "report_style_numbering": false,
   "user_envs_cfg": false
  },
  "nbTranslate": {
   "displayLangs": [
    "*"
   ],
   "hotkey": "alt-t",
   "langInMainMenu": true,
   "sourceLang": "en",
   "targetLang": "fr",
   "useGoogleTranslate": true
  },
  "toc": {
   "base_numbering": 1,
   "nav_menu": {},
   "number_sections": true,
   "sideBar": true,
   "skip_h1_title": false,
   "title_cell": "Table of Contents",
   "title_sidebar": "Contents",
   "toc_cell": false,
   "toc_position": {},
   "toc_section_display": true,
   "toc_window_display": false
  },
  "varInspector": {
   "cols": {
    "lenName": 16,
    "lenType": 16,
    "lenVar": 40
   },
   "kernels_config": {
    "python": {
     "delete_cmd_postfix": "",
     "delete_cmd_prefix": "del ",
     "library": "var_list.py",
     "varRefreshCmd": "print(var_dic_list())"
    },
    "r": {
     "delete_cmd_postfix": ") ",
     "delete_cmd_prefix": "rm(",
     "library": "var_list.r",
     "varRefreshCmd": "cat(var_dic_list()) "
    }
   },
   "types_to_exclude": [
    "module",
    "function",
    "builtin_function_or_method",
    "instance",
    "_Feature"
   ],
   "window_display": false
  }
 },
 "nbformat": 4,
 "nbformat_minor": 5
}
