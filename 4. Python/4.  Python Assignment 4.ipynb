{
 "cells": [
  {
   "cell_type": "markdown",
   "id": "15114382",
   "metadata": {},
   "source": [
    "![image](https://user-images.githubusercontent.com/57321948/196933065-4b16c235-f3b9-4391-9cfe-4affcec87c35.png)\n",
    "\n",
    "# Name: Mohammad Wasiq\n",
    "\n",
    "## E-mail: `mohammadwasiq0786@gmail.com`\n",
    "\n",
    "### Python Assignment - 4"
   ]
  },
  {
   "cell_type": "markdown",
   "id": "26571eed",
   "metadata": {},
   "source": [
    "**Q1 :** Python program to find smallest number in a list."
   ]
  },
  {
   "cell_type": "code",
   "execution_count": 1,
   "id": "da75d137",
   "metadata": {
    "ExecuteTime": {
     "end_time": "2023-04-03T05:39:04.030233Z",
     "start_time": "2023-04-03T05:39:04.015275Z"
    }
   },
   "outputs": [
    {
     "name": "stdout",
     "output_type": "stream",
     "text": [
      "Smallest element is: 4\n"
     ]
    }
   ],
   "source": [
    "l = [10, 20, 4, 45, 99]\n",
    "l.sort()\n",
    "print(\"Smallest element is:\", l[0])"
   ]
  },
  {
   "cell_type": "markdown",
   "id": "31773eeb",
   "metadata": {},
   "source": [
    "**Q2 :** Python program to find largest number in a list."
   ]
  },
  {
   "cell_type": "code",
   "execution_count": 2,
   "id": "bd84deb4",
   "metadata": {
    "ExecuteTime": {
     "end_time": "2023-04-03T05:39:25.266855Z",
     "start_time": "2023-04-03T05:39:25.246906Z"
    }
   },
   "outputs": [
    {
     "name": "stdout",
     "output_type": "stream",
     "text": [
      "Largest element is: 99\n"
     ]
    }
   ],
   "source": [
    "l = [10, 20, 4, 45, 99]\n",
    "l.sort(reverse=True)\n",
    "print(\"Largest element is:\", l[0])"
   ]
  },
  {
   "cell_type": "markdown",
   "id": "58face7f",
   "metadata": {},
   "source": [
    "**Q3 :** Python program to find second largest number in a list."
   ]
  },
  {
   "cell_type": "code",
   "execution_count": 3,
   "id": "d0e19441",
   "metadata": {
    "ExecuteTime": {
     "end_time": "2023-04-03T05:39:47.726447Z",
     "start_time": "2023-04-03T05:39:47.716474Z"
    }
   },
   "outputs": [
    {
     "name": "stdout",
     "output_type": "stream",
     "text": [
      "Second Largest element is: 45\n"
     ]
    }
   ],
   "source": [
    "l = [10, 20, 4, 45, 99]\n",
    "l.sort(reverse=True)\n",
    "print(\"Second Largest element is:\", l[1])"
   ]
  },
  {
   "cell_type": "markdown",
   "id": "804c5dd3",
   "metadata": {},
   "source": [
    "**Q4 :** Python program to find N largest elements from a list."
   ]
  },
  {
   "cell_type": "code",
   "execution_count": 4,
   "id": "9c7f80bf",
   "metadata": {
    "ExecuteTime": {
     "end_time": "2023-04-03T05:40:09.650501Z",
     "start_time": "2023-04-03T05:40:09.640529Z"
    }
   },
   "outputs": [
    {
     "name": "stdout",
     "output_type": "stream",
     "text": [
      "[99, 45, 20]\n"
     ]
    }
   ],
   "source": [
    "def N_maxElements(l,N):\n",
    "    l.sort(reverse=True)\n",
    "    c= l[0:N]\n",
    "    return c\n",
    "\n",
    "l = [10, 20, 4, 45, 99]\n",
    "print(N_maxElements(l,3))"
   ]
  },
  {
   "cell_type": "markdown",
   "id": "35d33fce",
   "metadata": {},
   "source": [
    "**Q5 :** Python program to print even numbers in a list."
   ]
  },
  {
   "cell_type": "code",
   "execution_count": 5,
   "id": "4970ace5",
   "metadata": {
    "ExecuteTime": {
     "end_time": "2023-04-03T05:40:38.769935Z",
     "start_time": "2023-04-03T05:40:38.754975Z"
    }
   },
   "outputs": [
    {
     "name": "stdout",
     "output_type": "stream",
     "text": [
      "10\n",
      "8\n",
      "4\n",
      "66\n"
     ]
    }
   ],
   "source": [
    "l= [10, 8, 4, 45, 66, 93]\n",
    "\n",
    "i=0\n",
    "while (i <len(l)):\n",
    "    if l[i]%2==0:\n",
    "        print(l[i])\n",
    "    i +=1"
   ]
  },
  {
   "cell_type": "markdown",
   "id": "5498af8f",
   "metadata": {},
   "source": [
    "**Q6 :** Python program to print odd numbers in a List."
   ]
  },
  {
   "cell_type": "code",
   "execution_count": 6,
   "id": "1ee5ac48",
   "metadata": {
    "ExecuteTime": {
     "end_time": "2023-04-03T05:41:03.045207Z",
     "start_time": "2023-04-03T05:41:03.036230Z"
    }
   },
   "outputs": [
    {
     "name": "stdout",
     "output_type": "stream",
     "text": [
      "45\n",
      "93\n"
     ]
    }
   ],
   "source": [
    "l = [10, 8, 4, 45, 66, 93]\n",
    "\n",
    "i=0\n",
    "while (i <len(l)):\n",
    "    if l[i]%2!=0:\n",
    "        print(l[i])\n",
    "    i +=1"
   ]
  },
  {
   "cell_type": "markdown",
   "id": "46134fd8",
   "metadata": {},
   "source": [
    "**Q7 :** Python program to print all even numbers in a range"
   ]
  },
  {
   "cell_type": "code",
   "execution_count": 7,
   "id": "672d290f",
   "metadata": {
    "ExecuteTime": {
     "end_time": "2023-04-03T05:41:24.364545Z",
     "start_time": "2023-04-03T05:41:24.345596Z"
    }
   },
   "outputs": [
    {
     "name": "stdout",
     "output_type": "stream",
     "text": [
      "8\n",
      "4\n",
      "66\n"
     ]
    }
   ],
   "source": [
    "l = [10, 8, 4, 45, 66, 93]\n",
    "lower =1\n",
    "upper =5\n",
    "for i in range(lower ,upper):\n",
    "    if l[i]%2==0:\n",
    "        print(l[i])"
   ]
  },
  {
   "cell_type": "markdown",
   "id": "d146c476",
   "metadata": {},
   "source": [
    "**Q8 :** Python program to print all odd numbers in a range."
   ]
  },
  {
   "cell_type": "code",
   "execution_count": 8,
   "id": "705f8ad0",
   "metadata": {
    "ExecuteTime": {
     "end_time": "2023-04-03T05:41:54.284949Z",
     "start_time": "2023-04-03T05:41:54.274979Z"
    }
   },
   "outputs": [
    {
     "name": "stdout",
     "output_type": "stream",
     "text": [
      "67\n",
      "13\n"
     ]
    }
   ],
   "source": [
    "l = [10, 8, 4, 45, 66, 93,33,67,56,88,13]\n",
    "lower = 7\n",
    "upper = len(l)\n",
    "for i in range(lower ,upper):\n",
    "    if l[i]%2!=0:\n",
    "        print(l[i])"
   ]
  },
  {
   "cell_type": "markdown",
   "id": "022f66da",
   "metadata": {},
   "source": [
    "**Q9 :** Python program to print positive numbers in a list."
   ]
  },
  {
   "cell_type": "code",
   "execution_count": 9,
   "id": "e95e1f48",
   "metadata": {
    "ExecuteTime": {
     "end_time": "2023-04-03T05:42:47.830491Z",
     "start_time": "2023-04-03T05:42:47.809542Z"
    }
   },
   "outputs": [
    {
     "name": "stdout",
     "output_type": "stream",
     "text": [
      "10\n",
      "8\n",
      "45\n",
      "93\n"
     ]
    }
   ],
   "source": [
    "l = [10, 8, -4, 45, -66, 93]\n",
    "for i in range(len(l)):\n",
    "    if l[i] > 0:\n",
    "        print(l[i])"
   ]
  },
  {
   "cell_type": "markdown",
   "id": "383ce018",
   "metadata": {},
   "source": [
    "**Q10 :** Python program to print negative numbers in a list."
   ]
  },
  {
   "cell_type": "code",
   "execution_count": 10,
   "id": "81b18e98",
   "metadata": {
    "ExecuteTime": {
     "end_time": "2023-04-03T05:43:12.902550Z",
     "start_time": "2023-04-03T05:43:12.880609Z"
    }
   },
   "outputs": [
    {
     "name": "stdout",
     "output_type": "stream",
     "text": [
      "-4\n",
      "-66\n"
     ]
    }
   ],
   "source": [
    "l = [10, 8, -4, 45, -66, 93]\n",
    "for i in range(len(l)):\n",
    "    if l[i] < 0:\n",
    "        print(l[i])"
   ]
  },
  {
   "cell_type": "markdown",
   "id": "3736b07e",
   "metadata": {},
   "source": [
    "**Q11 :** Python program to print all positive numbers in a range."
   ]
  },
  {
   "cell_type": "code",
   "execution_count": 11,
   "id": "04362f3c",
   "metadata": {
    "ExecuteTime": {
     "end_time": "2023-04-03T05:43:45.687916Z",
     "start_time": "2023-04-03T05:43:45.674950Z"
    }
   },
   "outputs": [
    {
     "name": "stdout",
     "output_type": "stream",
     "text": [
      "8\n",
      "45\n",
      "93\n"
     ]
    }
   ],
   "source": [
    "l= [10, 8, -4, 45, -66, 93]\n",
    "\n",
    "lower= 1\n",
    "upper= len(l)\n",
    "for i in range(lower ,upper):\n",
    "    if l[i]>0:\n",
    "        print(l[i])"
   ]
  }
 ],
 "metadata": {
  "kernelspec": {
   "display_name": "Python 3 (ipykernel)",
   "language": "python",
   "name": "python3"
  },
  "language_info": {
   "codemirror_mode": {
    "name": "ipython",
    "version": 3
   },
   "file_extension": ".py",
   "mimetype": "text/x-python",
   "name": "python",
   "nbconvert_exporter": "python",
   "pygments_lexer": "ipython3",
   "version": "3.9.12"
  },
  "latex_envs": {
   "LaTeX_envs_menu_present": true,
   "autoclose": false,
   "autocomplete": true,
   "bibliofile": "biblio.bib",
   "cite_by": "apalike",
   "current_citInitial": 1,
   "eqLabelWithNumbers": true,
   "eqNumInitial": 1,
   "hotkeys": {
    "equation": "Ctrl-E",
    "itemize": "Ctrl-I"
   },
   "labels_anchors": false,
   "latex_user_defs": false,
   "report_style_numbering": false,
   "user_envs_cfg": false
  },
  "nbTranslate": {
   "displayLangs": [
    "*"
   ],
   "hotkey": "alt-t",
   "langInMainMenu": true,
   "sourceLang": "en",
   "targetLang": "fr",
   "useGoogleTranslate": true
  },
  "toc": {
   "base_numbering": 1,
   "nav_menu": {},
   "number_sections": true,
   "sideBar": true,
   "skip_h1_title": false,
   "title_cell": "Table of Contents",
   "title_sidebar": "Contents",
   "toc_cell": false,
   "toc_position": {},
   "toc_section_display": true,
   "toc_window_display": false
  },
  "varInspector": {
   "cols": {
    "lenName": 16,
    "lenType": 16,
    "lenVar": 40
   },
   "kernels_config": {
    "python": {
     "delete_cmd_postfix": "",
     "delete_cmd_prefix": "del ",
     "library": "var_list.py",
     "varRefreshCmd": "print(var_dic_list())"
    },
    "r": {
     "delete_cmd_postfix": ") ",
     "delete_cmd_prefix": "rm(",
     "library": "var_list.r",
     "varRefreshCmd": "cat(var_dic_list()) "
    }
   },
   "types_to_exclude": [
    "module",
    "function",
    "builtin_function_or_method",
    "instance",
    "_Feature"
   ],
   "window_display": false
  }
 },
 "nbformat": 4,
 "nbformat_minor": 5
}
