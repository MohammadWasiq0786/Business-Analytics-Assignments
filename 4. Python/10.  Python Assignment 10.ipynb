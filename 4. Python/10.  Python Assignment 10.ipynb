{
 "cells": [
  {
   "cell_type": "markdown",
   "id": "e77539af",
   "metadata": {},
   "source": [
    "![image](https://user-images.githubusercontent.com/57321948/196933065-4b16c235-f3b9-4391-9cfe-4affcec87c35.png)\n",
    "\n",
    "# Name: Mohammad Wasiq\n",
    "\n",
    "## E-mail: `mohammadwasiq0786@gmail.com`\n",
    "\n",
    "### Python Assignment - 10"
   ]
  },
  {
   "cell_type": "markdown",
   "id": "35d6edf4",
   "metadata": {},
   "source": [
    "**Q1 :** Python | Ways to remove a key from dictionary\n",
    "\n",
    "* Using the `pop()` method\n",
    "* Using the `del` keyword"
   ]
  },
  {
   "cell_type": "code",
   "execution_count": 1,
   "id": "a9d1b239",
   "metadata": {
    "ExecuteTime": {
     "end_time": "2023-04-03T07:08:32.038019Z",
     "start_time": "2023-04-03T07:08:32.029041Z"
    }
   },
   "outputs": [
    {
     "name": "stdout",
     "output_type": "stream",
     "text": [
      "{'age': 25}\n"
     ]
    }
   ],
   "source": [
    "my_dict = {\"name\": \"John\", \"age\": 25}\n",
    "my_dict.pop(\"name\")\n",
    "print(my_dict)"
   ]
  },
  {
   "cell_type": "code",
   "execution_count": 2,
   "id": "2878d92c",
   "metadata": {
    "ExecuteTime": {
     "end_time": "2023-04-03T07:08:39.034307Z",
     "start_time": "2023-04-03T07:08:39.014361Z"
    }
   },
   "outputs": [
    {
     "name": "stdout",
     "output_type": "stream",
     "text": [
      "{'age': 25}\n"
     ]
    }
   ],
   "source": [
    "my_dict = {\"name\": \"John\", \"age\": 25}\n",
    "del my_dict[\"name\"]\n",
    "print(my_dict)"
   ]
  },
  {
   "cell_type": "markdown",
   "id": "02ea5912",
   "metadata": {},
   "source": [
    "**Q2 :** Ways to sort list of dictionaries by values in Python – Using itemgetter"
   ]
  },
  {
   "cell_type": "code",
   "execution_count": 3,
   "id": "8d69c362",
   "metadata": {
    "ExecuteTime": {
     "end_time": "2023-04-03T07:09:44.652404Z",
     "start_time": "2023-04-03T07:09:44.630464Z"
    }
   },
   "outputs": [
    {
     "name": "stdout",
     "output_type": "stream",
     "text": [
      "[{'name': 'Bob', 'age': 20}, {'name': 'John', 'age': 25}, {'name': 'Jane', 'age': 30}]\n"
     ]
    }
   ],
   "source": [
    "from operator import itemgetter\n",
    "\n",
    "my_list = [{\"name\": \"John\", \"age\": 25}, {\"name\": \"Jane\", \"age\": 30}, {\"name\": \"Bob\", \"age\": 20}]\n",
    "sorted_list = sorted(my_list, key=itemgetter(\"age\"))\n",
    "\n",
    "print(sorted_list)"
   ]
  },
  {
   "cell_type": "markdown",
   "id": "7e91d9ff",
   "metadata": {},
   "source": [
    "**Q3 :** Ways to sort list of dictionaries by values in Python – Using lambda function."
   ]
  },
  {
   "cell_type": "code",
   "execution_count": 4,
   "id": "7bd9fa28",
   "metadata": {
    "ExecuteTime": {
     "end_time": "2023-04-03T07:10:49.887904Z",
     "start_time": "2023-04-03T07:10:49.867957Z"
    }
   },
   "outputs": [
    {
     "name": "stdout",
     "output_type": "stream",
     "text": [
      "[{'name': 'Bob', 'age': 20}, {'name': 'John', 'age': 25}, {'name': 'Jane', 'age': 30}]\n"
     ]
    }
   ],
   "source": [
    "my_list = [{\"name\": \"John\", \"age\": 25}, {\"name\": \"Jane\", \"age\": 30}, {\"name\": \"Bob\", \"age\": 20}]\n",
    "sorted_list = sorted(my_list, key=lambda x: x[\"age\"])\n",
    "\n",
    "print(sorted_list)"
   ]
  },
  {
   "cell_type": "markdown",
   "id": "4c940258",
   "metadata": {},
   "source": [
    "**Q4 :** Python | Merging two Dictionaries"
   ]
  },
  {
   "cell_type": "code",
   "execution_count": 5,
   "id": "ff1f47bb",
   "metadata": {
    "ExecuteTime": {
     "end_time": "2023-04-03T07:12:03.260321Z",
     "start_time": "2023-04-03T07:12:03.251346Z"
    }
   },
   "outputs": [
    {
     "name": "stdout",
     "output_type": "stream",
     "text": [
      "{'a': 1, 'b': 2, 'c': 3, 'd': 4}\n"
     ]
    }
   ],
   "source": [
    "dict1 = {\"a\": 1, \"b\": 2}\n",
    "dict2 = {\"c\": 3, \"d\": 4}\n",
    "\n",
    "dict1.update(dict2)\n",
    "\n",
    "print(dict1)"
   ]
  },
  {
   "cell_type": "markdown",
   "id": "776055c9",
   "metadata": {},
   "source": [
    "**Q5 :** Python – Convert key-values list to flat dictionary."
   ]
  },
  {
   "cell_type": "code",
   "execution_count": 6,
   "id": "6d9d82f1",
   "metadata": {
    "ExecuteTime": {
     "end_time": "2023-04-03T07:13:02.419181Z",
     "start_time": "2023-04-03T07:13:02.411203Z"
    }
   },
   "outputs": [
    {
     "name": "stdout",
     "output_type": "stream",
     "text": [
      "{'a': 1, 'b': 2, 'c': 3}\n"
     ]
    }
   ],
   "source": [
    "key_list = [\"a\", \"b\", \"c\"]\n",
    "value_list = [1, 2, 3]\n",
    "\n",
    "flat_dict = dict(zip(key_list, value_list))\n",
    "\n",
    "print(flat_dict)"
   ]
  },
  {
   "cell_type": "markdown",
   "id": "8241ee57",
   "metadata": {},
   "source": [
    "**Q6 :** Python – Insertion at the beginning in OrderedDict."
   ]
  },
  {
   "cell_type": "code",
   "execution_count": 7,
   "id": "7b304c1b",
   "metadata": {
    "ExecuteTime": {
     "end_time": "2023-04-03T07:13:58.864911Z",
     "start_time": "2023-04-03T07:13:58.846960Z"
    }
   },
   "outputs": [
    {
     "name": "stdout",
     "output_type": "stream",
     "text": [
      "OrderedDict([('d', 4), ('a', 1), ('b', 2), ('c', 3)])\n"
     ]
    }
   ],
   "source": [
    "from collections import OrderedDict\n",
    "\n",
    "my_dict = OrderedDict([('a', 1), ('b', 2), ('c', 3)])\n",
    "\n",
    "my_dict.update({'d': 4})\n",
    "\n",
    "my_dict.move_to_end('d', last=False)\n",
    "\n",
    "print(my_dict)"
   ]
  },
  {
   "cell_type": "markdown",
   "id": "ab2112ab",
   "metadata": {},
   "source": [
    "**Q7 :** Python | Check order of character in string using `OrderedDict()`"
   ]
  },
  {
   "cell_type": "code",
   "execution_count": 8,
   "id": "7c6cc2d6",
   "metadata": {
    "ExecuteTime": {
     "end_time": "2023-04-03T07:15:16.258986Z",
     "start_time": "2023-04-03T07:15:16.236047Z"
    }
   },
   "outputs": [
    {
     "name": "stdout",
     "output_type": "stream",
     "text": [
      "true\n"
     ]
    }
   ],
   "source": [
    "from collections import OrderedDict\n",
    "\n",
    "def check_order(string, pattern):\n",
    "    dict = OrderedDict.fromkeys(string)\n",
    "    ptr = 0\n",
    "    for key,value in dict.items():\n",
    "        if (key == pattern[ptr]):\n",
    "            ptr = ptr + 1\n",
    "        if (ptr == (len(pattern))):\n",
    "            return 'true'\n",
    "    return 'false'\n",
    "\n",
    "string = 'engineers rock'\n",
    "pattern = 'egr'\n",
    "print (check_order(string,pattern))"
   ]
  },
  {
   "cell_type": "markdown",
   "id": "fd4304f6",
   "metadata": {},
   "source": [
    "**Q8 :** Dictionary and counter in Python to find winner of election."
   ]
  },
  {
   "cell_type": "code",
   "execution_count": 9,
   "id": "4fd66553",
   "metadata": {
    "ExecuteTime": {
     "end_time": "2023-04-03T07:16:38.254803Z",
     "start_time": "2023-04-03T07:16:38.239844Z"
    }
   },
   "outputs": [
    {
     "name": "stdout",
     "output_type": "stream",
     "text": [
      "john\n"
     ]
    }
   ],
   "source": [
    "from collections import Counter\n",
    "\n",
    "def winner(input):\n",
    "    votes = Counter(input)\n",
    "    dict = {}\n",
    "    for value in votes.values():\n",
    "        dict[value] = []\n",
    "    for (key,value) in votes.items():\n",
    "        dict[value].append(key)\n",
    "    maxVote = sorted(dict.keys(),reverse=True)[0]\n",
    "    if len(dict[maxVote])>1:\n",
    "        print(sorted(dict[maxVote])[0])\n",
    "    else:\n",
    "        print(dict[maxVote][0])\n",
    "\n",
    "input = ['john','johnny','jackie','johnny','john','jackie','jamie','jamie','john','johnny','jamie','johnny','john']\n",
    "\n",
    "winner(input)"
   ]
  },
  {
   "cell_type": "markdown",
   "id": "21ac3784",
   "metadata": {},
   "source": [
    "**Q9 :** Python – Append Dictionary Keys and Values ( In order ) in dictionary."
   ]
  },
  {
   "cell_type": "code",
   "execution_count": 10,
   "id": "5821124b",
   "metadata": {
    "ExecuteTime": {
     "end_time": "2023-04-03T07:18:18.027306Z",
     "start_time": "2023-04-03T07:18:18.006360Z"
    }
   },
   "outputs": [
    {
     "name": "stdout",
     "output_type": "stream",
     "text": [
      "{'name': 'John', 'age': 25}\n"
     ]
    }
   ],
   "source": [
    "keys = ['name', 'age']\n",
    "values = ['John', 25]\n",
    "\n",
    "my_dict = dict(zip(keys, values))\n",
    "print(my_dict)"
   ]
  },
  {
   "cell_type": "markdown",
   "id": "7537b7fc",
   "metadata": {},
   "source": [
    "**Q10 :** Python | Sort Python Dictionaries by Key or Value"
   ]
  },
  {
   "cell_type": "code",
   "execution_count": 13,
   "id": "05d8a606",
   "metadata": {
    "ExecuteTime": {
     "end_time": "2023-04-03T07:20:08.009042Z",
     "start_time": "2023-04-03T07:20:07.998076Z"
    }
   },
   "outputs": [
    {
     "name": "stdout",
     "output_type": "stream",
     "text": [
      "{'age': 25, 'city': 'New York', 'name': 'John'}\n"
     ]
    }
   ],
   "source": [
    "# Sort dictionary by key\n",
    "my_dict = {'name': 'John', 'age': 25, 'city': 'New York'}\n",
    "sorted_dict = dict(sorted(my_dict.items()))\n",
    "print(sorted_dict)"
   ]
  }
 ],
 "metadata": {
  "kernelspec": {
   "display_name": "Python 3 (ipykernel)",
   "language": "python",
   "name": "python3"
  },
  "language_info": {
   "codemirror_mode": {
    "name": "ipython",
    "version": 3
   },
   "file_extension": ".py",
   "mimetype": "text/x-python",
   "name": "python",
   "nbconvert_exporter": "python",
   "pygments_lexer": "ipython3",
   "version": "3.9.12"
  },
  "latex_envs": {
   "LaTeX_envs_menu_present": true,
   "autoclose": false,
   "autocomplete": true,
   "bibliofile": "biblio.bib",
   "cite_by": "apalike",
   "current_citInitial": 1,
   "eqLabelWithNumbers": true,
   "eqNumInitial": 1,
   "hotkeys": {
    "equation": "Ctrl-E",
    "itemize": "Ctrl-I"
   },
   "labels_anchors": false,
   "latex_user_defs": false,
   "report_style_numbering": false,
   "user_envs_cfg": false
  },
  "nbTranslate": {
   "displayLangs": [
    "*"
   ],
   "hotkey": "alt-t",
   "langInMainMenu": true,
   "sourceLang": "en",
   "targetLang": "fr",
   "useGoogleTranslate": true
  },
  "toc": {
   "base_numbering": 1,
   "nav_menu": {},
   "number_sections": true,
   "sideBar": true,
   "skip_h1_title": false,
   "title_cell": "Table of Contents",
   "title_sidebar": "Contents",
   "toc_cell": false,
   "toc_position": {},
   "toc_section_display": true,
   "toc_window_display": false
  },
  "varInspector": {
   "cols": {
    "lenName": 16,
    "lenType": 16,
    "lenVar": 40
   },
   "kernels_config": {
    "python": {
     "delete_cmd_postfix": "",
     "delete_cmd_prefix": "del ",
     "library": "var_list.py",
     "varRefreshCmd": "print(var_dic_list())"
    },
    "r": {
     "delete_cmd_postfix": ") ",
     "delete_cmd_prefix": "rm(",
     "library": "var_list.r",
     "varRefreshCmd": "cat(var_dic_list()) "
    }
   },
   "types_to_exclude": [
    "module",
    "function",
    "builtin_function_or_method",
    "instance",
    "_Feature"
   ],
   "window_display": false
  }
 },
 "nbformat": 4,
 "nbformat_minor": 5
}
