{
 "cells": [
  {
   "cell_type": "markdown",
   "id": "afbdd28b",
   "metadata": {},
   "source": [
    "![image](https://user-images.githubusercontent.com/57321948/196933065-4b16c235-f3b9-4391-9cfe-4affcec87c35.png)\n",
    "\n",
    "# Name: Mohammad Wasiq\n",
    "\n",
    "## E-mail: `mohammadwasiq0786@gmail.com`\n",
    "\n",
    "### Python Assignment - 17"
   ]
  },
  {
   "cell_type": "markdown",
   "id": "2bf6f283",
   "metadata": {},
   "source": [
    "**Q1 :** Python program to find difference between current time and given time"
   ]
  },
  {
   "cell_type": "code",
   "execution_count": 1,
   "id": "27bb581d",
   "metadata": {
    "ExecuteTime": {
     "end_time": "2023-04-03T11:32:46.472159Z",
     "start_time": "2023-04-03T11:32:46.453210Z"
    }
   },
   "outputs": [
    {
     "name": "stdout",
     "output_type": "stream",
     "text": [
      "2 days, 6:26:17.458197\n"
     ]
    }
   ],
   "source": [
    "from datetime import datetime\n",
    "\n",
    "def time_difference(given_time):\n",
    "    current_time = datetime.now()\n",
    "    difference = current_time - given_time\n",
    "    return difference\n",
    "\n",
    "given_time = datetime(2023, 4, 1, 10, 36, 29)\n",
    "print(time_difference(given_time))"
   ]
  },
  {
   "cell_type": "markdown",
   "id": "89e1daa8",
   "metadata": {},
   "source": [
    "**Q2 :** Python Program to Create a Lap Timer"
   ]
  },
  {
   "cell_type": "code",
   "execution_count": 2,
   "id": "17b4edea",
   "metadata": {
    "ExecuteTime": {
     "end_time": "2023-04-03T11:34:31.560489Z",
     "start_time": "2023-04-03T11:33:33.255439Z"
    }
   },
   "outputs": [
    {
     "name": "stdout",
     "output_type": "stream",
     "text": [
      "Press Enter to start lap 1\n",
      "Lap 1 Time: 3.71 Total Time: 3.71\n",
      "Press Enter to start lap 22\n",
      "Lap 2 Time: 2.96 Total Time: 6.67\n",
      "Press Enter to start lap 34\n",
      "Lap 3 Time: 19.0 Total Time: 25.67\n",
      "Press Enter to start lap 4a\n",
      "Lap 4 Time: 2.86 Total Time: 28.53\n",
      "Press Enter to start lap 51\n",
      "Lap 5 Time: 14.49 Total Time: 43.02\n",
      "Press Enter to start lap 6wasiq\n",
      "Lap 6 Time: 4.6 Total Time: 47.620000000000005\n",
      "\n",
      "Done.\n"
     ]
    }
   ],
   "source": [
    "import time\n",
    "\n",
    "lap_num = 1\n",
    "total_time = 0\n",
    "last_time = time.time()\n",
    "\n",
    "try:\n",
    "    while True:\n",
    "        input(\"Press Enter to start lap \" + str(lap_num))\n",
    "        lap_time = round(time.time() - last_time, 2)\n",
    "        total_time += lap_time\n",
    "        print(\"Lap\", lap_num, \"Time:\", lap_time, \"Total Time:\", total_time)\n",
    "        lap_num += 1\n",
    "        last_time = time.time()\n",
    "except KeyboardInterrupt:\n",
    "    print(\"\\nDone.\")"
   ]
  },
  {
   "cell_type": "markdown",
   "id": "414ab20d",
   "metadata": {},
   "source": [
    "**Q3 :** Convert date string to timestamp in Python"
   ]
  },
  {
   "cell_type": "code",
   "execution_count": 3,
   "id": "2cddeaca",
   "metadata": {
    "ExecuteTime": {
     "end_time": "2023-04-03T11:36:27.279270Z",
     "start_time": "2023-04-03T11:36:27.265306Z"
    }
   },
   "outputs": [
    {
     "name": "stdout",
     "output_type": "stream",
     "text": [
      "1680503400.0\n"
     ]
    }
   ],
   "source": [
    "import datetime\n",
    "\n",
    "date_string = \"2023-04-03 12:00:00\"\n",
    "datetime_object = datetime.datetime.strptime(date_string, '%Y-%m-%d %H:%M:%S')\n",
    "timestamp = datetime_object.timestamp()\n",
    "\n",
    "print(timestamp)"
   ]
  },
  {
   "cell_type": "markdown",
   "id": "047cd370",
   "metadata": {},
   "source": [
    "**Q4 :** How to convert timestamp string to datetime object in Python?"
   ]
  },
  {
   "cell_type": "code",
   "execution_count": 4,
   "id": "ce3111d5",
   "metadata": {
    "ExecuteTime": {
     "end_time": "2023-04-03T11:37:47.203691Z",
     "start_time": "2023-04-03T11:37:47.190726Z"
    }
   },
   "outputs": [
    {
     "name": "stdout",
     "output_type": "stream",
     "text": [
      "2022-04-04 08:10:00\n"
     ]
    }
   ],
   "source": [
    "import datetime\n",
    "\n",
    "timestamp_string = \"1649040000\"\n",
    "timestamp = float(timestamp_string)\n",
    "\n",
    "datetime_object = datetime.datetime.fromtimestamp(timestamp)\n",
    "\n",
    "print(datetime_object)"
   ]
  },
  {
   "cell_type": "markdown",
   "id": "a9c74b5d",
   "metadata": {},
   "source": [
    "**Q5 :** Find number of times every day occurs in a Year"
   ]
  },
  {
   "cell_type": "code",
   "execution_count": 5,
   "id": "0dd4607b",
   "metadata": {
    "ExecuteTime": {
     "end_time": "2023-04-03T11:39:08.253303Z",
     "start_time": "2023-04-03T11:39:03.113226Z"
    }
   },
   "outputs": [
    {
     "name": "stdout",
     "output_type": "stream",
     "text": [
      "Enter Year: 2023\n",
      "Monday : 52\n",
      "Tuesday : 52\n",
      "Wednesday : 52\n",
      "Thursday : 52\n",
      "Friday : 52\n",
      "Saturday : 52\n",
      "Sunday : 53\n"
     ]
    }
   ],
   "source": [
    "import datetime\n",
    "\n",
    "def countDays(year):\n",
    "    days = [0] * 7\n",
    "    for month in range(1,13):\n",
    "        for day in range(1,32):\n",
    "            try:\n",
    "                date = datetime.datetime(year=year, month=month, day=day)\n",
    "                days[date.weekday()] += 1\n",
    "            except ValueError:\n",
    "                pass\n",
    "    return days\n",
    "\n",
    "year = int(input(\"Enter Year: \"))\n",
    "days = [\"Monday\", \"Tuesday\", \"Wednesday\", \"Thursday\", \"Friday\", \"Saturday\", \"Sunday\"]\n",
    "for i in range(len(countDays(year))):\n",
    "    print(days[i], \":\", countDays(year)[i])"
   ]
  },
  {
   "cell_type": "markdown",
   "id": "e3691632",
   "metadata": {},
   "source": [
    "**Q6 :** Python Program to Check if String Contain Only Defined Characters using Regex"
   ]
  },
  {
   "cell_type": "code",
   "execution_count": 6,
   "id": "f6040b3b",
   "metadata": {
    "ExecuteTime": {
     "end_time": "2023-04-03T11:40:06.123092Z",
     "start_time": "2023-04-03T11:40:03.836640Z"
    }
   },
   "outputs": [
    {
     "name": "stdout",
     "output_type": "stream",
     "text": [
      "Enter string: wasiq\n",
      "String is accepted\n"
     ]
    }
   ],
   "source": [
    "import re\n",
    "\n",
    "def check_string(string):\n",
    "    regex = re.compile('[@_!#$%^&*()<>?/\\|}{~:]')\n",
    "    if(regex.search(string) == None):\n",
    "        print(\"String is accepted\")\n",
    "    else:\n",
    "        print(\"String is not accepted.\")\n",
    "\n",
    "string = input(\"Enter string: \")\n",
    "check_string(string)"
   ]
  },
  {
   "cell_type": "markdown",
   "id": "c14a94d7",
   "metadata": {},
   "source": [
    "**Q7 :** Python program to Count Uppercase, Lowercase, special character and numeric values using Regex"
   ]
  },
  {
   "cell_type": "code",
   "execution_count": 8,
   "id": "3dfe57dd",
   "metadata": {
    "ExecuteTime": {
     "end_time": "2023-04-03T11:41:15.375933Z",
     "start_time": "2023-04-03T11:41:13.141955Z"
    }
   },
   "outputs": [
    {
     "name": "stdout",
     "output_type": "stream",
     "text": [
      "Enter string: wasiq\n",
      "Uppercase characters: 0\n",
      "Lowercase characters: 5\n",
      "Special characters: 0\n",
      "Numeric characters: 0\n"
     ]
    }
   ],
   "source": [
    "import re\n",
    "\n",
    "def count_chars(string):\n",
    "    upper = len(re.findall(r'[A-Z]', string))\n",
    "    lower = len(re.findall(r'[a-z]', string))\n",
    "    special = len(re.findall(r'[^A-Za-z0-9]', string))\n",
    "    numeric = len(re.findall(r'[0-9]', string))\n",
    "    \n",
    "    print(\"Uppercase characters:\", upper)\n",
    "    print(\"Lowercase characters:\", lower)\n",
    "    print(\"Special characters:\", special)\n",
    "    print(\"Numeric characters:\", numeric)\n",
    "\n",
    "string = input(\"Enter string: \")\n",
    "count_chars(string)"
   ]
  },
  {
   "cell_type": "markdown",
   "id": "90e87105",
   "metadata": {},
   "source": [
    "**Q8 :** Python Program to find the most occurring number in a string using Regex"
   ]
  },
  {
   "cell_type": "code",
   "execution_count": 10,
   "id": "9243be10",
   "metadata": {
    "ExecuteTime": {
     "end_time": "2023-04-03T11:43:02.746865Z",
     "start_time": "2023-04-03T11:42:35.441720Z"
    }
   },
   "outputs": [
    {
     "name": "stdout",
     "output_type": "stream",
     "text": [
      "Enter string: 12, 23, 45, 65, 55, 12, 12, 23\n",
      "Most occurring number: 12\n"
     ]
    }
   ],
   "source": [
    "import re\n",
    "from collections import Counter\n",
    "\n",
    "def most_occuring_number(string):\n",
    "    numbers = re.findall(r'\\d+', string)\n",
    "    counter = Counter(numbers)\n",
    "    most_common = counter.most_common(1)\n",
    "    \n",
    "    print(\"Most occurring number:\", most_common[0][0])\n",
    "\n",
    "string = input(\"Enter string: \")\n",
    "most_occuring_number(string)"
   ]
  },
  {
   "cell_type": "markdown",
   "id": "47e455a1",
   "metadata": {},
   "source": [
    "**Q9 :** Python Regex to extract maximum numeric value from a string"
   ]
  },
  {
   "cell_type": "code",
   "execution_count": 11,
   "id": "042677ce",
   "metadata": {
    "ExecuteTime": {
     "end_time": "2023-04-03T11:44:15.949841Z",
     "start_time": "2023-04-03T11:44:05.041348Z"
    }
   },
   "outputs": [
    {
     "name": "stdout",
     "output_type": "stream",
     "text": [
      "Enter string: 12, 23, 45, 65, 55, 12, 12, 23\n",
      "Maximum numeric value: 65\n"
     ]
    }
   ],
   "source": [
    "import re\n",
    "\n",
    "def max_numeric_value(string):\n",
    "    numbers = re.findall(r'\\d+', string)\n",
    "    numbers = list(map(int, numbers))\n",
    "    \n",
    "    print(\"Maximum numeric value:\", max(numbers))\n",
    "\n",
    "string = input(\"Enter string: \")\n",
    "max_numeric_value(string)"
   ]
  },
  {
   "cell_type": "markdown",
   "id": "7128a92e",
   "metadata": {},
   "source": [
    "**Q10 :** Python Program to put spaces between words starting with capital letters using Regex"
   ]
  },
  {
   "cell_type": "code",
   "execution_count": 12,
   "id": "7498724a",
   "metadata": {
    "ExecuteTime": {
     "end_time": "2023-04-03T11:45:24.187683Z",
     "start_time": "2023-04-03T11:45:20.027392Z"
    }
   },
   "outputs": [
    {
     "name": "stdout",
     "output_type": "stream",
     "text": [
      "Enter string: Wasiq\n",
      "\n"
     ]
    }
   ],
   "source": [
    "import re\n",
    "\n",
    "def put_spaces(string):\n",
    "    # regex [AZ] [az] * means any line starting with capital letters and many lowercase letters\n",
    "    words = re.findall(r'[AZ][az]*', string)\n",
    "    \n",
    "    # join all words with space\n",
    "    print(' '.join(words))\n",
    "\n",
    "string = input(\"Enter string: \")\n",
    "put_spaces(string)"
   ]
  }
 ],
 "metadata": {
  "kernelspec": {
   "display_name": "Python 3 (ipykernel)",
   "language": "python",
   "name": "python3"
  },
  "language_info": {
   "codemirror_mode": {
    "name": "ipython",
    "version": 3
   },
   "file_extension": ".py",
   "mimetype": "text/x-python",
   "name": "python",
   "nbconvert_exporter": "python",
   "pygments_lexer": "ipython3",
   "version": "3.9.12"
  },
  "latex_envs": {
   "LaTeX_envs_menu_present": true,
   "autoclose": false,
   "autocomplete": true,
   "bibliofile": "biblio.bib",
   "cite_by": "apalike",
   "current_citInitial": 1,
   "eqLabelWithNumbers": true,
   "eqNumInitial": 1,
   "hotkeys": {
    "equation": "Ctrl-E",
    "itemize": "Ctrl-I"
   },
   "labels_anchors": false,
   "latex_user_defs": false,
   "report_style_numbering": false,
   "user_envs_cfg": false
  },
  "nbTranslate": {
   "displayLangs": [
    "*"
   ],
   "hotkey": "alt-t",
   "langInMainMenu": true,
   "sourceLang": "en",
   "targetLang": "fr",
   "useGoogleTranslate": true
  },
  "toc": {
   "base_numbering": 1,
   "nav_menu": {},
   "number_sections": true,
   "sideBar": true,
   "skip_h1_title": false,
   "title_cell": "Table of Contents",
   "title_sidebar": "Contents",
   "toc_cell": false,
   "toc_position": {},
   "toc_section_display": true,
   "toc_window_display": false
  },
  "varInspector": {
   "cols": {
    "lenName": 16,
    "lenType": 16,
    "lenVar": 40
   },
   "kernels_config": {
    "python": {
     "delete_cmd_postfix": "",
     "delete_cmd_prefix": "del ",
     "library": "var_list.py",
     "varRefreshCmd": "print(var_dic_list())"
    },
    "r": {
     "delete_cmd_postfix": ") ",
     "delete_cmd_prefix": "rm(",
     "library": "var_list.r",
     "varRefreshCmd": "cat(var_dic_list()) "
    }
   },
   "types_to_exclude": [
    "module",
    "function",
    "builtin_function_or_method",
    "instance",
    "_Feature"
   ],
   "window_display": false
  }
 },
 "nbformat": 4,
 "nbformat_minor": 5
}
