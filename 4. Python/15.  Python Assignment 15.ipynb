{
 "cells": [
  {
   "cell_type": "markdown",
   "id": "7be54c8d",
   "metadata": {},
   "source": [
    "![image](https://user-images.githubusercontent.com/57321948/196933065-4b16c235-f3b9-4391-9cfe-4affcec87c35.png)\n",
    "\n",
    "# Name: Mohammad Wasiq\n",
    "\n",
    "## E-mail: `mohammadwasiq0786@gmail.com`\n",
    "\n",
    "### Python Assignment - 15"
   ]
  },
  {
   "cell_type": "markdown",
   "id": "ac268b4a",
   "metadata": {},
   "source": [
    "**Q1 :** Python Program for Topological Sorting"
   ]
  },
  {
   "cell_type": "code",
   "execution_count": 1,
   "id": "1a2a2fac",
   "metadata": {
    "ExecuteTime": {
     "end_time": "2023-04-03T10:57:18.437999Z",
     "start_time": "2023-04-03T10:57:18.411068Z"
    }
   },
   "outputs": [
    {
     "name": "stdout",
     "output_type": "stream",
     "text": [
      "Following is a Topological Sort of the given graph\n",
      "[5, 4, 2, 3, 1, 0]\n"
     ]
    }
   ],
   "source": [
    "from collections import defaultdict\n",
    "\n",
    "class Graph:\n",
    "    def __init__(self, vertices):\n",
    "        self.graph = defaultdict(list)\n",
    "        self.V = vertices\n",
    "\n",
    "    def addEdge(self, u, v):\n",
    "        self.graph[u].append(v)\n",
    "\n",
    "    def topologicalSortUtil(self, v, visited, stack):\n",
    "        visited[v] = True\n",
    "        for i in self.graph[v]:\n",
    "            if visited[i] == False:\n",
    "                self.topologicalSortUtil(i, visited, stack)\n",
    "        stack.insert(0, v)\n",
    "\n",
    "    def topologicalSort(self):\n",
    "        visited = [False]*self.V\n",
    "        stack = []\n",
    "        for i in range(self.V):\n",
    "            if visited[i] == False:\n",
    "                self.topologicalSortUtil(i, visited, stack)\n",
    "        print(stack)\n",
    "\n",
    "g = Graph(6)\n",
    "g.addEdge(5, 2);\n",
    "g.addEdge(5, 0);\n",
    "g.addEdge(4, 0);\n",
    "g.addEdge(4, 1);\n",
    "g.addEdge(2, 3);\n",
    "g.addEdge(3, 1);\n",
    "\n",
    "print(\"Following is a Topological Sort of the given graph\")\n",
    "g.topologicalSort()"
   ]
  },
  {
   "cell_type": "markdown",
   "id": "da3fc260",
   "metadata": {},
   "source": [
    "**Q2 :** Python Program for Radix Sort"
   ]
  },
  {
   "cell_type": "code",
   "execution_count": 2,
   "id": "63d42af0",
   "metadata": {
    "ExecuteTime": {
     "end_time": "2023-04-03T10:58:36.879021Z",
     "start_time": "2023-04-03T10:58:36.847106Z"
    }
   },
   "outputs": [
    {
     "name": "stdout",
     "output_type": "stream",
     "text": [
      "2\n",
      "24\n",
      "45\n",
      "66\n",
      "75\n",
      "90\n",
      "170\n",
      "802\n"
     ]
    }
   ],
   "source": [
    "def countingSort(arr, exp1):\n",
    "    n = len(arr)\n",
    "    output = [0] * (n)\n",
    "    count = [0] * (10)\n",
    "\n",
    "    for i in range(0, n):\n",
    "        index = (arr[i]/exp1)\n",
    "        count[int((index)%10)] += 1\n",
    "\n",
    "    for i in range(1,10):\n",
    "        count[i] += count[i-1]\n",
    "\n",
    "    i = n-1\n",
    "    while i>=0:\n",
    "        index = (arr[i]/exp1)\n",
    "        output[ count[ int((index)%10) ] - 1] = arr[i]\n",
    "        count[int((index)%10)] -= 1\n",
    "        i -= 1\n",
    "\n",
    "    i = 0\n",
    "    for i in range(0,len(arr)):\n",
    "        arr[i] = output[i]\n",
    "\n",
    "def radixSort(arr):\n",
    "    max1 = max(arr)\n",
    "    exp = 1\n",
    "    while max1/exp > 0:\n",
    "        countingSort(arr,exp)\n",
    "        exp *= 10\n",
    "\n",
    "arr = [170, 45, 75, 90, 802, 24, 2, 66]\n",
    "radixSort(arr)\n",
    "\n",
    "for i in range(len(arr)):\n",
    "    print(arr[i])"
   ]
  },
  {
   "cell_type": "markdown",
   "id": "7b90e5bc",
   "metadata": {},
   "source": [
    "**Q3 :** Python Program for Binary Insertion Sort"
   ]
  },
  {
   "cell_type": "code",
   "execution_count": 3,
   "id": "bdbb29c7",
   "metadata": {
    "ExecuteTime": {
     "end_time": "2023-04-03T10:59:45.653611Z",
     "start_time": "2023-04-03T10:59:45.636657Z"
    }
   },
   "outputs": [
    {
     "name": "stdout",
     "output_type": "stream",
     "text": [
      "Sorted array:\n",
      "[11, 12, 22, 25, 34, 64, 90]\n"
     ]
    }
   ],
   "source": [
    "def binary_search(arr, val, start, end):\n",
    "    if start == end:\n",
    "        if arr[start] > val:\n",
    "            return start\n",
    "        else:\n",
    "            return start+1\n",
    "\n",
    "    if start > end:\n",
    "        return start\n",
    "\n",
    "    mid = (start+end)//2\n",
    "    if arr[mid] < val:\n",
    "        return binary_search(arr, val, mid+1, end)\n",
    "    elif arr[mid] > val:\n",
    "        return binary_search(arr, val, start, mid-1)\n",
    "    else:\n",
    "        return mid\n",
    "\n",
    "def insertion_sort(arr):\n",
    "    for i in range(1, len(arr)):\n",
    "        val = arr[i]\n",
    "        j = binary_search(arr, val, 0, i-1)\n",
    "        arr = arr[:j] + [val] + arr[j:i] + arr[i+1:]\n",
    "    return arr\n",
    "\n",
    "arr = [64, 34, 25, 12, 22, 11, 90]\n",
    "print(\"Sorted array:\")\n",
    "print(insertion_sort(arr))"
   ]
  },
  {
   "cell_type": "markdown",
   "id": "0c4ee878",
   "metadata": {},
   "source": [
    "**Q4 :** Python Program for Bitonic Sort"
   ]
  },
  {
   "cell_type": "code",
   "execution_count": 4,
   "id": "ccb0fc66",
   "metadata": {
    "ExecuteTime": {
     "end_time": "2023-04-03T11:00:50.437704Z",
     "start_time": "2023-04-03T11:00:50.423742Z"
    }
   },
   "outputs": [
    {
     "name": "stdout",
     "output_type": "stream",
     "text": [
      "Sorted array is:\n",
      "1\n",
      "2\n",
      "3\n",
      "4\n",
      "5\n",
      "6\n",
      "7\n",
      "8\n"
     ]
    }
   ],
   "source": [
    "def compAndSwap(a, i, j, dire):\n",
    "    if (dire == 1 and a[i] > a[j]) or (dire == 0 and a[i] < a[j]):\n",
    "        a[i],a[j] = a[j],a[i]\n",
    "\n",
    "def bitonicMerge(a, low, cnt, dire):\n",
    "    if cnt > 1:\n",
    "        k = cnt//2\n",
    "        for i in range(low , low+k):\n",
    "            compAndSwap(a, i, i+k, dire)\n",
    "        bitonicMerge(a, low, k, dire)\n",
    "        bitonicMerge(a, low+k, k, dire)\n",
    "\n",
    "def bitonicSort(a, low, cnt,dire):\n",
    "    if cnt > 1:\n",
    "        k = cnt//2\n",
    "        bitonicSort(a, low, k, 1)\n",
    "        bitonicSort(a, low+k, k, 0)\n",
    "        bitonicMerge(a,low, cnt,dire)\n",
    "\n",
    "def sort(arr,n):\n",
    "    bitonicSort(arr,0,n,1)\n",
    "\n",
    "arr = [3, 7, 4, 8, 6, 2, 1, 5]\n",
    "n = len(arr)\n",
    "sort(arr,n)\n",
    "print(\"Sorted array is:\")\n",
    "for i in range(n):\n",
    "    print(\"%d\" %arr[i])"
   ]
  },
  {
   "cell_type": "markdown",
   "id": "8d9001dd",
   "metadata": {},
   "source": [
    "**Q5 :** Python Program for Comb Sort"
   ]
  },
  {
   "cell_type": "code",
   "execution_count": 5,
   "id": "eb914e84",
   "metadata": {
    "ExecuteTime": {
     "end_time": "2023-04-03T11:01:48.099480Z",
     "start_time": "2023-04-03T11:01:48.082522Z"
    }
   },
   "outputs": [
    {
     "name": "stdout",
     "output_type": "stream",
     "text": [
      "Sorted array:\n",
      "-44\n",
      "-6\n",
      "0\n",
      "1\n",
      "3\n",
      "4\n",
      "8\n",
      "23\n",
      "28\n",
      "56\n"
     ]
    }
   ],
   "source": [
    "def getNextGap(gap):\n",
    "    gap = (gap * 10)/13\n",
    "    if gap < 1:\n",
    "        return 1\n",
    "    return int(gap)\n",
    "\n",
    "def combSort(arr):\n",
    "    n = len(arr)\n",
    "    gap = n\n",
    "    swapped = True\n",
    "    while gap !=1 or swapped == 1:\n",
    "        gap = getNextGap(gap)\n",
    "        swapped = False\n",
    "        for i in range(0, n-gap):\n",
    "            if arr[i] > arr[i + gap]:\n",
    "                arr[i], arr[i + gap]=arr[i + gap], arr[i]\n",
    "                swapped = True\n",
    "\n",
    "arr = [8, 4, 1, 56, 3, -44, 23, -6, 28, 0]\n",
    "combSort(arr)\n",
    "print (\"Sorted array:\")\n",
    "for i in range(len(arr)):\n",
    "    print (\"%d\" %arr[i])"
   ]
  },
  {
   "cell_type": "markdown",
   "id": "fa87fe2d",
   "metadata": {},
   "source": [
    "**Q6 :** Python Program for Pigeonhole Sort"
   ]
  },
  {
   "cell_type": "code",
   "execution_count": 6,
   "id": "f089d56e",
   "metadata": {
    "ExecuteTime": {
     "end_time": "2023-04-03T11:03:03.468290Z",
     "start_time": "2023-04-03T11:03:03.449343Z"
    }
   },
   "outputs": [
    {
     "name": "stdout",
     "output_type": "stream",
     "text": [
      "Sorted order is :  2 3 4 6 7 8 8 "
     ]
    }
   ],
   "source": [
    "def pigeonhole_sort(a):\n",
    "    # size of range of values in the list (ie, number of pigeonholes we need)\n",
    "    my_min = min(a)\n",
    "    my_max = max(a)\n",
    "    size = my_max - my_min + 1\n",
    "\n",
    "    # our list of pigeonholes\n",
    "    holes = [0] * size\n",
    "\n",
    "    # Populate the pigeonholes.\n",
    "    for x in a:\n",
    "        assert isinstance(x,int), \"integers only please\"\n",
    "        holes[x - my_min] += 1\n",
    "\n",
    "    # Put the elements back into the array in order.\n",
    "    i = 0\n",
    "    for count in range(size):\n",
    "        while holes[count] > 0:\n",
    "            holes[count] -= 1\n",
    "            a[i] = count + my_min\n",
    "            i += 1\n",
    "\n",
    "a = [8, 3, 2, 7, 4, 6, 8]\n",
    "pigeonhole_sort(a)\n",
    "print(\"Sorted order is : \", end = ' ')\n",
    "for i in range(0, len(a)):\n",
    "    print(a[i], end = ' ')"
   ]
  },
  {
   "cell_type": "markdown",
   "id": "dd680e21",
   "metadata": {},
   "source": [
    "**Q7 :** Python Program for Cocktail Sort"
   ]
  },
  {
   "cell_type": "code",
   "execution_count": 7,
   "id": "38952e1d",
   "metadata": {
    "ExecuteTime": {
     "end_time": "2023-04-03T11:04:02.076184Z",
     "start_time": "2023-04-03T11:04:02.056249Z"
    }
   },
   "outputs": [
    {
     "name": "stdout",
     "output_type": "stream",
     "text": [
      "Sorted order is :  2 3 4 6 7 8 8 "
     ]
    }
   ],
   "source": [
    "def cocktailSort(a):\n",
    "    n = len(a)\n",
    "    swapped = True\n",
    "    start = 0\n",
    "    end = n-1\n",
    "    while (swapped == True):\n",
    "        swapped = False\n",
    "        for i in range (start, end):\n",
    "            if (a[i] > a[i + 1]) :\n",
    "                a[i], a[i + 1]= a[i + 1], a[i]\n",
    "                swapped = True\n",
    "        if (swapped == False):\n",
    "            break\n",
    "        swapped = False\n",
    "        end = end-1\n",
    "        for i in range(end-1, start-1,-1):\n",
    "            if (a[i] > a[i + 1]):\n",
    "                a[i], a[i + 1] = a[i + 1], a[i]\n",
    "                swapped = True\n",
    "        start = start + 1\n",
    "\n",
    "a = [8, 3, 2, 7, 4, 6, 8]\n",
    "cocktailSort(a)\n",
    "print(\"Sorted order is : \", end = ' ')\n",
    "for i in range(0, len(a)):\n",
    "    print(a[i], end = ' ')"
   ]
  },
  {
   "cell_type": "markdown",
   "id": "ee04d4ca",
   "metadata": {},
   "source": [
    "**Q8 :** Python Program for Gnome Sort"
   ]
  },
  {
   "cell_type": "code",
   "execution_count": 8,
   "id": "27e67385",
   "metadata": {
    "ExecuteTime": {
     "end_time": "2023-04-03T11:04:59.584204Z",
     "start_time": "2023-04-03T11:04:59.567247Z"
    }
   },
   "outputs": [
    {
     "name": "stdout",
     "output_type": "stream",
     "text": [
      "Sorted seqquence after applying Gnome Sort :\n",
      "-9 2 10 34 "
     ]
    }
   ],
   "source": [
    "def gnomeSort(arr):\n",
    "    n = len(arr)\n",
    "    index = 0\n",
    "    while index < n:\n",
    "        if index == 0:\n",
    "            index = index + 1\n",
    "        if arr[index] >= arr[index - 1]:\n",
    "            index = index + 1\n",
    "        else:\n",
    "            arr[index], arr[index - 1] = arr[index - 1], arr[index]\n",
    "            index = index - 1\n",
    " \n",
    "    return arr\n",
    " \n",
    "arr = [34, 2, 10, -9]\n",
    "arr = gnomeSort(arr)\n",
    "print(\"Sorted seqquence after applying Gnome Sort :\")\n",
    "for i in arr:\n",
    "    print(i,end=\" \")"
   ]
  },
  {
   "cell_type": "markdown",
   "id": "34bacba0",
   "metadata": {},
   "source": [
    "**Q9 :** Python Program for Odd-Even Sort / Brick Sort"
   ]
  },
  {
   "cell_type": "code",
   "execution_count": 9,
   "id": "65fc9376",
   "metadata": {
    "ExecuteTime": {
     "end_time": "2023-04-03T11:05:52.154646Z",
     "start_time": "2023-04-03T11:05:52.137690Z"
    }
   },
   "outputs": [
    {
     "name": "stdout",
     "output_type": "stream",
     "text": [
      "Sorted seqquence after applying Odd-Even Sort / Brick Sort :\n",
      "-9 2 10 34 "
     ]
    }
   ],
   "source": [
    "def oddEvenSort(arr):\n",
    "    n = len(arr)\n",
    "    # Initially array is unsorted\n",
    "    isSorted = 0\n",
    "    while isSorted == 0:\n",
    "        isSorted = 1\n",
    "        temp = 0\n",
    "        for i in range(1, n-1, 2):\n",
    "            if arr[i] > arr[i+1]:\n",
    "                arr[i], arr[i+1] = arr[i+1], arr[i]\n",
    "                isSorted = 0\n",
    "        for i in range(0, n-1, 2):\n",
    "            if arr[i] > arr[i+1]:\n",
    "                arr[i], arr[i+1] = arr[i+1], arr[i]\n",
    "                isSorted = 0\n",
    " \n",
    "    return arr\n",
    " \n",
    "arr = [34, 2, 10, -9]\n",
    "arr = oddEvenSort(arr)\n",
    "print(\"Sorted seqquence after applying Odd-Even Sort / Brick Sort :\")\n",
    "for i in arr:\n",
    "    print(i, end=\" \")"
   ]
  },
  {
   "cell_type": "markdown",
   "id": "90621762",
   "metadata": {},
   "source": [
    "**Q10 :** Python Program for BogoSort or Permutation Sort"
   ]
  },
  {
   "cell_type": "code",
   "execution_count": 10,
   "id": "6e81dd83",
   "metadata": {
    "ExecuteTime": {
     "end_time": "2023-04-03T11:06:55.440163Z",
     "start_time": "2023-04-03T11:06:55.408349Z"
    }
   },
   "outputs": [
    {
     "name": "stdout",
     "output_type": "stream",
     "text": [
      "Sorted array :\n",
      "0\n",
      "1\n",
      "2\n",
      "3\n",
      "4\n",
      "5\n"
     ]
    }
   ],
   "source": [
    "import random\n",
    " \n",
    "def bogoSort(a):\n",
    "    n = len(a)\n",
    "    while (is_sorted(a)== False):\n",
    "        shuffle(a)\n",
    " \n",
    "def is_sorted(a):\n",
    "    n = len(a)\n",
    "    for i in range(0, n-1):\n",
    "        if (a[i] > a[i+1] ):\n",
    "            return False\n",
    "    return True\n",
    " \n",
    "def shuffle(a):\n",
    "    n = len(a)\n",
    "    for i in range (0,n):\n",
    "        r = random.randint(0,n-1)\n",
    "        a[i], a[r] = a[r], a[i]\n",
    " \n",
    "a = [3, 2, 4, 1, 0, 5]\n",
    "bogoSort(a)\n",
    "print(\"Sorted array :\")\n",
    "for i in range(len(a)):\n",
    "    print (\"%d\" %a[i]) "
   ]
  }
 ],
 "metadata": {
  "kernelspec": {
   "display_name": "Python 3 (ipykernel)",
   "language": "python",
   "name": "python3"
  },
  "language_info": {
   "codemirror_mode": {
    "name": "ipython",
    "version": 3
   },
   "file_extension": ".py",
   "mimetype": "text/x-python",
   "name": "python",
   "nbconvert_exporter": "python",
   "pygments_lexer": "ipython3",
   "version": "3.9.12"
  },
  "latex_envs": {
   "LaTeX_envs_menu_present": true,
   "autoclose": false,
   "autocomplete": true,
   "bibliofile": "biblio.bib",
   "cite_by": "apalike",
   "current_citInitial": 1,
   "eqLabelWithNumbers": true,
   "eqNumInitial": 1,
   "hotkeys": {
    "equation": "Ctrl-E",
    "itemize": "Ctrl-I"
   },
   "labels_anchors": false,
   "latex_user_defs": false,
   "report_style_numbering": false,
   "user_envs_cfg": false
  },
  "nbTranslate": {
   "displayLangs": [
    "*"
   ],
   "hotkey": "alt-t",
   "langInMainMenu": true,
   "sourceLang": "en",
   "targetLang": "fr",
   "useGoogleTranslate": true
  },
  "toc": {
   "base_numbering": 1,
   "nav_menu": {},
   "number_sections": true,
   "sideBar": true,
   "skip_h1_title": false,
   "title_cell": "Table of Contents",
   "title_sidebar": "Contents",
   "toc_cell": false,
   "toc_position": {},
   "toc_section_display": true,
   "toc_window_display": false
  },
  "varInspector": {
   "cols": {
    "lenName": 16,
    "lenType": 16,
    "lenVar": 40
   },
   "kernels_config": {
    "python": {
     "delete_cmd_postfix": "",
     "delete_cmd_prefix": "del ",
     "library": "var_list.py",
     "varRefreshCmd": "print(var_dic_list())"
    },
    "r": {
     "delete_cmd_postfix": ") ",
     "delete_cmd_prefix": "rm(",
     "library": "var_list.r",
     "varRefreshCmd": "cat(var_dic_list()) "
    }
   },
   "types_to_exclude": [
    "module",
    "function",
    "builtin_function_or_method",
    "instance",
    "_Feature"
   ],
   "window_display": false
  }
 },
 "nbformat": 4,
 "nbformat_minor": 5
}
