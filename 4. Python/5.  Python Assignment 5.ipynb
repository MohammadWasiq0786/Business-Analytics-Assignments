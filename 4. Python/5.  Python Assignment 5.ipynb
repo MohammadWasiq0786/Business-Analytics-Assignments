{
 "cells": [
  {
   "cell_type": "markdown",
   "id": "4391f421",
   "metadata": {},
   "source": [
    "![image](https://user-images.githubusercontent.com/57321948/196933065-4b16c235-f3b9-4391-9cfe-4affcec87c35.png)\n",
    "\n",
    "# Name: Mohammad Wasiq\n",
    "\n",
    "## E-mail: `mohammadwasiq0786@gmail.com`\n",
    "\n",
    "### Python Assignment - 5"
   ]
  },
  {
   "cell_type": "markdown",
   "id": "fbc600b9",
   "metadata": {},
   "source": [
    "**Q1 :** Python program to print all negative numbers in a range."
   ]
  },
  {
   "cell_type": "code",
   "execution_count": 1,
   "id": "ba6ada3f",
   "metadata": {
    "ExecuteTime": {
     "end_time": "2023-04-03T05:44:34.110971Z",
     "start_time": "2023-04-03T05:44:34.101001Z"
    }
   },
   "outputs": [
    {
     "name": "stdout",
     "output_type": "stream",
     "text": [
      "-4\n",
      "-66\n"
     ]
    }
   ],
   "source": [
    "l = [-2,10, 8, -4, 45, -66, 93]\n",
    "lower = 1\n",
    "upper = len(l)\n",
    "for i in range(lower ,upper):\n",
    "    if l[i]<0:\n",
    "        print(l[i])"
   ]
  },
  {
   "cell_type": "markdown",
   "id": "67e08e4c",
   "metadata": {},
   "source": [
    "**Q2 :** Remove multiple elements from a list in Python."
   ]
  },
  {
   "cell_type": "code",
   "execution_count": 2,
   "id": "65f38761",
   "metadata": {
    "ExecuteTime": {
     "end_time": "2023-04-03T05:45:10.737472Z",
     "start_time": "2023-04-03T05:45:10.722514Z"
    }
   },
   "outputs": [
    {
     "name": "stdout",
     "output_type": "stream",
     "text": [
      "[10, 8, 66, 93]\n",
      "[10, 8, 45, 93]\n"
     ]
    }
   ],
   "source": [
    "# multiple elements can be removed according to the necessity.Given two methods removing by index range\n",
    "\n",
    "l1 = [10, 8, 4, 45, 66, 93]\n",
    "del l1[2:4]\n",
    "print(l1)\n",
    "\n",
    "# removing negative numbers\n",
    "l = [10, 8, -4, 45, -66, 93]\n",
    "for i in l:\n",
    "    if i <0:\n",
    "        l.remove(i)\n",
    "print(l)"
   ]
  },
  {
   "cell_type": "markdown",
   "id": "bbfbf58c",
   "metadata": {},
   "source": [
    "**Q3 :** Write a Python program to Remove empty List from List."
   ]
  },
  {
   "cell_type": "code",
   "execution_count": 3,
   "id": "bb27cb40",
   "metadata": {
    "ExecuteTime": {
     "end_time": "2023-04-03T05:45:33.305350Z",
     "start_time": "2023-04-03T05:45:33.288395Z"
    }
   },
   "outputs": [
    {
     "name": "stdout",
     "output_type": "stream",
     "text": [
      "[10, 8, -4, 45, -66, 93]\n"
     ]
    }
   ],
   "source": [
    "l = [10, [],8, -4,[] ,45, -66, [] ,93]\n",
    "for i in l:\n",
    "    if i ==[]:\n",
    "        l.remove(i)\n",
    "print(l)"
   ]
  },
  {
   "cell_type": "markdown",
   "id": "7ff5ce18",
   "metadata": {},
   "source": [
    "**Q4 :** Write a Python program to Cloning or Copying a list."
   ]
  },
  {
   "cell_type": "code",
   "execution_count": 4,
   "id": "9b1fea1a",
   "metadata": {
    "ExecuteTime": {
     "end_time": "2023-04-03T05:46:00.844235Z",
     "start_time": "2023-04-03T05:46:00.823290Z"
    }
   },
   "outputs": [
    {
     "name": "stdout",
     "output_type": "stream",
     "text": [
      "[10, 8, -4, 45, -66, 93]\n"
     ]
    }
   ],
   "source": [
    "l = [10,8, -4 ,45, -66 ,93]\n",
    "l1 = l.copy()\n",
    "print(l1)"
   ]
  },
  {
   "cell_type": "markdown",
   "id": "31d9667e",
   "metadata": {},
   "source": [
    "**Q5 :** Write a Python program to Count occurrences of an element in a list."
   ]
  },
  {
   "cell_type": "code",
   "execution_count": 5,
   "id": "08d7b54c",
   "metadata": {
    "ExecuteTime": {
     "end_time": "2023-04-03T05:46:26.384846Z",
     "start_time": "2023-04-03T05:46:26.358916Z"
    }
   },
   "outputs": [
    {
     "data": {
      "text/plain": [
       "5"
      ]
     },
     "execution_count": 5,
     "metadata": {},
     "output_type": "execute_result"
    }
   ],
   "source": [
    "l= [1,1,2,3,4,5,6,1,7,6,1,1]\n",
    "l.count(1)"
   ]
  },
  {
   "cell_type": "markdown",
   "id": "90b7fa58",
   "metadata": {},
   "source": [
    "**Q6 :** Write a Python program to Remove empty tuples from a list."
   ]
  },
  {
   "cell_type": "code",
   "execution_count": 6,
   "id": "850b2362",
   "metadata": {
    "ExecuteTime": {
     "end_time": "2023-04-03T05:46:49.017310Z",
     "start_time": "2023-04-03T05:46:49.006341Z"
    }
   },
   "outputs": [
    {
     "name": "stdout",
     "output_type": "stream",
     "text": [
      "[10, -4, [], 45, -66, 93]\n"
     ]
    }
   ],
   "source": [
    "l = [10, (), -4,[] ,45, -66, () ,93]\n",
    "for i in l:\n",
    "    if i ==():\n",
    "        l.remove(i)\n",
    "print(l)"
   ]
  },
  {
   "cell_type": "markdown",
   "id": "4d36c218",
   "metadata": {},
   "source": [
    "**Q7 :** Write a Python program to Program to print duplicates from a list of integers."
   ]
  },
  {
   "cell_type": "code",
   "execution_count": 7,
   "id": "f17707d2",
   "metadata": {
    "ExecuteTime": {
     "end_time": "2023-04-03T05:47:12.654191Z",
     "start_time": "2023-04-03T05:47:12.635238Z"
    }
   },
   "outputs": [
    {
     "name": "stdout",
     "output_type": "stream",
     "text": [
      "[1, 6]\n"
     ]
    }
   ],
   "source": [
    "def duplicate(l):\n",
    "    n=len(l)\n",
    "    dup=[]\n",
    "    for i in range(n):\n",
    "        k = i + 1\n",
    "        for j in range(k,n):\n",
    "            if l[i] == l[j] and l[i] not in dup:\n",
    "                dup.append(l[i])\n",
    "    return dup\n",
    "\n",
    "l= [1,1,2,3,4,5,6,1,7,6,1,1]\n",
    "print(duplicate(l))"
   ]
  },
  {
   "cell_type": "markdown",
   "id": "852d8138",
   "metadata": {},
   "source": [
    "**Q8 :** Write a Python program to find Cumulative sum of a list."
   ]
  },
  {
   "cell_type": "code",
   "execution_count": 8,
   "id": "d4c46c62",
   "metadata": {
    "ExecuteTime": {
     "end_time": "2023-04-03T05:47:36.402046Z",
     "start_time": "2023-04-03T05:47:36.381102Z"
    }
   },
   "outputs": [
    {
     "name": "stdout",
     "output_type": "stream",
     "text": [
      "[10, 30, 60, 100, 150]\n"
     ]
    }
   ],
   "source": [
    "def Cumulative(l):\n",
    "    new = []\n",
    "    cumsum = 0\n",
    "    for element in l:\n",
    "        cumsum += element\n",
    "        new.append(cumsum)\n",
    "    return new\n",
    "\n",
    "lists= [10, 20, 30, 40, 50]\n",
    "print (Cumulative(lists))"
   ]
  },
  {
   "cell_type": "markdown",
   "id": "18c79dc4",
   "metadata": {},
   "source": [
    "**Q9 :** Write a Python program to Sum of number digits in List."
   ]
  },
  {
   "cell_type": "code",
   "execution_count": 9,
   "id": "cefed272",
   "metadata": {
    "ExecuteTime": {
     "end_time": "2023-04-03T05:48:10.649604Z",
     "start_time": "2023-04-03T05:48:10.636638Z"
    }
   },
   "outputs": [
    {
     "name": "stdout",
     "output_type": "stream",
     "text": [
      "[2, 5, 5, 8, 17, 0, 1]\n"
     ]
    }
   ],
   "source": [
    "l = [11, 23, 41, 62, 89, 0, 10]\n",
    "num = []\n",
    "for i in l:\n",
    "    sum = 0\n",
    "    for digit in str(i):\n",
    "        sum += int(digit)\n",
    "    num.append(sum)\n",
    "\n",
    "print(num)"
   ]
  },
  {
   "cell_type": "markdown",
   "id": "f2e44a99",
   "metadata": {},
   "source": [
    "**Qq0 :** Write a Python program to Break a list into chunks of size N."
   ]
  },
  {
   "cell_type": "code",
   "execution_count": 10,
   "id": "88c3446b",
   "metadata": {
    "ExecuteTime": {
     "end_time": "2023-04-03T05:48:44.641990Z",
     "start_time": "2023-04-03T05:48:44.623045Z"
    }
   },
   "outputs": [
    {
     "name": "stdout",
     "output_type": "stream",
     "text": [
      "[[1, 2, 3, 4], [5, 6, 7, 8], [9]]\n"
     ]
    }
   ],
   "source": [
    "l= [1, 2, 3, 4, 5, 6, 7, 8, 9] \n",
    "n= 4\n",
    "x= [l[i:i + n] for i in range(0, len(l), n)] \n",
    "\n",
    "print(x)"
   ]
  },
  {
   "cell_type": "markdown",
   "id": "9be4f5e3",
   "metadata": {},
   "source": [
    "**Q11 :** Write a Python program to Sort the values of first list using second list."
   ]
  },
  {
   "cell_type": "code",
   "execution_count": 11,
   "id": "25bfa624",
   "metadata": {
    "ExecuteTime": {
     "end_time": "2023-04-03T05:49:13.151885Z",
     "start_time": "2023-04-03T05:49:13.131937Z"
    }
   },
   "outputs": [
    {
     "name": "stdout",
     "output_type": "stream",
     "text": [
      "['a', 'd', 'h', 'b', 'c', 'e', 'i', 'f', 'g']\n"
     ]
    }
   ],
   "source": [
    "def sort_list(list1, list2):\n",
    " \n",
    "    zipped_pairs = zip(list2, list1)\n",
    "    z = [x for _, x in sorted(zipped_pairs)]\n",
    "    return z\n",
    "\n",
    "l1= [\"a\", \"b\", \"c\", \"d\", \"e\", \"f\", \"g\", \"h\", \"i\"]\n",
    "l2= [ 0,   1,   1,    0,   1,   2,   2,   0,   1]\n",
    "\n",
    "print(sort_list(l1, l2))"
   ]
  }
 ],
 "metadata": {
  "kernelspec": {
   "display_name": "Python 3 (ipykernel)",
   "language": "python",
   "name": "python3"
  },
  "language_info": {
   "codemirror_mode": {
    "name": "ipython",
    "version": 3
   },
   "file_extension": ".py",
   "mimetype": "text/x-python",
   "name": "python",
   "nbconvert_exporter": "python",
   "pygments_lexer": "ipython3",
   "version": "3.9.12"
  },
  "latex_envs": {
   "LaTeX_envs_menu_present": true,
   "autoclose": false,
   "autocomplete": true,
   "bibliofile": "biblio.bib",
   "cite_by": "apalike",
   "current_citInitial": 1,
   "eqLabelWithNumbers": true,
   "eqNumInitial": 1,
   "hotkeys": {
    "equation": "Ctrl-E",
    "itemize": "Ctrl-I"
   },
   "labels_anchors": false,
   "latex_user_defs": false,
   "report_style_numbering": false,
   "user_envs_cfg": false
  },
  "nbTranslate": {
   "displayLangs": [
    "*"
   ],
   "hotkey": "alt-t",
   "langInMainMenu": true,
   "sourceLang": "en",
   "targetLang": "fr",
   "useGoogleTranslate": true
  },
  "toc": {
   "base_numbering": 1,
   "nav_menu": {},
   "number_sections": true,
   "sideBar": true,
   "skip_h1_title": false,
   "title_cell": "Table of Contents",
   "title_sidebar": "Contents",
   "toc_cell": false,
   "toc_position": {},
   "toc_section_display": true,
   "toc_window_display": false
  },
  "varInspector": {
   "cols": {
    "lenName": 16,
    "lenType": 16,
    "lenVar": 40
   },
   "kernels_config": {
    "python": {
     "delete_cmd_postfix": "",
     "delete_cmd_prefix": "del ",
     "library": "var_list.py",
     "varRefreshCmd": "print(var_dic_list())"
    },
    "r": {
     "delete_cmd_postfix": ") ",
     "delete_cmd_prefix": "rm(",
     "library": "var_list.r",
     "varRefreshCmd": "cat(var_dic_list()) "
    }
   },
   "types_to_exclude": [
    "module",
    "function",
    "builtin_function_or_method",
    "instance",
    "_Feature"
   ],
   "window_display": false
  }
 },
 "nbformat": 4,
 "nbformat_minor": 5
}
