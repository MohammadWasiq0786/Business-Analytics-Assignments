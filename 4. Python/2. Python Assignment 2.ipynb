{
 "cells": [
  {
   "cell_type": "markdown",
   "id": "55672395",
   "metadata": {},
   "source": [
    "![image](https://user-images.githubusercontent.com/57321948/196933065-4b16c235-f3b9-4391-9cfe-4affcec87c35.png)\n",
    "\n",
    "# Name: Mohammad Wasiq\n",
    "\n",
    "## E-mail: `mohammadwasiq0786@gmail.com`\n",
    "\n",
    "### Python Assignment - 2"
   ]
  },
  {
   "cell_type": "markdown",
   "id": "2627cf22",
   "metadata": {},
   "source": [
    "**Q1 :** Python Program for n-th Fibonacci number."
   ]
  },
  {
   "cell_type": "code",
   "execution_count": 1,
   "id": "99062164",
   "metadata": {
    "ExecuteTime": {
     "end_time": "2023-04-03T05:16:52.516698Z",
     "start_time": "2023-04-03T05:16:52.481790Z"
    }
   },
   "outputs": [
    {
     "data": {
      "text/plain": [
       "13"
      ]
     },
     "execution_count": 1,
     "metadata": {},
     "output_type": "execute_result"
    }
   ],
   "source": [
    "def fibonacci(n):\n",
    "    if n<=0:\n",
    "        print('incorrect input')\n",
    "    elif n==1:\n",
    "        return 0\n",
    "    elif n==2:\n",
    "        return 1\n",
    "    else:\n",
    "        return fibonacci(n-1) + fibonacci(n-2)\n",
    "\n",
    "fibonacci(8)"
   ]
  },
  {
   "cell_type": "markdown",
   "id": "cd36ee7e",
   "metadata": {},
   "source": [
    "**Q2 :** Python Program for How to check if a given number is Fibonacci number?"
   ]
  },
  {
   "cell_type": "code",
   "execution_count": 2,
   "id": "65893c15",
   "metadata": {
    "ExecuteTime": {
     "end_time": "2023-04-03T05:17:24.303785Z",
     "start_time": "2023-04-03T05:17:24.279847Z"
    }
   },
   "outputs": [
    {
     "data": {
      "text/plain": [
       "True"
      ]
     },
     "execution_count": 2,
     "metadata": {},
     "output_type": "execute_result"
    }
   ],
   "source": [
    "import math\n",
    "def square(x):\n",
    "    s=int(math.sqrt(x))\n",
    "    return s**2==x\n",
    "def isnumber_fibonacci(n):\n",
    "    return square(5*n**2+4) or square(5*n**2-4)\n",
    "\n",
    "isnumber_fibonacci(13)"
   ]
  },
  {
   "cell_type": "markdown",
   "id": "2a6058a1",
   "metadata": {},
   "source": [
    "**Q3 :** Python Program for n\\’th multiple of a number in Fibonacci Series."
   ]
  },
  {
   "cell_type": "code",
   "execution_count": 3,
   "id": "5fb241d8",
   "metadata": {
    "ExecuteTime": {
     "end_time": "2023-04-03T05:18:07.173450Z",
     "start_time": "2023-04-03T05:18:06.716707Z"
    }
   },
   "outputs": [
    {
     "data": {
      "text/plain": [
       "514229"
      ]
     },
     "execution_count": 3,
     "metadata": {},
     "output_type": "execute_result"
    }
   ],
   "source": [
    "# Python Program to find position of n'th multiple of a number k in Fibonacci Series\n",
    " \n",
    "def findPosition(k, n):\n",
    "    f1 = 0\n",
    "    f2 = 1\n",
    "    i = 2;\n",
    "    while i != 0:\n",
    "        f3 = f1 + f2;\n",
    "        f1 = f2;\n",
    "        f2 = f3;\n",
    " \n",
    "        if f2 % k == 0:\n",
    "            return n * i\n",
    " \n",
    "        i += 1\n",
    "         \n",
    "    return\n",
    "\n",
    "def fibonacci(a):\n",
    "    if a<=0:\n",
    "        print('incorrect input')\n",
    "    elif a==1:\n",
    "        return 0\n",
    "    elif a==2:\n",
    "        return 1\n",
    "    else:\n",
    "        return fibonacci(a-1) + fibonacci(a-2)\n",
    "\n",
    "fibonacci(findPosition(4, 5))"
   ]
  },
  {
   "cell_type": "markdown",
   "id": "fa84f5e2",
   "metadata": {},
   "source": [
    "**Q4 :** Program to print ASCII Value of a character."
   ]
  },
  {
   "cell_type": "code",
   "execution_count": 4,
   "id": "e38c2049",
   "metadata": {
    "ExecuteTime": {
     "end_time": "2023-04-03T05:20:07.590211Z",
     "start_time": "2023-04-03T05:20:04.803743Z"
    }
   },
   "outputs": [
    {
     "name": "stdout",
     "output_type": "stream",
     "text": [
      "Enter a Character : c\n",
      "The ASCII value of 'c' is 99\n"
     ]
    }
   ],
   "source": [
    "# Input a character\n",
    "c = input(\"Enter a Character : \")\n",
    "\n",
    "# Print the ASCII value of the character\n",
    "print(\"The ASCII value of '\" + c + \"' is\", ord(c))"
   ]
  },
  {
   "cell_type": "markdown",
   "id": "9354a2ef",
   "metadata": {},
   "source": [
    "**Q5 :** Python Program for Sum of squares of first n natural numbers"
   ]
  },
  {
   "cell_type": "code",
   "execution_count": 5,
   "id": "aae7b300",
   "metadata": {
    "ExecuteTime": {
     "end_time": "2023-04-03T05:22:07.581096Z",
     "start_time": "2023-04-03T05:22:07.565139Z"
    },
    "run_control": {
     "marked": true
    }
   },
   "outputs": [],
   "source": [
    "def sum_of_squares(n):\n",
    "    sumVal = (int)((n * (n +1) * ((2* n) + 1))/6)\n",
    "    return sumVal"
   ]
  },
  {
   "cell_type": "code",
   "execution_count": 6,
   "id": "6f6e6c3f",
   "metadata": {
    "ExecuteTime": {
     "end_time": "2023-04-03T05:22:23.859353Z",
     "start_time": "2023-04-03T05:22:23.851375Z"
    }
   },
   "outputs": [
    {
     "data": {
      "text/plain": [
       "385"
      ]
     },
     "execution_count": 6,
     "metadata": {},
     "output_type": "execute_result"
    }
   ],
   "source": [
    "sum_of_squares(10)"
   ]
  },
  {
   "cell_type": "markdown",
   "id": "09f96f4a",
   "metadata": {},
   "source": [
    "**Q6 :** Python Program for cube sum of first n natural numbers."
   ]
  },
  {
   "cell_type": "code",
   "execution_count": 7,
   "id": "c66ecdee",
   "metadata": {
    "ExecuteTime": {
     "end_time": "2023-04-03T05:23:37.458986Z",
     "start_time": "2023-04-03T05:23:37.448012Z"
    }
   },
   "outputs": [
    {
     "data": {
      "text/plain": [
       "3025"
      ]
     },
     "execution_count": 7,
     "metadata": {},
     "output_type": "execute_result"
    }
   ],
   "source": [
    "def cube_sum(n):\n",
    "    sumVal = 0\n",
    "    for i in range(1, n+1):\n",
    "        sumVal += i**3\n",
    "    return sumVal\n",
    "\n",
    "cube_sum(10)"
   ]
  },
  {
   "cell_type": "markdown",
   "id": "be251a39",
   "metadata": {},
   "source": [
    "**Q7 :** Python Program to find sum of array"
   ]
  },
  {
   "cell_type": "code",
   "execution_count": 8,
   "id": "f715eb79",
   "metadata": {
    "ExecuteTime": {
     "end_time": "2023-04-03T05:25:10.721643Z",
     "start_time": "2023-04-03T05:25:10.711670Z"
    }
   },
   "outputs": [
    {
     "name": "stdout",
     "output_type": "stream",
     "text": [
      "15\n"
     ]
    }
   ],
   "source": [
    "def sum_array(arr):\n",
    "    sumVal = sum(arr)\n",
    "    return sumVal\n",
    "\n",
    "print(sum_array(arr = [1, 2, 3, 4, 5]))"
   ]
  },
  {
   "cell_type": "markdown",
   "id": "99bd2821",
   "metadata": {},
   "source": [
    "**Q8 :** Python Program to find largest element in an array."
   ]
  },
  {
   "cell_type": "code",
   "execution_count": 9,
   "id": "a965812f",
   "metadata": {
    "ExecuteTime": {
     "end_time": "2023-04-03T05:26:47.785217Z",
     "start_time": "2023-04-03T05:26:47.767269Z"
    }
   },
   "outputs": [
    {
     "name": "stdout",
     "output_type": "stream",
     "text": [
      "5\n"
     ]
    }
   ],
   "source": [
    "def find_largest(arr):\n",
    "    return max(arr)\n",
    "\n",
    "print(find_largest(arr = [1, 2, 3, 4, 5]))"
   ]
  },
  {
   "cell_type": "markdown",
   "id": "c34f67bb",
   "metadata": {},
   "source": [
    "**Q9 :** Python Program for array rotation."
   ]
  },
  {
   "cell_type": "code",
   "execution_count": 10,
   "id": "2e2e84fa",
   "metadata": {
    "ExecuteTime": {
     "end_time": "2023-04-03T05:28:23.901859Z",
     "start_time": "2023-04-03T05:28:23.888891Z"
    }
   },
   "outputs": [
    {
     "name": "stdout",
     "output_type": "stream",
     "text": [
      "[3, 4, 5, 1, 2]\n"
     ]
    }
   ],
   "source": [
    "def rotate_array(arr, num_rotations):\n",
    "    return arr[num_rotations:] + arr[:num_rotations]\n",
    "\n",
    "arr = [1, 2, 3, 4, 5]\n",
    "num_rotations = 2\n",
    "print(rotate_array(arr, num_rotations))"
   ]
  },
  {
   "cell_type": "markdown",
   "id": "3446a05e",
   "metadata": {},
   "source": [
    "**Q10 :** Python Program for Reversal algorithm for array rotation."
   ]
  },
  {
   "cell_type": "code",
   "execution_count": 11,
   "id": "e18c44cb",
   "metadata": {
    "ExecuteTime": {
     "end_time": "2023-04-03T05:30:02.659673Z",
     "start_time": "2023-04-03T05:30:02.637730Z"
    }
   },
   "outputs": [
    {
     "name": "stdout",
     "output_type": "stream",
     "text": [
      "[3, 4, 5, 1, 2]\n"
     ]
    }
   ],
   "source": [
    "def reverse_array(arr, start, end):\n",
    "    while start < end:\n",
    "        arr[start], arr[end] = arr[end], arr[start]\n",
    "        start += 1\n",
    "        end -= 1\n",
    "\n",
    "def rotate_array(arr, num_rotations):\n",
    "    n = len(arr)\n",
    "    reverse_array(arr, 0, num_rotations - 1)\n",
    "    reverse_array(arr, num_rotations, n - 1)\n",
    "    reverse_array(arr, 0, n - 1)\n",
    "    return arr\n",
    "\n",
    "arr = [1, 2, 3, 4, 5]\n",
    "num_rotations = 2\n",
    "print(rotate_array(arr, num_rotations))"
   ]
  },
  {
   "cell_type": "markdown",
   "id": "5d18c5c2",
   "metadata": {},
   "source": [
    "**Q11 :** Python Program to Split the array and add the first part to the end."
   ]
  },
  {
   "cell_type": "code",
   "execution_count": 12,
   "id": "e9203a49",
   "metadata": {
    "ExecuteTime": {
     "end_time": "2023-04-03T05:31:36.804915Z",
     "start_time": "2023-04-03T05:31:36.777988Z"
    }
   },
   "outputs": [
    {
     "name": "stdout",
     "output_type": "stream",
     "text": [
      "[5, 6, 52, 36, 12, 10]\n"
     ]
    }
   ],
   "source": [
    "def split_array(arr, k):\n",
    "    n = len(arr)\n",
    "    for i in range(0, k):\n",
    "        x = arr[0]\n",
    "        for j in range(0, n-1):\n",
    "            arr[j] = arr[j+1]\n",
    "        arr[n-1] = x\n",
    "    return arr\n",
    "\n",
    "arr = [12, 10, 5, 6, 52, 36]\n",
    "k = 2\n",
    "print(split_array(arr, k))"
   ]
  }
 ],
 "metadata": {
  "kernelspec": {
   "display_name": "Python 3 (ipykernel)",
   "language": "python",
   "name": "python3"
  },
  "language_info": {
   "codemirror_mode": {
    "name": "ipython",
    "version": 3
   },
   "file_extension": ".py",
   "mimetype": "text/x-python",
   "name": "python",
   "nbconvert_exporter": "python",
   "pygments_lexer": "ipython3",
   "version": "3.9.12"
  },
  "latex_envs": {
   "LaTeX_envs_menu_present": true,
   "autoclose": false,
   "autocomplete": true,
   "bibliofile": "biblio.bib",
   "cite_by": "apalike",
   "current_citInitial": 1,
   "eqLabelWithNumbers": true,
   "eqNumInitial": 1,
   "hotkeys": {
    "equation": "Ctrl-E",
    "itemize": "Ctrl-I"
   },
   "labels_anchors": false,
   "latex_user_defs": false,
   "report_style_numbering": false,
   "user_envs_cfg": false
  },
  "nbTranslate": {
   "displayLangs": [
    "*"
   ],
   "hotkey": "alt-t",
   "langInMainMenu": true,
   "sourceLang": "en",
   "targetLang": "fr",
   "useGoogleTranslate": true
  },
  "toc": {
   "base_numbering": 1,
   "nav_menu": {},
   "number_sections": true,
   "sideBar": true,
   "skip_h1_title": false,
   "title_cell": "Table of Contents",
   "title_sidebar": "Contents",
   "toc_cell": false,
   "toc_position": {},
   "toc_section_display": true,
   "toc_window_display": false
  },
  "varInspector": {
   "cols": {
    "lenName": 16,
    "lenType": 16,
    "lenVar": 40
   },
   "kernels_config": {
    "python": {
     "delete_cmd_postfix": "",
     "delete_cmd_prefix": "del ",
     "library": "var_list.py",
     "varRefreshCmd": "print(var_dic_list())"
    },
    "r": {
     "delete_cmd_postfix": ") ",
     "delete_cmd_prefix": "rm(",
     "library": "var_list.r",
     "varRefreshCmd": "cat(var_dic_list()) "
    }
   },
   "types_to_exclude": [
    "module",
    "function",
    "builtin_function_or_method",
    "instance",
    "_Feature"
   ],
   "window_display": false
  }
 },
 "nbformat": 4,
 "nbformat_minor": 5
}
