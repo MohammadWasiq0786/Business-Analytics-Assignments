{
 "cells": [
  {
   "cell_type": "markdown",
   "id": "2bd105b7",
   "metadata": {},
   "source": [
    "![image](https://user-images.githubusercontent.com/57321948/196933065-4b16c235-f3b9-4391-9cfe-4affcec87c35.png)\n",
    "\n",
    "# Name: Mohammad Wasiq\n",
    "\n",
    "## E-mail: `mohammadwasiq0786@gmail.com`\n",
    "\n",
    "### Python Assignment - 18"
   ]
  },
  {
   "cell_type": "markdown",
   "id": "a050a208",
   "metadata": {},
   "source": [
    "**Q1 :** Python – Check whether a string starts and ends with the same character or not"
   ]
  },
  {
   "cell_type": "code",
   "execution_count": 1,
   "id": "55c50481",
   "metadata": {
    "ExecuteTime": {
     "end_time": "2023-04-03T11:47:03.707001Z",
     "start_time": "2023-04-03T11:47:03.685060Z"
    }
   },
   "outputs": [
    {
     "name": "stdout",
     "output_type": "stream",
     "text": [
      "The string starts and ends with the same character\n"
     ]
    }
   ],
   "source": [
    "import re\n",
    "\n",
    "def check_string(string):\n",
    "    pattern = r'^(.).*\\1$'\n",
    "    if re.search(pattern, string):\n",
    "        return True\n",
    "    else:\n",
    "        return False\n",
    "\n",
    "string = \"abca\"\n",
    "if check_string(string):\n",
    "    print(\"The string starts and ends with the same character\")\n",
    "else:\n",
    "    print(\"The string does not start and end with the same character\")"
   ]
  },
  {
   "cell_type": "markdown",
   "id": "cd17cd99",
   "metadata": {},
   "source": [
    "**Q2 :** Python regex to find sequences of one upper case letter followed by lower case letters"
   ]
  },
  {
   "cell_type": "code",
   "execution_count": 2,
   "id": "0af7cfcf",
   "metadata": {
    "ExecuteTime": {
     "end_time": "2023-04-03T11:47:54.481945Z",
     "start_time": "2023-04-03T11:47:54.470977Z"
    }
   },
   "outputs": [
    {
     "name": "stdout",
     "output_type": "stream",
     "text": [
      "Yes\n"
     ]
    }
   ],
   "source": [
    "import re\n",
    "\n",
    "def check_string(string):\n",
    "    pattern = r'[A-Z][a-z]+'\n",
    "    if re.search(pattern, string):\n",
    "        return True\n",
    "    else:\n",
    "        return False\n",
    "\n",
    "string = \"Wasiq\"\n",
    "if check_string(string):\n",
    "    print(\"Yes\")\n",
    "else:\n",
    "    print(\"No\")"
   ]
  },
  {
   "cell_type": "markdown",
   "id": "e797a8df",
   "metadata": {},
   "source": [
    "**Q3 :** Python Program to Remove duplicate words from Sentence"
   ]
  },
  {
   "cell_type": "code",
   "execution_count": 3,
   "id": "47a7f29b",
   "metadata": {
    "ExecuteTime": {
     "end_time": "2023-04-03T11:48:36.073724Z",
     "start_time": "2023-04-03T11:48:36.051783Z"
    }
   },
   "outputs": [
    {
     "name": "stdout",
     "output_type": "stream",
     "text": [
      "Python Program to Remove duplicate words from Sentence\n"
     ]
    }
   ],
   "source": [
    "def remove_duplicates(sentence):\n",
    "    words = sentence.split()\n",
    "    return \" \".join(sorted(set(words), key=words.index))\n",
    "\n",
    "sentence = \"Python Program to Remove duplicate words from Sentence\"\n",
    "print(remove_duplicates(sentence))"
   ]
  },
  {
   "cell_type": "markdown",
   "id": "cea91c81",
   "metadata": {},
   "source": [
    "**Q4 :** Python | Remove all characters except letters and numbers"
   ]
  },
  {
   "cell_type": "code",
   "execution_count": 4,
   "id": "45747652",
   "metadata": {
    "ExecuteTime": {
     "end_time": "2023-04-03T11:49:23.258323Z",
     "start_time": "2023-04-03T11:49:23.238376Z"
    }
   },
   "outputs": [
    {
     "name": "stdout",
     "output_type": "stream",
     "text": [
      "PythonRemoveallcharactersexceptlettersandnumbers\n"
     ]
    }
   ],
   "source": [
    "import re\n",
    "\n",
    "def remove_special_chars(string):\n",
    "    return re.sub('[^A-Za-z0-9]+', '', string)\n",
    "\n",
    "string = \"Python | Remove all characters except letters and numbers\"\n",
    "print(remove_special_chars(string))"
   ]
  },
  {
   "cell_type": "markdown",
   "id": "7f1fa664",
   "metadata": {},
   "source": [
    "**Q5 :** Python Regex | Program to accept string ending with alphanumeric character"
   ]
  },
  {
   "cell_type": "code",
   "execution_count": 5,
   "id": "29953534",
   "metadata": {
    "ExecuteTime": {
     "end_time": "2023-04-03T11:50:47.181968Z",
     "start_time": "2023-04-03T11:50:47.165013Z"
    }
   },
   "outputs": [
    {
     "name": "stdout",
     "output_type": "stream",
     "text": [
      "Accept\n",
      "Discard\n"
     ]
    }
   ],
   "source": [
    "import re\n",
    "\n",
    "def check_string(string):\n",
    "    if re.search('[a-zA-Z0-9]$', string):\n",
    "        print(\"Accept\")\n",
    "    else:\n",
    "        print(\"Discard\")\n",
    "\n",
    "string1 = \"wasiq123\"\n",
    "string2 = \"wasiq@\"\n",
    "\n",
    "check_string(string1)\n",
    "check_string(string2)"
   ]
  },
  {
   "cell_type": "markdown",
   "id": "02ef7a05",
   "metadata": {},
   "source": [
    "**Q6 :** Python Regex – Program to accept string starting with vowel"
   ]
  },
  {
   "cell_type": "code",
   "execution_count": 6,
   "id": "e54a4e2f",
   "metadata": {
    "ExecuteTime": {
     "end_time": "2023-04-03T11:51:38.384931Z",
     "start_time": "2023-04-03T11:51:35.398290Z"
    }
   },
   "outputs": [
    {
     "name": "stdout",
     "output_type": "stream",
     "text": [
      "Enter a string: Wasiq\n",
      "Not Accepted\n"
     ]
    }
   ],
   "source": [
    "import re\n",
    "\n",
    "# Define a regular expression pattern that matches strings starting with a vowel\n",
    "pattern = r'^[aeiouAEIOU].'\n",
    "\n",
    "# Ask the user to input a string to test against the pattern\n",
    "string_input = input(\"Enter a string: \")\n",
    "\n",
    "# Use the re.search() method to search for the pattern at the beginning of the string\n",
    "if re.search(pattern, string_input):\n",
    "    print(\"Accepted\")\n",
    "else:\n",
    "    print(\"Not Accepted\")"
   ]
  },
  {
   "cell_type": "markdown",
   "id": "c60f7245",
   "metadata": {},
   "source": [
    "**Q7 :** Python Program to check if a string starts with a substring using regex"
   ]
  },
  {
   "cell_type": "code",
   "execution_count": 7,
   "id": "cc4e5c67",
   "metadata": {
    "ExecuteTime": {
     "end_time": "2023-04-03T11:52:24.871416Z",
     "start_time": "2023-04-03T11:52:21.692806Z"
    }
   },
   "outputs": [
    {
     "name": "stdout",
     "output_type": "stream",
     "text": [
      "Enter a string: Wasiq\n",
      "String does not start with substring\n"
     ]
    }
   ],
   "source": [
    "import re\n",
    "\n",
    "# Define a regular expression pattern that matches strings starting with a substring\n",
    "pattern = r'^substring'\n",
    "\n",
    "# Ask the user to input a string to test against the pattern\n",
    "string_input = input(\"Enter a string: \")\n",
    "\n",
    "# Use the re.search() method to search for the pattern at the beginning of the string\n",
    "if re.search(pattern, string_input):\n",
    "    print(\"String starts with substring\")\n",
    "else:\n",
    "    print(\"String does not start with substring\")"
   ]
  },
  {
   "cell_type": "markdown",
   "id": "b68bc0bb",
   "metadata": {},
   "source": [
    "**Q8 :** Python Program to Check if an URL is valid or not using Regular Expression"
   ]
  },
  {
   "cell_type": "code",
   "execution_count": 9,
   "id": "dde7e1bd",
   "metadata": {
    "ExecuteTime": {
     "end_time": "2023-04-03T11:54:33.140896Z",
     "start_time": "2023-04-03T11:54:31.179592Z"
    }
   },
   "outputs": [
    {
     "name": "stdout",
     "output_type": "stream",
     "text": [
      "Enter a URL: https://www.linkedin.com/in/mohammadwasiq0/\n",
      "URL is not valid\n"
     ]
    }
   ],
   "source": [
    "import re\n",
    "\n",
    "# Define a regular expression pattern that matches valid URLs\n",
    "pattern = r'^((http|https)://)?([a-z0-9]+[.])?[a-z0-9]+[.][a-z]{2,5}([/][a-z0-9]+)*([?][a-z0-9]+=[a-z0-9]+)*$'\n",
    "\n",
    "# Ask the user to input a URL to test against the pattern\n",
    "url_input = input(\"Enter a URL: \")\n",
    "\n",
    "# Use the re.search() method to search for the pattern in the URL\n",
    "if re.search(pattern, url_input):\n",
    "    print(\"URL is valid\")\n",
    "else:\n",
    "    print(\"URL is not valid\")"
   ]
  },
  {
   "cell_type": "markdown",
   "id": "9a3f3ccf",
   "metadata": {},
   "source": [
    "**Q9 :** Parsing and Processing URL using Python – Regex"
   ]
  },
  {
   "cell_type": "code",
   "execution_count": 10,
   "id": "c18318da",
   "metadata": {
    "ExecuteTime": {
     "end_time": "2023-04-03T11:55:11.248902Z",
     "start_time": "2023-04-03T11:55:00.363726Z"
    }
   },
   "outputs": [
    {
     "name": "stdout",
     "output_type": "stream",
     "text": [
      "Enter a URL:  https://www.linkedin.com/in/mohammadwasiq0\n",
      "URL is not valid\n"
     ]
    }
   ],
   "source": [
    "import re\n",
    "\n",
    "# Define a regular expression pattern that matches URLs\n",
    "pattern = r'^(?:http|ftp)s?://' \\\n",
    "          r'(?:(?:[A-Z0-9](?:[A-Z0-9-]{0,61}[A-Z0-9])?\\.)+(?:[A-Z]{2,6}\\.?|[A-Z0-9-]{2,}\\.?)|' \\\n",
    "          r'localhost|' \\\n",
    "          r'\\d{1,3}\\.\\d{1,3}\\.\\d{1,3}\\.\\d{1,3})' \\\n",
    "          r'(?::\\d+)?' \\\n",
    "          r'(?:/?|[/?]\\S+)$'\n",
    "\n",
    "# Ask the user to input a URL to test against the pattern\n",
    "url_input = input(\"Enter a URL: \")\n",
    "\n",
    "# Use the re.search() method to search for the pattern in the URL\n",
    "if re.search(pattern, url_input):\n",
    "    print(\"URL is valid\")\n",
    "else:\n",
    "    print(\"URL is not valid\")"
   ]
  },
  {
   "cell_type": "markdown",
   "id": "b82c34f7",
   "metadata": {},
   "source": [
    "**Q10 :** Python Program to validate an IP address using ReGex"
   ]
  },
  {
   "cell_type": "code",
   "execution_count": 11,
   "id": "aefb7627",
   "metadata": {
    "ExecuteTime": {
     "end_time": "2023-04-03T11:57:28.721532Z",
     "start_time": "2023-04-03T11:57:25.878301Z"
    }
   },
   "outputs": [
    {
     "name": "stdout",
     "output_type": "stream",
     "text": [
      "Enter an IP address:  123.123.123.123\n",
      "IP address is not valid\n"
     ]
    }
   ],
   "source": [
    "import re\n",
    "\n",
    "# Define a regular expression pattern that matches IP addresses\n",
    "pattern = r'^((25[0-5]|2[0-4][0-9]|[01]?[0-9][0-9]?)\\.){3}(25[0-5]|2[0-4][0-9]|[01]?[0-9][0-9]?)$'\n",
    "\n",
    "# Ask the user to input an IP address to test against the pattern\n",
    "ip_input = input(\"Enter an IP address: \")\n",
    "\n",
    "# Use the re.search() method to search for the pattern in the IP address\n",
    "if re.search(pattern, ip_input):\n",
    "    print(\"IP address is valid\")\n",
    "else:\n",
    "    print(\"IP address is not valid\")"
   ]
  }
 ],
 "metadata": {
  "kernelspec": {
   "display_name": "Python 3 (ipykernel)",
   "language": "python",
   "name": "python3"
  },
  "language_info": {
   "codemirror_mode": {
    "name": "ipython",
    "version": 3
   },
   "file_extension": ".py",
   "mimetype": "text/x-python",
   "name": "python",
   "nbconvert_exporter": "python",
   "pygments_lexer": "ipython3",
   "version": "3.9.12"
  },
  "latex_envs": {
   "LaTeX_envs_menu_present": true,
   "autoclose": false,
   "autocomplete": true,
   "bibliofile": "biblio.bib",
   "cite_by": "apalike",
   "current_citInitial": 1,
   "eqLabelWithNumbers": true,
   "eqNumInitial": 1,
   "hotkeys": {
    "equation": "Ctrl-E",
    "itemize": "Ctrl-I"
   },
   "labels_anchors": false,
   "latex_user_defs": false,
   "report_style_numbering": false,
   "user_envs_cfg": false
  },
  "nbTranslate": {
   "displayLangs": [
    "*"
   ],
   "hotkey": "alt-t",
   "langInMainMenu": true,
   "sourceLang": "en",
   "targetLang": "fr",
   "useGoogleTranslate": true
  },
  "toc": {
   "base_numbering": 1,
   "nav_menu": {},
   "number_sections": true,
   "sideBar": true,
   "skip_h1_title": false,
   "title_cell": "Table of Contents",
   "title_sidebar": "Contents",
   "toc_cell": false,
   "toc_position": {},
   "toc_section_display": true,
   "toc_window_display": false
  },
  "varInspector": {
   "cols": {
    "lenName": 16,
    "lenType": 16,
    "lenVar": 40
   },
   "kernels_config": {
    "python": {
     "delete_cmd_postfix": "",
     "delete_cmd_prefix": "del ",
     "library": "var_list.py",
     "varRefreshCmd": "print(var_dic_list())"
    },
    "r": {
     "delete_cmd_postfix": ") ",
     "delete_cmd_prefix": "rm(",
     "library": "var_list.r",
     "varRefreshCmd": "cat(var_dic_list()) "
    }
   },
   "types_to_exclude": [
    "module",
    "function",
    "builtin_function_or_method",
    "instance",
    "_Feature"
   ],
   "window_display": false
  }
 },
 "nbformat": 4,
 "nbformat_minor": 5
}
