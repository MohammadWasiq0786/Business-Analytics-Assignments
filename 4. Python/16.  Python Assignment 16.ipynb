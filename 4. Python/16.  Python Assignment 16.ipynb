{
 "cells": [
  {
   "cell_type": "markdown",
   "id": "317540d6",
   "metadata": {},
   "source": [
    "![image](https://user-images.githubusercontent.com/57321948/196933065-4b16c235-f3b9-4391-9cfe-4affcec87c35.png)\n",
    "\n",
    "# Name: Mohammad Wasiq\n",
    "\n",
    "## E-mail: `mohammadwasiq0786@gmail.com`\n",
    "\n",
    "### Python Assignment - 16"
   ]
  },
  {
   "cell_type": "markdown",
   "id": "49dd1678",
   "metadata": {},
   "source": [
    "**Q1 :** Python Program for Cycle Sort"
   ]
  },
  {
   "cell_type": "code",
   "execution_count": 1,
   "id": "1f02249c",
   "metadata": {
    "ExecuteTime": {
     "end_time": "2023-04-03T11:19:14.331250Z",
     "start_time": "2023-04-03T11:19:14.307313Z"
    }
   },
   "outputs": [
    {
     "name": "stdout",
     "output_type": "stream",
     "text": [
      "After sort : \n",
      "11 12 22 25 34 64 90 "
     ]
    }
   ],
   "source": [
    "def cycle_sort(array):\n",
    "    writes = 0\n",
    "    for cycleStart in range(0, len(array) - 1):\n",
    "        item = array[cycleStart]\n",
    "        pos = cycleStart\n",
    "        for i in range(cycleStart + 1, len(array)):\n",
    "            if array[i] < item:\n",
    "                pos += 1\n",
    "        if pos == cycleStart:\n",
    "            continue\n",
    "        while item == array[pos]:\n",
    "            pos += 1\n",
    "        array[pos], item = item, array[pos]\n",
    "        writes += 1\n",
    "        while pos != cycleStart:\n",
    "            pos = cycleStart\n",
    "            for i in range(cycleStart + 1, len(array)):\n",
    "                if array[i] < item:\n",
    "                    pos += 1\n",
    "            while item == array[pos]:\n",
    "                pos += 1\n",
    "            array[pos], item = item, array[pos]\n",
    "            writes += 1\n",
    "    return writes\n",
    "\n",
    "array = [64, 34, 25, 12, 22, 11, 90]\n",
    "n = len(array)\n",
    "cycle_sort(array)\n",
    "print(\"After sort : \")\n",
    "for i in range(0, n):\n",
    "    print(array[i], end=' ')"
   ]
  },
  {
   "cell_type": "markdown",
   "id": "25ce767d",
   "metadata": {},
   "source": [
    "**Q2 :** Python Program for Stooge Sort"
   ]
  },
  {
   "cell_type": "code",
   "execution_count": 2,
   "id": "36ece7c1",
   "metadata": {
    "ExecuteTime": {
     "end_time": "2023-04-03T11:20:46.251539Z",
     "start_time": "2023-04-03T11:20:46.229599Z"
    }
   },
   "outputs": [
    {
     "name": "stdout",
     "output_type": "stream",
     "text": [
      "Sorted array :\n",
      "1 2 3 4 5 "
     ]
    }
   ],
   "source": [
    "def stoogesort(arr, l, h):\n",
    "    if l >= h:\n",
    "        return\n",
    "\n",
    "    # If first element is smaller than last, swap them\n",
    "    if arr[l] > arr[h]:\n",
    "        t = arr[l]\n",
    "        arr[l] = arr[h]\n",
    "        arr[h] = t\n",
    "\n",
    "    # If there are more than 2 elements in the array\n",
    "    if h - l + 1 > 2:\n",
    "        t = (int)((h - l + 1) / 3)\n",
    "\n",
    "        # Recursively sort first 2/3 elements\n",
    "        stoogesort(arr, l, (h - t))\n",
    "\n",
    "        # Recursively sort last 2/3 elements\n",
    "        stoogesort(arr, l + t, (h))\n",
    "\n",
    "        # Recursively sort first 2/3 elements again to confirm\n",
    "        stoogesort(arr, l, (h - t))\n",
    "        \n",
    "arr = [2, 4, 5, 3, 1]\n",
    "n = len(arr)\n",
    "stoogesort(arr, 0, n - 1)\n",
    "print(\"Sorted array :\")\n",
    "for i in range(0, n):\n",
    "    print(arr[i], end = ' ')"
   ]
  },
  {
   "cell_type": "markdown",
   "id": "76bfa9e8",
   "metadata": {},
   "source": [
    "**Q3 :** Python Program to print the pattern ‘G’"
   ]
  },
  {
   "cell_type": "code",
   "execution_count": 4,
   "id": "aa29525a",
   "metadata": {
    "ExecuteTime": {
     "end_time": "2023-04-03T11:22:45.182392Z",
     "start_time": "2023-04-03T11:22:45.162447Z"
    }
   },
   "outputs": [
    {
     "name": "stdout",
     "output_type": "stream",
     "text": [
      "  ***  \n",
      " *     \n",
      "*      \n",
      "*      \n",
      "****   \n",
      "   *   \n",
      "  ***  \n"
     ]
    }
   ],
   "source": [
    "for i in range(7):\n",
    "    for j in range(7):\n",
    "        if (i==0 and j in [2,3,4]) or (i==1 and j==1) or (i==2 and j==0) or (i==3 and j==0) or (i==4 and j in [0,1,2,3]) or (i==5 and j==3) or (i==6 and j in [2,3,4]):\n",
    "            print(\"*\", end=\"\")\n",
    "        else:\n",
    "            print(\" \", end=\"\")\n",
    "    print()"
   ]
  },
  {
   "cell_type": "markdown",
   "id": "3c94b098",
   "metadata": {},
   "source": [
    "**Q4 :** Python Program to print an Inverted Star Pattern"
   ]
  },
  {
   "cell_type": "code",
   "execution_count": 5,
   "id": "c9a07c88",
   "metadata": {
    "ExecuteTime": {
     "end_time": "2023-04-03T11:23:48.424878Z",
     "start_time": "2023-04-03T11:23:45.479532Z"
    }
   },
   "outputs": [
    {
     "name": "stdout",
     "output_type": "stream",
     "text": [
      "Enter number of rows: 5\n",
      "*****\n",
      " ****\n",
      "  ***\n",
      "   **\n",
      "    *\n"
     ]
    }
   ],
   "source": [
    "n = int(input(\"Enter number of rows: \"))\n",
    "for i in range(n, 0, -1):\n",
    "    print((n-i) * ' ' + i * '*')"
   ]
  },
  {
   "cell_type": "markdown",
   "id": "e652d3ab",
   "metadata": {},
   "source": [
    "**Q5 :** Python Program to print double sided stair-case pattern"
   ]
  },
  {
   "cell_type": "code",
   "execution_count": 6,
   "id": "f30f7b6e",
   "metadata": {
    "ExecuteTime": {
     "end_time": "2023-04-03T11:24:54.237772Z",
     "start_time": "2023-04-03T11:24:51.656330Z"
    }
   },
   "outputs": [
    {
     "name": "stdout",
     "output_type": "stream",
     "text": [
      "Enter number of rows: 8\n",
      "*\n",
      "**\n",
      "***\n",
      "****\n",
      "*****\n",
      "******\n",
      "*******\n",
      "********\n",
      "*******\n",
      "******\n",
      "*****\n",
      "****\n",
      "***\n",
      "**\n",
      "*\n"
     ]
    }
   ],
   "source": [
    "def print_staircase(n):\n",
    "    for i in range(1, n+1):\n",
    "        for j in range(1, i+1):\n",
    "            print(\"*\", end=\"\")\n",
    "        print()\n",
    "    for i in range(n-1, 0, -1):\n",
    "        for j in range(1, i+1):\n",
    "            print(\"*\", end=\"\")\n",
    "        print()\n",
    "\n",
    "n = int(input(\"Enter number of rows: \"))\n",
    "print_staircase(n)"
   ]
  },
  {
   "cell_type": "markdown",
   "id": "b5456947",
   "metadata": {},
   "source": [
    "**Q6 :** Python Program to print with your own font"
   ]
  },
  {
   "cell_type": "code",
   "execution_count": 8,
   "id": "9416c34a",
   "metadata": {
    "ExecuteTime": {
     "end_time": "2023-04-03T11:27:28.616919Z",
     "start_time": "2023-04-03T11:27:25.043421Z"
    }
   },
   "outputs": [
    {
     "name": "stdout",
     "output_type": "stream",
     "text": [
      "Enter text to print in your own font: j\n",
      "..###\n",
      "Ellipsis\n"
     ]
    }
   ],
   "source": [
    "def print_text_in_font(text):\n",
    "    font = {\n",
    "        'a': ['..#..', '.#..#', '#...#', '#####', '#...#'],\n",
    "        'b': ['####.', '#...#', '####.', '#...#', '####.'],\n",
    "        'c': ['..###', '#....', '#....', '#....', '..###'],\n",
    "        'd': ['####.', '#...#', '#...#', '#...#', '####.'],\n",
    "        'e': ['#####', '#....', '#####', '#....', '#####'],\n",
    "        'f': ['#####', '#....', '#####', '#....', '#....'],\n",
    "        'g': ['..###', '#....', '#..##', '#...#', '..##.'],\n",
    "        'h': ['#...#', '#...#', '#####', '#...#', '#...#'],\n",
    "        'i': ['#####', '..#..', '..#..', '..#..', '#####'],\n",
    "        'j': ['..###', ...]\n",
    "    }\n",
    "    for letter in text:\n",
    "        for row in font[letter.lower()]:\n",
    "            print(row)\n",
    "            \n",
    "text = input(\"Enter text to print in your own font: \")\n",
    "print_text_in_font(text)"
   ]
  },
  {
   "cell_type": "markdown",
   "id": "bf4b2ede",
   "metadata": {},
   "source": [
    "**Q7 :** Get Current Date and Time using Python"
   ]
  },
  {
   "cell_type": "code",
   "execution_count": 9,
   "id": "b8077875",
   "metadata": {
    "ExecuteTime": {
     "end_time": "2023-04-03T11:28:08.648537Z",
     "start_time": "2023-04-03T11:28:08.628585Z"
    }
   },
   "outputs": [
    {
     "name": "stdout",
     "output_type": "stream",
     "text": [
      "Current Time = 2023-04-03 16:58:08.631577\n"
     ]
    }
   ],
   "source": [
    "import datetime\n",
    "\n",
    "current_time = datetime.datetime.now()\n",
    "print(\"Current Time =\", current_time)"
   ]
  },
  {
   "cell_type": "markdown",
   "id": "654e0212",
   "metadata": {},
   "source": [
    "**Q8 :** Python | Find yesterday’s, today’s and tomorrow’s date"
   ]
  },
  {
   "cell_type": "code",
   "execution_count": 10,
   "id": "f2e7f3ca",
   "metadata": {
    "ExecuteTime": {
     "end_time": "2023-04-03T11:29:05.762502Z",
     "start_time": "2023-04-03T11:29:05.746543Z"
    }
   },
   "outputs": [
    {
     "name": "stdout",
     "output_type": "stream",
     "text": [
      "Yesterday :  2023-04-02\n",
      "Today :  2023-04-03\n",
      "Tomorrow :  2023-04-04\n"
     ]
    }
   ],
   "source": [
    "import datetime\n",
    "\n",
    "today = datetime.date.today()\n",
    "yesterday = today - datetime.timedelta(days=1)\n",
    "tomorrow = today + datetime.timedelta(days=1)\n",
    "\n",
    "print('Yesterday : ', yesterday)\n",
    "print('Today : ', today)\n",
    "print('Tomorrow : ', tomorrow)"
   ]
  },
  {
   "cell_type": "markdown",
   "id": "1a163ec3",
   "metadata": {},
   "source": [
    "**Q9 :** Python program to convert time from 12 hour to 24 hour format"
   ]
  },
  {
   "cell_type": "code",
   "execution_count": 12,
   "id": "8abf9a08",
   "metadata": {
    "ExecuteTime": {
     "end_time": "2023-04-03T11:30:57.989104Z",
     "start_time": "2023-04-03T11:30:57.968160Z"
    }
   },
   "outputs": [
    {
     "name": "stdout",
     "output_type": "stream",
     "text": [
      "23:21:30\n"
     ]
    }
   ],
   "source": [
    "from datetime import datetime\n",
    "\n",
    "def convert24(time):\n",
    "    t = datetime.strptime(time, '%I:%M:%S %p')\n",
    "    return t.strftime('%H:%M:%S')\n",
    "\n",
    "print(convert24('11:21:30 PM'))"
   ]
  }
 ],
 "metadata": {
  "kernelspec": {
   "display_name": "Python 3 (ipykernel)",
   "language": "python",
   "name": "python3"
  },
  "language_info": {
   "codemirror_mode": {
    "name": "ipython",
    "version": 3
   },
   "file_extension": ".py",
   "mimetype": "text/x-python",
   "name": "python",
   "nbconvert_exporter": "python",
   "pygments_lexer": "ipython3",
   "version": "3.9.12"
  },
  "latex_envs": {
   "LaTeX_envs_menu_present": true,
   "autoclose": false,
   "autocomplete": true,
   "bibliofile": "biblio.bib",
   "cite_by": "apalike",
   "current_citInitial": 1,
   "eqLabelWithNumbers": true,
   "eqNumInitial": 1,
   "hotkeys": {
    "equation": "Ctrl-E",
    "itemize": "Ctrl-I"
   },
   "labels_anchors": false,
   "latex_user_defs": false,
   "report_style_numbering": false,
   "user_envs_cfg": false
  },
  "nbTranslate": {
   "displayLangs": [
    "*"
   ],
   "hotkey": "alt-t",
   "langInMainMenu": true,
   "sourceLang": "en",
   "targetLang": "fr",
   "useGoogleTranslate": true
  },
  "toc": {
   "base_numbering": 1,
   "nav_menu": {},
   "number_sections": true,
   "sideBar": true,
   "skip_h1_title": false,
   "title_cell": "Table of Contents",
   "title_sidebar": "Contents",
   "toc_cell": false,
   "toc_position": {},
   "toc_section_display": true,
   "toc_window_display": false
  },
  "varInspector": {
   "cols": {
    "lenName": 16,
    "lenType": 16,
    "lenVar": 40
   },
   "kernels_config": {
    "python": {
     "delete_cmd_postfix": "",
     "delete_cmd_prefix": "del ",
     "library": "var_list.py",
     "varRefreshCmd": "print(var_dic_list())"
    },
    "r": {
     "delete_cmd_postfix": ") ",
     "delete_cmd_prefix": "rm(",
     "library": "var_list.r",
     "varRefreshCmd": "cat(var_dic_list()) "
    }
   },
   "types_to_exclude": [
    "module",
    "function",
    "builtin_function_or_method",
    "instance",
    "_Feature"
   ],
   "window_display": false
  }
 },
 "nbformat": 4,
 "nbformat_minor": 5
}
