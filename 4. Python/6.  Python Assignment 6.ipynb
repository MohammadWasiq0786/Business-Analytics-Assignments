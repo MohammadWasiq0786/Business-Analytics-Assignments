{
 "cells": [
  {
   "cell_type": "markdown",
   "id": "e5c5899a",
   "metadata": {},
   "source": [
    "![image](https://user-images.githubusercontent.com/57321948/196933065-4b16c235-f3b9-4391-9cfe-4affcec87c35.png)\n",
    "\n",
    "# Name: Mohammad Wasiq\n",
    "\n",
    "## E-mail: `mohammadwasiq0786@gmail.com`\n",
    "\n",
    "### Python Assignment - 6"
   ]
  },
  {
   "cell_type": "markdown",
   "id": "c1d0c992",
   "metadata": {},
   "source": [
    "**Q1 :** Python program to add two Matrices."
   ]
  },
  {
   "cell_type": "code",
   "execution_count": 1,
   "id": "308de877",
   "metadata": {
    "ExecuteTime": {
     "end_time": "2023-04-03T05:50:40.011110Z",
     "start_time": "2023-04-03T05:50:39.984177Z"
    }
   },
   "outputs": [
    {
     "data": {
      "text/plain": [
       "array([[ 6,  8],\n",
       "       [10, 12]])"
      ]
     },
     "execution_count": 1,
     "metadata": {},
     "output_type": "execute_result"
    }
   ],
   "source": [
    "import numpy as np\n",
    "\n",
    "m1= [[1,2],[3,4]]\n",
    "m2= [[5,6],[7,8]]\n",
    "a1= np.array(m1)\n",
    "a2= np.array(m2)\n",
    "\n",
    "a1+a2"
   ]
  },
  {
   "cell_type": "markdown",
   "id": "2300b767",
   "metadata": {},
   "source": [
    "**Q2 :** Python program to multiply two matrices."
   ]
  },
  {
   "cell_type": "code",
   "execution_count": 2,
   "id": "c3a92933",
   "metadata": {
    "ExecuteTime": {
     "end_time": "2023-04-03T05:51:12.187925Z",
     "start_time": "2023-04-03T05:51:12.172967Z"
    }
   },
   "outputs": [
    {
     "data": {
      "text/plain": [
       "array([[19, 22],\n",
       "       [43, 50]])"
      ]
     },
     "execution_count": 2,
     "metadata": {},
     "output_type": "execute_result"
    }
   ],
   "source": [
    "# multiplication\n",
    "np.dot(a1, a2)"
   ]
  },
  {
   "cell_type": "markdown",
   "id": "41d471cd",
   "metadata": {},
   "source": [
    "**Q3 :** Python program for Matrix Product"
   ]
  },
  {
   "cell_type": "code",
   "execution_count": 3,
   "id": "498095fe",
   "metadata": {
    "ExecuteTime": {
     "end_time": "2023-04-03T05:51:43.649855Z",
     "start_time": "2023-04-03T05:51:43.635891Z"
    }
   },
   "outputs": [
    {
     "data": {
      "text/plain": [
       "array([[19, 22],\n",
       "       [43, 50]])"
      ]
     },
     "execution_count": 3,
     "metadata": {},
     "output_type": "execute_result"
    }
   ],
   "source": [
    "# product\n",
    "np.dot(a1, a2)"
   ]
  },
  {
   "cell_type": "markdown",
   "id": "5b6b6da4",
   "metadata": {},
   "source": [
    "**Q4 :** Adding and Subtracting Matrices in Python."
   ]
  },
  {
   "cell_type": "code",
   "execution_count": 5,
   "id": "cdb6b861",
   "metadata": {
    "ExecuteTime": {
     "end_time": "2023-04-03T05:52:19.430320Z",
     "start_time": "2023-04-03T05:52:19.410371Z"
    }
   },
   "outputs": [
    {
     "name": "stdout",
     "output_type": "stream",
     "text": [
      "[[ 6  8]\n",
      " [10 12]]\n",
      "\n",
      "[[-4 -4]\n",
      " [-4 -4]]\n"
     ]
    }
   ],
   "source": [
    "Add= a1+a2\n",
    "print(Add)\n",
    "print()\n",
    "\n",
    "Subtract= a1-a2\n",
    "print(Subtract)"
   ]
  },
  {
   "cell_type": "markdown",
   "id": "3c79e71c",
   "metadata": {},
   "source": [
    "**Q5 :** Transpose a matrix in Single line in Python."
   ]
  },
  {
   "cell_type": "code",
   "execution_count": 6,
   "id": "1c728fb3",
   "metadata": {
    "ExecuteTime": {
     "end_time": "2023-04-03T05:52:38.104803Z",
     "start_time": "2023-04-03T05:52:38.083860Z"
    }
   },
   "outputs": [
    {
     "data": {
      "text/plain": [
       "array([[1, 3],\n",
       "       [2, 4]])"
      ]
     },
     "execution_count": 6,
     "metadata": {},
     "output_type": "execute_result"
    }
   ],
   "source": [
    "transpose= a1.transpose()\n",
    "transpose"
   ]
  },
  {
   "cell_type": "markdown",
   "id": "7959073c",
   "metadata": {},
   "source": [
    "**Q6 :** Python | Matrix creation of n*n"
   ]
  },
  {
   "cell_type": "code",
   "execution_count": 7,
   "id": "7193d8be",
   "metadata": {
    "ExecuteTime": {
     "end_time": "2023-04-03T05:53:06.240354Z",
     "start_time": "2023-04-03T05:53:06.229381Z"
    }
   },
   "outputs": [
    {
     "name": "stdout",
     "output_type": "stream",
     "text": [
      "The dimension : 4\n",
      "The created matrix of N * N: [[1, 2, 3, 4], [5, 6, 7, 8], [9, 10, 11, 12], [13, 14, 15, 16]]\n"
     ]
    }
   ],
   "source": [
    "N = 4\n",
    "print(\"The dimension : \" + str(N))\n",
    "res = [list(range(1 + N * i, 1 + N * (i + 1))) for i in range(N)]\n",
    "print(\"The created matrix of N * N: \" + str(res))"
   ]
  },
  {
   "cell_type": "markdown",
   "id": "88cc2b18",
   "metadata": {},
   "source": [
    "**Q7 :** Python | Get Kth Column of Matrix."
   ]
  },
  {
   "cell_type": "code",
   "execution_count": 8,
   "id": "a0a74647",
   "metadata": {
    "ExecuteTime": {
     "end_time": "2023-04-03T05:53:47.472628Z",
     "start_time": "2023-04-03T05:53:47.456670Z"
    }
   },
   "outputs": [
    {
     "data": {
      "text/plain": [
       "array([[2],\n",
       "       [4]])"
      ]
     },
     "execution_count": 8,
     "metadata": {},
     "output_type": "execute_result"
    }
   ],
   "source": [
    "# To get kth column in n*m matrix. let A be the matrix code is : A[0:n,k-1:k]. To get 2nd column of matrix a1\n",
    "a1[0:2, 1:2]"
   ]
  },
  {
   "cell_type": "markdown",
   "id": "530e1a4c",
   "metadata": {},
   "source": [
    "**Q8 :** Python – Vertical Concatenation in Matrix."
   ]
  },
  {
   "cell_type": "code",
   "execution_count": 9,
   "id": "1732a851",
   "metadata": {
    "ExecuteTime": {
     "end_time": "2023-04-03T05:54:20.947001Z",
     "start_time": "2023-04-03T05:54:20.927052Z"
    }
   },
   "outputs": [
    {
     "name": "stdout",
     "output_type": "stream",
     "text": [
      "[[1 2]\n",
      " [3 4]\n",
      " [5 6]\n",
      " [7 8]]\n"
     ]
    }
   ],
   "source": [
    "stack_matrix= np.vstack((a1,a2))\n",
    "print(stack_matrix)"
   ]
  },
  {
   "cell_type": "markdown",
   "id": "70feadc6",
   "metadata": {},
   "source": [
    "**Q9 :** Python program to check if a string is palindrome or not."
   ]
  },
  {
   "cell_type": "code",
   "execution_count": 10,
   "id": "643559c8",
   "metadata": {
    "ExecuteTime": {
     "end_time": "2023-04-03T05:54:46.844036Z",
     "start_time": "2023-04-03T05:54:46.833066Z"
    }
   },
   "outputs": [
    {
     "name": "stdout",
     "output_type": "stream",
     "text": [
      "Not a palindrome\n"
     ]
    }
   ],
   "source": [
    "string= \"ABCDA\"\n",
    "\n",
    "if(string==string[::-1]):\n",
    "      print(\"The string is a palindrome\")\n",
    "else:\n",
    "      print(\"Not a palindrome\")"
   ]
  },
  {
   "cell_type": "markdown",
   "id": "359f2949",
   "metadata": {},
   "source": [
    "**Q10 :** Python program to check whether the string is Symmetrical or Palindrome."
   ]
  },
  {
   "cell_type": "code",
   "execution_count": 11,
   "id": "47af58e9",
   "metadata": {
    "ExecuteTime": {
     "end_time": "2023-04-03T05:55:33.900615Z",
     "start_time": "2023-04-03T05:55:33.882665Z"
    }
   },
   "outputs": [
    {
     "name": "stdout",
     "output_type": "stream",
     "text": [
      "Not a palindrome\n",
      "The entered string is symmetrical\n"
     ]
    }
   ],
   "source": [
    "# to check whether the string is symmetry.\n",
    "def symmetry(a):\n",
    "     \n",
    "    n = len(a)\n",
    "    flag = 0\n",
    "    if n%2:\n",
    "        mid = n//2 +1\n",
    "    else:\n",
    "        mid = n//2\n",
    "         \n",
    "    start1 = 0\n",
    "    start2 = mid\n",
    "     \n",
    "    while(start1 < mid and start2 < n):\n",
    "         \n",
    "        if (a[start1]== a[start2]):\n",
    "            start1 = start1 + 1\n",
    "            start2 = start2 + 1\n",
    "        else:\n",
    "            flag = 1\n",
    "            break\n",
    "    if flag == 0:\n",
    "        print(\"The entered string is symmetrical\")\n",
    "    else:\n",
    "        print(\"The entered string is not symmetrical\")\n",
    "        \n",
    "# To check whether string is palindrome        \n",
    "if(string==string[::-1]):\n",
    "      print(\"The string is a palindrome\")\n",
    "else:\n",
    "      print(\"Not a palindrome\")\n",
    "        \n",
    "string = 'amaama'\n",
    "symmetry(string)"
   ]
  }
 ],
 "metadata": {
  "kernelspec": {
   "display_name": "Python 3 (ipykernel)",
   "language": "python",
   "name": "python3"
  },
  "language_info": {
   "codemirror_mode": {
    "name": "ipython",
    "version": 3
   },
   "file_extension": ".py",
   "mimetype": "text/x-python",
   "name": "python",
   "nbconvert_exporter": "python",
   "pygments_lexer": "ipython3",
   "version": "3.9.12"
  },
  "latex_envs": {
   "LaTeX_envs_menu_present": true,
   "autoclose": false,
   "autocomplete": true,
   "bibliofile": "biblio.bib",
   "cite_by": "apalike",
   "current_citInitial": 1,
   "eqLabelWithNumbers": true,
   "eqNumInitial": 1,
   "hotkeys": {
    "equation": "Ctrl-E",
    "itemize": "Ctrl-I"
   },
   "labels_anchors": false,
   "latex_user_defs": false,
   "report_style_numbering": false,
   "user_envs_cfg": false
  },
  "nbTranslate": {
   "displayLangs": [
    "*"
   ],
   "hotkey": "alt-t",
   "langInMainMenu": true,
   "sourceLang": "en",
   "targetLang": "fr",
   "useGoogleTranslate": true
  },
  "toc": {
   "base_numbering": 1,
   "nav_menu": {},
   "number_sections": true,
   "sideBar": true,
   "skip_h1_title": false,
   "title_cell": "Table of Contents",
   "title_sidebar": "Contents",
   "toc_cell": false,
   "toc_position": {},
   "toc_section_display": true,
   "toc_window_display": false
  },
  "varInspector": {
   "cols": {
    "lenName": 16,
    "lenType": 16,
    "lenVar": 40
   },
   "kernels_config": {
    "python": {
     "delete_cmd_postfix": "",
     "delete_cmd_prefix": "del ",
     "library": "var_list.py",
     "varRefreshCmd": "print(var_dic_list())"
    },
    "r": {
     "delete_cmd_postfix": ") ",
     "delete_cmd_prefix": "rm(",
     "library": "var_list.r",
     "varRefreshCmd": "cat(var_dic_list()) "
    }
   },
   "types_to_exclude": [
    "module",
    "function",
    "builtin_function_or_method",
    "instance",
    "_Feature"
   ],
   "window_display": false
  }
 },
 "nbformat": 4,
 "nbformat_minor": 5
}
