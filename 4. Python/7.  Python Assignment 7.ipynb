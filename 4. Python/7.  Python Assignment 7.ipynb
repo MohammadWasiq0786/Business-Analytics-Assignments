{
 "cells": [
  {
   "cell_type": "markdown",
   "id": "131745b1",
   "metadata": {},
   "source": [
    "![image](https://user-images.githubusercontent.com/57321948/196933065-4b16c235-f3b9-4391-9cfe-4affcec87c35.png)\n",
    "\n",
    "# Name: Mohammad Wasiq\n",
    "\n",
    "## E-mail: `mohammadwasiq0786@gmail.com`\n",
    "\n",
    "### Python Assignment - 7"
   ]
  },
  {
   "cell_type": "markdown",
   "id": "7b821179",
   "metadata": {},
   "source": [
    "**Q1 :** Reverse words in a given String in Python."
   ]
  },
  {
   "cell_type": "code",
   "execution_count": 1,
   "id": "2ac7e756",
   "metadata": {
    "ExecuteTime": {
     "end_time": "2023-04-03T06:09:23.964259Z",
     "start_time": "2023-04-03T06:09:23.956283Z"
    }
   },
   "outputs": [
    {
     "name": "stdout",
     "output_type": "stream",
     "text": [
      "Wasiq Mohammad\n"
     ]
    }
   ],
   "source": [
    "def reverse_words(string):\n",
    "    return ' '.join(string.split()[::-1])\n",
    "\n",
    "string = \"Mohammad Wasiq\"\n",
    "print(reverse_words(string))"
   ]
  },
  {
   "cell_type": "markdown",
   "id": "65e7f083",
   "metadata": {},
   "source": [
    "**Q2 :** Ways to remove i’th character from string in Python."
   ]
  },
  {
   "cell_type": "code",
   "execution_count": 2,
   "id": "0cd87d30",
   "metadata": {
    "ExecuteTime": {
     "end_time": "2023-04-03T06:10:36.698501Z",
     "start_time": "2023-04-03T06:10:36.686528Z"
    }
   },
   "outputs": [
    {
     "name": "stdout",
     "output_type": "stream",
     "text": [
      "Helo World\n"
     ]
    }
   ],
   "source": [
    "def remove_char(string, i):\n",
    "    return string[:i] + string[i+1:]\n",
    "\n",
    "string = \"Hello World\"\n",
    "i = 3\n",
    "print(remove_char(string, i))"
   ]
  },
  {
   "cell_type": "markdown",
   "id": "bb4c3489",
   "metadata": {},
   "source": [
    "**Q3 :** Python | Check if a Substring is Present in a Given String."
   ]
  },
  {
   "cell_type": "code",
   "execution_count": 3,
   "id": "72cabfc2",
   "metadata": {
    "ExecuteTime": {
     "end_time": "2023-04-03T06:12:05.986339Z",
     "start_time": "2023-04-03T06:12:05.969384Z"
    }
   },
   "outputs": [
    {
     "name": "stdout",
     "output_type": "stream",
     "text": [
      "Substring found!\n"
     ]
    }
   ],
   "source": [
    "string = \"Mohammad Wasiq\"\n",
    "substring = \"Wasiq\"\n",
    "\n",
    "if substring in string:\n",
    "    print(\"Substring found!\")\n",
    "else:\n",
    "    print(\"Substring not found.\")"
   ]
  },
  {
   "cell_type": "markdown",
   "id": "770a7b38",
   "metadata": {},
   "source": [
    "**Q4 :** Python – Words Frequency in String Shorthands."
   ]
  },
  {
   "cell_type": "code",
   "execution_count": 4,
   "id": "8b3a2293",
   "metadata": {
    "ExecuteTime": {
     "end_time": "2023-04-03T06:13:18.145130Z",
     "start_time": "2023-04-03T06:13:18.132166Z"
    }
   },
   "outputs": [
    {
     "name": "stdout",
     "output_type": "stream",
     "text": [
      "{'Mohammad': 2, 'Wasiq,': 1}\n"
     ]
    }
   ],
   "source": [
    "string = \"Mohammad Wasiq, Mohammad\"\n",
    "words = string.split()\n",
    "frequency = {}\n",
    "\n",
    "for word in words:\n",
    "    if word in frequency:\n",
    "        frequency[word] += 1\n",
    "    else:\n",
    "        frequency[word] = 1\n",
    "\n",
    "print(frequency)"
   ]
  },
  {
   "cell_type": "markdown",
   "id": "44f1d052",
   "metadata": {},
   "source": [
    "**Q5 :** Python – Convert Snake case to Pascal case."
   ]
  },
  {
   "cell_type": "code",
   "execution_count": 5,
   "id": "a5026f9f",
   "metadata": {
    "ExecuteTime": {
     "end_time": "2023-04-03T06:14:19.784723Z",
     "start_time": "2023-04-03T06:14:19.768766Z"
    }
   },
   "outputs": [
    {
     "name": "stdout",
     "output_type": "stream",
     "text": [
      "MySnakeCaseString\n"
     ]
    }
   ],
   "source": [
    "def snake_to_pascal(snake_str):\n",
    "    components = snake_str.split('_')\n",
    "    return ''.join(x.title() for x in components)\n",
    "\n",
    "snake_str = \"my_snake_case_string\"\n",
    "pascal_str = snake_to_pascal(snake_str)\n",
    "print(pascal_str)"
   ]
  },
  {
   "cell_type": "markdown",
   "id": "1ed117fe",
   "metadata": {},
   "source": [
    "**Q6 :** Find length of a string in python (4 ways)."
   ]
  },
  {
   "cell_type": "code",
   "execution_count": 6,
   "id": "61b450bc",
   "metadata": {
    "ExecuteTime": {
     "end_time": "2023-04-03T06:15:40.828829Z",
     "start_time": "2023-04-03T06:15:40.814866Z"
    }
   },
   "outputs": [
    {
     "name": "stdout",
     "output_type": "stream",
     "text": [
      "14\n"
     ]
    }
   ],
   "source": [
    "# Way 1\n",
    "string = \"Mohammad Wasiq\"\n",
    "print(len(string))"
   ]
  },
  {
   "cell_type": "code",
   "execution_count": 7,
   "id": "76b36457",
   "metadata": {
    "ExecuteTime": {
     "end_time": "2023-04-03T06:16:03.709678Z",
     "start_time": "2023-04-03T06:16:03.696712Z"
    }
   },
   "outputs": [
    {
     "name": "stdout",
     "output_type": "stream",
     "text": [
      "14\n"
     ]
    }
   ],
   "source": [
    "# Way 2\n",
    "string = \"Mohammad Wasiq\"\n",
    "count = 0\n",
    "for char in string:\n",
    "    count += 1\n",
    "print(count)"
   ]
  },
  {
   "cell_type": "code",
   "execution_count": 8,
   "id": "30b7bd44",
   "metadata": {
    "ExecuteTime": {
     "end_time": "2023-04-03T06:16:24.290626Z",
     "start_time": "2023-04-03T06:16:24.269683Z"
    }
   },
   "outputs": [
    {
     "name": "stdout",
     "output_type": "stream",
     "text": [
      "14\n"
     ]
    }
   ],
   "source": [
    "# Way 3\n",
    "def find_length(string):\n",
    "    if string == '':\n",
    "        return 0\n",
    "    else:\n",
    "        return 1 + find_length(string[1:])\n",
    "\n",
    "string = \"Mohammad Wasiq\"\n",
    "print(find_length(string))"
   ]
  },
  {
   "cell_type": "code",
   "execution_count": 9,
   "id": "0eca897a",
   "metadata": {
    "ExecuteTime": {
     "end_time": "2023-04-03T06:16:41.613634Z",
     "start_time": "2023-04-03T06:16:41.599671Z"
    }
   },
   "outputs": [
    {
     "name": "stdout",
     "output_type": "stream",
     "text": [
      "14\n"
     ]
    }
   ],
   "source": [
    "# Way 4\n",
    "string = \"Mohammad Wasiq\"\n",
    "length = sum([1 for char in string])\n",
    "print(length)"
   ]
  },
  {
   "cell_type": "markdown",
   "id": "c571005a",
   "metadata": {},
   "source": [
    "**Q7 :** Python program to print even length words in a string."
   ]
  },
  {
   "cell_type": "code",
   "execution_count": 10,
   "id": "a3b7bee0",
   "metadata": {
    "ExecuteTime": {
     "end_time": "2023-04-03T06:17:49.225052Z",
     "start_time": "2023-04-03T06:17:49.217077Z"
    }
   },
   "outputs": [
    {
     "name": "stdout",
     "output_type": "stream",
     "text": [
      "This\n",
      "is\n",
      "Mohammad\n"
     ]
    }
   ],
   "source": [
    "def even_words(str):\n",
    "    get = str.split()\n",
    "    for word in get:\n",
    "        if len(word) % 2 == 0:\n",
    "            print(word)\n",
    "\n",
    "string = \"This is Mohammad Wasiq\"\n",
    "even_words(string)"
   ]
  },
  {
   "cell_type": "markdown",
   "id": "52a94900",
   "metadata": {},
   "source": [
    "**Q8 :** Python program to accept the strings which contains all vowels."
   ]
  },
  {
   "cell_type": "code",
   "execution_count": 11,
   "id": "d9997e83",
   "metadata": {
    "ExecuteTime": {
     "end_time": "2023-04-03T06:18:52.586737Z",
     "start_time": "2023-04-03T06:18:52.576765Z"
    }
   },
   "outputs": [
    {
     "name": "stdout",
     "output_type": "stream",
     "text": [
      "Not accepted\n"
     ]
    }
   ],
   "source": [
    "def check(string):\n",
    "    vowels = set('aeiou')\n",
    "    s = set({})\n",
    "    for char in string:\n",
    "        if char in vowels:\n",
    "            s.add(char)\n",
    "    return s == vowels\n",
    "\n",
    "string = \"This string contains all vowels\"\n",
    "if check(string):\n",
    "    print(\"Accepted\")\n",
    "else:\n",
    "    print(\"Not accepted\")"
   ]
  },
  {
   "cell_type": "markdown",
   "id": "a317541f",
   "metadata": {},
   "source": [
    "**Q9 :** Python | Count the Number of matching characters in a pair of string."
   ]
  },
  {
   "cell_type": "code",
   "execution_count": 12,
   "id": "27ef4429",
   "metadata": {
    "ExecuteTime": {
     "end_time": "2023-04-03T06:19:56.048477Z",
     "start_time": "2023-04-03T06:19:56.036513Z"
    }
   },
   "outputs": [
    {
     "name": "stdout",
     "output_type": "stream",
     "text": [
      "4\n"
     ]
    }
   ],
   "source": [
    "def count_matching_chars(str1, str2):\n",
    "    count = 0\n",
    "    for i in range(len(str1)):\n",
    "        if str1[i] == str2[i]:\n",
    "            count += 1\n",
    "    return count\n",
    "\n",
    "string1 = \"hello\"\n",
    "string2 = \"hella\"\n",
    "\n",
    "print(count_matching_chars(string1, string2))"
   ]
  },
  {
   "cell_type": "markdown",
   "id": "23a1c6ad",
   "metadata": {},
   "source": [
    "**Q10 :** Remove all duplicates from a given string in Python."
   ]
  },
  {
   "cell_type": "code",
   "execution_count": 13,
   "id": "ed6b8b54",
   "metadata": {
    "ExecuteTime": {
     "end_time": "2023-04-03T06:21:30.952501Z",
     "start_time": "2023-04-03T06:21:30.942526Z"
    }
   },
   "outputs": [
    {
     "name": "stdout",
     "output_type": "stream",
     "text": [
      "mohammad wasiq\n"
     ]
    }
   ],
   "source": [
    "def remove_duplicates(string):\n",
    "    # split string into words\n",
    "    words = string.split()\n",
    "\n",
    "    # convert all words to lowercase\n",
    "    words = [word.lower() for word in words]\n",
    "\n",
    "    # sort the words\n",
    "    words.sort()\n",
    "\n",
    "    # initialize a new list to hold unique words\n",
    "    unique_words = []\n",
    "\n",
    "    # loop through each word in the list\n",
    "    for i in range(len(words)):\n",
    "        # if the current word is not equal to the previous word\n",
    "        if i == 0 or words[i] != words[i - 1]:\n",
    "            # add it to the list of unique words\n",
    "            unique_words.append(words[i])\n",
    "\n",
    "    # join the unique words back into a string\n",
    "    result = \" \".join(unique_words)\n",
    "\n",
    "    return result\n",
    "\n",
    "string = \"Mohammad Wasiq Wasiq\"\n",
    "print(remove_duplicates(string))"
   ]
  }
 ],
 "metadata": {
  "kernelspec": {
   "display_name": "Python 3 (ipykernel)",
   "language": "python",
   "name": "python3"
  },
  "language_info": {
   "codemirror_mode": {
    "name": "ipython",
    "version": 3
   },
   "file_extension": ".py",
   "mimetype": "text/x-python",
   "name": "python",
   "nbconvert_exporter": "python",
   "pygments_lexer": "ipython3",
   "version": "3.9.12"
  },
  "latex_envs": {
   "LaTeX_envs_menu_present": true,
   "autoclose": false,
   "autocomplete": true,
   "bibliofile": "biblio.bib",
   "cite_by": "apalike",
   "current_citInitial": 1,
   "eqLabelWithNumbers": true,
   "eqNumInitial": 1,
   "hotkeys": {
    "equation": "Ctrl-E",
    "itemize": "Ctrl-I"
   },
   "labels_anchors": false,
   "latex_user_defs": false,
   "report_style_numbering": false,
   "user_envs_cfg": false
  },
  "nbTranslate": {
   "displayLangs": [
    "*"
   ],
   "hotkey": "alt-t",
   "langInMainMenu": true,
   "sourceLang": "en",
   "targetLang": "fr",
   "useGoogleTranslate": true
  },
  "toc": {
   "base_numbering": 1,
   "nav_menu": {},
   "number_sections": true,
   "sideBar": true,
   "skip_h1_title": false,
   "title_cell": "Table of Contents",
   "title_sidebar": "Contents",
   "toc_cell": false,
   "toc_position": {},
   "toc_section_display": true,
   "toc_window_display": false
  },
  "varInspector": {
   "cols": {
    "lenName": 16,
    "lenType": 16,
    "lenVar": 40
   },
   "kernels_config": {
    "python": {
     "delete_cmd_postfix": "",
     "delete_cmd_prefix": "del ",
     "library": "var_list.py",
     "varRefreshCmd": "print(var_dic_list())"
    },
    "r": {
     "delete_cmd_postfix": ") ",
     "delete_cmd_prefix": "rm(",
     "library": "var_list.r",
     "varRefreshCmd": "cat(var_dic_list()) "
    }
   },
   "types_to_exclude": [
    "module",
    "function",
    "builtin_function_or_method",
    "instance",
    "_Feature"
   ],
   "window_display": false
  }
 },
 "nbformat": 4,
 "nbformat_minor": 5
}
