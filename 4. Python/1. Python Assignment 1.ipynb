{
 "cells": [
  {
   "cell_type": "markdown",
   "id": "b47d9cf5",
   "metadata": {},
   "source": [
    "![image](https://user-images.githubusercontent.com/57321948/196933065-4b16c235-f3b9-4391-9cfe-4affcec87c35.png)\n",
    "\n",
    "# Name: Mohammad Wasiq\n",
    "\n",
    "## E-mail: `mohammadwasiq0786@gmail.com`\n",
    "\n",
    "### Python Assignment - 1"
   ]
  },
  {
   "cell_type": "markdown",
   "id": "3465c15d",
   "metadata": {},
   "source": [
    "**Q1 :** Write a Python program to find those numbers which are divisible by 7 and multiple of 5, between 1500 and 2700 (both included)."
   ]
  },
  {
   "cell_type": "code",
   "execution_count": 1,
   "id": "b0600b16",
   "metadata": {
    "ExecuteTime": {
     "end_time": "2023-04-03T05:04:22.268243Z",
     "start_time": "2023-04-03T05:04:22.248303Z"
    }
   },
   "outputs": [
    {
     "name": "stdout",
     "output_type": "stream",
     "text": [
      "[1505, 1540, 1575, 1610, 1645, 1680, 1715, 1750, 1785, 1820, 1855, 1890, 1925, 1960, 1995, 2030, 2065, 2100, 2135, 2170, 2205, 2240, 2275, 2310, 2345, 2380, 2415, 2450, 2485, 2520, 2555, 2590, 2625, 2660, 2695]\n"
     ]
    }
   ],
   "source": [
    "a= []\n",
    "for i in range(1500,2701):\n",
    "    if (i%7==0) and (i%5==0):\n",
    "        a.append(i)\n",
    "print(a)"
   ]
  },
  {
   "cell_type": "markdown",
   "id": "3932da37",
   "metadata": {},
   "source": [
    "**Q2 :** Python program to add two numbers."
   ]
  },
  {
   "cell_type": "code",
   "execution_count": 2,
   "id": "bb24e35a",
   "metadata": {
    "ExecuteTime": {
     "end_time": "2023-04-03T05:04:54.447276Z",
     "start_time": "2023-04-03T05:04:54.427329Z"
    }
   },
   "outputs": [
    {
     "data": {
      "text/plain": [
       "13"
      ]
     },
     "execution_count": 2,
     "metadata": {},
     "output_type": "execute_result"
    }
   ],
   "source": [
    "def sum(a, b):\n",
    "    c= a+b\n",
    "    return (c)\n",
    "\n",
    "sum(4, 9)"
   ]
  },
  {
   "cell_type": "markdown",
   "id": "a1c6be0a",
   "metadata": {},
   "source": [
    "**Q3 :** Maximum of two numbers in Python"
   ]
  },
  {
   "cell_type": "code",
   "execution_count": 3,
   "id": "17fb0183",
   "metadata": {
    "ExecuteTime": {
     "end_time": "2023-04-03T05:05:21.817046Z",
     "start_time": "2023-04-03T05:05:21.802100Z"
    }
   },
   "outputs": [
    {
     "name": "stdout",
     "output_type": "stream",
     "text": [
      "6\n"
     ]
    }
   ],
   "source": [
    "def maximum(a,b):\n",
    "    if a >=  b:\n",
    "        return a\n",
    "    else:\n",
    "        return b\n",
    "print(maximum(5, 6))    "
   ]
  },
  {
   "cell_type": "markdown",
   "id": "c5002f50",
   "metadata": {},
   "source": [
    "**Q 4 :** Python Program for factorial of a number"
   ]
  },
  {
   "cell_type": "code",
   "execution_count": 5,
   "id": "99a1cc47",
   "metadata": {
    "ExecuteTime": {
     "end_time": "2023-04-03T05:08:34.929717Z",
     "start_time": "2023-04-03T05:08:34.916752Z"
    }
   },
   "outputs": [
    {
     "name": "stdout",
     "output_type": "stream",
     "text": [
      "5040\n"
     ]
    }
   ],
   "source": [
    "def factorial(n):\n",
    "    if n == 0:\n",
    "        return 1\n",
    "    else:\n",
    "        return n * factorial(n-1)\n",
    "    \n",
    "print(factorial(7))"
   ]
  },
  {
   "cell_type": "markdown",
   "id": "72b67a95",
   "metadata": {},
   "source": [
    "**Q 5 :** Python Program for simple interest."
   ]
  },
  {
   "cell_type": "code",
   "execution_count": 6,
   "id": "3277c07f",
   "metadata": {
    "ExecuteTime": {
     "end_time": "2023-04-03T05:09:13.607355Z",
     "start_time": "2023-04-03T05:09:13.600375Z"
    }
   },
   "outputs": [
    {
     "name": "stdout",
     "output_type": "stream",
     "text": [
      "500.0\n"
     ]
    }
   ],
   "source": [
    "def simple_interest(p, n, r):\n",
    "    c= p*n*r/100\n",
    "    return c\n",
    "\n",
    "print(simple_interest(5000, 2, 5))"
   ]
  },
  {
   "cell_type": "markdown",
   "id": "52abdedc",
   "metadata": {},
   "source": [
    "**Q 6 :** Python Program for compound interest"
   ]
  },
  {
   "cell_type": "code",
   "execution_count": 7,
   "id": "6b392382",
   "metadata": {
    "ExecuteTime": {
     "end_time": "2023-04-03T05:09:50.557900Z",
     "start_time": "2023-04-03T05:09:50.535960Z"
    }
   },
   "outputs": [
    {
     "data": {
      "text/plain": [
       "512.5"
      ]
     },
     "execution_count": 7,
     "metadata": {},
     "output_type": "execute_result"
    }
   ],
   "source": [
    "def compound_interest(principle, rate, time):\n",
    "    Amount= principle*((1+rate/100)**time)\n",
    "    CI = Amount-principle\n",
    "    return CI\n",
    "\n",
    "compound_interest(5000, 5, 2)"
   ]
  },
  {
   "cell_type": "markdown",
   "id": "85c05b27",
   "metadata": {},
   "source": [
    "**Q 7 :** Python Program to check Armstrong Number."
   ]
  },
  {
   "cell_type": "code",
   "execution_count": 8,
   "id": "3603132c",
   "metadata": {
    "ExecuteTime": {
     "end_time": "2023-04-03T05:11:29.798968Z",
     "start_time": "2023-04-03T05:11:29.784009Z"
    }
   },
   "outputs": [
    {
     "name": "stdout",
     "output_type": "stream",
     "text": [
      "543 is not an Armstrong number\n"
     ]
    }
   ],
   "source": [
    "# num= input(\"Enter any number : \")\n",
    "num= 543 # Enter any number that we need to check\n",
    "\n",
    "order= len(str(num))\n",
    "\n",
    "sum= 0\n",
    "\n",
    "a= num\n",
    "while a > 0:\n",
    "    digit = a % 10\n",
    "    power = digit ** order\n",
    "    sum += power \n",
    "    a //= 10\n",
    "\n",
    "if num == sum:\n",
    "    print(num, \"is an Armstrong number\")\n",
    "else:\n",
    "    print(num, \"is not an Armstrong number\")"
   ]
  },
  {
   "cell_type": "markdown",
   "id": "6815f1a8",
   "metadata": {},
   "source": [
    "**Q 8 :** Python Program for Program to find area of a circle"
   ]
  },
  {
   "cell_type": "code",
   "execution_count": 9,
   "id": "e157287a",
   "metadata": {
    "ExecuteTime": {
     "end_time": "2023-04-03T05:12:00.790902Z",
     "start_time": "2023-04-03T05:12:00.769949Z"
    }
   },
   "outputs": [
    {
     "data": {
      "text/plain": [
       "153.93804002589985"
      ]
     },
     "execution_count": 9,
     "metadata": {},
     "output_type": "execute_result"
    }
   ],
   "source": [
    "import math\n",
    "def area(radius):\n",
    "    A= math.pi*radius**2\n",
    "    return A\n",
    "\n",
    "area(7)"
   ]
  },
  {
   "cell_type": "markdown",
   "id": "ceabf4d8",
   "metadata": {},
   "source": [
    "**Q 9 :** Python program to print all Prime numbers in an Interva."
   ]
  },
  {
   "cell_type": "code",
   "execution_count": 11,
   "id": "78200d6a",
   "metadata": {
    "ExecuteTime": {
     "end_time": "2023-04-03T05:14:18.476798Z",
     "start_time": "2023-04-03T05:14:14.707289Z"
    }
   },
   "outputs": [
    {
     "name": "stdout",
     "output_type": "stream",
     "text": [
      "Enter lower value : 1\n",
      "Enter upper value : 100\n",
      "[2, 3, 5, 7, 11, 13, 17, 19, 23, 29, 31, 37, 41, 43, 47, 53, 59, 61, 67, 71, 73, 79, 83, 89, 97]\n"
     ]
    }
   ],
   "source": [
    "lower = int(input(\"Enter lower value : \"))\n",
    "upper = int(input(\"Enter upper value : \"))\n",
    "l = []\n",
    "for num in range(lower, upper + 1):\n",
    "    if num > 1:\n",
    "        for i in range(2, num):\n",
    "            if (num % i) == 0:\n",
    "                break\n",
    "        else:\n",
    "            l.append(num)\n",
    "print(l)"
   ]
  },
  {
   "cell_type": "markdown",
   "id": "99c98316",
   "metadata": {},
   "source": [
    "**Q10 :** Python program to check whether a number is Prime or not."
   ]
  },
  {
   "cell_type": "code",
   "execution_count": 12,
   "id": "42e20fe3",
   "metadata": {
    "ExecuteTime": {
     "end_time": "2023-04-03T05:15:27.483980Z",
     "start_time": "2023-04-03T05:15:27.466029Z"
    }
   },
   "outputs": [
    {
     "name": "stdout",
     "output_type": "stream",
     "text": [
      "prime\n"
     ]
    }
   ],
   "source": [
    "num= 29\n",
    "\n",
    "for i in range(2,num):\n",
    "    if (num % i) == 0:\n",
    "        print(\"Not prime number\")\n",
    "        break\n",
    "else:\n",
    "     print('prime')"
   ]
  }
 ],
 "metadata": {
  "kernelspec": {
   "display_name": "Python 3 (ipykernel)",
   "language": "python",
   "name": "python3"
  },
  "language_info": {
   "codemirror_mode": {
    "name": "ipython",
    "version": 3
   },
   "file_extension": ".py",
   "mimetype": "text/x-python",
   "name": "python",
   "nbconvert_exporter": "python",
   "pygments_lexer": "ipython3",
   "version": "3.9.12"
  },
  "latex_envs": {
   "LaTeX_envs_menu_present": true,
   "autoclose": false,
   "autocomplete": true,
   "bibliofile": "biblio.bib",
   "cite_by": "apalike",
   "current_citInitial": 1,
   "eqLabelWithNumbers": true,
   "eqNumInitial": 1,
   "hotkeys": {
    "equation": "Ctrl-E",
    "itemize": "Ctrl-I"
   },
   "labels_anchors": false,
   "latex_user_defs": false,
   "report_style_numbering": false,
   "user_envs_cfg": false
  },
  "nbTranslate": {
   "displayLangs": [
    "*"
   ],
   "hotkey": "alt-t",
   "langInMainMenu": true,
   "sourceLang": "en",
   "targetLang": "fr",
   "useGoogleTranslate": true
  },
  "toc": {
   "base_numbering": 1,
   "nav_menu": {},
   "number_sections": true,
   "sideBar": true,
   "skip_h1_title": false,
   "title_cell": "Table of Contents",
   "title_sidebar": "Contents",
   "toc_cell": false,
   "toc_position": {},
   "toc_section_display": true,
   "toc_window_display": false
  },
  "varInspector": {
   "cols": {
    "lenName": 16,
    "lenType": 16,
    "lenVar": 40
   },
   "kernels_config": {
    "python": {
     "delete_cmd_postfix": "",
     "delete_cmd_prefix": "del ",
     "library": "var_list.py",
     "varRefreshCmd": "print(var_dic_list())"
    },
    "r": {
     "delete_cmd_postfix": ") ",
     "delete_cmd_prefix": "rm(",
     "library": "var_list.r",
     "varRefreshCmd": "cat(var_dic_list()) "
    }
   },
   "types_to_exclude": [
    "module",
    "function",
    "builtin_function_or_method",
    "instance",
    "_Feature"
   ],
   "window_display": false
  }
 },
 "nbformat": 4,
 "nbformat_minor": 5
}
