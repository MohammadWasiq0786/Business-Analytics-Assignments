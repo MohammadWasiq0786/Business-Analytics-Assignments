{
 "cells": [
  {
   "cell_type": "markdown",
   "id": "3c368e12",
   "metadata": {},
   "source": [
    "![image](https://user-images.githubusercontent.com/57321948/196933065-4b16c235-f3b9-4391-9cfe-4affcec87c35.png)\n",
    "\n",
    "# Name: Mohammad Wasiq\n",
    "\n",
    "## E-mail: `mohammadwasiq0786@gmail.com`\n",
    "\n",
    "### Python Assignment - 8"
   ]
  },
  {
   "cell_type": "markdown",
   "id": "1ebe27f9",
   "metadata": {},
   "source": [
    "**Q1 :** Python – Least Frequent Character in String"
   ]
  },
  {
   "cell_type": "code",
   "execution_count": 1,
   "id": "287500f6",
   "metadata": {
    "ExecuteTime": {
     "end_time": "2023-04-03T06:35:10.919133Z",
     "start_time": "2023-04-03T06:35:10.898191Z"
    }
   },
   "outputs": [
    {
     "name": "stdout",
     "output_type": "stream",
     "text": [
      "['M', 'o', 'h', 'd', ' ', 'W', 's', 'i', 'q']\n"
     ]
    }
   ],
   "source": [
    "from collections import Counter\n",
    "\n",
    "def least_frequent(string):\n",
    "    # Creating a dictionary containing count of characters\n",
    "    freq_dict = dict(Counter(string))\n",
    "\n",
    "    # Finding minimum value\n",
    "    min_value = min(freq_dict.values())\n",
    "\n",
    "    # Finding keys with minimum value\n",
    "    least_freq = [key for key in freq_dict if freq_dict[key] == min_value]\n",
    "\n",
    "    # Returning list of keys with minimum value\n",
    "    return least_freq\n",
    "\n",
    "string = \"Mohammad Wasiq\"\n",
    "print(least_frequent(string))"
   ]
  },
  {
   "cell_type": "markdown",
   "id": "10d68592",
   "metadata": {},
   "source": [
    "**Q2 :** Python | Maximum frequency character in String."
   ]
  },
  {
   "cell_type": "code",
   "execution_count": 2,
   "id": "592226ef",
   "metadata": {
    "ExecuteTime": {
     "end_time": "2023-04-03T06:35:13.088157Z",
     "start_time": "2023-04-03T06:35:13.069208Z"
    }
   },
   "outputs": [
    {
     "name": "stdout",
     "output_type": "stream",
     "text": [
      "Maximum occurring character is: a\n"
     ]
    }
   ],
   "source": [
    "string = \"Mohammad Wasiq\"\n",
    "freq_dict = {}\n",
    "for char in string:\n",
    "    if char in freq_dict:\n",
    "        freq_dict[char] += 1\n",
    "    else:\n",
    "        freq_dict[char] = 1\n",
    "\n",
    "max_char = max(freq_dict, key=freq_dict.get)\n",
    "\n",
    "print(\"Maximum occurring character is:\", max_char)"
   ]
  },
  {
   "cell_type": "markdown",
   "id": "bc569cb9",
   "metadata": {},
   "source": [
    "**Q3 :** Python | Program to check if a string contains any special character"
   ]
  },
  {
   "cell_type": "code",
   "execution_count": 3,
   "id": "70323c80",
   "metadata": {
    "ExecuteTime": {
     "end_time": "2023-04-03T06:35:35.461711Z",
     "start_time": "2023-04-03T06:35:35.451736Z"
    }
   },
   "outputs": [
    {
     "name": "stdout",
     "output_type": "stream",
     "text": [
      "String contains special character.\n"
     ]
    }
   ],
   "source": [
    "import re\n",
    "\n",
    "def check_string(string):\n",
    "    regex = re.compile('[@_!#$%^&*()<>?/\\|}{~:]')\n",
    "    if(regex.search(string) == None):\n",
    "        print(\"String does not contain any special character.\")\n",
    "    else:\n",
    "        print(\"String contains special character.\")\n",
    "\n",
    "string = \"Mohammad Wasiq!\"\n",
    "check_string(string)"
   ]
  },
  {
   "cell_type": "markdown",
   "id": "b8df8d95",
   "metadata": {},
   "source": [
    "**Q4 :** Generating random strings until a given string is generated."
   ]
  },
  {
   "cell_type": "markdown",
   "id": "0a90a566",
   "metadata": {},
   "source": [
    "```python\n",
    "import random\n",
    "import string\n",
    "\n",
    "def generate_random_string(length):\n",
    "    letters = string.ascii_lowercase + string.digits\n",
    "    return ''.join(random.choice(letters) for i in range(length))\n",
    "\n",
    "def generate_until_string(string_to_match):\n",
    "    attempts = 0\n",
    "    matched = False\n",
    "    while not matched:\n",
    "        attempts += 1\n",
    "        random_string = generate_random_string(len(string_to_match))\n",
    "        if random_string == string_to_match:\n",
    "            matched = True\n",
    "            print(f\"Match found after {attempts} attempts.\")\n",
    "        else:\n",
    "            print(f\"Attempt {attempts}: {random_string}\")\n",
    "\n",
    "string_to_match = \"hello\"\n",
    "generate_until_string(string_to_match)\n",
    "```"
   ]
  },
  {
   "cell_type": "markdown",
   "id": "49ac7113",
   "metadata": {},
   "source": [
    "**Q5 :** Find words which are greater than given length k."
   ]
  },
  {
   "cell_type": "code",
   "execution_count": 4,
   "id": "c5e62a4d",
   "metadata": {
    "ExecuteTime": {
     "end_time": "2023-04-03T06:35:40.281893Z",
     "start_time": "2023-04-03T06:35:40.264939Z"
    }
   },
   "outputs": [
    {
     "name": "stdout",
     "output_type": "stream",
     "text": [
      "['This', 'Mohammad', 'Wasiq']\n"
     ]
    }
   ],
   "source": [
    "def find_words_greater_than_k(string, k):\n",
    "    words = string.split()\n",
    "    result = []\n",
    "    for word in words:\n",
    "        if len(word) > k:\n",
    "            result.append(word)\n",
    "    return result\n",
    "\n",
    "string = \"This is Mohammad Wasiq\"\n",
    "k = 3\n",
    "print(find_words_greater_than_k(string, k))"
   ]
  },
  {
   "cell_type": "markdown",
   "id": "9a26a88a",
   "metadata": {},
   "source": [
    "**Q6:** Python program for removing i-th character from a string."
   ]
  },
  {
   "cell_type": "code",
   "execution_count": 5,
   "id": "f481cace",
   "metadata": {
    "ExecuteTime": {
     "end_time": "2023-04-03T06:35:44.842519Z",
     "start_time": "2023-04-03T06:35:44.829553Z"
    }
   },
   "outputs": [
    {
     "name": "stdout",
     "output_type": "stream",
     "text": [
      "Helo\n"
     ]
    }
   ],
   "source": [
    "def remove_char(string, i):\n",
    "    return string[:i] + string[i+1:]\n",
    "\n",
    "print(remove_char(\"Hello\", 2))"
   ]
  },
  {
   "cell_type": "markdown",
   "id": "314e867a",
   "metadata": {},
   "source": [
    "**Q7 :** Python program to split and join a string."
   ]
  },
  {
   "cell_type": "code",
   "execution_count": 6,
   "id": "43ff5ba6",
   "metadata": {
    "ExecuteTime": {
     "end_time": "2023-04-03T06:41:09.781552Z",
     "start_time": "2023-04-03T06:41:09.762599Z"
    }
   },
   "outputs": [
    {
     "name": "stdout",
     "output_type": "stream",
     "text": [
      "['Mohamamd Wasiq']\n"
     ]
    }
   ],
   "source": [
    "string = \"Mohamamd Wasiq\"\n",
    "print(string.split(\",\"))"
   ]
  },
  {
   "cell_type": "code",
   "execution_count": 7,
   "id": "63f021ca",
   "metadata": {
    "ExecuteTime": {
     "end_time": "2023-04-03T06:41:31.058359Z",
     "start_time": "2023-04-03T06:41:31.040427Z"
    }
   },
   "outputs": [
    {
     "name": "stdout",
     "output_type": "stream",
     "text": [
      "Mohammad, Wasiq\n"
     ]
    }
   ],
   "source": [
    "list = ['Mohammad', 'Wasiq']\n",
    "separator = ', '\n",
    "print(separator.join(list))"
   ]
  },
  {
   "cell_type": "markdown",
   "id": "83bed08f",
   "metadata": {},
   "source": [
    "**Q8 :** Python | Check if a given string is binary string or not."
   ]
  },
  {
   "cell_type": "code",
   "execution_count": 8,
   "id": "31182a39",
   "metadata": {
    "ExecuteTime": {
     "end_time": "2023-04-03T06:43:24.633461Z",
     "start_time": "2023-04-03T06:43:24.606533Z"
    }
   },
   "outputs": [
    {
     "data": {
      "text/plain": [
       "True"
      ]
     },
     "execution_count": 8,
     "metadata": {},
     "output_type": "execute_result"
    }
   ],
   "source": [
    "def check_binary(string):\n",
    "    binary_str = '10'\n",
    "    for char in string:\n",
    "        if char not in binary_str:\n",
    "            return False\n",
    "    return True\n",
    "\n",
    "check_binary(\"1010101010\")"
   ]
  },
  {
   "cell_type": "markdown",
   "id": "9a37d286",
   "metadata": {},
   "source": [
    "**Q9 :** Python program to find uncommon words from two Strings."
   ]
  },
  {
   "cell_type": "code",
   "execution_count": 9,
   "id": "902cbf1b",
   "metadata": {
    "ExecuteTime": {
     "end_time": "2023-04-03T06:44:32.806768Z",
     "start_time": "2023-04-03T06:44:32.799787Z"
    }
   },
   "outputs": [
    {
     "name": "stdout",
     "output_type": "stream",
     "text": [
      "Uncommon words: {'everyone', 'world'}\n"
     ]
    }
   ],
   "source": [
    "def uncommon_words(str1, str2):\n",
    "    str1Coll = str1.split()\n",
    "    str2Coll = str2.split()\n",
    "    uncommonWords = set(str1Coll).symmetric_difference(set(str2Coll))\n",
    "    return uncommonWords\n",
    "\n",
    "str1 = \"Hello world\"\n",
    "str2 = \"Hello everyone\"\n",
    "print(\"Uncommon words:\", uncommon_words(str1, str2))"
   ]
  },
  {
   "cell_type": "markdown",
   "id": "b5b7e438",
   "metadata": {},
   "source": [
    "**Q10 :** Python – Replace duplicate Occurrence in String"
   ]
  },
  {
   "cell_type": "code",
   "execution_count": 10,
   "id": "7aa3ebb0",
   "metadata": {
    "ExecuteTime": {
     "end_time": "2023-04-03T06:45:33.035832Z",
     "start_time": "2023-04-03T06:45:33.029848Z"
    }
   },
   "outputs": [],
   "source": [
    "def replace_duplicate_occurrence(string):\n",
    "    return ' '.join(dict.fromkeys(string.split()))"
   ]
  },
  {
   "cell_type": "code",
   "execution_count": 11,
   "id": "97210e95",
   "metadata": {
    "ExecuteTime": {
     "end_time": "2023-04-03T06:45:54.250227Z",
     "start_time": "2023-04-03T06:45:54.238271Z"
    }
   },
   "outputs": [
    {
     "name": "stdout",
     "output_type": "stream",
     "text": [
      "Original string: Python is great and Java is also great\n",
      "String after removing duplicate occurrence: Python is great and Java also\n"
     ]
    }
   ],
   "source": [
    "string = \"Python is great and Java is also great\"\n",
    "print(\"Original string:\", string)\n",
    "\n",
    "print(\"String after removing duplicate occurrence:\", replace_duplicate_occurrence(string))"
   ]
  }
 ],
 "metadata": {
  "kernelspec": {
   "display_name": "Python 3 (ipykernel)",
   "language": "python",
   "name": "python3"
  },
  "language_info": {
   "codemirror_mode": {
    "name": "ipython",
    "version": 3
   },
   "file_extension": ".py",
   "mimetype": "text/x-python",
   "name": "python",
   "nbconvert_exporter": "python",
   "pygments_lexer": "ipython3",
   "version": "3.9.12"
  },
  "latex_envs": {
   "LaTeX_envs_menu_present": true,
   "autoclose": false,
   "autocomplete": true,
   "bibliofile": "biblio.bib",
   "cite_by": "apalike",
   "current_citInitial": 1,
   "eqLabelWithNumbers": true,
   "eqNumInitial": 1,
   "hotkeys": {
    "equation": "Ctrl-E",
    "itemize": "Ctrl-I"
   },
   "labels_anchors": false,
   "latex_user_defs": false,
   "report_style_numbering": false,
   "user_envs_cfg": false
  },
  "nbTranslate": {
   "displayLangs": [
    "*"
   ],
   "hotkey": "alt-t",
   "langInMainMenu": true,
   "sourceLang": "en",
   "targetLang": "fr",
   "useGoogleTranslate": true
  },
  "toc": {
   "base_numbering": 1,
   "nav_menu": {},
   "number_sections": true,
   "sideBar": true,
   "skip_h1_title": false,
   "title_cell": "Table of Contents",
   "title_sidebar": "Contents",
   "toc_cell": false,
   "toc_position": {},
   "toc_section_display": true,
   "toc_window_display": false
  },
  "varInspector": {
   "cols": {
    "lenName": 16,
    "lenType": 16,
    "lenVar": 40
   },
   "kernels_config": {
    "python": {
     "delete_cmd_postfix": "",
     "delete_cmd_prefix": "del ",
     "library": "var_list.py",
     "varRefreshCmd": "print(var_dic_list())"
    },
    "r": {
     "delete_cmd_postfix": ") ",
     "delete_cmd_prefix": "rm(",
     "library": "var_list.r",
     "varRefreshCmd": "cat(var_dic_list()) "
    }
   },
   "types_to_exclude": [
    "module",
    "function",
    "builtin_function_or_method",
    "instance",
    "_Feature"
   ],
   "window_display": false
  }
 },
 "nbformat": 4,
 "nbformat_minor": 5
}
