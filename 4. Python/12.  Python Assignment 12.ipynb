{
 "cells": [
  {
   "cell_type": "markdown",
   "id": "7b9c073a",
   "metadata": {},
   "source": [
    "![image](https://user-images.githubusercontent.com/57321948/196933065-4b16c235-f3b9-4391-9cfe-4affcec87c35.png)\n",
    "\n",
    "# Name: Mohammad Wasiq\n",
    "\n",
    "## E-mail: `mohammadwasiq0786@gmail.com`\n",
    "\n",
    "### Python Assignment - 12"
   ]
  },
  {
   "cell_type": "markdown",
   "id": "991cc626",
   "metadata": {},
   "source": [
    "**Q1 :** Python | Convert a list of Tuples into Dictionary."
   ]
  },
  {
   "cell_type": "code",
   "execution_count": 1,
   "id": "bf080509",
   "metadata": {
    "ExecuteTime": {
     "end_time": "2023-04-03T10:07:37.244725Z",
     "start_time": "2023-04-03T10:07:37.227770Z"
    }
   },
   "outputs": [
    {
     "name": "stdout",
     "output_type": "stream",
     "text": [
      "{1: 'apple', 2: 'banana', 3: 'orange'}\n"
     ]
    }
   ],
   "source": [
    "list_of_tuples = [(1, 'apple'), (2, 'banana'), (3, 'orange')]\n",
    "dictionary = dict(list_of_tuples)\n",
    "print(dictionary)"
   ]
  },
  {
   "cell_type": "markdown",
   "id": "1db3e610",
   "metadata": {},
   "source": [
    "**Q2 :** Python counter and dictionary intersection example (Make a string using deletion and rearrangement)"
   ]
  },
  {
   "cell_type": "code",
   "execution_count": 2,
   "id": "a8281e47",
   "metadata": {
    "ExecuteTime": {
     "end_time": "2023-04-03T10:08:51.680261Z",
     "start_time": "2023-04-03T10:08:51.656326Z"
    }
   },
   "outputs": [
    {
     "name": "stdout",
     "output_type": "stream",
     "text": [
      "The first string is :\n",
      "Hi Wasiq\n",
      "The second string is :\n",
      "how are yoU\n",
      "It is not possible\n"
     ]
    }
   ],
   "source": [
    "from collections import Counter\n",
    "\n",
    "def make_string(str_1,str_2):\n",
    "    dict_one = Counter(str_1)\n",
    "    dict_two = Counter(str_2)\n",
    "    result = dict_one & dict_two\n",
    "    return result == dict_one\n",
    "\n",
    "string_1 = 'Hi Wasiq'\n",
    "string_2 = 'how are yoU'\n",
    "\n",
    "print(\"The first string is :\")\n",
    "print(string_1)\n",
    "print(\"The second string is :\")\n",
    "print(string_2)\n",
    "\n",
    "if (make_string(string_1,string_2)==True):\n",
    "    print(\"It is possible\")\n",
    "else:\n",
    "    print(\"It is not possible\")"
   ]
  },
  {
   "cell_type": "markdown",
   "id": "a05c8bea",
   "metadata": {},
   "source": [
    "**Q3 :** Python dictionary, set and counter to check if frequencies can become same."
   ]
  },
  {
   "cell_type": "code",
   "execution_count": 3,
   "id": "a694f408",
   "metadata": {
    "ExecuteTime": {
     "end_time": "2023-04-03T10:10:04.895912Z",
     "start_time": "2023-04-03T10:10:04.873969Z"
    }
   },
   "outputs": [
    {
     "name": "stdout",
     "output_type": "stream",
     "text": [
      "True\n"
     ]
    }
   ],
   "source": [
    "from collections import Counter\n",
    "\n",
    "def same_frequency(input):\n",
    "    freq_dict = Counter(input)\n",
    "    freq_set = set(freq_dict.values())\n",
    "    if len(freq_set) == 1:\n",
    "        return True\n",
    "    elif len(freq_set) > 2:\n",
    "        return False\n",
    "    else:\n",
    "        max_freq = max(freq_dict.values())\n",
    "        min_freq = min(freq_dict.values())\n",
    "        max_freq_char = [k for k, v in freq_dict.items() if v == max_freq]\n",
    "        min_freq_char = [k for k, v in freq_dict.items() if v == min_freq]\n",
    "        if (max_freq - 1 == min_freq and len(min_freq_char) == 1) or (min_freq == 1 and len(max_freq_char) == 1):\n",
    "            return True\n",
    "        else:\n",
    "            return False\n",
    "\n",
    "print(same_frequency(\"xyyzz\"))"
   ]
  },
  {
   "cell_type": "markdown",
   "id": "c906e821",
   "metadata": {},
   "source": [
    "**Q4 :** Scraping And Finding Ordered Words In A Dictionary using Python"
   ]
  },
  {
   "cell_type": "code",
   "execution_count": 13,
   "id": "c800555a",
   "metadata": {
    "ExecuteTime": {
     "end_time": "2023-04-03T10:21:06.574163Z",
     "start_time": "2023-04-03T10:21:06.558203Z"
    }
   },
   "outputs": [
    {
     "ename": "IndentationError",
     "evalue": "expected an indented block (3522224429.py, line 19)",
     "output_type": "error",
     "traceback": [
      "\u001b[1;36m  Input \u001b[1;32mIn [13]\u001b[1;36m\u001b[0m\n\u001b[1;33m    if (ord(my_word[i]) > ord(my_word[i+1])):\u001b[0m\n\u001b[1;37m    ^\u001b[0m\n\u001b[1;31mIndentationError\u001b[0m\u001b[1;31m:\u001b[0m expected an indented block\n"
     ]
    }
   ],
   "source": [
    "import requests\n",
    "def Words_find():\n",
    "    my_url = \"\"#put thisurl of .txt files in any website\n",
    "    my_fetchData = requests.get(my_url)\n",
    "    my_wordList = my_fetchData.content\n",
    "    my_wordList = my_wordList.decode(\"utf-8\").split()\n",
    "    return my_wordList\n",
    "def wordordered():\n",
    "    collection = Words_find()\n",
    "    collection = collection[16:]\n",
    "    my_word = ''\n",
    "    for my_word in collection:\n",
    "        result = 'ordered'\n",
    "        i = 0\n",
    "        l = len(my_word) - 1\n",
    "    if (len(my_word) < 3):\n",
    "        continue\n",
    "        while i < l:\n",
    "    if (ord(my_word[i]) > ord(my_word[i+1])):\n",
    "        result = 'not ordered'\n",
    "        break\n",
    "        else:\n",
    "    i += 1\n",
    "if (result == 'ordered'):\n",
    "    print(my_word,': ',result)"
   ]
  },
  {
   "cell_type": "markdown",
   "id": "3ce5625e",
   "metadata": {},
   "source": [
    "**Q5 :** Possible Words using given characters in Python"
   ]
  },
  {
   "cell_type": "code",
   "execution_count": 14,
   "id": "a7ac6344",
   "metadata": {
    "ExecuteTime": {
     "end_time": "2023-04-03T10:22:48.423239Z",
     "start_time": "2023-04-03T10:22:48.401296Z"
    }
   },
   "outputs": [
    {
     "name": "stdout",
     "output_type": "stream",
     "text": [
      "hi\n",
      "bye\n"
     ]
    }
   ],
   "source": [
    "def possible_words(lwords, charSet):\n",
    "    for word in lwords:\n",
    "        flag = 1\n",
    "        for letter in word:\n",
    "            if letter not in charSet:\n",
    "                flag = 0\n",
    "                break\n",
    "        if flag == 1:\n",
    "            print(word)\n",
    "\n",
    "lwords = [\"hi\", \"hello\", \"bye\", \"good\"]\n",
    "charSet = [\"h\", \"i\", \"b\", \"y\", \"e\"]\n",
    "possible_words(lwords, charSet)"
   ]
  },
  {
   "cell_type": "markdown",
   "id": "ec324d70",
   "metadata": {},
   "source": [
    "**Q6 :** Python – Keys associated with Values in Dictionary"
   ]
  },
  {
   "cell_type": "code",
   "execution_count": 15,
   "id": "bb2097a7",
   "metadata": {
    "ExecuteTime": {
     "end_time": "2023-04-03T10:23:31.436094Z",
     "start_time": "2023-04-03T10:23:31.414157Z"
    }
   },
   "outputs": [
    {
     "name": "stdout",
     "output_type": "stream",
     "text": [
      "['o']\n"
     ]
    }
   ],
   "source": [
    "def getKeysByValue(dictOfElements, valueToFind):\n",
    "    listOfKeys = list()\n",
    "    listOfItems = dictOfElements.items()\n",
    "    for item in listOfItems:\n",
    "        if item[1] == valueToFind:\n",
    "            listOfKeys.append(item[0])\n",
    "    return listOfKeys\n",
    "\n",
    "dictOfElements = {'a': 'apple', 'b': 'banana', 'o': 'orange', 'p': 'pear'}\n",
    "valueToFind = 'orange'\n",
    "print(getKeysByValue(dictOfElements, valueToFind))"
   ]
  },
  {
   "cell_type": "markdown",
   "id": "1da7fa7e",
   "metadata": {},
   "source": [
    "**Q7 :** Python program to Find the size of a Tuple."
   ]
  },
  {
   "cell_type": "code",
   "execution_count": 16,
   "id": "d67a9b51",
   "metadata": {
    "ExecuteTime": {
     "end_time": "2023-04-03T10:24:29.103395Z",
     "start_time": "2023-04-03T10:24:29.081454Z"
    }
   },
   "outputs": [
    {
     "name": "stdout",
     "output_type": "stream",
     "text": [
      "Size of tuple1:  72\n",
      "Size of tuple2:  64\n",
      "Size of tuple3:  48\n"
     ]
    }
   ],
   "source": [
    "import sys\n",
    "\n",
    "tuple1 = (0, 1, 2, 3)\n",
    "print(\"Size of tuple1: \", sys.getsizeof(tuple1))\n",
    "\n",
    "tuple2 = ('a', 'b', 'c')\n",
    "print(\"Size of tuple2: \", sys.getsizeof(tuple2))\n",
    "\n",
    "tuple3 = (0,)\n",
    "print(\"Size of tuple3: \", sys.getsizeof(tuple3))"
   ]
  },
  {
   "cell_type": "markdown",
   "id": "4479640c",
   "metadata": {},
   "source": [
    "**Q8 :** Python – Maximum and Minimum K elements in Tuple."
   ]
  },
  {
   "cell_type": "code",
   "execution_count": 17,
   "id": "3b9e2508",
   "metadata": {
    "ExecuteTime": {
     "end_time": "2023-04-03T10:26:00.267551Z",
     "start_time": "2023-04-03T10:26:00.256579Z"
    }
   },
   "outputs": [
    {
     "name": "stdout",
     "output_type": "stream",
     "text": [
      "Tuple: (4, 9, 1, 7, 3, 6, 5, 2)\n",
      "K maximum and minimum values: [1, 2, 7, 9]\n"
     ]
    }
   ],
   "source": [
    "def max_min_k_elements(tuple1, k):\n",
    "    result = []\n",
    "    list1 = list(tuple1)\n",
    "    sorted_list = sorted(list1)\n",
    "    for i in range(k):\n",
    "        result.append(sorted_list[i])\n",
    "    for i in range(len(sorted_list)-k, len(sorted_list)):\n",
    "        result.append(sorted_list[i])\n",
    "    return result\n",
    "\n",
    "tuple1 = (4, 9, 1, 7, 3, 6, 5, 2)\n",
    "k = 2\n",
    "print(\"Tuple:\", tuple1)\n",
    "print(\"K maximum and minimum values:\", max_min_k_elements(tuple1, k))"
   ]
  },
  {
   "cell_type": "markdown",
   "id": "0c4bc35d",
   "metadata": {},
   "source": [
    "**Q9 :** Create a list of tuples from given list having number and its cube in each tuple"
   ]
  },
  {
   "cell_type": "code",
   "execution_count": 18,
   "id": "eaf6bd06",
   "metadata": {
    "ExecuteTime": {
     "end_time": "2023-04-03T10:26:45.800216Z",
     "start_time": "2023-04-03T10:26:45.785259Z"
    }
   },
   "outputs": [
    {
     "name": "stdout",
     "output_type": "stream",
     "text": [
      "List: [2, 3, 4, 5]\n",
      "List of tuples: [(2, 8), (3, 27), (4, 64), (5, 125)]\n"
     ]
    }
   ],
   "source": [
    "def create_tuple_list(list1):\n",
    "    result = [(val, pow(val, 3)) for val in list1]\n",
    "    return result\n",
    "\n",
    "list1 = [2, 3, 4, 5]\n",
    "print(\"List:\", list1)\n",
    "print(\"List of tuples:\", create_tuple_list(list1))"
   ]
  },
  {
   "cell_type": "markdown",
   "id": "cb6aa88c",
   "metadata": {},
   "source": [
    "**Q10 :** Python – Adding Tuple to List and vice – versa"
   ]
  },
  {
   "cell_type": "code",
   "execution_count": 19,
   "id": "d3eb88df",
   "metadata": {
    "ExecuteTime": {
     "end_time": "2023-04-03T10:27:41.063379Z",
     "start_time": "2023-04-03T10:27:41.043435Z"
    }
   },
   "outputs": [
    {
     "name": "stdout",
     "output_type": "stream",
     "text": [
      "List after adding tuple: [1, 2, 3, 4, 5, 6]\n"
     ]
    }
   ],
   "source": [
    "# Adding tuple to list\n",
    "\n",
    "list1 = [1, 2, 3]\n",
    "tuple1 = (4, 5, 6)\n",
    "list1 += tuple1\n",
    "print(\"List after adding tuple:\", list1)"
   ]
  },
  {
   "cell_type": "code",
   "execution_count": 20,
   "id": "322e18a7",
   "metadata": {
    "ExecuteTime": {
     "end_time": "2023-04-03T10:27:48.131192Z",
     "start_time": "2023-04-03T10:27:48.109251Z"
    }
   },
   "outputs": [
    {
     "name": "stdout",
     "output_type": "stream",
     "text": [
      "Tuple after adding list: (7, 8, 9, 10, 11, 12)\n"
     ]
    }
   ],
   "source": [
    "# Adding list to tuple\n",
    "\n",
    "tuple2 = (7, 8, 9)\n",
    "list2 = [10, 11, 12]\n",
    "tuple2 += tuple(list2)\n",
    "print(\"Tuple after adding list:\", tuple2)"
   ]
  },
  {
   "cell_type": "markdown",
   "id": "90ff35a0",
   "metadata": {},
   "source": [
    "**Q11 :** Python – Closest Pair to Kth index element in Tuple"
   ]
  },
  {
   "cell_type": "code",
   "execution_count": 21,
   "id": "9422ebe2",
   "metadata": {
    "ExecuteTime": {
     "end_time": "2023-04-03T10:28:36.979503Z",
     "start_time": "2023-04-03T10:28:36.968532Z"
    }
   },
   "outputs": [
    {
     "name": "stdout",
     "output_type": "stream",
     "text": [
      "The nearest tuple to Kth index element is :  (45, 56)\n"
     ]
    }
   ],
   "source": [
    "# Initializing list of tuples\n",
    "test_list = [(15, 20), (19, 23), (45, 56), (67, 78)]\n",
    "\n",
    "# Initializing tuple pair and K\n",
    "tuple_pair = (30, 40)\n",
    "K = 1\n",
    "\n",
    "# Finding closest pair\n",
    "res = min(test_list, key=lambda x: abs(x[K] - tuple_pair[K]))\n",
    "\n",
    "# Printing result\n",
    "print(\"The nearest tuple to Kth index element is : \", res)"
   ]
  }
 ],
 "metadata": {
  "kernelspec": {
   "display_name": "Python 3 (ipykernel)",
   "language": "python",
   "name": "python3"
  },
  "language_info": {
   "codemirror_mode": {
    "name": "ipython",
    "version": 3
   },
   "file_extension": ".py",
   "mimetype": "text/x-python",
   "name": "python",
   "nbconvert_exporter": "python",
   "pygments_lexer": "ipython3",
   "version": "3.9.12"
  },
  "latex_envs": {
   "LaTeX_envs_menu_present": true,
   "autoclose": false,
   "autocomplete": true,
   "bibliofile": "biblio.bib",
   "cite_by": "apalike",
   "current_citInitial": 1,
   "eqLabelWithNumbers": true,
   "eqNumInitial": 1,
   "hotkeys": {
    "equation": "Ctrl-E",
    "itemize": "Ctrl-I"
   },
   "labels_anchors": false,
   "latex_user_defs": false,
   "report_style_numbering": false,
   "user_envs_cfg": false
  },
  "nbTranslate": {
   "displayLangs": [
    "*"
   ],
   "hotkey": "alt-t",
   "langInMainMenu": true,
   "sourceLang": "en",
   "targetLang": "fr",
   "useGoogleTranslate": true
  },
  "toc": {
   "base_numbering": 1,
   "nav_menu": {},
   "number_sections": true,
   "sideBar": true,
   "skip_h1_title": false,
   "title_cell": "Table of Contents",
   "title_sidebar": "Contents",
   "toc_cell": false,
   "toc_position": {},
   "toc_section_display": true,
   "toc_window_display": false
  },
  "varInspector": {
   "cols": {
    "lenName": 16,
    "lenType": 16,
    "lenVar": 40
   },
   "kernels_config": {
    "python": {
     "delete_cmd_postfix": "",
     "delete_cmd_prefix": "del ",
     "library": "var_list.py",
     "varRefreshCmd": "print(var_dic_list())"
    },
    "r": {
     "delete_cmd_postfix": ") ",
     "delete_cmd_prefix": "rm(",
     "library": "var_list.r",
     "varRefreshCmd": "cat(var_dic_list()) "
    }
   },
   "types_to_exclude": [
    "module",
    "function",
    "builtin_function_or_method",
    "instance",
    "_Feature"
   ],
   "window_display": false
  }
 },
 "nbformat": 4,
 "nbformat_minor": 5
}
