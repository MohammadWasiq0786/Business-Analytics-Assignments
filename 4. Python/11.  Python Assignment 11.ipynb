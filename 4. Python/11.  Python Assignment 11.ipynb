{
 "cells": [
  {
   "cell_type": "markdown",
   "id": "e5c3da33",
   "metadata": {},
   "source": [
    "![image](https://user-images.githubusercontent.com/57321948/196933065-4b16c235-f3b9-4391-9cfe-4affcec87c35.png)\n",
    "\n",
    "# Name: Mohammad Wasiq\n",
    "\n",
    "## E-mail: `mohammadwasiq0786@gmail.com`\n",
    "\n",
    "### Python Assignment - 11"
   ]
  },
  {
   "cell_type": "markdown",
   "id": "d1cc56ee",
   "metadata": {},
   "source": [
    "**Q1 :** 1.\tPython – Sort Dictionary key and values List."
   ]
  },
  {
   "cell_type": "code",
   "execution_count": 1,
   "id": "54424f01",
   "metadata": {
    "ExecuteTime": {
     "end_time": "2023-04-03T09:50:27.820256Z",
     "start_time": "2023-04-03T09:50:27.808287Z"
    }
   },
   "outputs": [
    {
     "name": "stdout",
     "output_type": "stream",
     "text": [
      "{'apple': 5, 'banana': 3, 'orange': 2}\n",
      "{'orange': 2, 'banana': 3, 'apple': 5}\n"
     ]
    }
   ],
   "source": [
    "# Sort dictionary by keys\n",
    "my_dict = {'apple': 5, 'banana': 3, 'orange': 2}\n",
    "sorted_dict = dict(sorted(my_dict.items()))\n",
    "print(sorted_dict)\n",
    "\n",
    "# Sort dictionary by values\n",
    "my_dict = {'apple': 5, 'banana': 3, 'orange': 2}\n",
    "sorted_dict = dict(sorted(my_dict.items(), key=lambda item: item[1]))\n",
    "print(sorted_dict)"
   ]
  },
  {
   "cell_type": "markdown",
   "id": "f6062681",
   "metadata": {},
   "source": [
    "**Q2 :** Handling missing keys in Python dictionaries"
   ]
  },
  {
   "cell_type": "code",
   "execution_count": 2,
   "id": "df08b373",
   "metadata": {
    "ExecuteTime": {
     "end_time": "2023-04-03T09:52:10.340343Z",
     "start_time": "2023-04-03T09:52:10.328377Z"
    }
   },
   "outputs": [
    {
     "name": "stdout",
     "output_type": "stream",
     "text": [
      "This key does not exist\n"
     ]
    }
   ],
   "source": [
    "my_dict = {'apple': 5, 'banana': 3, 'orange': 2}\n",
    "print(my_dict.get('pear', 'This key does not exist'))"
   ]
  },
  {
   "cell_type": "markdown",
   "id": "2d9adb9c",
   "metadata": {},
   "source": [
    "**Q3 :** Python dictionary with keys having multiple inputs"
   ]
  },
  {
   "cell_type": "code",
   "execution_count": 3,
   "id": "ef11a807",
   "metadata": {
    "ExecuteTime": {
     "end_time": "2023-04-03T09:53:33.831780Z",
     "start_time": "2023-04-03T09:53:33.813829Z"
    }
   },
   "outputs": [
    {
     "name": "stdout",
     "output_type": "stream",
     "text": [
      "{(1, 'apple'): 5, (2, 'banana'): 3, (3, 'orange'): 2}\n"
     ]
    }
   ],
   "source": [
    "my_dict = {}\n",
    "my_dict[(1, 'apple')] = 5\n",
    "my_dict[(2, 'banana')] = 3\n",
    "my_dict[(3, 'orange')] = 2\n",
    "\n",
    "print(my_dict)"
   ]
  },
  {
   "cell_type": "markdown",
   "id": "644b4d77",
   "metadata": {},
   "source": [
    "**Q4 :** Print anagrams together in Python using List and Dictionary"
   ]
  },
  {
   "cell_type": "code",
   "execution_count": 4,
   "id": "735739a8",
   "metadata": {
    "ExecuteTime": {
     "end_time": "2023-04-03T09:54:23.269328Z",
     "start_time": "2023-04-03T09:54:23.249383Z"
    }
   },
   "outputs": [
    {
     "name": "stdout",
     "output_type": "stream",
     "text": [
      "cat tac act\n",
      "dog god\n",
      "z\n"
     ]
    }
   ],
   "source": [
    "from collections import defaultdict\n",
    "\n",
    "# taking the words as input\n",
    "list_words = [\"cat\", \"dog\", \"tac\", \"god\", \"act\", \"z\"]\n",
    "\n",
    "# anagram dictionary\n",
    "anagrams = defaultdict(list)\n",
    "\n",
    "# this will check if the words are anagrams of each other\n",
    "for word in list_words:\n",
    "    anagrams[''.join(sorted(word))].append(word)\n",
    "\n",
    "# this loop will print all the anagrams together\n",
    "for anagram in anagrams.values():\n",
    "    print(' '.join(anagram))"
   ]
  },
  {
   "cell_type": "markdown",
   "id": "a348b729",
   "metadata": {},
   "source": [
    "**Q5 :** K’th Non-repeating Character in Python using List Comprehension and OrderedDict"
   ]
  },
  {
   "cell_type": "code",
   "execution_count": 5,
   "id": "e4d0c6c8",
   "metadata": {
    "ExecuteTime": {
     "end_time": "2023-04-03T09:55:45.778053Z",
     "start_time": "2023-04-03T09:55:45.768082Z"
    }
   },
   "outputs": [
    {
     "name": "stdout",
     "output_type": "stream",
     "text": [
      "d\n"
     ]
    }
   ],
   "source": [
    "from collections import OrderedDict\n",
    "\n",
    "def kthRepeating(input,k):\n",
    "    dict=OrderedDict.fromkeys(input,0)\n",
    "    for ch in input:\n",
    "        dict[ch]+=1\n",
    "    nonRepeatDict = [key for (key,value) in dict.items() if value==1]\n",
    "    if len(nonRepeatDict) < k:\n",
    "        return 'Less than k non-repeating characters in input.'\n",
    "    else:\n",
    "        return nonRepeatDict[k-1]\n",
    "\n",
    "input = \"mohammadwasiq0\"\n",
    "k = 3\n",
    "print(kthRepeating(input,k))"
   ]
  },
  {
   "cell_type": "markdown",
   "id": "0bda92d9",
   "metadata": {},
   "source": [
    "**Q6 :** Check if binary representations of two numbers are anagram."
   ]
  },
  {
   "cell_type": "code",
   "execution_count": 6,
   "id": "35dd1fb8",
   "metadata": {
    "ExecuteTime": {
     "end_time": "2023-04-03T09:57:03.126334Z",
     "start_time": "2023-04-03T09:57:03.103389Z"
    }
   },
   "outputs": [
    {
     "name": "stdout",
     "output_type": "stream",
     "text": [
      "Yes\n"
     ]
    }
   ],
   "source": [
    "def countSetBits(n):\n",
    "    count = 0\n",
    "    while (n):\n",
    "        count += n & 1\n",
    "        n >>= 1\n",
    "    return count\n",
    "\n",
    "def areAnagram(a, b):\n",
    "    return countSetBits(a) == countSetBits(b)\n",
    "\n",
    "a = 8\n",
    "b = 4\n",
    "if (areAnagram(a, b)):\n",
    "    print(\"Yes\")\n",
    "else:\n",
    "    print(\"No\")"
   ]
  },
  {
   "cell_type": "markdown",
   "id": "9647f8e3",
   "metadata": {},
   "source": [
    "**Q7 :** Python Counter to find the size of largest subset of anagram words."
   ]
  },
  {
   "cell_type": "code",
   "execution_count": 8,
   "id": "cb5ac27d",
   "metadata": {
    "ExecuteTime": {
     "end_time": "2023-04-03T09:58:45.391344Z",
     "start_time": "2023-04-03T09:58:45.381369Z"
    }
   },
   "outputs": [],
   "source": [
    "from collections import Counter\n",
    "\n",
    "def largestana(str1):\n",
    "    # split input string separated by space\n",
    "    str1 = str1.split(\" \")\n",
    "    \n",
    "    # sort each string in given list of strings\n",
    "    for i in range(0,len(str1)):\n",
    "        str1[i]=''.join(sorted(str1[i]))\n",
    "    \n",
    "    # now create a dictionary using the counter method\n",
    "    # which will have strings as key and their frequencies as the value\n",
    "    newstr1 = Counter(str1)\n",
    "    \n",
    "    # get maximum value of frequency\n",
    "    print (\"The Size Of largest subset of Anangram word is ::>\",max(newstr1.values()))"
   ]
  },
  {
   "cell_type": "code",
   "execution_count": 9,
   "id": "44d43746",
   "metadata": {
    "ExecuteTime": {
     "end_time": "2023-04-03T09:59:14.883958Z",
     "start_time": "2023-04-03T09:59:14.863015Z"
    }
   },
   "outputs": [
    {
     "name": "stdout",
     "output_type": "stream",
     "text": [
      "The Size Of largest subset of Anangram word is ::> 1\n"
     ]
    }
   ],
   "source": [
    "largestana('mohammadwasiq')"
   ]
  },
  {
   "cell_type": "markdown",
   "id": "7479bc57",
   "metadata": {},
   "source": [
    "**Q8 :** Python | Remove all duplicates words from a given sentence."
   ]
  },
  {
   "cell_type": "code",
   "execution_count": 12,
   "id": "a1b96259",
   "metadata": {
    "ExecuteTime": {
     "end_time": "2023-04-03T10:01:42.448708Z",
     "start_time": "2023-04-03T10:01:42.432755Z"
    }
   },
   "outputs": [
    {
     "name": "stdout",
     "output_type": "stream",
     "text": [
      "ineuron.aiineuron.ai\n"
     ]
    }
   ],
   "source": [
    "from collections import Counter\n",
    "\n",
    "def removeDupWords(str):\n",
    " \n",
    "    # split input string separated by space\n",
    "    str = str.split(\" \")\n",
    " \n",
    "    # joins two adjacent elements in iterable way\n",
    "    for i in range(0, len(str)):\n",
    "        str[i] = \"\".join(str[i])\n",
    " \n",
    "    # now create dictionary using counter method\n",
    "    # which will have strings as key and their\n",
    "    # frequencies as value\n",
    "    UniqW = Counter(str)\n",
    " \n",
    "    # joins two adjacent elements in iterable way\n",
    "    s = \" \".join(UniqW.keys())\n",
    "    print (s)\n",
    "    \n",
    "removeDupWords('ineuron.aiineuron.ai')"
   ]
  },
  {
   "cell_type": "markdown",
   "id": "a0c43a74",
   "metadata": {},
   "source": [
    "**Q9 :** Python Dictionary to find mirror characters in a string"
   ]
  },
  {
   "cell_type": "code",
   "execution_count": 14,
   "id": "a8561281",
   "metadata": {
    "ExecuteTime": {
     "end_time": "2023-04-03T10:05:09.889289Z",
     "start_time": "2023-04-03T10:05:09.874326Z"
    }
   },
   "outputs": [
    {
     "name": "stdout",
     "output_type": "stream",
     "text": [
      "[('p', 'q'), ('q', 'p')]\n"
     ]
    }
   ],
   "source": [
    "def find_mirror_chars(string):\n",
    "    mirror_dict = {\n",
    "        'b': 'd',\n",
    "        'd': 'b',\n",
    "        'p': 'q',\n",
    "        'q': 'p'\n",
    "    }\n",
    "    result = []\n",
    "    for char in string:\n",
    "        if char in mirror_dict:\n",
    "            if mirror_dict[char] in string:\n",
    "                result.append((char, mirror_dict[char]))\n",
    "    return result\n",
    "string = 'pqrb'\n",
    "result = find_mirror_chars(string)\n",
    "print(result)"
   ]
  },
  {
   "cell_type": "markdown",
   "id": "0db9faf3",
   "metadata": {},
   "source": [
    "**Q10 :** Counting the frequencies in a list using dictionary in Python."
   ]
  },
  {
   "cell_type": "code",
   "execution_count": 15,
   "id": "7ec775dd",
   "metadata": {
    "ExecuteTime": {
     "end_time": "2023-04-03T10:06:10.696408Z",
     "start_time": "2023-04-03T10:06:10.673470Z"
    }
   },
   "outputs": [
    {
     "name": "stdout",
     "output_type": "stream",
     "text": [
      " 1 :  2\n",
      " 2 :  1\n",
      " 3 :  1\n",
      " 4 :  2\n",
      " 5 :  3\n"
     ]
    }
   ],
   "source": [
    "def CountFrequency(my_list):\n",
    "    freq = {}\n",
    "    for item in my_list:\n",
    "        if (item in freq):\n",
    "            freq[item] += 1\n",
    "        else:\n",
    "            freq[item] = 1\n",
    "    for key, value in freq.items():\n",
    "        print(\"% d : % d\" % (key, value))\n",
    "\n",
    "\n",
    "my_list = [1, 1, 2, 3, 4, 4, 5, 5, 5]\n",
    "CountFrequency(my_list)"
   ]
  }
 ],
 "metadata": {
  "kernelspec": {
   "display_name": "Python 3 (ipykernel)",
   "language": "python",
   "name": "python3"
  },
  "language_info": {
   "codemirror_mode": {
    "name": "ipython",
    "version": 3
   },
   "file_extension": ".py",
   "mimetype": "text/x-python",
   "name": "python",
   "nbconvert_exporter": "python",
   "pygments_lexer": "ipython3",
   "version": "3.9.12"
  },
  "latex_envs": {
   "LaTeX_envs_menu_present": true,
   "autoclose": false,
   "autocomplete": true,
   "bibliofile": "biblio.bib",
   "cite_by": "apalike",
   "current_citInitial": 1,
   "eqLabelWithNumbers": true,
   "eqNumInitial": 1,
   "hotkeys": {
    "equation": "Ctrl-E",
    "itemize": "Ctrl-I"
   },
   "labels_anchors": false,
   "latex_user_defs": false,
   "report_style_numbering": false,
   "user_envs_cfg": false
  },
  "nbTranslate": {
   "displayLangs": [
    "*"
   ],
   "hotkey": "alt-t",
   "langInMainMenu": true,
   "sourceLang": "en",
   "targetLang": "fr",
   "useGoogleTranslate": true
  },
  "toc": {
   "base_numbering": 1,
   "nav_menu": {},
   "number_sections": true,
   "sideBar": true,
   "skip_h1_title": false,
   "title_cell": "Table of Contents",
   "title_sidebar": "Contents",
   "toc_cell": false,
   "toc_position": {},
   "toc_section_display": true,
   "toc_window_display": false
  },
  "varInspector": {
   "cols": {
    "lenName": 16,
    "lenType": 16,
    "lenVar": 40
   },
   "kernels_config": {
    "python": {
     "delete_cmd_postfix": "",
     "delete_cmd_prefix": "del ",
     "library": "var_list.py",
     "varRefreshCmd": "print(var_dic_list())"
    },
    "r": {
     "delete_cmd_postfix": ") ",
     "delete_cmd_prefix": "rm(",
     "library": "var_list.r",
     "varRefreshCmd": "cat(var_dic_list()) "
    }
   },
   "types_to_exclude": [
    "module",
    "function",
    "builtin_function_or_method",
    "instance",
    "_Feature"
   ],
   "window_display": false
  }
 },
 "nbformat": 4,
 "nbformat_minor": 5
}
