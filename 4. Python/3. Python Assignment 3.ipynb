{
 "cells": [
  {
   "cell_type": "markdown",
   "id": "3cc2d840",
   "metadata": {},
   "source": [
    "![image](https://user-images.githubusercontent.com/57321948/196933065-4b16c235-f3b9-4391-9cfe-4affcec87c35.png)\n",
    "\n",
    "# Name: Mohammad Wasiq\n",
    "\n",
    "## E-mail: `mohammadwasiq0786@gmail.com`\n",
    "\n",
    "### Python Assignment - 3"
   ]
  },
  {
   "cell_type": "markdown",
   "id": "bc7b0b64",
   "metadata": {},
   "source": [
    "**Q1 :** Python Program for Find reminder of array multiplication divided by n."
   ]
  },
  {
   "cell_type": "code",
   "execution_count": 1,
   "id": "7a599df5",
   "metadata": {
    "ExecuteTime": {
     "end_time": "2023-04-03T05:32:56.185731Z",
     "start_time": "2023-04-03T05:32:56.163790Z"
    }
   },
   "outputs": [
    {
     "name": "stdout",
     "output_type": "stream",
     "text": [
      "3\n"
     ]
    }
   ],
   "source": [
    "def reminder(arr, lens, n):\n",
    "    mul=1\n",
    "    for i in range(lens):\n",
    "        mul = mul * (arr[i])\n",
    "        c =mul % n\n",
    "    return c\n",
    "\n",
    "arr = [210, 111, 63, 7, 5, 45, 9]\n",
    "lens = len(arr)\n",
    "n = 13\n",
    "print( reminder(arr, lens, n))"
   ]
  },
  {
   "cell_type": "markdown",
   "id": "dd3555d3",
   "metadata": {},
   "source": [
    "**Q2 :** Python Program to check if given array is Monotonic"
   ]
  },
  {
   "cell_type": "code",
   "execution_count": 2,
   "id": "a7e9c6c5",
   "metadata": {
    "ExecuteTime": {
     "end_time": "2023-04-03T05:33:24.110296Z",
     "start_time": "2023-04-03T05:33:24.093374Z"
    }
   },
   "outputs": [
    {
     "name": "stdout",
     "output_type": "stream",
     "text": [
      "True\n"
     ]
    }
   ],
   "source": [
    "def isMonotonic(arr):\n",
    "  \n",
    "    return (all(arr[i] <= arr[i + 1] for i in range(len(arr) - 1)) or\n",
    "            all(arr[i] >= arr[i + 1] for i in range(len(arr) - 1)))\n",
    "\n",
    "arr = [7,8,9,10,11,15]\n",
    "print(isMonotonic(arr))"
   ]
  },
  {
   "cell_type": "markdown",
   "id": "796730b2",
   "metadata": {},
   "source": [
    "**Q3 :** Python program to interchange first and last elements in a list."
   ]
  },
  {
   "cell_type": "code",
   "execution_count": 3,
   "id": "4927d98a",
   "metadata": {
    "ExecuteTime": {
     "end_time": "2023-04-03T05:34:05.498238Z",
     "start_time": "2023-04-03T05:34:05.476295Z"
    }
   },
   "outputs": [
    {
     "name": "stdout",
     "output_type": "stream",
     "text": [
      "[6, 2, 3, 4, 5, 1]\n"
     ]
    }
   ],
   "source": [
    "l= [1,2,3,4,5,6]\n",
    "a= l[0]\n",
    "\n",
    "l[0]= l[len(l)-1]\n",
    "l[len(l)-1]= a\n",
    "\n",
    "print(l)"
   ]
  },
  {
   "cell_type": "markdown",
   "id": "2296fb7c",
   "metadata": {},
   "source": [
    "**Q4 :** Python program to swap two elements in a list."
   ]
  },
  {
   "cell_type": "code",
   "execution_count": 4,
   "id": "c1fee6dc",
   "metadata": {
    "ExecuteTime": {
     "end_time": "2023-04-03T05:34:57.078851Z",
     "start_time": "2023-04-03T05:34:57.057906Z"
    }
   },
   "outputs": [
    {
     "name": "stdout",
     "output_type": "stream",
     "text": [
      "[1, 4, 3, 2, 5, 6]\n"
     ]
    }
   ],
   "source": [
    "def swap(l,position1,position2):\n",
    "    a= l[position1]\n",
    "    l[position1]= l[position2]\n",
    "    l[position2]= a\n",
    "    return l\n",
    "\n",
    "l= [1, 2, 3, 4, 5, 6]\n",
    "print(swap(l,1,3))"
   ]
  },
  {
   "cell_type": "markdown",
   "id": "9be5f426",
   "metadata": {},
   "source": [
    "**Q5 :** Write a program to find length of list."
   ]
  },
  {
   "cell_type": "code",
   "execution_count": 5,
   "id": "37d3cc67",
   "metadata": {
    "ExecuteTime": {
     "end_time": "2023-04-03T05:35:32.858478Z",
     "start_time": "2023-04-03T05:35:32.848506Z"
    }
   },
   "outputs": [
    {
     "name": "stdout",
     "output_type": "stream",
     "text": [
      "6\n"
     ]
    }
   ],
   "source": [
    "l= [1,2,3,4,5,6]\n",
    "print(len(l))"
   ]
  },
  {
   "cell_type": "markdown",
   "id": "f3dbbf02",
   "metadata": {},
   "source": [
    "**Q6 :** Write a program to check if element exists in list."
   ]
  },
  {
   "cell_type": "code",
   "execution_count": 6,
   "id": "d4f4cbe3",
   "metadata": {
    "ExecuteTime": {
     "end_time": "2023-04-03T05:35:54.381664Z",
     "start_time": "2023-04-03T05:35:54.367702Z"
    }
   },
   "outputs": [
    {
     "name": "stdout",
     "output_type": "stream",
     "text": [
      "Yes, 'apple' is in the list\n"
     ]
    }
   ],
   "source": [
    "l = [\"apple\", \"banana\", \"cherry\"]\n",
    "if \"apple\" in l:\n",
    "    print(\"Yes, 'apple' is in the list\")"
   ]
  },
  {
   "cell_type": "markdown",
   "id": "4e68682f",
   "metadata": {},
   "source": [
    "**Q7 :** Write a program to clear a list in Python."
   ]
  },
  {
   "cell_type": "code",
   "execution_count": 7,
   "id": "343e38a4",
   "metadata": {
    "ExecuteTime": {
     "end_time": "2023-04-03T05:36:21.146693Z",
     "start_time": "2023-04-03T05:36:21.135725Z"
    }
   },
   "outputs": [
    {
     "name": "stdout",
     "output_type": "stream",
     "text": [
      "[]\n"
     ]
    }
   ],
   "source": [
    "l= [\"apple\", \"banana\", \"cherry\"]\n",
    "l.clear()\n",
    "print(l)"
   ]
  },
  {
   "cell_type": "markdown",
   "id": "65fcb2d9",
   "metadata": {},
   "source": [
    "**Q8 :** Write a program to Reversing a List."
   ]
  },
  {
   "cell_type": "code",
   "execution_count": 8,
   "id": "882b2e6b",
   "metadata": {
    "ExecuteTime": {
     "end_time": "2023-04-03T05:36:46.363934Z",
     "start_time": "2023-04-03T05:36:46.347974Z"
    }
   },
   "outputs": [
    {
     "name": "stdout",
     "output_type": "stream",
     "text": [
      "['cherry', 'banana', 'apple']\n"
     ]
    }
   ],
   "source": [
    "l = [\"apple\", \"banana\", \"cherry\"]\n",
    "l.reverse()\n",
    "print(l)"
   ]
  },
  {
   "cell_type": "markdown",
   "id": "c2f5f051",
   "metadata": {},
   "source": [
    "**Q9 :** Write a program to find sum of elements in list."
   ]
  },
  {
   "cell_type": "code",
   "execution_count": 9,
   "id": "ea3fe4e8",
   "metadata": {
    "ExecuteTime": {
     "end_time": "2023-04-03T05:37:26.302250Z",
     "start_time": "2023-04-03T05:37:26.286297Z"
    }
   },
   "outputs": [
    {
     "name": "stdout",
     "output_type": "stream",
     "text": [
      "60\n"
     ]
    }
   ],
   "source": [
    "def sum(l, lens):\n",
    "    s=0\n",
    "    for i in range(lens):\n",
    "        s = s + (arr[i])\n",
    "        \n",
    "    return s\n",
    "\n",
    "l = [ 210, 111, 63, 7, 5, 45, 9]\n",
    "lens = len(arr)\n",
    "print( sum(l, lens))"
   ]
  },
  {
   "cell_type": "markdown",
   "id": "eacb5a5e",
   "metadata": {},
   "source": [
    "**Q10 :** Write a program to Multiply all numbers in the list."
   ]
  },
  {
   "cell_type": "code",
   "execution_count": 10,
   "id": "5e622519",
   "metadata": {
    "ExecuteTime": {
     "end_time": "2023-04-03T05:38:03.184241Z",
     "start_time": "2023-04-03T05:38:03.175269Z"
    }
   },
   "outputs": [
    {
     "name": "stdout",
     "output_type": "stream",
     "text": [
      "831600\n"
     ]
    }
   ],
   "source": [
    "def multiplication(l, lens):\n",
    "    mul=1\n",
    "    for i in range(lens):\n",
    "        mul = mul * (arr[i])\n",
    "        \n",
    "    return mul\n",
    "\n",
    "l = [210, 111, 63, 7, 5, 45, 9]\n",
    "lens = len(arr)\n",
    "print( multiplication(l, lens))"
   ]
  }
 ],
 "metadata": {
  "kernelspec": {
   "display_name": "Python 3 (ipykernel)",
   "language": "python",
   "name": "python3"
  },
  "language_info": {
   "codemirror_mode": {
    "name": "ipython",
    "version": 3
   },
   "file_extension": ".py",
   "mimetype": "text/x-python",
   "name": "python",
   "nbconvert_exporter": "python",
   "pygments_lexer": "ipython3",
   "version": "3.9.12"
  },
  "latex_envs": {
   "LaTeX_envs_menu_present": true,
   "autoclose": false,
   "autocomplete": true,
   "bibliofile": "biblio.bib",
   "cite_by": "apalike",
   "current_citInitial": 1,
   "eqLabelWithNumbers": true,
   "eqNumInitial": 1,
   "hotkeys": {
    "equation": "Ctrl-E",
    "itemize": "Ctrl-I"
   },
   "labels_anchors": false,
   "latex_user_defs": false,
   "report_style_numbering": false,
   "user_envs_cfg": false
  },
  "nbTranslate": {
   "displayLangs": [
    "*"
   ],
   "hotkey": "alt-t",
   "langInMainMenu": true,
   "sourceLang": "en",
   "targetLang": "fr",
   "useGoogleTranslate": true
  },
  "toc": {
   "base_numbering": 1,
   "nav_menu": {},
   "number_sections": true,
   "sideBar": true,
   "skip_h1_title": false,
   "title_cell": "Table of Contents",
   "title_sidebar": "Contents",
   "toc_cell": false,
   "toc_position": {},
   "toc_section_display": true,
   "toc_window_display": false
  },
  "varInspector": {
   "cols": {
    "lenName": 16,
    "lenType": 16,
    "lenVar": 40
   },
   "kernels_config": {
    "python": {
     "delete_cmd_postfix": "",
     "delete_cmd_prefix": "del ",
     "library": "var_list.py",
     "varRefreshCmd": "print(var_dic_list())"
    },
    "r": {
     "delete_cmd_postfix": ") ",
     "delete_cmd_prefix": "rm(",
     "library": "var_list.r",
     "varRefreshCmd": "cat(var_dic_list()) "
    }
   },
   "types_to_exclude": [
    "module",
    "function",
    "builtin_function_or_method",
    "instance",
    "_Feature"
   ],
   "window_display": false
  }
 },
 "nbformat": 4,
 "nbformat_minor": 5
}
