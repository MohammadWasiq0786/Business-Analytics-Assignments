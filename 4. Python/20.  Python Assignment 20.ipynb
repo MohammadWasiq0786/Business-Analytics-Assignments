{
 "cells": [
  {
   "cell_type": "markdown",
   "id": "3246e2aa",
   "metadata": {},
   "source": [
    "![image](https://user-images.githubusercontent.com/57321948/196933065-4b16c235-f3b9-4391-9cfe-4affcec87c35.png)\n",
    "\n",
    "# Name: Mohammad Wasiq\n",
    "\n",
    "## E-mail: `mohammadwasiq0786@gmail.com`\n",
    "\n",
    "### Python Assignment - 20"
   ]
  },
  {
   "cell_type": "markdown",
   "id": "c2a862e2",
   "metadata": {},
   "source": [
    "**Q1 :** Python Program to obtain the line number in which given word is present"
   ]
  },
  {
   "cell_type": "code",
   "execution_count": 1,
   "id": "61b1495e",
   "metadata": {
    "ExecuteTime": {
     "end_time": "2023-04-03T15:19:28.166872Z",
     "start_time": "2023-04-03T15:19:28.158893Z"
    }
   },
   "outputs": [],
   "source": [
    "def word_search(key, filename):\n",
    "    with open(filename) as file:\n",
    "        # opening the file using with to ensure it closes after the block of code is executed\n",
    "        lines = file.readlines() # reading the lines of the file in order\n",
    "        for i, line in enumerate(lines):\n",
    "            if key in line:\n",
    "                return i+1\n",
    "    return -1 # if key not found\n",
    "\n",
    "# Example usage\n",
    "print(word_search('word', 'file.txt'))"
   ]
  },
  {
   "cell_type": "markdown",
   "id": "98a296d9",
   "metadata": {},
   "source": [
    "**Q2 :** Count number of lines in a text file in Python"
   ]
  },
  {
   "cell_type": "code",
   "execution_count": 2,
   "id": "b176f829",
   "metadata": {
    "ExecuteTime": {
     "end_time": "2023-04-03T15:19:34.749866Z",
     "start_time": "2023-04-03T15:19:34.728950Z"
    }
   },
   "outputs": [],
   "source": [
    "def count_lines(filename):\n",
    "    with open(filename) as file:\n",
    "        # opening the file using with to ensure it closes after the block of code is executed\n",
    "        lines = file.readlines() # reading the lines of the file in order\n",
    "        return len(lines)\n",
    "\n",
    "# Example usage\n",
    "print(count_lines('file.txt'))"
   ]
  },
  {
   "cell_type": "markdown",
   "id": "eed13338",
   "metadata": {},
   "source": [
    "**Q3 :** Python Program to remove lines starting with any prefix"
   ]
  },
  {
   "cell_type": "code",
   "execution_count": 3,
   "id": "5958e749",
   "metadata": {
    "ExecuteTime": {
     "end_time": "2023-04-03T15:20:34.280444Z",
     "start_time": "2023-04-03T15:20:34.263490Z"
    }
   },
   "outputs": [],
   "source": [
    "import re\n",
    "\n",
    "def remove_lines(filename, prefix):\n",
    "    with open(filename) as file:\n",
    "        # opening the file using with to ensure it closes after the block of code is executed\n",
    "        lines = file.readlines() # reading the lines of the file in order\n",
    "        new_lines = [line for line in lines if not re.findall(f\"^{prefix}\", line)]\n",
    "        # using list comprehension to create a new list of lines that don't start with the prefix\n",
    "        return new_lines\n",
    "\n",
    "# Example usage\n",
    "print(remove_lines('file.txt', 'prefix'))"
   ]
  },
  {
   "cell_type": "markdown",
   "id": "d66a78dd",
   "metadata": {},
   "source": [
    "**Q4 :** Python Program to Eliminate repeated lines from a file"
   ]
  },
  {
   "cell_type": "code",
   "execution_count": 4,
   "id": "23482e44",
   "metadata": {
    "ExecuteTime": {
     "end_time": "2023-04-03T15:21:20.735739Z",
     "start_time": "2023-04-03T15:21:20.718814Z"
    }
   },
   "outputs": [],
   "source": [
    "def eliminate_repeated_lines(filename):\n",
    "    with open(filename, 'r') as f:\n",
    "        lines = f.readlines()\n",
    "        # Using set() to remove duplicates\n",
    "        lines_set = set(lines)\n",
    "    with open(filename, 'w') as f:\n",
    "        # Writing the set back to the file\n",
    "        for line in lines_set:\n",
    "            f.write(line)\n",
    "\n",
    "# Example usage\n",
    "eliminate_repeated_lines('file.txt')"
   ]
  },
  {
   "cell_type": "markdown",
   "id": "84574994",
   "metadata": {},
   "source": [
    "**Q5 :** Python Program to read List of Dictionaries from File"
   ]
  },
  {
   "cell_type": "code",
   "execution_count": 5,
   "id": "94adeb39",
   "metadata": {
    "ExecuteTime": {
     "end_time": "2023-04-03T15:22:22.963435Z",
     "start_time": "2023-04-03T15:22:22.943488Z"
    }
   },
   "outputs": [],
   "source": [
    "import ast\n",
    "\n",
    "def read_list_of_dicts(filename):\n",
    "    with open(filename, 'r') as f:\n",
    "        # Using ast.literal_eval() to safely evaluate the string as a Python expression\n",
    "        data = ast.literal_eval(f.read())\n",
    "    return data\n",
    "\n",
    "# Example usage\n",
    "data = read_list_of_dicts('file.txt')\n",
    "print(data)"
   ]
  },
  {
   "cell_type": "markdown",
   "id": "4b8b57a7",
   "metadata": {},
   "source": [
    "**Q6 :** Python – Append content of one text file to another"
   ]
  },
  {
   "cell_type": "code",
   "execution_count": 6,
   "id": "89756467",
   "metadata": {
    "ExecuteTime": {
     "end_time": "2023-04-03T15:23:13.286535Z",
     "start_time": "2023-04-03T15:23:13.278557Z"
    }
   },
   "outputs": [],
   "source": [
    "def append_file_contents(file1, file2):\n",
    "    with open(file1, 'r') as f1:\n",
    "        with open(file2, 'a') as f2:\n",
    "            f2.write(f1.read())\n",
    "\n",
    "# Example usage\n",
    "append_file_contents('file1.txt', 'file2.txt')"
   ]
  },
  {
   "cell_type": "markdown",
   "id": "518d1d1b",
   "metadata": {},
   "source": [
    "**Q7 :** Python program to copy odd lines of one file to other"
   ]
  },
  {
   "cell_type": "code",
   "execution_count": 7,
   "id": "c379e934",
   "metadata": {
    "ExecuteTime": {
     "end_time": "2023-04-03T15:24:12.148356Z",
     "start_time": "2023-04-03T15:24:12.138353Z"
    }
   },
   "outputs": [],
   "source": [
    "def copy_odd_lines(file1, file2):\n",
    "    with open(file1, 'r') as f1:\n",
    "        with open(file2, 'w') as f2:\n",
    "            for i, line in enumerate(f1):\n",
    "                if i % 2 == 0:\n",
    "                    f2.write(line)\n",
    "\n",
    "# Example usage\n",
    "copy_odd_lines('file1.txt', 'file2.txt')"
   ]
  },
  {
   "cell_type": "markdown",
   "id": "e1c61ce0",
   "metadata": {},
   "source": [
    "**Q8 :** Python Program to merge two files into a third file"
   ]
  },
  {
   "cell_type": "code",
   "execution_count": 8,
   "id": "98078092",
   "metadata": {
    "ExecuteTime": {
     "end_time": "2023-04-03T15:25:40.547176Z",
     "start_time": "2023-04-03T15:25:40.532219Z"
    }
   },
   "outputs": [],
   "source": [
    "def merge_files(file1, file2, file3):\n",
    "    # Open file1 and file2 in read mode\n",
    "    with open(file1, 'r') as f1, open(file2, 'r') as f2:\n",
    "        # Read the contents of file1 and file2\n",
    "        file1_contents = f1.read()\n",
    "        file2_contents = f2.read()\n",
    "\n",
    "    # Open file3 in write mode\n",
    "    with open(file3, 'w') as f3:\n",
    "        # Write the contents of file1 and file2 to file3\n",
    "        f3.write(file1_contents)\n",
    "        f3.write(file2_contents)\n",
    "\n",
    "# Example usage\n",
    "merge_files('file1.txt', 'file2.txt', 'file3.txt')"
   ]
  },
  {
   "cell_type": "markdown",
   "id": "9cafc41e",
   "metadata": {},
   "source": [
    "**Q9 :** Python program to Reverse a single line of a text file"
   ]
  },
  {
   "cell_type": "code",
   "execution_count": 9,
   "id": "5e6f28e1",
   "metadata": {
    "ExecuteTime": {
     "end_time": "2023-04-03T15:26:46.826269Z",
     "start_time": "2023-04-03T15:26:46.807308Z"
    }
   },
   "outputs": [],
   "source": [
    "def reverse_line(file_path, line_number):\n",
    "    # Open the file in read mode\n",
    "    with open(file_path, 'r') as f:\n",
    "        # Read all lines into a list\n",
    "        lines = f.readlines()\n",
    "\n",
    "    # Reverse the specified line\n",
    "    lines[line_number] = lines[line_number][::-1]\n",
    "\n",
    "    # Open the file in write mode and write the reversed line\n",
    "    with open(file_path, 'w') as f:\n",
    "        f.writelines(lines)\n",
    "\n",
    "# Example usage\n",
    "reverse_line('file.txt', 0)"
   ]
  },
  {
   "cell_type": "markdown",
   "id": "b9304768",
   "metadata": {},
   "source": [
    "**Q10 :** Python program to reverse the content of a file and store it in another file"
   ]
  },
  {
   "cell_type": "code",
   "execution_count": 10,
   "id": "56944e13",
   "metadata": {
    "ExecuteTime": {
     "end_time": "2023-04-03T15:27:40.694598Z",
     "start_time": "2023-04-03T15:27:40.678642Z"
    }
   },
   "outputs": [],
   "source": [
    "def reverse_file(file_path, reversed_file_path):\n",
    "    # Open the file in read mode\n",
    "    with open(file_path, 'r') as f:\n",
    "        # Read all lines into a list\n",
    "        lines = f.readlines()\n",
    "\n",
    "    # Reverse the list of lines\n",
    "    lines.reverse()\n",
    "\n",
    "    # Open the reversed file in write mode and write the reversed lines\n",
    "    with open(reversed_file_path, 'w') as f:\n",
    "        f.writelines(lines)\n",
    "\n",
    "# Example usage\n",
    "reverse_file('file.txt', 'reversed_file.txt')"
   ]
  },
  {
   "cell_type": "markdown",
   "id": "e5428d4d",
   "metadata": {},
   "source": [
    "**Q11 :** Python Program to Reverse the Content of a File using Stack"
   ]
  },
  {
   "cell_type": "code",
   "execution_count": 11,
   "id": "a3afdd0c",
   "metadata": {
    "ExecuteTime": {
     "end_time": "2023-04-03T15:28:56.039634Z",
     "start_time": "2023-04-03T15:28:56.027665Z"
    }
   },
   "outputs": [],
   "source": [
    "class Stack:\n",
    "    def __init__(self):\n",
    "        self.items = []\n",
    "\n",
    "    def push(self, item):\n",
    "        self.items.append(item)\n",
    "\n",
    "    def pop(self):\n",
    "        return self.items.pop()\n",
    "\n",
    "    def is_empty(self):\n",
    "        return len(self.items) == 0\n",
    "\n",
    "def reverse_file(file_path, reversed_file_path):\n",
    "    # Create an empty stack\n",
    "    stack = Stack()\n",
    "\n",
    "    # Open the file in read mode\n",
    "    with open(file_path, 'r') as f:\n",
    "        # Read all lines into a list\n",
    "        lines = f.readlines()\n",
    "\n",
    "    # Push each line onto the stack\n",
    "    for line in lines:\n",
    "        stack.push(line)\n",
    "\n",
    "    # Open the reversed file in write mode and pop each line from the stack onto it\n",
    "    with open(reversed_file_path, 'w') as f:\n",
    "        while not stack.is_empty():\n",
    "            f.write(stack.pop())\n",
    "\n",
    "# Example usage\n",
    "reverse_file('file.txt', 'reversed_file.txt')"
   ]
  }
 ],
 "metadata": {
  "kernelspec": {
   "display_name": "Python 3 (ipykernel)",
   "language": "python",
   "name": "python3"
  },
  "language_info": {
   "codemirror_mode": {
    "name": "ipython",
    "version": 3
   },
   "file_extension": ".py",
   "mimetype": "text/x-python",
   "name": "python",
   "nbconvert_exporter": "python",
   "pygments_lexer": "ipython3",
   "version": "3.9.12"
  },
  "latex_envs": {
   "LaTeX_envs_menu_present": true,
   "autoclose": false,
   "autocomplete": true,
   "bibliofile": "biblio.bib",
   "cite_by": "apalike",
   "current_citInitial": 1,
   "eqLabelWithNumbers": true,
   "eqNumInitial": 1,
   "hotkeys": {
    "equation": "Ctrl-E",
    "itemize": "Ctrl-I"
   },
   "labels_anchors": false,
   "latex_user_defs": false,
   "report_style_numbering": false,
   "user_envs_cfg": false
  },
  "nbTranslate": {
   "displayLangs": [
    "*"
   ],
   "hotkey": "alt-t",
   "langInMainMenu": true,
   "sourceLang": "en",
   "targetLang": "fr",
   "useGoogleTranslate": true
  },
  "toc": {
   "base_numbering": 1,
   "nav_menu": {},
   "number_sections": true,
   "sideBar": true,
   "skip_h1_title": false,
   "title_cell": "Table of Contents",
   "title_sidebar": "Contents",
   "toc_cell": false,
   "toc_position": {},
   "toc_section_display": true,
   "toc_window_display": false
  },
  "varInspector": {
   "cols": {
    "lenName": 16,
    "lenType": 16,
    "lenVar": 40
   },
   "kernels_config": {
    "python": {
     "delete_cmd_postfix": "",
     "delete_cmd_prefix": "del ",
     "library": "var_list.py",
     "varRefreshCmd": "print(var_dic_list())"
    },
    "r": {
     "delete_cmd_postfix": ") ",
     "delete_cmd_prefix": "rm(",
     "library": "var_list.r",
     "varRefreshCmd": "cat(var_dic_list()) "
    }
   },
   "types_to_exclude": [
    "module",
    "function",
    "builtin_function_or_method",
    "instance",
    "_Feature"
   ],
   "window_display": false
  }
 },
 "nbformat": 4,
 "nbformat_minor": 5
}
