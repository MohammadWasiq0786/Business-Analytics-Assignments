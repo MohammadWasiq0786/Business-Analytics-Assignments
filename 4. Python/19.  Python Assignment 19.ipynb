{
 "cells": [
  {
   "cell_type": "markdown",
   "id": "c42aa4ce",
   "metadata": {},
   "source": [
    "![image](https://user-images.githubusercontent.com/57321948/196933065-4b16c235-f3b9-4391-9cfe-4affcec87c35.png)\n",
    "\n",
    "# Name: Mohammad Wasiq\n",
    "\n",
    "## E-mail: `mohammadwasiq0786@gmail.com`\n",
    "\n",
    "### Python Assignment - 19"
   ]
  },
  {
   "cell_type": "markdown",
   "id": "cafd8d46",
   "metadata": {},
   "source": [
    "**Q1 :** Python Program to Check if email address valid or not"
   ]
  },
  {
   "cell_type": "code",
   "execution_count": 2,
   "id": "ff69a2c8",
   "metadata": {
    "ExecuteTime": {
     "end_time": "2023-04-03T12:02:43.229981Z",
     "start_time": "2023-04-03T12:01:42.386629Z"
    }
   },
   "outputs": [
    {
     "name": "stdout",
     "output_type": "stream",
     "text": [
      "Collecting validate_email_address\n",
      "  Downloading validate-email-address-1.tar.gz (4.9 kB)\n",
      "Building wheels for collected packages: validate-email-address\n",
      "  Building wheel for validate-email-address (setup.py): started\n",
      "  Building wheel for validate-email-address (setup.py): finished with status 'done'\n",
      "  Created wheel for validate-email-address: filename=validate_email_address-1-py3-none-any.whl size=5760 sha256=44068a16e7c43f75d0f9aaea9142f2e055307953f4f12a5d3bd50e0f97bb3386\n",
      "  Stored in directory: c:\\users\\hp\\appdata\\local\\pip\\cache\\wheels\\e4\\8d\\f3\\d6c9966d3dc348323075afa9a0d5b2477621dadd11c61c8bed\n",
      "Successfully built validate-email-address\n",
      "Installing collected packages: validate-email-address\n",
      "Successfully installed validate-email-address-1\n",
      "Note: you may need to restart the kernel to use updated packages.\n"
     ]
    }
   ],
   "source": [
    "pip install validate_email_address"
   ]
  },
  {
   "cell_type": "code",
   "execution_count": 3,
   "id": "c488e9d6",
   "metadata": {
    "ExecuteTime": {
     "end_time": "2023-04-03T12:02:53.274024Z",
     "start_time": "2023-04-03T12:02:53.223159Z"
    }
   },
   "outputs": [
    {
     "name": "stdout",
     "output_type": "stream",
     "text": [
      "mohammadwasiq0786@gmail.com is a valid email address.\n"
     ]
    }
   ],
   "source": [
    "from validate_email_address import validate_email\n",
    "\n",
    "email = \"mohammadwasiq0786@gmail.com\"\n",
    "is_valid = validate_email(email)\n",
    "\n",
    "if is_valid:\n",
    "    print(f\"{email} is a valid email address.\")\n",
    "else:\n",
    "    print(f\"{email} is not a valid email address.\")"
   ]
  },
  {
   "cell_type": "markdown",
   "id": "3ec99bdf",
   "metadata": {},
   "source": [
    "**Q2 :** Python program to find files having a particular extension using RegEx"
   ]
  },
  {
   "cell_type": "code",
   "execution_count": 4,
   "id": "4bb35bdb",
   "metadata": {
    "ExecuteTime": {
     "end_time": "2023-04-03T12:03:08.255084Z",
     "start_time": "2023-04-03T12:03:08.246108Z"
    }
   },
   "outputs": [
    {
     "name": "stdout",
     "output_type": "stream",
     "text": [
      "file1.xml\n",
      "file3.xml\n"
     ]
    }
   ],
   "source": [
    "import os\n",
    "import re\n",
    "\n",
    "# List of different files\n",
    "files = [\"file1.xml\", \"file2.txt\", \"file3.xml\", \"file4.csv\"]\n",
    "\n",
    "# Regular expression/pattern\n",
    "pattern = \"\\\\.xml$\"\n",
    "\n",
    "# Search for files having \".xml\" extension\n",
    "for file in files:\n",
    "    if re.search(pattern, file):\n",
    "        print(file)"
   ]
  },
  {
   "cell_type": "markdown",
   "id": "70f0f3d0",
   "metadata": {},
   "source": [
    "**Q3 :** Python program to extract IP address from file\n",
    "\n",
    "```python\n",
    "import re\n",
    "\n",
    "# Open file\n",
    "with open('file.txt', 'r') as file:\n",
    "    # Read file contents\n",
    "    contents = file.read()\n",
    "\n",
    "    # Extract IP addresses\n",
    "    ip_addresses = re.findall(r'\\d{1,3}\\.\\d{1,3}\\.\\d{1,3}\\.\\d{1,3}', contents)\n",
    "\n",
    "    # Print IP addresses\n",
    "    for ip_address in ip_addresses:\n",
    "        print(ip_address)\n",
    "```\n",
    "This program will output all the IP addresses present in the file “file.txt”. I hope that helps!"
   ]
  },
  {
   "cell_type": "markdown",
   "id": "1e41676f",
   "metadata": {},
   "source": [
    "**Q4 :** Python program to check the validity of a Password"
   ]
  },
  {
   "cell_type": "code",
   "execution_count": 7,
   "id": "14a72f67",
   "metadata": {
    "ExecuteTime": {
     "end_time": "2023-04-03T12:09:49.145377Z",
     "start_time": "2023-04-03T12:09:39.689153Z"
    }
   },
   "outputs": [
    {
     "name": "stdout",
     "output_type": "stream",
     "text": [
      "Enter Password ::> iNeuron@123\n",
      "This Is Valid Password\n"
     ]
    }
   ],
   "source": [
    "import re\n",
    "\n",
    "def check_password_validity(password):\n",
    "    if (len(password)<8):\n",
    "        return False\n",
    "    elif not re.search(\"[a-z]\", password):\n",
    "        return False\n",
    "    elif not re.search(\"[A-Z]\", password):\n",
    "        return False\n",
    "    elif not re.search(\"[0-9]\", password):\n",
    "        return False\n",
    "    elif not re.search(\"[@$!%*?&]\", password):\n",
    "        return False\n",
    "    elif re.search(\"\\s\", password):\n",
    "        return False\n",
    "    else:\n",
    "        return True\n",
    "\n",
    "password = input(\"Enter Password ::> \")\n",
    "if (check_password_validity(password)):\n",
    "    print(\"This Is Valid Password\")\n",
    "else:\n",
    "    print(\"Not a Valid Password\")"
   ]
  },
  {
   "cell_type": "markdown",
   "id": "35dd8739",
   "metadata": {},
   "source": [
    "**Q5 :** Categorize Password as Strong or Weak using Regex in Python"
   ]
  },
  {
   "cell_type": "code",
   "execution_count": 5,
   "id": "66de6c2c",
   "metadata": {
    "ExecuteTime": {
     "end_time": "2023-04-03T12:08:09.372139Z",
     "start_time": "2023-04-03T12:08:09.354188Z"
    }
   },
   "outputs": [],
   "source": [
    "import re\n",
    "\n",
    "def check_password_strength(password):\n",
    "    rexes = (' [A-Z]', ' [a-z]', ' [0-9]')\n",
    "    if len(password) >= 8 and all(re.search(r, password) for r in rexes):\n",
    "        print('Strong password')\n",
    "    else:\n",
    "        print('Weak password')"
   ]
  },
  {
   "cell_type": "markdown",
   "id": "97ebd69a",
   "metadata": {},
   "source": [
    "**Q6 :** Python program to read file word by word\n",
    "\n",
    "```python\n",
    "with open(\"example.txt\",\"r\") as f:\n",
    "    for line in f:\n",
    "        for word in line.split(\" \"):\n",
    "            print(word)\n",
    "```"
   ]
  },
  {
   "cell_type": "markdown",
   "id": "26bec83c",
   "metadata": {},
   "source": [
    "**Q7 :** Python program to read character by character from a file\n",
    "```python\n",
    "with open('file.txt', 'r') as file:\n",
    "    while True:\n",
    "        char = file.read(1)\n",
    "        if not char:\n",
    "            break\n",
    "        print(char)\n",
    "```"
   ]
  },
  {
   "cell_type": "markdown",
   "id": "b2e2b00b",
   "metadata": {},
   "source": [
    "**Q8 :** Python – Get number of characters, words, spaces and lines in a file\n",
    "\n",
    "```python\n",
    "filename = \"example.txt\"\n",
    "\n",
    "with open(filename, 'r') as file:\n",
    "    data = file.read()\n",
    "    # Counting the number of characters\n",
    "    num_chars = len(data)\n",
    "    \n",
    "    # Counting the number of words\n",
    "    num_words = len(data.split())\n",
    "    \n",
    "    # Counting the number of spaces\n",
    "    num_spaces = data.count(' ')\n",
    "    \n",
    "    # Counting the number of lines\n",
    "    num_lines = data.count('\\n')\n",
    "    \n",
    "print(\"Number of characters:\", num_chars)\n",
    "print(\"Number of words:\", num_words)\n",
    "print(\"Number of spaces:\", num_spaces)\n",
    "print(\"Number of lines:\", num_lines)\n",
    "```"
   ]
  },
  {
   "cell_type": "markdown",
   "id": "de296660",
   "metadata": {},
   "source": [
    "**Q9 :** Python program to Count the Number of occurrences of a key-value pair in a text file\n",
    "\n",
    "```python\n",
    "from collections import defaultdict\n",
    "\n",
    "filename = \"example.txt\"\n",
    "key_value_pair = \"key=value\"\n",
    "\n",
    "# Initialize a defaultdict to store the counts\n",
    "counts = defaultdict(int)\n",
    "\n",
    "with open(filename, 'r') as file:\n",
    "    # Read each line of the file\n",
    "    for line in file:\n",
    "        # Count the number of occurrences of the key-value pair in the line\n",
    "        count = line.count(key_value_pair)\n",
    "        \n",
    "        # Increment the count in the defaultdict\n",
    "        counts[count] += 1\n",
    "\n",
    "# Print the counts for each number of occurrences\n",
    "for count, num_occurrences in counts.items():\n",
    "    print(f\"{num_occurrences} lines contain {count} occurrences of '{key_value_pair}'\")\n",
    "```"
   ]
  },
  {
   "cell_type": "markdown",
   "id": "19371ff6",
   "metadata": {},
   "source": [
    "**Q10 :** Python | Finding ‘n’ Character Words in a Text File\n",
    "\n",
    "```python\n",
    "n = 5  # set n to the desired number of characters\n",
    "with open('text_file.txt', 'r') as file:\n",
    "    words = file.read().split()  # read the file and split into words\n",
    "    n_letter_words = [word for word in words if len(word) == n]  # filter the words with n characters\n",
    "    print(n_letter_words)  # print the filtered words\n",
    "```"
   ]
  }
 ],
 "metadata": {
  "kernelspec": {
   "display_name": "Python 3 (ipykernel)",
   "language": "python",
   "name": "python3"
  },
  "language_info": {
   "codemirror_mode": {
    "name": "ipython",
    "version": 3
   },
   "file_extension": ".py",
   "mimetype": "text/x-python",
   "name": "python",
   "nbconvert_exporter": "python",
   "pygments_lexer": "ipython3",
   "version": "3.9.12"
  },
  "latex_envs": {
   "LaTeX_envs_menu_present": true,
   "autoclose": false,
   "autocomplete": true,
   "bibliofile": "biblio.bib",
   "cite_by": "apalike",
   "current_citInitial": 1,
   "eqLabelWithNumbers": true,
   "eqNumInitial": 1,
   "hotkeys": {
    "equation": "Ctrl-E",
    "itemize": "Ctrl-I"
   },
   "labels_anchors": false,
   "latex_user_defs": false,
   "report_style_numbering": false,
   "user_envs_cfg": false
  },
  "nbTranslate": {
   "displayLangs": [
    "*"
   ],
   "hotkey": "alt-t",
   "langInMainMenu": true,
   "sourceLang": "en",
   "targetLang": "fr",
   "useGoogleTranslate": true
  },
  "toc": {
   "base_numbering": 1,
   "nav_menu": {},
   "number_sections": true,
   "sideBar": true,
   "skip_h1_title": false,
   "title_cell": "Table of Contents",
   "title_sidebar": "Contents",
   "toc_cell": false,
   "toc_position": {},
   "toc_section_display": true,
   "toc_window_display": false
  },
  "varInspector": {
   "cols": {
    "lenName": 16,
    "lenType": 16,
    "lenVar": 40
   },
   "kernels_config": {
    "python": {
     "delete_cmd_postfix": "",
     "delete_cmd_prefix": "del ",
     "library": "var_list.py",
     "varRefreshCmd": "print(var_dic_list())"
    },
    "r": {
     "delete_cmd_postfix": ") ",
     "delete_cmd_prefix": "rm(",
     "library": "var_list.r",
     "varRefreshCmd": "cat(var_dic_list()) "
    }
   },
   "types_to_exclude": [
    "module",
    "function",
    "builtin_function_or_method",
    "instance",
    "_Feature"
   ],
   "window_display": false
  }
 },
 "nbformat": 4,
 "nbformat_minor": 5
}
