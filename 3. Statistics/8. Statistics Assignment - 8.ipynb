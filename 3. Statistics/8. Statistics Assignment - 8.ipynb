{
 "cells": [
  {
   "cell_type": "markdown",
   "id": "18ba47cf-c042-4953-90c3-6df579c22c19",
   "metadata": {},
   "source": [
    "![image](https://user-images.githubusercontent.com/57321948/196933065-4b16c235-f3b9-4391-9cfe-4affcec87c35.png)\n",
    "\n",
    "# Name: Mohammad Wasiq\n",
    "\n",
    "## E-mail: `mohammadwasiq0786@gmail.com`\n",
    "\n",
    "### Statistics Assignment - 8"
   ]
  },
  {
   "cell_type": "markdown",
   "id": "87850cc3-490f-491c-b2cd-e6086ef38833",
   "metadata": {},
   "source": [
    "**Q1 :** A crime is committed by one of two suspects, A and B. Initially, there is equal evidence against both of them. In further investigation at the crime scene, it is found that the guilty party had a blood type found in 10% of the population. Suspect A does match this blood type, whereas the blood type of Suspect B is unknown. \n",
    "\n",
    "* (a) Given this new information, what is the probability that A is the guilty party? \n",
    "* (b) Given this new information, what is the probability that B’s blood type matches that found at the crime scene?\n",
    "\n",
    "**Ans :**\n",
    "\n",
    "* (a) Let M be the event that A’s blood type matches the guilty party’s and for brevity, write A for “A is guilty” and B for “B is guilty”. By Bayes’ Rule,\n",
    "$$P(A|M)= \\frac{P(M|A)P(A)}{P(M|A)P(A)+ P(M|B)P(B)}= \\frac{1/2}{1/2+ (1/10)(1/2)}= \\frac{10}{11}$$\n",
    "\n",
    "(We have $𝑃(𝑀|𝐵)= 1/10$ since, given that $B$ is guilty, the probability that A’s blood type matches the guilty party’s is the same probability as for the general population.)\n",
    "\n",
    "* (b) Let C be the event that B’s blood type matches, and condition on whether B is guilty. This gives \n",
    "$$𝑃(𝐶|𝑀)= 𝑃(𝐶|𝑀,𝐴)𝑃(𝐴|𝑀) + 𝑃(𝐶|𝑀,𝐵)𝑃(𝐵|𝑀)= \\frac{1}{10}\\cdot \\frac{10}{11}+ \\frac{1}{11}= \\frac{2}{11}$$"
   ]
  }
 ],
 "metadata": {
  "kernelspec": {
   "display_name": "Python 3 (ipykernel)",
   "language": "python",
   "name": "python3"
  },
  "language_info": {
   "codemirror_mode": {
    "name": "ipython",
    "version": 3
   },
   "file_extension": ".py",
   "mimetype": "text/x-python",
   "name": "python",
   "nbconvert_exporter": "python",
   "pygments_lexer": "ipython3",
   "version": "3.9.12"
  },
  "latex_envs": {
   "LaTeX_envs_menu_present": true,
   "autoclose": false,
   "autocomplete": true,
   "bibliofile": "biblio.bib",
   "cite_by": "apalike",
   "current_citInitial": 1,
   "eqLabelWithNumbers": true,
   "eqNumInitial": 1,
   "hotkeys": {
    "equation": "Ctrl-E",
    "itemize": "Ctrl-I"
   },
   "labels_anchors": false,
   "latex_user_defs": false,
   "report_style_numbering": false,
   "user_envs_cfg": false
  },
  "nbTranslate": {
   "displayLangs": [
    "*"
   ],
   "hotkey": "alt-t",
   "langInMainMenu": true,
   "sourceLang": "en",
   "targetLang": "fr",
   "useGoogleTranslate": true
  },
  "toc": {
   "base_numbering": 1,
   "nav_menu": {},
   "number_sections": true,
   "sideBar": true,
   "skip_h1_title": false,
   "title_cell": "Table of Contents",
   "title_sidebar": "Contents",
   "toc_cell": false,
   "toc_position": {},
   "toc_section_display": true,
   "toc_window_display": false
  },
  "varInspector": {
   "cols": {
    "lenName": 16,
    "lenType": 16,
    "lenVar": 40
   },
   "kernels_config": {
    "python": {
     "delete_cmd_postfix": "",
     "delete_cmd_prefix": "del ",
     "library": "var_list.py",
     "varRefreshCmd": "print(var_dic_list())"
    },
    "r": {
     "delete_cmd_postfix": ") ",
     "delete_cmd_prefix": "rm(",
     "library": "var_list.r",
     "varRefreshCmd": "cat(var_dic_list()) "
    }
   },
   "types_to_exclude": [
    "module",
    "function",
    "builtin_function_or_method",
    "instance",
    "_Feature"
   ],
   "window_display": false
  }
 },
 "nbformat": 4,
 "nbformat_minor": 5
}
