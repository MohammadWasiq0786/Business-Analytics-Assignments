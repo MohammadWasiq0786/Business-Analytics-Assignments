{
 "cells": [
  {
   "cell_type": "markdown",
   "id": "bd82b3c4-3da0-4ee1-b1a5-0f2102a39ecb",
   "metadata": {},
   "source": [
    "![image](https://user-images.githubusercontent.com/57321948/196933065-4b16c235-f3b9-4391-9cfe-4affcec87c35.png)\n",
    "\n",
    "# Name: Mohammad Wasiq\n",
    "\n",
    "## E-mail: `mohammadwasiq0786@gmail.com`\n",
    "\n",
    "### Statistics Assignment - 10"
   ]
  },
  {
   "cell_type": "markdown",
   "id": "cc037f81-d37d-401d-941c-120ab90bdf68",
   "metadata": {
    "variables": {
     "i+j}\\choose i} s^i (1-s)^j {n \\choose {i+j": "<p><strong>SyntaxError</strong>: unmatched &#39;}&#39; (3180519418.py, line 1)</p>\n"
    }
   },
   "source": [
    "**Q1 :** A chicken lays n eggs. Each egg independently does or doesn’t hatch, with probability p of hatching. For each egg that hatches, the chick does or doesn’t survive (independently of the other eggs), with probability s of survival. Let N ⇠ Bin(n, p) be the number of eggs which hatch, X be the number of chicks which survive, and Y be the number of chicks which hatch but don’t survive (so X + Y = N). Find the marginal PMF of X, and the joint PMF of X and Y . Are they independent?\n",
    "\n",
    "**Ans :** Marginally we have $𝑋 \\sim Bin(n, ps)$, as shown on a previous homework problem using a story proof (the eggs can be thought of as independent Bernoulli trials with probability $ps$ of success for each). Here $X$ and $Y$ are not independent, unlike in the chicken-egg problem from class (where $N$ was Poisson). This follows immediately from thinking about an extreme case: if $𝑋=𝑛$, then clearly $Y=0$. So they are not independent: $P(Y=0<1$, while $P(Y=0|X=n)=1. \n",
    "\n",
    "To find the joint distribution, condition on $N$ and note that only the $𝑁=𝑖+𝑗$ term is nonzero: for any nonnegative integers $i$, $j$ with $𝑖+𝑗 \\le n$ \n",
    "\n",
    "$$𝑃(𝑋=𝑖, 𝑌=𝑗)= 𝑃(𝑋=𝑖, 𝑌=𝑗|𝑁=𝑖+𝑗)𝑃(𝑁=𝑖+𝑗)$$\n",
    "$$= 𝑃(𝑋=𝑖|𝑁= 𝑖+𝑗)𝑃(𝑁= 𝑖+𝑗)$$\n",
    "$$= {{i+j}\\choose i} s^i (1-s)^j {n \\choose {i+j}} (1-p)^{n-i-j}$$\n",
    "$$= \\frac{n!}{i! j! (n-i-j)!}(ps)^i (p(1-s))^j (1-p)^{n-i-j}$$\n",
    "\n",
    "If we let $Z$ be the number of eggs which don’t hatch, then from the above we have that $(X, Y, Z)$ has a $Multinomial(n,(ps, p(1-s),(1-p))$ distribution, which makes sense intuitively since each egg independently falls into $1$ of $3$ categories: hatch-and-survive, hatch-and-don’t-survive, and don’t-hatch, with probabilities $ps$, $p(1-s)$, $1-p$ respectively."
   ]
  }
 ],
 "metadata": {
  "kernelspec": {
   "display_name": "Python 3 (ipykernel)",
   "language": "python",
   "name": "python3"
  },
  "language_info": {
   "codemirror_mode": {
    "name": "ipython",
    "version": 3
   },
   "file_extension": ".py",
   "mimetype": "text/x-python",
   "name": "python",
   "nbconvert_exporter": "python",
   "pygments_lexer": "ipython3",
   "version": "3.9.12"
  },
  "latex_envs": {
   "LaTeX_envs_menu_present": true,
   "autoclose": false,
   "autocomplete": true,
   "bibliofile": "biblio.bib",
   "cite_by": "apalike",
   "current_citInitial": 1,
   "eqLabelWithNumbers": true,
   "eqNumInitial": 1,
   "hotkeys": {
    "equation": "Ctrl-E",
    "itemize": "Ctrl-I"
   },
   "labels_anchors": false,
   "latex_user_defs": false,
   "report_style_numbering": false,
   "user_envs_cfg": false
  },
  "nbTranslate": {
   "displayLangs": [
    "*"
   ],
   "hotkey": "alt-t",
   "langInMainMenu": true,
   "sourceLang": "en",
   "targetLang": "fr",
   "useGoogleTranslate": true
  },
  "toc": {
   "base_numbering": 1,
   "nav_menu": {},
   "number_sections": true,
   "sideBar": true,
   "skip_h1_title": false,
   "title_cell": "Table of Contents",
   "title_sidebar": "Contents",
   "toc_cell": false,
   "toc_position": {},
   "toc_section_display": true,
   "toc_window_display": false
  },
  "varInspector": {
   "cols": {
    "lenName": 16,
    "lenType": 16,
    "lenVar": 40
   },
   "kernels_config": {
    "python": {
     "delete_cmd_postfix": "",
     "delete_cmd_prefix": "del ",
     "library": "var_list.py",
     "varRefreshCmd": "print(var_dic_list())"
    },
    "r": {
     "delete_cmd_postfix": ") ",
     "delete_cmd_prefix": "rm(",
     "library": "var_list.r",
     "varRefreshCmd": "cat(var_dic_list()) "
    }
   },
   "types_to_exclude": [
    "module",
    "function",
    "builtin_function_or_method",
    "instance",
    "_Feature"
   ],
   "window_display": false
  }
 },
 "nbformat": 4,
 "nbformat_minor": 5
}
