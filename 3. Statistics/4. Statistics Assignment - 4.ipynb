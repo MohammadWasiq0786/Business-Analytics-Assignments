{
 "cells": [
  {
   "cell_type": "markdown",
   "id": "28b5cf15-9e71-490f-bf35-a96d8adc8655",
   "metadata": {},
   "source": [
    "![image](https://user-images.githubusercontent.com/57321948/196933065-4b16c235-f3b9-4391-9cfe-4affcec87c35.png)\n",
    "\n",
    "# Name: Mohammad Wasiq\n",
    "\n",
    "## E-mail: `mohammadwasiq0786@gmail.com`\n",
    "\n",
    "### Statistics Assignment - 4"
   ]
  },
  {
   "cell_type": "markdown",
   "id": "aabe25c5-d677-4e8b-a566-a6828965b8b9",
   "metadata": {},
   "source": [
    "**Q1 :** Is it possible that an event is independent of itself? If so, when?\n",
    "\n",
    "**Ans :** Let A be an event. If A is independent of itself, then \n",
    "$$𝑃(𝐴) = 𝑃(𝐴 \\cap 𝐴) = 𝑃(𝐴)^2$$\n",
    "\n",
    "So, $P(A)$ is $0$ or $1$. So this is only possible in the extreme cases that the event has probability $0$ or $1$. "
   ]
  },
  {
   "cell_type": "markdown",
   "id": "89e9c809-f0ab-4bc4-b909-d18e6c864dd0",
   "metadata": {},
   "source": [
    "**Q2 :** Is it always true that if A and B are independent events, then Ac and Bc are independent events? Show that it is, or give a counterexample.\n",
    "\n",
    "**Ans :** Yes, because we have \n",
    "$$𝑃(𝐴^C \\cap 𝐵^C)= 1− 𝑃(𝐴 \\cup 𝐵)= 1− \\Big(𝑃(𝐴)+ 𝑃(𝐵)− 𝑃(𝐴 \\cap 𝐵)\\Big)$$\n",
    "\n",
    "since $A$ and $B$ are independent, this becomes \n",
    "$$1− 𝑃(𝐴)− 𝑃(𝐵)+ 𝑃(𝐴)𝑃(𝐵)= \\big(1− 𝑃(𝐴)\\big) \\big(1−𝑃(𝐵)\\big)= 𝑃(𝐴^C)𝑃(𝐵^C)$$"
   ]
  }
 ],
 "metadata": {
  "kernelspec": {
   "display_name": "Python 3 (ipykernel)",
   "language": "python",
   "name": "python3"
  },
  "language_info": {
   "codemirror_mode": {
    "name": "ipython",
    "version": 3
   },
   "file_extension": ".py",
   "mimetype": "text/x-python",
   "name": "python",
   "nbconvert_exporter": "python",
   "pygments_lexer": "ipython3",
   "version": "3.9.12"
  },
  "latex_envs": {
   "LaTeX_envs_menu_present": true,
   "autoclose": false,
   "autocomplete": true,
   "bibliofile": "biblio.bib",
   "cite_by": "apalike",
   "current_citInitial": 1,
   "eqLabelWithNumbers": true,
   "eqNumInitial": 1,
   "hotkeys": {
    "equation": "Ctrl-E",
    "itemize": "Ctrl-I"
   },
   "labels_anchors": false,
   "latex_user_defs": false,
   "report_style_numbering": false,
   "user_envs_cfg": false
  },
  "nbTranslate": {
   "displayLangs": [
    "*"
   ],
   "hotkey": "alt-t",
   "langInMainMenu": true,
   "sourceLang": "en",
   "targetLang": "fr",
   "useGoogleTranslate": true
  },
  "toc": {
   "base_numbering": 1,
   "nav_menu": {},
   "number_sections": true,
   "sideBar": true,
   "skip_h1_title": false,
   "title_cell": "Table of Contents",
   "title_sidebar": "Contents",
   "toc_cell": false,
   "toc_position": {},
   "toc_section_display": true,
   "toc_window_display": false
  },
  "varInspector": {
   "cols": {
    "lenName": 16,
    "lenType": 16,
    "lenVar": 40
   },
   "kernels_config": {
    "python": {
     "delete_cmd_postfix": "",
     "delete_cmd_prefix": "del ",
     "library": "var_list.py",
     "varRefreshCmd": "print(var_dic_list())"
    },
    "r": {
     "delete_cmd_postfix": ") ",
     "delete_cmd_prefix": "rm(",
     "library": "var_list.r",
     "varRefreshCmd": "cat(var_dic_list()) "
    }
   },
   "types_to_exclude": [
    "module",
    "function",
    "builtin_function_or_method",
    "instance",
    "_Feature"
   ],
   "window_display": false
  }
 },
 "nbformat": 4,
 "nbformat_minor": 5
}
