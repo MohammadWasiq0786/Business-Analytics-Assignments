{
 "cells": [
  {
   "cell_type": "markdown",
   "id": "3aff142b-61d1-4f93-aec7-40c25bed6226",
   "metadata": {},
   "source": [
    "![image](https://user-images.githubusercontent.com/57321948/196933065-4b16c235-f3b9-4391-9cfe-4affcec87c35.png)\n",
    "\n",
    "# Name: Mohammad Wasiq\n",
    "\n",
    "## E-mail: `mohammadwasiq0786@gmail.com`\n",
    "\n",
    "### Statistics Assignment - 9"
   ]
  },
  {
   "cell_type": "markdown",
   "id": "c839f963-2d12-44a7-a5cc-fcfdec391325",
   "metadata": {},
   "source": [
    "**Q1 :** You are going to play 2 games of chess with an opponent whom you have never played against before (for the sake of this problem). Your opponent is equally likely to be a beginner, intermediate, or a master. Depending on \n",
    "\n",
    "* (a) What is your probability of winning the first game? \n",
    "* (b) Congratulations: you won the first game! Given this information, what is the probability that you will also win the second game \n",
    "* (c) Explain the distinction between assuming that the outcomes of the games are independent and assuming that they are conditionally independent given the opponent’s skill level. Which of these assumptions seems more reasonable, and why?\n",
    "\n",
    "**Ans :**\n",
    "\n",
    "* (a) Let $W_i$ be the event of winning the $i^{th}$ game. By the law of total probability, \n",
    "$$𝑃(𝑊_1)= (0.9 + 0.5 + 0.3)/3= 17/30$$.\n",
    "\n",
    "* (b) We have 𝑃(𝑊ଶ|𝑊ଵ) = 𝑃(𝑊ଶ,𝑊ଵ)/𝑃(𝑊ଵ). The denominator is known from (a), while the numerator can be found by conditioning on the skill level of the opponent: \n",
    "$$𝑃(𝑊_1, 𝑊_2)= \\frac{1}{3}𝑃(𝑊_1, 𝑊_2|beginner)+ \\frac{1}{3}𝑃(𝑊_1, 𝑊_2|intermediate)+ \\frac{1}{3}𝑃(𝑊_1, 𝑊_2|expert)$$\n",
    "\n",
    "Since $W_1$ and $W_2$ are conditionally independent given the skill level of the opponent, this becomes\n",
    "$$P(W_1, W_2)= \\frac{0.9^2+ 0.5^2+ 0.3^2}{3}= \\frac{23}{60}$$\n",
    "\n",
    "So, \n",
    "$$P(W_2|W_1)= \\frac{23/60}{17/60}= \\frac{23}{34}$$\n",
    "\n",
    "* (c) Independence here means that knowing one game’s outcome gives no information about the other game’s outcome, while conditional independence is the same statement where all probabilities are conditional on the opponent’s skill level. Conditional independence given the opponent’s skill level is a more reasonable assumption here. This is because winning the first game gives information about the opponent’s skill level, which in turn gives information about the result of the second game. \n",
    "\n",
    "That is, if the opponent’s skill level is treated as fixed and known, then it may be reasonable to assume independence of games given this information; with the \n",
    "opponent’s skill level random, earlier games can be used to help infer the opponent’s skill level, which affects the probabilities for future games."
   ]
  }
 ],
 "metadata": {
  "kernelspec": {
   "display_name": "Python 3 (ipykernel)",
   "language": "python",
   "name": "python3"
  },
  "language_info": {
   "codemirror_mode": {
    "name": "ipython",
    "version": 3
   },
   "file_extension": ".py",
   "mimetype": "text/x-python",
   "name": "python",
   "nbconvert_exporter": "python",
   "pygments_lexer": "ipython3",
   "version": "3.9.12"
  },
  "latex_envs": {
   "LaTeX_envs_menu_present": true,
   "autoclose": false,
   "autocomplete": true,
   "bibliofile": "biblio.bib",
   "cite_by": "apalike",
   "current_citInitial": 1,
   "eqLabelWithNumbers": true,
   "eqNumInitial": 1,
   "hotkeys": {
    "equation": "Ctrl-E",
    "itemize": "Ctrl-I"
   },
   "labels_anchors": false,
   "latex_user_defs": false,
   "report_style_numbering": false,
   "user_envs_cfg": false
  },
  "nbTranslate": {
   "displayLangs": [
    "*"
   ],
   "hotkey": "alt-t",
   "langInMainMenu": true,
   "sourceLang": "en",
   "targetLang": "fr",
   "useGoogleTranslate": true
  },
  "toc": {
   "base_numbering": 1,
   "nav_menu": {},
   "number_sections": true,
   "sideBar": true,
   "skip_h1_title": false,
   "title_cell": "Table of Contents",
   "title_sidebar": "Contents",
   "toc_cell": false,
   "toc_position": {},
   "toc_section_display": true,
   "toc_window_display": false
  },
  "varInspector": {
   "cols": {
    "lenName": 16,
    "lenType": 16,
    "lenVar": 40
   },
   "kernels_config": {
    "python": {
     "delete_cmd_postfix": "",
     "delete_cmd_prefix": "del ",
     "library": "var_list.py",
     "varRefreshCmd": "print(var_dic_list())"
    },
    "r": {
     "delete_cmd_postfix": ") ",
     "delete_cmd_prefix": "rm(",
     "library": "var_list.r",
     "varRefreshCmd": "cat(var_dic_list()) "
    }
   },
   "types_to_exclude": [
    "module",
    "function",
    "builtin_function_or_method",
    "instance",
    "_Feature"
   ],
   "window_display": false
  }
 },
 "nbformat": 4,
 "nbformat_minor": 5
}
