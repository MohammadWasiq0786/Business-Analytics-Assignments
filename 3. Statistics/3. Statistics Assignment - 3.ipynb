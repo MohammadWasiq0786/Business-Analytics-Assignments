{
 "cells": [
  {
   "cell_type": "markdown",
   "id": "4fe3c633-0080-4411-9ea9-cd1f43625a13",
   "metadata": {},
   "source": [
    "![image](https://user-images.githubusercontent.com/57321948/196933065-4b16c235-f3b9-4391-9cfe-4affcec87c35.png)\n",
    "\n",
    "# Name: Mohammad Wasiq\n",
    "\n",
    "## E-mail: `mohammadwasiq0786@gmail.com`\n",
    "\n",
    "### Statistics Assignment - 3"
   ]
  },
  {
   "cell_type": "markdown",
   "id": "8f9e812f-a2ec-40df-8157-dd7b92646362",
   "metadata": {},
   "source": [
    "**Q1 :** For a group of 7 people, find the probability that all 4 seasons (winter, spring, summer, fall) occur at least once each among their birthdays, assuming that all seasons are equally likely.\n",
    "\n",
    "**Ans :** Let $A_i$ be th event that there are no birthdays in the $i^{th}$ season. The probability that all \n",
    "seasons occur atleast once is $1- P(A_1 \\cup A_2 \\cup A_3 \\cup A_4)$. Also, $A_1\\cap A_2\\cap A_3\\cap A_4= \\emptyset$. Using  the \n",
    "inclusion – exclusion principle and the symmetry of the seasons,\n",
    "\n",
    "$$P(A_1 \\cup A_2 \\cup A_3 \\cup A_4)= \\sum_{i=1}^4 P(A_i)- \\sum_{i=1}^3 \\sum_{j>i} P(A_i \\cap A_j)+ \\sum_{i=1}^3 \\sum_{j>i} \\sum_{k>j} p(A_i \\cap A_j \\cap A_k)$$\n",
    "\n",
    "$$= 4P(A_1)- 6P(A_1 \\cap A_2)+ 4P(A_1 \\cap A_2 \\cap A_3)$$\n",
    "\n",
    "We have $P(A_1)= (3/4)^7.$ Similarly,\n",
    "$$P(A_1 \\cap A_2)= \\frac{1}{2^7}$$\n",
    "And\n",
    "$$P(A_1 \\cap A_2 \\cap A_3)= \\frac{1}{4^7}$$\n",
    "\n",
    "Therefore,\n",
    "$$P(A_1 \\cup A_2 \\cup A_3 \\cup A_4)= 4 \\big(\\frac{3}{4}\\big)^7- \\frac{6}{2^7}+ \\frac{4}{4^7}$$\n",
    "\n",
    "So the probability that all 4 seasons occur atleast once is\n",
    "$$1- \\Bigg(4 \\big(\\frac{3}{4}\\big)^7- \\frac{6}{2^7}+ \\frac{4}{4^7}\\Bigg) \\approx 0.513$$"
   ]
  },
  {
   "cell_type": "markdown",
   "id": "f75d9e9b-d8d4-4104-906c-ab8da4c5d11e",
   "metadata": {
    "variables": {
     "5 \\choose 2}{6 \\choose 2}6^3+ {5 \\choose 1}{6 \\choose 3}6^4}{{30 \\choose 7": "<p><strong>SyntaxError</strong>: unexpected character after line continuation character (154031696.py, line 1)</p>\n"
    }
   },
   "source": [
    "**Q2 :** Alice attends a small college in which each class meets only once a week. She is deciding between 30 non-overlapping classes. There are 6 classes to choose from for each day of the week, Monday through Friday. Trusting in the benevolence of randomness, Alice decides to register for 7 randomly selected classes out of the 30, with all choices equally likely. What is the probability that she will have classes every day, Monday through Friday?\n",
    "\n",
    "**Ans :** There are two general ways that Alice can have class every day: either she has 2 days with 2 classes and 3 days with 1 class, or she has 1 day with 3 classes, and has 1 class on each of the other 4 days. The number of possibilities for the former is ${5 \\choose 2} {6 \\choose 3} 6^3$ (choose the 2 days when she has 2 classes, and then select 2 classes on those days and 1 class for the other days). The number of possibilities for the latter is ${5 \\choose 1} {6 \\choose 3} 6^4$. So the probability is\n",
    "$$\\frac{{5 \\choose 2}{6 \\choose 2}6^3+ {5 \\choose 1}{6 \\choose 3}6^4}{{30 \\choose 7}}= \\frac{114}{377}\\approx 0.302$$\n",
    "\n",
    "we will use inclusion-exclusion to find the probability of the complement, which is the event that she has at least one day with no classes. Let $B_i= A_i^c$. Then\n",
    "$$P(B_1 \\cup B_2 \\cup...\\cup B_5)= \\sum_{i}P(B_i)- \\sum_{i<j}P(B_i \\cap B_j)+ \\sum_{i<j<k}P(B_i \\cap B_j \\cap B_k)$$"
   ]
  }
 ],
 "metadata": {
  "kernelspec": {
   "display_name": "Python 3 (ipykernel)",
   "language": "python",
   "name": "python3"
  },
  "language_info": {
   "codemirror_mode": {
    "name": "ipython",
    "version": 3
   },
   "file_extension": ".py",
   "mimetype": "text/x-python",
   "name": "python",
   "nbconvert_exporter": "python",
   "pygments_lexer": "ipython3",
   "version": "3.9.12"
  },
  "latex_envs": {
   "LaTeX_envs_menu_present": true,
   "autoclose": false,
   "autocomplete": true,
   "bibliofile": "biblio.bib",
   "cite_by": "apalike",
   "current_citInitial": 1,
   "eqLabelWithNumbers": true,
   "eqNumInitial": 1,
   "hotkeys": {
    "equation": "Ctrl-E",
    "itemize": "Ctrl-I"
   },
   "labels_anchors": false,
   "latex_user_defs": false,
   "report_style_numbering": false,
   "user_envs_cfg": false
  },
  "nbTranslate": {
   "displayLangs": [
    "*"
   ],
   "hotkey": "alt-t",
   "langInMainMenu": true,
   "sourceLang": "en",
   "targetLang": "fr",
   "useGoogleTranslate": true
  },
  "toc": {
   "base_numbering": 1,
   "nav_menu": {},
   "number_sections": true,
   "sideBar": true,
   "skip_h1_title": false,
   "title_cell": "Table of Contents",
   "title_sidebar": "Contents",
   "toc_cell": false,
   "toc_position": {},
   "toc_section_display": true,
   "toc_window_display": false
  },
  "varInspector": {
   "cols": {
    "lenName": 16,
    "lenType": 16,
    "lenVar": 40
   },
   "kernels_config": {
    "python": {
     "delete_cmd_postfix": "",
     "delete_cmd_prefix": "del ",
     "library": "var_list.py",
     "varRefreshCmd": "print(var_dic_list())"
    },
    "r": {
     "delete_cmd_postfix": ") ",
     "delete_cmd_prefix": "rm(",
     "library": "var_list.r",
     "varRefreshCmd": "cat(var_dic_list()) "
    }
   },
   "types_to_exclude": [
    "module",
    "function",
    "builtin_function_or_method",
    "instance",
    "_Feature"
   ],
   "window_display": false
  }
 },
 "nbformat": 4,
 "nbformat_minor": 5
}
