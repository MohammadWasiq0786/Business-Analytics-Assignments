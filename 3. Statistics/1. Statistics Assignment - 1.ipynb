{
 "cells": [
  {
   "cell_type": "markdown",
   "id": "ff03e9e8-d1c4-4bc0-b22b-6a4ab86104b2",
   "metadata": {},
   "source": [
    "![image](https://user-images.githubusercontent.com/57321948/196933065-4b16c235-f3b9-4391-9cfe-4affcec87c35.png)\n",
    "\n",
    "# Name: Mohammad Wasiq\n",
    "\n",
    "## E-mail: `mohammadwasiq0786@gmail.com`\n",
    "\n",
    "### Statistics Assignment - 1"
   ]
  },
  {
   "cell_type": "markdown",
   "id": "c03af7b2-0afa-4584-89df-31f3d7bb3e13",
   "metadata": {},
   "source": [
    "**Q1 :** 1.\tHarvard Law School courses often have assigned seating to facilitate the “Socratic method.” Suppose that there are 100 first year Harvard Law students, and each takes two courses: Torts and Contracts. Both are held in the same lecture hall (which has 100 seats), and the seating is uniformly random and independent for the two courses. \n",
    "\n",
    "* (a) Find the probability that no one has the same seat for both courses (exactly; you should   leave your answer as a sum). \n",
    "* (b) Find a simple but accurate approximation to the probability that no one has the same seat for both courses. \n",
    "* (c) Find a simple but accurate approximation to the probability that at least two students have the same seat for both courses.\n",
    "\n",
    "**Ans :** \n",
    "\n",
    "* (a) Let X be the number of students that take the same seat in both classes and $S_j$ be the $j^{th}$ student who has the same seat, then we have \n",
    "\n",
    "$$P(X=0)= 1- P(X \\ge 1)= 1- P\\Bigg(\\bigcup_{j} S_j\\Bigg)$$\n",
    "\n",
    "Using the inclusion- exclusion formula and the symmetry, we have \n",
    "\n",
    "$$P\\Bigg(\\bigcup_{j} S_j\\Bigg)= \\sum_{j}(-1)^{j-1} {100 \\choose j} P\\Bigg(\\bigcap_{k=1}^j S_k\\Bigg)$$\n",
    "\n",
    "The probability that first j students sit on their seats is simply $\\frac{(100- j)!}{100!}$ .Thus we have\n",
    "\n",
    "$$P\\Bigg(\\bigcup_{j} S_j\\Bigg)= \\sum_{j}(-1)^{j-1} {100 \\choose j} \\frac{(100- j)!}{100!}= \\sum_{j=1}^{100} \\frac{(-1)^{j-1}}{j!}$$\n",
    "\n",
    "Finally,\n",
    "$$P(X=0)= 1- \\sum_{j=1}^{100} \\frac{(-1)^{j-1}}{j!}= \\sum_{j=1}^{100} \\frac{(-1)^{j}}{j!}$$\n",
    "\n",
    "* (b)  If $I_j$ is the indicator random variable that indicates if $S_j$ has occurred. Then we have,\n",
    "$$X= \\sum_{j=1}^{100} I_j$$\n",
    "\n",
    "We know that $P(I_j)= \\frac{1}{100}$ and that we can approximate \n",
    "$$P\\Big((I_j= 1) \\cap (I_k= 1)\\Big)= \\frac{1}{100} \\cdot \\frac{1}{99}\\approx \\Big(\\frac{1}{100}\\Big)^2= P(I_j= 1) P(I_k= 1)$$\n",
    "\n",
    "So, $I_j$ and $I_k$ are independent random variables. Now we can approximate $X$ with Poisson distribution with parameter $\\lambda= E(X)= 100E(I_1)$. So, we have \n",
    "\n",
    "$$P(X=0)\\approx \\frac{1^0}{0!}e^{-1} \\approx 0.37$$\n",
    "\n",
    "* (c) Using Poisson approximation to finally obtain that \n",
    "$$P(X \\ge 2)= 1- P(X=0)- P(X=1) \\approx 1-e^{-1}-e^{-1}= 1-2e^{-1} \\approx 0.26$$"
   ]
  },
  {
   "cell_type": "markdown",
   "id": "4f5ee9bf-9f3b-443a-ba27-056be892b0c4",
   "metadata": {},
   "source": [
    "**Q2 :** 2.\tThere are 100 passengers lined up to board an airplane with 100 seats (with each seat assigned to one of the passengers). The first passenger in line crazily decides to sit in a randomly chosen seat (with all seats equally likely). Each subsequent passenger takes his or her assigned seat if available, and otherwise sits in a random available seat. What is the probability that the last passenger in line gets to sit in his or her assigned seat?\n",
    "\n",
    "**Ans :**\n",
    "\n",
    "If there are only 2 passengers A & B and 2 seats, then\n",
    "\n",
    "P(B sits in his or her assigned seat)= P(A sits in his or her seat)= 1/2\n",
    " \n",
    "If there are 3 passengers A, B, C and 3 seats, then \n",
    "\n",
    "P(C sits in his or her assigned seat)= P(A sits in his or her assigned seat) + P(A sits in B’s assigned seat)* P(B sits in A’s assigned seat)= $1/3 + (1/3)*(1/2) = 1/3 +1/6 = 1/2$\n",
    "\n",
    "If there are 4 passengers A, B, C, D and 4 seats, then \n",
    "\n",
    "$\\text{P(D sits in his or her assigned seat)= P(A sits in his or her assigned seat) + P(A sits in B’s assigned seat)* P(B sits in A’s assigned seat) + P(A sits in C’s assigned seat)* P(C sits in A’s assigned seat) + P(A sits in B’s assigned seat)* P(B sits in C’s assigned seat)* P(C sits in B’s assigned seat)+ P(A sits in C’s assigned seat)* P(C sits in B’s assigned seat)* P(B sits in C’s assigned seat)*= 1/4+(1/4)*(1/3) +(1/4)*(1/3) +(1/4)*(1/3)*(1/2) +(1/4)*(1/3) *(1/2)= 1/4 + 1/12+1/12+1/24 +1/24 = 1/4 + 2/12 + 1/12 = 1/2}$\n",
    "\n",
    "Similarly, \n",
    "\n",
    "$\\text{P(the last passenger in line gets to sit in his or her assigned seat)=1/2}$"
   ]
  }
 ],
 "metadata": {
  "kernelspec": {
   "display_name": "Python 3 (ipykernel)",
   "language": "python",
   "name": "python3"
  },
  "language_info": {
   "codemirror_mode": {
    "name": "ipython",
    "version": 3
   },
   "file_extension": ".py",
   "mimetype": "text/x-python",
   "name": "python",
   "nbconvert_exporter": "python",
   "pygments_lexer": "ipython3",
   "version": "3.9.12"
  },
  "latex_envs": {
   "LaTeX_envs_menu_present": true,
   "autoclose": false,
   "autocomplete": true,
   "bibliofile": "biblio.bib",
   "cite_by": "apalike",
   "current_citInitial": 1,
   "eqLabelWithNumbers": true,
   "eqNumInitial": 1,
   "hotkeys": {
    "equation": "Ctrl-E",
    "itemize": "Ctrl-I"
   },
   "labels_anchors": false,
   "latex_user_defs": false,
   "report_style_numbering": false,
   "user_envs_cfg": false
  },
  "nbTranslate": {
   "displayLangs": [
    "*"
   ],
   "hotkey": "alt-t",
   "langInMainMenu": true,
   "sourceLang": "en",
   "targetLang": "fr",
   "useGoogleTranslate": true
  },
  "toc": {
   "base_numbering": 1,
   "nav_menu": {},
   "number_sections": true,
   "sideBar": true,
   "skip_h1_title": false,
   "title_cell": "Table of Contents",
   "title_sidebar": "Contents",
   "toc_cell": false,
   "toc_position": {},
   "toc_section_display": true,
   "toc_window_display": false
  },
  "varInspector": {
   "cols": {
    "lenName": 16,
    "lenType": 16,
    "lenVar": 40
   },
   "kernels_config": {
    "python": {
     "delete_cmd_postfix": "",
     "delete_cmd_prefix": "del ",
     "library": "var_list.py",
     "varRefreshCmd": "print(var_dic_list())"
    },
    "r": {
     "delete_cmd_postfix": ") ",
     "delete_cmd_prefix": "rm(",
     "library": "var_list.r",
     "varRefreshCmd": "cat(var_dic_list()) "
    }
   },
   "types_to_exclude": [
    "module",
    "function",
    "builtin_function_or_method",
    "instance",
    "_Feature"
   ],
   "window_display": false
  }
 },
 "nbformat": 4,
 "nbformat_minor": 5
}
