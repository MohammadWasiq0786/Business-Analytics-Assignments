{
 "cells": [
  {
   "cell_type": "markdown",
   "id": "1e3f4f93-19f7-4630-a4f0-350e9f853d6b",
   "metadata": {},
   "source": [
    "![image](https://user-images.githubusercontent.com/57321948/196933065-4b16c235-f3b9-4391-9cfe-4affcec87c35.png)\n",
    "\n",
    "# Name: Mohammad Wasiq\n",
    "\n",
    "## E-mail: `mohammadwasiq0786@gmail.com`\n",
    "\n",
    "### Statistics Assignment - 6"
   ]
  },
  {
   "cell_type": "markdown",
   "id": "70ec791f-43d9-4ee4-89a4-01756b5f3f54",
   "metadata": {},
   "source": [
    "**Q1 :** A group of n 2 people decide to play an exciting game of Rock-Paper Scissors. As you may recall, Rock smashes Scissors, Scissors cuts Paper, and Paper covers Rock (despite Bart Simpson saying “Good old rock, nothing beats that!”). Usually, this game is played with 2 players, but it can be extended to more players as follows. If exactly 2 of the 3 choices appear when everyone reveals their choice, say a, b 2 {Rock, P aper, Scissors} where a beats b, the game is decisive: the players who chose a win, and the players who chose b lose. Otherwise, the game is indecisive and the players play again. For example, with 5 players, if one player picks Rock, two pick Scissors, and two pick Paper, the round is indecisive and they play again. But if 3 pick Rock and 2 pick Scissors, then the Rock players win and the Scissors players lose the game. 1 Assume that the n players independently and randomly choose between Rock, Scissors, and Paper, with equal probabilities. Let X, Y, Z be the number of players who pick Rock, Scissors, Paper, respectively in one game. \n",
    "\n",
    "* (a) Find the joint PMF of X, Y, Z. \n",
    "* (b) Find the probability that the game is decisive. Simplify your answer (it should not involve a sum of many terms). \n",
    "* (c) What is the probability that the game is decisive for n = 5? What is the limiting probability that a game is decisive as n ! 1? Explain briefly why your answer makes sense.\n",
    "\n",
    "**Ans :** \n",
    "\n",
    "* (a) The joint distribution of X, Y, Z is \n",
    "$$P(𝑋=𝑎, 𝑌=𝑏, 𝑍=𝑐)= \\frac{n!}{a!b!c!} \\Big(\\frac{1}{3} \\Big)^{a+b+c}$$\n",
    "\n",
    "where $a, b, c$ are any nonnegative integers with $𝑎+𝑏+𝑐=𝑛$, since $(1/3)^{a+b+c}$ is the probability of any specific configuration of choices for each player with the right numbers in each category, and the coefficient in front counts the number of distinct ways to permute such a \n",
    "configuration. \n",
    "\n",
    "Alternatively, we can write the joint PMF as\n",
    "$$𝑃(𝑋=𝑎, 𝑌=𝑏, 𝑍=𝑐)= 𝑃(𝑋=𝑎)𝑃(𝑌=𝑏|𝑋=𝑎)𝑃(𝑍=𝑐|𝑋=𝑎, 𝑌=𝑏)$$\n",
    "\n",
    "where, for $a+b+c= n, P(X=a)$ can be found from the $𝐵𝑖𝑛(𝑛, 1/3)$ PMF $𝑃(𝑌=𝑏|𝑋=𝑎)$ can be found from the $𝐵𝑖𝑛(𝑛−𝑎, 1/2)$ PMF, and $𝑃(𝑍=𝑐|𝑋=𝑎, 𝑌=𝑏)=1$.\n",
    "\n",
    "This is a $Multinomial (n, (\\frac{1}{3}, \\frac{1}{3}, \\frac{1}{3}))$ distribution.\n",
    "\n",
    "* (b) The game is decisive if and only if exactly one of X, Y, Z is 0. These cases are disjoint so by symmetry, the probability is 3 times the probability that $X$ is zero and Y and Z are nonzero. Note that if $𝑋=0$ and $𝑌=𝑘$, then $𝑍= 𝑛−𝑘$. This gives\n",
    "\n",
    "$$P(Decisive)= 3\\sum_{k=1}^{n-1} \\frac{n!}{0! k! (n-k)!} \\Big(\\frac{1}{3}\\Big)^n= 3\\Big(\\frac{1}{3}\\Big)^n \\sum_{k=1}^{n-1} {n \\choose k}= \\frac{2^n-2}{3^{n-1}}$$\n",
    "\n",
    "Since, $\\sum_{k=1}^{n-1} {n \\choose k}= -1-1+ \\sum_{k=0}^n {n \\choose k}= 2^n - 2$\n",
    "\n",
    "As a check, when $𝑛=2$ this reduces to $2/3$, which makes sense since for $2$ players, the game is decisive if and only if the two players do not pick the same choice.\n",
    "\n",
    "* (c) For $𝑛=5$, the probability is $(2^5−2)/3^4= 30/81\\approx 0.37$. As $𝑛 \\rightarrow \\infty,(2^n−2)/3^{n-1} \\rightarrow 0$, which make sense since if the number of players is very large, it is very likely that there will be at least one of each of Rock, Paper, and Scissors."
   ]
  }
 ],
 "metadata": {
  "kernelspec": {
   "display_name": "Python 3 (ipykernel)",
   "language": "python",
   "name": "python3"
  },
  "language_info": {
   "codemirror_mode": {
    "name": "ipython",
    "version": 3
   },
   "file_extension": ".py",
   "mimetype": "text/x-python",
   "name": "python",
   "nbconvert_exporter": "python",
   "pygments_lexer": "ipython3",
   "version": "3.9.12"
  },
  "latex_envs": {
   "LaTeX_envs_menu_present": true,
   "autoclose": false,
   "autocomplete": true,
   "bibliofile": "biblio.bib",
   "cite_by": "apalike",
   "current_citInitial": 1,
   "eqLabelWithNumbers": true,
   "eqNumInitial": 1,
   "hotkeys": {
    "equation": "Ctrl-E",
    "itemize": "Ctrl-I"
   },
   "labels_anchors": false,
   "latex_user_defs": false,
   "report_style_numbering": false,
   "user_envs_cfg": false
  },
  "nbTranslate": {
   "displayLangs": [
    "*"
   ],
   "hotkey": "alt-t",
   "langInMainMenu": true,
   "sourceLang": "en",
   "targetLang": "fr",
   "useGoogleTranslate": true
  },
  "toc": {
   "base_numbering": 1,
   "nav_menu": {},
   "number_sections": true,
   "sideBar": true,
   "skip_h1_title": false,
   "title_cell": "Table of Contents",
   "title_sidebar": "Contents",
   "toc_cell": false,
   "toc_position": {},
   "toc_section_display": true,
   "toc_window_display": false
  },
  "varInspector": {
   "cols": {
    "lenName": 16,
    "lenType": 16,
    "lenVar": 40
   },
   "kernels_config": {
    "python": {
     "delete_cmd_postfix": "",
     "delete_cmd_prefix": "del ",
     "library": "var_list.py",
     "varRefreshCmd": "print(var_dic_list())"
    },
    "r": {
     "delete_cmd_postfix": ") ",
     "delete_cmd_prefix": "rm(",
     "library": "var_list.r",
     "varRefreshCmd": "cat(var_dic_list()) "
    }
   },
   "types_to_exclude": [
    "module",
    "function",
    "builtin_function_or_method",
    "instance",
    "_Feature"
   ],
   "window_display": false
  }
 },
 "nbformat": 4,
 "nbformat_minor": 5
}
