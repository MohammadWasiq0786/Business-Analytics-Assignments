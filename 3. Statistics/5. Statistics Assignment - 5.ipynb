{
 "cells": [
  {
   "cell_type": "markdown",
   "id": "7b777a0f-21ed-420e-a462-5b39296011d3",
   "metadata": {},
   "source": [
    "![image](https://user-images.githubusercontent.com/57321948/196933065-4b16c235-f3b9-4391-9cfe-4affcec87c35.png)\n",
    "\n",
    "# Name: Mohammad Wasiq\n",
    "\n",
    "## E-mail: `mohammadwasiq0786@gmail.com`\n",
    "\n",
    "### Statistics Assignment - 5"
   ]
  },
  {
   "cell_type": "markdown",
   "id": "95e7c71d-6002-4ba8-9ef1-bfa5d27b3367",
   "metadata": {},
   "source": [
    "**Q1 :** Give an example of 3 events A, B, C which are pairwise independent but not independent. Hint: find an example where whether C occurs is completely determined if we know whether A occurred and whether B occurred, but completely undetermined if we know only one of these things.\n",
    "\n",
    "**Ans :** Consider two fair, independent coin tosses, and let A be the event that the first toss is Head, B be the event that the second toss is Head, and C be the event that the two tosses have the same result. Then A, B, C are dependent since $𝑃(𝐴\\cap 𝐵\\cap 𝐶)= 𝑃(𝐴\\cap 𝐵)= 𝑃(𝐴)𝑃(𝐵)= 1/4 \\neq 1/8= 𝑃(𝐴)𝑃(𝐵)𝑃(𝐶)$, but they are pairwise \n",
    "independent: \n",
    "\n",
    "$A$ and $B$ are independent by definition; \n",
    "\n",
    "$A$ and $C$ are independent since $𝑃(𝐴\\cap 𝐶)= 𝑃(𝐴\\cap 𝐵)= 1/4= 𝑃(𝐴)𝑃(𝐶)$, and similarly $B$ and $C$ are independent. "
   ]
  },
  {
   "cell_type": "markdown",
   "id": "7ef18fcb",
   "metadata": {},
   "source": [
    "**Q2 :** A bag contains one marble which is either green or blue, with equal probabilities. A green marble is put in the bag (so there are 2 marbles now), and then a random marble is taken out. The marble taken out is green. What is the probability that the remaining marble is also green?\n",
    "\n",
    "**Ans :** Let $A$ be the event that the initial marble is green, B be the event that the removed marble is green, and C be the event that the remaining marble is green. We need to find $𝑃(𝐶|𝐵)$. There are several ways to find this; \n",
    "\n",
    "One natural way is to condition on whether the initial marble is green:\n",
    "\n",
    "$$P(C|B)= P(C|B,A)P(A|B)+ P(C|B,A^C)P(A^C|B)= 1P(A|B)+ 0P(A^C|B)$$\n",
    "\n",
    "To find $P(A|B)$, use Bayes' Rule:\n",
    "$$P(A|B)= \\frac{P(B|A)P(A)}{P(B)}= \\frac{1/2}{P(B|A)P(A)+ P(B|A^C)P(A^C)}= \\frac{1/2}{1/2+ 1/4}= \\frac{2}{3}$$\n",
    "\n",
    "So, $P(C|B)= 2/3$"
   ]
  }
 ],
 "metadata": {
  "kernelspec": {
   "display_name": "Python 3 (ipykernel)",
   "language": "python",
   "name": "python3"
  },
  "language_info": {
   "codemirror_mode": {
    "name": "ipython",
    "version": 3
   },
   "file_extension": ".py",
   "mimetype": "text/x-python",
   "name": "python",
   "nbconvert_exporter": "python",
   "pygments_lexer": "ipython3",
   "version": "3.9.12"
  },
  "latex_envs": {
   "LaTeX_envs_menu_present": true,
   "autoclose": false,
   "autocomplete": true,
   "bibliofile": "biblio.bib",
   "cite_by": "apalike",
   "current_citInitial": 1,
   "eqLabelWithNumbers": true,
   "eqNumInitial": 1,
   "hotkeys": {
    "equation": "Ctrl-E",
    "itemize": "Ctrl-I"
   },
   "labels_anchors": false,
   "latex_user_defs": false,
   "report_style_numbering": false,
   "user_envs_cfg": false
  },
  "nbTranslate": {
   "displayLangs": [
    "*"
   ],
   "hotkey": "alt-t",
   "langInMainMenu": true,
   "sourceLang": "en",
   "targetLang": "fr",
   "useGoogleTranslate": true
  },
  "toc": {
   "base_numbering": 1,
   "nav_menu": {},
   "number_sections": true,
   "sideBar": true,
   "skip_h1_title": false,
   "title_cell": "Table of Contents",
   "title_sidebar": "Contents",
   "toc_cell": false,
   "toc_position": {},
   "toc_section_display": true,
   "toc_window_display": false
  },
  "varInspector": {
   "cols": {
    "lenName": 16,
    "lenType": 16,
    "lenVar": 40
   },
   "kernels_config": {
    "python": {
     "delete_cmd_postfix": "",
     "delete_cmd_prefix": "del ",
     "library": "var_list.py",
     "varRefreshCmd": "print(var_dic_list())"
    },
    "r": {
     "delete_cmd_postfix": ") ",
     "delete_cmd_prefix": "rm(",
     "library": "var_list.r",
     "varRefreshCmd": "cat(var_dic_list()) "
    }
   },
   "types_to_exclude": [
    "module",
    "function",
    "builtin_function_or_method",
    "instance",
    "_Feature"
   ],
   "window_display": false
  }
 },
 "nbformat": 4,
 "nbformat_minor": 5
}
