{
 "cells": [
  {
   "cell_type": "markdown",
   "id": "4e08ab37",
   "metadata": {},
   "source": [
    "![image](https://user-images.githubusercontent.com/57321948/196933065-4b16c235-f3b9-4391-9cfe-4affcec87c35.png)\n",
    "\n",
    "# Name: Mohammad Wasiq\n",
    "\n",
    "## E-mail: `mohammadwasiq0786@gmail.com`\n",
    "\n",
    "### Power BI Assignment - 4"
   ]
  },
  {
   "cell_type": "markdown",
   "id": "0ee8f6f5",
   "metadata": {},
   "source": [
    "**Q1 :** Explain DAX.\n",
    "\n",
    "**Ans :** DAX stands for **Data Analysis Expressions**, which is a formula language used to perform calculations and analysis on data in Microsoft Power BI, Excel, and other related products. DAX was developed by Microsoft to allow users to create custom calculations and measures on their data models.\n",
    "\n",
    "DAX is similar to Excel formulas in terms of syntax and structure, but it is designed to work with larger data sets and more complex calculations. DAX includes a wide range of functions, operators, and constants that can be used to manipulate and analyze data.\n",
    "\n",
    "DAX formulas can be used to create calculated columns, which are columns that are derived from other columns in a data model, as well as measures, which are calculations that aggregate data based on certain criteria. DAX formulas can also be used in visualizations to create dynamic and interactive reports."
   ]
  },
  {
   "cell_type": "markdown",
   "id": "4887e2d2",
   "metadata": {},
   "source": [
    "**Q2 :** Explain datasets, reports, and dashboards and how they relate to each other?\n",
    "\n",
    "**Ans :** Datasets, reports, and dashboards are all components of business intelligence (BI) systems used to analyze and visualize data. They are related to each other in that they build upon each other to provide a complete picture of data insights.\n",
    "\n",
    "A dataset is a collection of data that has been organized and formatted in a specific way to allow for easy analysis and reporting. Datasets can be sourced from a variety of places, including databases, spreadsheets, and other data sources. The data is typically transformed and cleaned to ensure accuracy and consistency.\n",
    "\n",
    "A report is a collection of visualizations and data summaries that provide insight into a specific aspect of the data. Reports are often created based on a specific dataset and can be customized to show data in various ways, such as charts, graphs, and tables.\n",
    "\n",
    "A dashboard is a collection of reports and visualizations that provide a comprehensive overview of the data and insights into key performance indicators (KPIs). Dashboards typically contain a combination of static and interactive visualizations, allowing users to explore the data in greater detail and make data-driven decisions."
   ]
  },
  {
   "cell_type": "markdown",
   "id": "83c21b5d",
   "metadata": {},
   "source": [
    "**Q3 :** How reports can be created in power BI, explain two ways with Navigation of each.\n",
    "\n",
    "**Ans :** Reports can be created in Power BI in a variety of ways, but two common methods are using the Power BI Desktop application and using the Power BI service online. Here's how to create reports in each of these two ways:\n",
    "\n",
    "**Method 1: Using Power BI Desktop :**\n",
    "\n",
    "1. Open Power BI Desktop and select \"Get Data\" from the Home tab.\n",
    "2. Select a data source from the list, such as a database or Excel file, and click \"Connect.\"\n",
    "3. Choose the data you want to use and click \"Load\" to import it into Power BI Desktop.\n",
    "4. In the \"Report\" view, add visualizations such as charts, tables, and maps by dragging them from the Visualizations pane to the canvas.\n",
    "5. Select fields from the Fields pane to add them to the visualizations and customize the visualizations as needed.\n",
    "6. Save the report by selecting \"Save\" from the File menu.\n",
    "\n",
    "**Method 2: Using the Power BI Service online :**\n",
    "\n",
    "1. Log in to the Power BI service online.\n",
    "2. Select \"Get Data\" from the left-hand pane and choose a data source.\n",
    "3. Follow the prompts to connect to the data source and import the data.\n",
    "4. From the \"Home\" tab, select \"Create\" and choose \"Report.\"\n",
    "5. Add visualizations by dragging them from the Visualizations pane to the canvas.\n",
    "6. Select fields from the Fields pane to add them to the visualizations and customize the visualizations as needed.\n",
    "7. Save the report by selecting \"Save\" from the File menu.\n",
    "\n",
    "**Navigation for Power BI Desktop :**\n",
    "\n",
    "1. **Home tab :** Contains options for creating a new report, connecting to data sources, and formatting visualizations.\n",
    "2. **Report tab :** Contains options for adding and editing visualizations, creating custom measures, and formatting the report layout.\n",
    "3. **Data tab :** Contains options for managing the data model, such as creating relationships between tables and creating calculated columns and measures.\n",
    "4. **View tab :** Contains options for customizing the view of the report, such as changing the background color and turning on/off the gridlines.\n",
    "\n",
    "**Navigation for Power BI Service :** \n",
    "\n",
    "1. **Home tab :** Contains options for creating new reports, opening existing reports, and accessing the Power BI apps.\n",
    "2. **Workspace tab :** Contains options for managing workspaces, including creating new workspaces and adding or removing members.\n",
    "3. **Reports tab :** Contains a list of all the reports in the workspace, as well as options for creating new reports and managing report settings.\n",
    "4. **Data tab :** Contains options for managing the data sources and data models used in the reports, as well as options for creating and managing datasets."
   ]
  },
  {
   "cell_type": "markdown",
   "id": "da2d0cfb",
   "metadata": {},
   "source": [
    "**Q4 :** How to connect to data in Power BI? How to use the content pack to connect to google analytics? Mention the steps.\n",
    "\n",
    "**Ans :** Power BI allows you to connect to a wide range of data sources, including Excel spreadsheets, databases, cloud services, and many others. Here's a general overview of how to connect to data in Power BI:\n",
    "\n",
    "1. Open Power BI Desktop or the Power BI service online.\n",
    "2. Click on the \"Get Data\" button in the Home tab.\n",
    "3. Select the type of data source you want to connect to from the list of available options.\n",
    "4. Follow the prompts to enter the necessary information, such as the server name, database name, or login credentials.\n",
    "5. Preview the data and select the tables or views you want to use in your analysis.\n",
    "\n",
    "Now, let's take a look at how to use a content pack to connect to Google Analytics in Power BI:\n",
    "\n",
    "1. Open Power BI Desktop or the Power BI service online.\n",
    "2. Click on the \"Get Data\" button in the Home tab.\n",
    "3. Select \"Services\" from the list of available options.\n",
    "4. Choose \"Google Analytics\" from the list of services and click \"Connect.\"\n",
    "5. Enter your Google Analytics account credentials and click \"Sign In.\"\n",
    "6. Choose the Google Analytics account you want to connect to and select the relevant data source(s).\n",
    "7. Customize the data import settings as needed and click \"Load\" to import the data into Power BI.\n",
    "\n",
    "Once the data is imported, you can start building your report or dashboard using the available visualizations and analysis tools in Power BI. Note that content packs are pre-built templates that include pre-built data connections, reports, and dashboards, which can save time in creating new data connections and reports."
   ]
  },
  {
   "cell_type": "markdown",
   "id": "aea78254",
   "metadata": {},
   "source": [
    "**Q5 :** How to import Local files in Power BI? Mention the Steps.\n",
    "\n",
    "**Ans :** We can import local files such as Excel spreadsheets or CSV files into Power BI in a few simple steps. Here's how to do it:\n",
    "\n",
    "1. Open Power BI Desktop or the Power BI service online.\n",
    "2. Click on the \"Get Data\" button in the Home tab.\n",
    "3. Select \"File\" from the list of available options.\n",
    "4. Choose the type of file you want to import, such as an Excel workbook or a CSV file.\n",
    "5. Browse to the location of the file on your computer and select it.\n",
    "6. Customize the import settings as needed, such as selecting the worksheet or specifying the delimiter for a CSV file.\n",
    "7. Preview the data to ensure it is imported correctly.\n",
    "8. Click \"Load\" to import the data into Power BI.\n",
    "\n",
    "Once the data is imported, you can start building your report or dashboard using the available visualizations and analysis tools in Power BI. If you need to refresh the data at a later time, you can simply click the \"Refresh\" button in the Home tab or schedule an automatic refresh to keep your data up to date."
   ]
  },
  {
   "cell_type": "markdown",
   "id": "2b9392dd",
   "metadata": {},
   "source": [
    "**Q6 :** In Power BI visualization, what are Reading View and Editing view?\n",
    "\n",
    "**Ans :** In Power BI, there are two main views for working with visualizations: Reading View and Editing View.\n",
    "\n",
    "1. **Reading View :**\n",
    "\n",
    "Reading View is the default view in Power BI when you open a report. In this view, you can interact with the visualizations, drill down into the data, apply filters, and view the underlying data. You can also interact with any interactive elements such as buttons, slicers, or dropdowns that may be included in the report.\n",
    "\n",
    "2. **Editing View :**\n",
    "\n",
    "Editing View is where you can create or modify the report or dashboard. In this view, you can add new visualizations, modify existing ones, customize the layout, apply filters, and add text boxes, images, and other elements to enhance the report. You can also manage data connections, create data models, and set up parameters to control report behavior."
   ]
  }
 ],
 "metadata": {
  "kernelspec": {
   "display_name": "Python 3 (ipykernel)",
   "language": "python",
   "name": "python3"
  },
  "language_info": {
   "codemirror_mode": {
    "name": "ipython",
    "version": 3
   },
   "file_extension": ".py",
   "mimetype": "text/x-python",
   "name": "python",
   "nbconvert_exporter": "python",
   "pygments_lexer": "ipython3",
   "version": "3.9.12"
  },
  "latex_envs": {
   "LaTeX_envs_menu_present": true,
   "autoclose": false,
   "autocomplete": true,
   "bibliofile": "biblio.bib",
   "cite_by": "apalike",
   "current_citInitial": 1,
   "eqLabelWithNumbers": true,
   "eqNumInitial": 1,
   "hotkeys": {
    "equation": "Ctrl-E",
    "itemize": "Ctrl-I"
   },
   "labels_anchors": false,
   "latex_user_defs": false,
   "report_style_numbering": false,
   "user_envs_cfg": false
  },
  "nbTranslate": {
   "displayLangs": [
    "*"
   ],
   "hotkey": "alt-t",
   "langInMainMenu": true,
   "sourceLang": "en",
   "targetLang": "fr",
   "useGoogleTranslate": true
  },
  "toc": {
   "base_numbering": 1,
   "nav_menu": {},
   "number_sections": true,
   "sideBar": true,
   "skip_h1_title": false,
   "title_cell": "Table of Contents",
   "title_sidebar": "Contents",
   "toc_cell": false,
   "toc_position": {},
   "toc_section_display": true,
   "toc_window_display": false
  },
  "varInspector": {
   "cols": {
    "lenName": 16,
    "lenType": 16,
    "lenVar": 40
   },
   "kernels_config": {
    "python": {
     "delete_cmd_postfix": "",
     "delete_cmd_prefix": "del ",
     "library": "var_list.py",
     "varRefreshCmd": "print(var_dic_list())"
    },
    "r": {
     "delete_cmd_postfix": ") ",
     "delete_cmd_prefix": "rm(",
     "library": "var_list.r",
     "varRefreshCmd": "cat(var_dic_list()) "
    }
   },
   "types_to_exclude": [
    "module",
    "function",
    "builtin_function_or_method",
    "instance",
    "_Feature"
   ],
   "window_display": false
  }
 },
 "nbformat": 4,
 "nbformat_minor": 5
}
