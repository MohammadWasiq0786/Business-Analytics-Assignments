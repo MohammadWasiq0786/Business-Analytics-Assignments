{
 "cells": [
  {
   "cell_type": "markdown",
   "id": "384bbe0d",
   "metadata": {},
   "source": [
    "![image](https://user-images.githubusercontent.com/57321948/196933065-4b16c235-f3b9-4391-9cfe-4affcec87c35.png)\n",
    "\n",
    "# Name: Mohammad Wasiq\n",
    "\n",
    "## E-mail: `mohammadwasiq0786@gmail.com`\n",
    "\n",
    "### Power BI Assignment - 3"
   ]
  },
  {
   "cell_type": "markdown",
   "id": "2578368a",
   "metadata": {},
   "source": [
    "**Q1 :** List and explain different PowerBi products? \n",
    "\n",
    "**Ans :** Power BI is a collection of software services, apps, and connectors that work together to turn your unrelated sources of data into coherent, visually immersive, and interactive insights. There are three Power BI products:\n",
    "\n",
    "* **Power BI desktop :** The free desktop application allows businesses to test out Power BI. You can connect, transform, and visualise your data.\n",
    "* **Power BI service :** Power BI service is the main product in the PBI offering and lets you send reports securely to your colleagues for collaboration.\n",
    "* **Power BI mobile apps :** These apps allow you to access your data from anywhere on any device."
   ]
  },
  {
   "cell_type": "markdown",
   "id": "6b0cc6d6",
   "metadata": {},
   "source": [
    "**Q2 :** What limitations of Excel, Microsoft solved by PowerBi? \n",
    "\n",
    "**Ans :** Excel has limitations in the amount of data it can work with. In contrast, Power BI can handle much larger amounts of data. Power BI can connect to a large number of data sources, while Excel's connectivity capacity is limited. Also, unlike Excel, Power BI can be easily used from mobile devices."
   ]
  },
  {
   "cell_type": "markdown",
   "id": "47fa8d0e",
   "metadata": {},
   "source": [
    "**Q3 :** Explain Power Query? \n",
    "\n",
    "**Ans :** Power Query is a business intelligence tool available in Excel that allows you to import data from many different sources and then clean, transform and \n",
    "reshape your data as needed. It allows you to set up a query once and then reuse it with a simple refresh. It's also pretty powerful."
   ]
  },
  {
   "cell_type": "markdown",
   "id": "c1e3f2a6",
   "metadata": {},
   "source": [
    "**Q4 :** Explain Power Map? \n",
    "\n",
    "**Ans :** A power map lets you discover insights you might not see in traditional two-dimensional (2-D) tables and charts. With Power Map, you can plot geographic and temporal data on a 3-D globe or custom map, show it over time, and create visual tours you can share with other people."
   ]
  },
  {
   "cell_type": "markdown",
   "id": "fbf8279f",
   "metadata": {},
   "source": [
    "**Q5 :** How power Bi eliminated the need to host SharePoint Server on premises?\n",
    "\n",
    "**Ans :** Power BI Report Server is an on-premises portal for publishing, sharing, and consuming business intelligence content within the organizational network. It can host `.rdl` (SSRS) and `.pbix` (Power BI) reports. It keeps Power BI reports and data within the limits of the local domain network, eliminating the need for a gateway while giving access to both on-premise and cloud-sourced data2."
   ]
  },
  {
   "cell_type": "markdown",
   "id": "fc1990cc",
   "metadata": {},
   "source": [
    "**Q6 :** Explain the updates done in Power Bi Service(power BI 2.0) as compared to older version ? \n",
    "\n",
    "**Ans :** The latest version has more robust features, and it is famous with the name Power BI Desktop. This is an all in one solution for Power View, Power Pivot, and Power Query in the backend."
   ]
  }
 ],
 "metadata": {
  "kernelspec": {
   "display_name": "Python 3 (ipykernel)",
   "language": "python",
   "name": "python3"
  },
  "language_info": {
   "codemirror_mode": {
    "name": "ipython",
    "version": 3
   },
   "file_extension": ".py",
   "mimetype": "text/x-python",
   "name": "python",
   "nbconvert_exporter": "python",
   "pygments_lexer": "ipython3",
   "version": "3.9.12"
  },
  "latex_envs": {
   "LaTeX_envs_menu_present": true,
   "autoclose": false,
   "autocomplete": true,
   "bibliofile": "biblio.bib",
   "cite_by": "apalike",
   "current_citInitial": 1,
   "eqLabelWithNumbers": true,
   "eqNumInitial": 1,
   "hotkeys": {
    "equation": "Ctrl-E",
    "itemize": "Ctrl-I"
   },
   "labels_anchors": false,
   "latex_user_defs": false,
   "report_style_numbering": false,
   "user_envs_cfg": false
  },
  "nbTranslate": {
   "displayLangs": [
    "*"
   ],
   "hotkey": "alt-t",
   "langInMainMenu": true,
   "sourceLang": "en",
   "targetLang": "fr",
   "useGoogleTranslate": true
  },
  "toc": {
   "base_numbering": 1,
   "nav_menu": {},
   "number_sections": true,
   "sideBar": true,
   "skip_h1_title": false,
   "title_cell": "Table of Contents",
   "title_sidebar": "Contents",
   "toc_cell": false,
   "toc_position": {},
   "toc_section_display": true,
   "toc_window_display": false
  },
  "varInspector": {
   "cols": {
    "lenName": 16,
    "lenType": 16,
    "lenVar": 40
   },
   "kernels_config": {
    "python": {
     "delete_cmd_postfix": "",
     "delete_cmd_prefix": "del ",
     "library": "var_list.py",
     "varRefreshCmd": "print(var_dic_list())"
    },
    "r": {
     "delete_cmd_postfix": ") ",
     "delete_cmd_prefix": "rm(",
     "library": "var_list.r",
     "varRefreshCmd": "cat(var_dic_list()) "
    }
   },
   "types_to_exclude": [
    "module",
    "function",
    "builtin_function_or_method",
    "instance",
    "_Feature"
   ],
   "window_display": false
  }
 },
 "nbformat": 4,
 "nbformat_minor": 5
}
