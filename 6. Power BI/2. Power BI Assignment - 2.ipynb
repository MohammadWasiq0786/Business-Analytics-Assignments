{
 "cells": [
  {
   "cell_type": "markdown",
   "id": "bd0df1c2",
   "metadata": {},
   "source": [
    "![image](https://user-images.githubusercontent.com/57321948/196933065-4b16c235-f3b9-4391-9cfe-4affcec87c35.png)\n",
    "\n",
    "# Name: Mohammad Wasiq\n",
    "\n",
    "## E-mail: `mohammadwasiq0786@gmail.com`\n",
    "\n",
    "### Power BI Assignment - 2"
   ]
  },
  {
   "cell_type": "markdown",
   "id": "3e5d0539",
   "metadata": {},
   "source": [
    "**Q1 :** 1. Explain the advantages of Natural Queries in PowerBi with an example?\n",
    "\n",
    "**Ans :** Natural Language Queries in Power BI allow users to ask questions in plain, conversational language and get relevant visualizations and insights. This can be a powerful tool for non-technical users who may not be familiar with the data or the structure of the underlying database.\n",
    "\n",
    "One advantage of Natural Language Queries in Power BI is that it can save time and increase efficiency by allowing users to get answers to their questions quickly without having to spend time learning complex data models or writing complex SQL queries.\n",
    "\n",
    "For example, suppose a sales manager wants to know the total sales for each product category in the past quarter. With Natural Language Queries, the sales manager can simply type in \"What are the total sales by category for the past quarter?\" and Power BI will generate a visualization showing the total sales for each category. This can save time and effort compared to manually building a report or writing a complex SQL query.\n",
    "\n",
    "Another advantage of Natural Language Queries in Power BI is that it can help to democratize data by making it accessible to a wider audience. Non-technical users who may not be familiar with SQL or other technical tools can use Natural Language Queries to gain insights from the data and make informed decisions."
   ]
  },
  {
   "cell_type": "markdown",
   "id": "354cecc1",
   "metadata": {},
   "source": [
    "**Q2 :** 2.\tExplain Web Front End(WFE) cluster from Power BI Service Architecture?\n",
    "\n",
    "**Ans :** In the Power BI Service architecture, a Web Front End (WFE) cluster is a group of servers responsible for serving user requests and handling user authentication and authorization. The WFE cluster acts as an intermediary between the user and the other components of the Power BI Service architecture, such as the Application Layer, Data Layer, and Rendering Layer.\n",
    "\n",
    "When a user accesses the Power BI Service, their request is first routed to the WFE cluster. The WFE cluster then authenticates the user and determines which backend server should handle the request based on factors such as workload and availability.\n",
    "\n",
    "The WFE cluster also handles load balancing, which ensures that user requests are distributed evenly across the servers in the cluster. This helps to prevent any one server from becoming overloaded and affecting overall performance.\n",
    "\n",
    "One of the key benefits of a WFE cluster is high availability. By having multiple servers in the cluster, if one server goes down or experiences issues, the other servers can continue to serve user requests, ensuring minimal disruption to users."
   ]
  },
  {
   "cell_type": "markdown",
   "id": "59b826aa",
   "metadata": {},
   "source": [
    "**Q3 :** 3.\tExplain Back End cluster from Power BI Service Architecture?\n",
    "\n",
    "**Ans :** In the Power BI Service architecture, the Back End cluster is a group of servers responsible for handling data processing and storage. This includes tasks such as data ingestion, data modeling, and report generation.\n",
    "\n",
    "The Back End cluster consists of multiple components, including the Application Layer, Data Layer, and Rendering Layer, which work together to process and serve data to the user. The Application Layer manages user requests and processes business logic, while the Data Layer is responsible for storing and processing the data. The Rendering Layer handles the generation of reports and visualizations based on the data.\n",
    "\n",
    "One of the key benefits of the Back End cluster is scalability. By having multiple servers working together, the Back End cluster can handle large volumes of data and process requests quickly and efficiently. This allows the Power BI Service to support large organizations and handle complex data models and reports.\n",
    "\n",
    "Another benefit of the Back End cluster is high availability. By using redundant servers and data storage mechanisms, the Power BI Service can ensure that data is always available and accessible to users, even in the event of a hardware failure or other issues."
   ]
  },
  {
   "cell_type": "markdown",
   "id": "84a06e7a",
   "metadata": {},
   "source": [
    "**Q4 :** 4.\tWhat ASP.NET component does in Power BI Service Architecture?\n",
    "\n",
    "**Ans :** In the Power BI Service Architecture, the ASP.NET component plays a critical role in the Application Layer of the Back End cluster. ASP.NET is a web development framework that is used to build web applications and services in the Microsoft ecosystem. It is used in the Power BI Service to manage user requests, process business logic, and handle authentication and authorization.\n",
    "\n",
    "When a user makes a request to the Power BI Service, the request is first received by the ASP.NET component. ASP.NET then processes the request, handling tasks such as user authentication and authorization, routing the request to the appropriate backend server, and managing the overall workflow of the request.\n",
    "\n",
    "ASP.NET also provides a number of features and capabilities that are critical to the overall performance and security of the Power BI Service. This includes features such as caching, compression, and error handling, which help to improve the overall user experience and ensure that the service is secure and reliable.\n",
    "\n",
    "One of the key benefits of using ASP.NET in the Power BI Service Architecture is its scalability. ASP.NET can handle large volumes of requests and can be deployed across multiple servers, allowing the Power BI Service to scale to support large organizations and handle complex workloads."
   ]
  },
  {
   "cell_type": "markdown",
   "id": "9b6090d6",
   "metadata": {},
   "source": [
    "**Q5 :** Compare Microsoft Excel and PowerBi Desktop on the following features:\n",
    "\n",
    "* Data import\n",
    "* Data transformation\n",
    "* Modeling\n",
    "* Reporting\n",
    "* Server Deployment\n",
    "* Convert Models\n",
    "* Cost\n",
    "\n",
    "**Ans :** \n",
    "\n",
    "* **Data Import :** Both Microsoft Excel and Power BI Desktop allow users to import data from a variety of sources, including Excel files, CSV files, databases, and cloud-based services. However, Power BI Desktop offers more advanced data import capabilities, including the ability to connect to more than 70 different data sources, automatic data profiling, and the ability to merge and append data from multiple sources.\n",
    "* **Data Transformation :** Both Microsoft Excel and Power BI Desktop offer data transformation capabilities, but Power BI Desktop has more advanced and powerful data transformation features, including the ability to create calculated columns and measures, pivot and unpivot tables, and apply advanced data transformations using the Query Editor.\n",
    "* **Modeling :** Both Microsoft Excel and Power BI Desktop offer modeling capabilities, allowing users to define relationships between tables, create hierarchies, and apply data security rules. However, Power BI Desktop offers more advanced modeling capabilities, including the ability to create more complex relationships, define calculated tables and columns, and create data hierarchies using drag-and-drop interfaces.\n",
    "* **Reporting :** Both Microsoft Excel and Power BI Desktop offer reporting capabilities, allowing users to create charts, tables, and other visualizations to represent their data. However, Power BI Desktop offers more advanced reporting capabilities, including the ability to create interactive reports, apply advanced formatting and data visualization options, and share reports with other users using the Power BI Service.\n",
    "* **Server Deployment :** While Microsoft Excel is typically deployed locally on individual computers, Power BI Desktop is designed to be deployed to a server, allowing multiple users to access and collaborate on reports and data models.\n",
    "* **Convert Models :** Power BI Desktop allows users to convert their data models into Power BI Service-compatible models for server deployment, while Microsoft Excel does not have this capability.\n",
    "* **Cost :** Microsoft Excel is typically included as part of the Microsoft Office suite, while Power BI Desktop is available as a free download. However, to access advanced features and deploy reports to the Power BI Service, users will need to purchase a Power BI Pro or Power BI Premium subscription."
   ]
  },
  {
   "cell_type": "markdown",
   "id": "25b520f3",
   "metadata": {},
   "source": [
    "**Q6 :** 6.\tList 20 data sources supported by Power Bi desktop.\n",
    "\n",
    "**Ans :** \n",
    "1. Excel workbook\n",
    "2. CSV file\n",
    "3. SQL Server Database\n",
    "4. Oracle Database\n",
    "5. MySQL Database\n",
    "6. PostgreSQL Database\n",
    "7. IBM DB2 Database\n",
    "8. Teradata Database\n",
    "9. Amazon Redshift Database\n",
    "10. Google BigQuery Database\n",
    "11. SharePoint List\n",
    "12. Salesforce\n",
    "13. Dynamics 365\n",
    "14. Microsoft Access Database\n",
    "15. OData feed\n",
    "16. Web page\n",
    "17. JSON file\n",
    "18. XML file\n",
    "19. Hadoop Distributed File System (HDFS)\n",
    "20. Apache Spark\n",
    "\n",
    "Note that this is not an exhaustive list and there are many other data sources that can be connected to using Power BI Desktop, including cloud-based services such as Google Analytics, Azure Data Lake Storage, and more."
   ]
  }
 ],
 "metadata": {
  "kernelspec": {
   "display_name": "Python 3 (ipykernel)",
   "language": "python",
   "name": "python3"
  },
  "language_info": {
   "codemirror_mode": {
    "name": "ipython",
    "version": 3
   },
   "file_extension": ".py",
   "mimetype": "text/x-python",
   "name": "python",
   "nbconvert_exporter": "python",
   "pygments_lexer": "ipython3",
   "version": "3.9.12"
  },
  "latex_envs": {
   "LaTeX_envs_menu_present": true,
   "autoclose": false,
   "autocomplete": true,
   "bibliofile": "biblio.bib",
   "cite_by": "apalike",
   "current_citInitial": 1,
   "eqLabelWithNumbers": true,
   "eqNumInitial": 1,
   "hotkeys": {
    "equation": "Ctrl-E",
    "itemize": "Ctrl-I"
   },
   "labels_anchors": false,
   "latex_user_defs": false,
   "report_style_numbering": false,
   "user_envs_cfg": false
  },
  "nbTranslate": {
   "displayLangs": [
    "*"
   ],
   "hotkey": "alt-t",
   "langInMainMenu": true,
   "sourceLang": "en",
   "targetLang": "fr",
   "useGoogleTranslate": true
  },
  "toc": {
   "base_numbering": 1,
   "nav_menu": {},
   "number_sections": true,
   "sideBar": true,
   "skip_h1_title": false,
   "title_cell": "Table of Contents",
   "title_sidebar": "Contents",
   "toc_cell": false,
   "toc_position": {},
   "toc_section_display": true,
   "toc_window_display": false
  },
  "varInspector": {
   "cols": {
    "lenName": 16,
    "lenType": 16,
    "lenVar": 40
   },
   "kernels_config": {
    "python": {
     "delete_cmd_postfix": "",
     "delete_cmd_prefix": "del ",
     "library": "var_list.py",
     "varRefreshCmd": "print(var_dic_list())"
    },
    "r": {
     "delete_cmd_postfix": ") ",
     "delete_cmd_prefix": "rm(",
     "library": "var_list.r",
     "varRefreshCmd": "cat(var_dic_list()) "
    }
   },
   "types_to_exclude": [
    "module",
    "function",
    "builtin_function_or_method",
    "instance",
    "_Feature"
   ],
   "window_display": false
  }
 },
 "nbformat": 4,
 "nbformat_minor": 5
}
