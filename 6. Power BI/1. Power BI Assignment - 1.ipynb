{
 "cells": [
  {
   "cell_type": "markdown",
   "id": "a5265358",
   "metadata": {},
   "source": [
    "![image](https://user-images.githubusercontent.com/57321948/196933065-4b16c235-f3b9-4391-9cfe-4affcec87c35.png)\n",
    "\n",
    "# Name: Mohammad Wasiq\n",
    "\n",
    "## E-mail: `mohammadwasiq0786@gmail.com`\n",
    "\n",
    "### Power BI Assignment - 1"
   ]
  },
  {
   "cell_type": "markdown",
   "id": "7194cf36",
   "metadata": {},
   "source": [
    "**Q1 :** What do you mean by BI? Explain. \n",
    "\n",
    "**Ans :** Business intelligence (BI) is a technology-driven process for analyzing data and delivering actionable information that helps executives, managers and \n",
    "workers make informed business decisions. "
   ]
  },
  {
   "cell_type": "markdown",
   "id": "d1c74c08",
   "metadata": {},
   "source": [
    "**Q2 :** How Power-BI helps in BI, and how does it help Analysts? Explain. \n",
    "\n",
    "**Ans :** Power BI is a BI and data visualization tool that leverages visual analytics to empower people and organizations in making the most of their data. The \n",
    "engaging visualizations created in Power BI take the excel workflow to the next level and help stakeholders make sense of the massive amounts of data available."
   ]
  },
  {
   "cell_type": "markdown",
   "id": "97cd5808",
   "metadata": {},
   "source": [
    "**Q3 :** Explain Descriptive analytics? \n",
    "\n",
    "**Ans :** Descriptive analytics is the process of using current and historical data to identify trends and relationships. It's sometimes called the simplest form of data analysis because it describes trends and relationships but doesn't dig deeper. "
   ]
  },
  {
   "cell_type": "markdown",
   "id": "2d7163b8",
   "metadata": {},
   "source": [
    "**Q4 :** Explain Predictive analytics? \n",
    "\n",
    "**Ans :** Predictive analytics is a branch of advanced analytics that makes predictions about future outcomes using historical data combined with statistical modeling, \n",
    "data mining techniques and machine learning. Companies employ predictive analytics to find patterns in this data to identify risks and opportunities."
   ]
  },
  {
   "cell_type": "markdown",
   "id": "7bf8dd1e",
   "metadata": {},
   "source": [
    "**Q5 :** Explain perspective analytics? \n",
    "\n",
    "**Ans :** Prescriptive analytics is the process of using data to determine an optimal course of action. By considering all relevant factors, this type of analysis yields recommendations for next steps. Because of this, prescriptive analytics is a valuable tool for data-driven decision-making."
   ]
  },
  {
   "cell_type": "markdown",
   "id": "57afcb57",
   "metadata": {},
   "source": [
    "**Q6 :**  Write five real-life questions that Power BI can solve. \n",
    "\n",
    "**Ans :** \n",
    "\n",
    "* Waiting on figures. \n",
    "* Using data from old reports. \n",
    "* Excessive time spent preparing for presentations. \n",
    "* Being unable to find specific data sets. \n",
    "* Not being able to determine your level of success"
   ]
  }
 ],
 "metadata": {
  "kernelspec": {
   "display_name": "Python 3 (ipykernel)",
   "language": "python",
   "name": "python3"
  },
  "language_info": {
   "codemirror_mode": {
    "name": "ipython",
    "version": 3
   },
   "file_extension": ".py",
   "mimetype": "text/x-python",
   "name": "python",
   "nbconvert_exporter": "python",
   "pygments_lexer": "ipython3",
   "version": "3.9.12"
  },
  "latex_envs": {
   "LaTeX_envs_menu_present": true,
   "autoclose": false,
   "autocomplete": true,
   "bibliofile": "biblio.bib",
   "cite_by": "apalike",
   "current_citInitial": 1,
   "eqLabelWithNumbers": true,
   "eqNumInitial": 1,
   "hotkeys": {
    "equation": "Ctrl-E",
    "itemize": "Ctrl-I"
   },
   "labels_anchors": false,
   "latex_user_defs": false,
   "report_style_numbering": false,
   "user_envs_cfg": false
  },
  "nbTranslate": {
   "displayLangs": [
    "*"
   ],
   "hotkey": "alt-t",
   "langInMainMenu": true,
   "sourceLang": "en",
   "targetLang": "fr",
   "useGoogleTranslate": true
  },
  "toc": {
   "base_numbering": 1,
   "nav_menu": {},
   "number_sections": true,
   "sideBar": true,
   "skip_h1_title": false,
   "title_cell": "Table of Contents",
   "title_sidebar": "Contents",
   "toc_cell": false,
   "toc_position": {},
   "toc_section_display": true,
   "toc_window_display": false
  },
  "varInspector": {
   "cols": {
    "lenName": 16,
    "lenType": 16,
    "lenVar": 40
   },
   "kernels_config": {
    "python": {
     "delete_cmd_postfix": "",
     "delete_cmd_prefix": "del ",
     "library": "var_list.py",
     "varRefreshCmd": "print(var_dic_list())"
    },
    "r": {
     "delete_cmd_postfix": ") ",
     "delete_cmd_prefix": "rm(",
     "library": "var_list.r",
     "varRefreshCmd": "cat(var_dic_list()) "
    }
   },
   "types_to_exclude": [
    "module",
    "function",
    "builtin_function_or_method",
    "instance",
    "_Feature"
   ],
   "window_display": false
  }
 },
 "nbformat": 4,
 "nbformat_minor": 5
}
